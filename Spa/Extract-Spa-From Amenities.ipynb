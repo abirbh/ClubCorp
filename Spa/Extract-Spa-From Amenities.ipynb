{
 "cells": [
  {
   "cell_type": "code",
   "execution_count": 6,
   "metadata": {},
   "outputs": [],
   "source": [
    "import pandas as pd\n",
    "import os\n",
    "import json\n",
    "import numpy as np\n",
    "import re"
   ]
  },
  {
   "cell_type": "code",
   "execution_count": 7,
   "metadata": {},
   "outputs": [],
   "source": [
    "## reading the Survey File\n",
    "#surveyData = pd.read_csv(\"C:\\Projects\\MSS\\Loading _AmenityData_from_Survey\\Test.csv\",sep=\",\" , skiprows=1)\n",
    "surveyData = pd.read_csv(\"C:\\project\\snaplogic\\MSS\\Amenities\\AmenityClubSurvey FINAL v2 Season Cleaned_deletedFirstTwoColumn.csv\",sep=\",\" , skiprows=1,keep_default_na=False)\n",
    "surveyData.head()\n",
    "\n",
    "## Reading the Config File and Extracting the Information from there\n",
    "config_file = open(\"C:\\project\\snaplogic\\MSS\\Amenities\\ClubCorp\\Spa\\SpaColMapping.json\")\n",
    "Spa_config = json.load(config_file)\n",
    "\n",
    "columnName = \"\""
   ]
  },
  {
   "cell_type": "code",
   "execution_count": 8,
   "metadata": {},
   "outputs": [],
   "source": [
    "def addToDayTimeMap (phonebook, key, value):\n",
    "    if key in phonebook:\n",
    "        x =  phonebook[key]\n",
    "        phonebook[key] = x + \",\" + value\n",
    "        \n",
    "    else :\n",
    "        phonebook[key] = value"
   ]
  },
  {
   "cell_type": "code",
   "execution_count": 9,
   "metadata": {},
   "outputs": [],
   "source": [
    "def determineBooleanValues (dataFrame):\n",
    "    val = False\n",
    "    if pd.notnull(dataFrame[columnName]) :\n",
    "        if dataFrame[columnName] == columnName:\n",
    "            val = True\n",
    "    return val"
   ]
  },
  {
   "cell_type": "code",
   "execution_count": 10,
   "metadata": {
    "scrolled": true
   },
   "outputs": [],
   "source": [
    "## Getting the output File name\n",
    "output_fileName = Spa_config['outputFileName']\n",
    "\n",
    "\n",
    "all_column_names = []\n",
    "Spa_related_column_names = []\n",
    "\n",
    "columnIndexForSpa = []\n",
    "\n",
    "common_column_count = len(Spa_config['CommonColumn'])\n",
    "\n",
    "for i in range(0, common_column_count):\n",
    "    columnIndexForSpa.append(Spa_config['CommonColumn'][i]['columnIndex'])\n",
    "    all_column_names.append(Spa_config['CommonColumn'][i]['outputColumnName'])\n",
    "\n",
    "Spa_column_count = len(Spa_config['SpaRelatedColumn'])\n",
    "\n",
    "for j in range(0, Spa_column_count):\n",
    "    columnIndexForSpa.append(Spa_config['SpaRelatedColumn'][j]['columnIndex'])\n",
    "    all_column_names.append(Spa_config['SpaRelatedColumn'][j]['outputColumnName'])\n",
    "    Spa_related_column_names.append(Spa_config['SpaRelatedColumn'][j]['outputColumnName'])\n",
    "   \n",
    "\n",
    "\n",
    "## Data for Spa\n",
    "Spa = surveyData.iloc[:, columnIndexForSpa]\n",
    "Spa.columns = all_column_names\n",
    "\n",
    "filterCondition  = Spa['ConditionColumnForSpa'] != \"N/A\"\n",
    "\n",
    "clubsNotHavingSpa = Spa[~filterCondition]\n",
    "\n",
    "clubsNotHavingSpa.to_csv(\"C:/project/snaplogic/MSS/Amenities/ClubCorp/Spa/Spa_ClubsNotHaving.csv\")\n",
    "Spa = Spa[filterCondition]\n",
    "\n",
    "Spa['Index']=1\n",
    "Spa['Status'] = 'Active'\n",
    "Spa['Type'] = 'Health & Wellness'\n",
    "Spa['Name'] = 'Spa'\n",
    "\n",
    "for x  in Spa_related_column_names:\n",
    "    columnName = x\n",
    "    Spa[columnName + '_Boolean'] = Spa.apply(determineBooleanValues, axis=1)\n",
    "\n",
    "\n",
    "Spa.to_csv(\"C:/project/snaplogic/MSS/Amenities/\" + output_fileName)"
   ]
  },
  {
   "cell_type": "code",
   "execution_count": null,
   "metadata": {},
   "outputs": [],
   "source": []
  },
  {
   "cell_type": "code",
   "execution_count": null,
   "metadata": {},
   "outputs": [],
   "source": []
  }
 ],
 "metadata": {
  "kernelspec": {
   "display_name": "Python 3",
   "language": "python",
   "name": "python3"
  },
  "language_info": {
   "codemirror_mode": {
    "name": "ipython",
    "version": 3
   },
   "file_extension": ".py",
   "mimetype": "text/x-python",
   "name": "python",
   "nbconvert_exporter": "python",
   "pygments_lexer": "ipython3",
   "version": "3.5.5"
  }
 },
 "nbformat": 4,
 "nbformat_minor": 2
}
