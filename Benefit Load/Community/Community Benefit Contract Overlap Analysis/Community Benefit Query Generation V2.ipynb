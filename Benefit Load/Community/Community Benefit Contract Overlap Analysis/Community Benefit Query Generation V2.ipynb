{
 "cells": [
  {
   "cell_type": "code",
   "execution_count": 1,
   "metadata": {},
   "outputs": [],
   "source": [
    "import pandas as pd\n",
    "import numpy as np\n",
    "import re"
   ]
  },
  {
   "cell_type": "code",
   "execution_count": 2,
   "metadata": {},
   "outputs": [],
   "source": [
    "fileName = \"Datasets\\\\Benefit_Tier_Understanding_20190919 V30 With Atlanta, no LS.xlsx\"\n",
    "metadata_df = pd.read_excel(fileName,sheet_name=0, dtype=str, na_filter=False)"
   ]
  },
  {
   "cell_type": "code",
   "execution_count": 3,
   "metadata": {},
   "outputs": [
    {
     "data": {
      "text/plain": [
       "['Benefit Tier',\n",
       " 'Community_Flag',\n",
       " 'Member_Of',\n",
       " 'Not_Member_Of',\n",
       " 'Exclude_Benefit_Tiers',\n",
       " 'Community',\n",
       " 'Ignore_Community',\n",
       " 'RS_Ben_Prog_Name',\n",
       " 'RS_Ben_Prog_Name_Not',\n",
       " 'ONE',\n",
       " 'Category_Golf',\n",
       " 'Category_Social',\n",
       " 'Mbrship_type_desc_contains',\n",
       " 'Mbrship_type_desc_equals',\n",
       " 'Mbrship_type_desc_does_not_have']"
      ]
     },
     "execution_count": 3,
     "metadata": {},
     "output_type": "execute_result"
    }
   ],
   "source": [
    "list(metadata_df.columns)"
   ]
  },
  {
   "cell_type": "code",
   "execution_count": 4,
   "metadata": {},
   "outputs": [],
   "source": [
    "query_prefix = \"select * from where \""
   ]
  },
  {
   "cell_type": "code",
   "execution_count": 5,
   "metadata": {},
   "outputs": [
    {
     "data": {
      "text/plain": [
       "{'a', 'b'}"
      ]
     },
     "execution_count": 5,
     "metadata": {},
     "output_type": "execute_result"
    }
   ],
   "source": [
    "entity_codes = set()\n",
    "entity_codes.update(['a','b'])\n",
    "entity_codes"
   ]
  },
  {
   "cell_type": "code",
   "execution_count": 6,
   "metadata": {},
   "outputs": [],
   "source": [
    "def getClubList(member_of):\n",
    "    tokens = member_of.split(\",\")\n",
    "    entity_codes = set()\n",
    "    for token in tokens:\n",
    "        if token == 'Atlanta_Business_Clubs':\n",
    "            entity_codes.update(['00730','02506'])\n",
    "        elif token == 'Atlanta_Legacy_Clubs':\n",
    "            entity_codes.update(['01682','00730','00641','02506','02505','01593','01592','01668','00622'])\n",
    "        elif token == 'Atlanta_Infinity_Clubs':\n",
    "            entity_codes.update(['02851','02806','02808','02810','02832','02812','02822','02836','02816',\n",
    "                                 '00622','02834','02818','02824','02840','02838','02814','02830','02820'])\n",
    "        elif token == 'Houston_Canongate_Clubs':\n",
    "            entity_codes.update(['02863','02861','02865','02859','02855'])\n",
    "        elif token == 'Atlanta_Canongate_Clubs':\n",
    "            entity_codes.update(['02847','02849','02845','02843','02851','02806','02838','02808','02810',\n",
    "                                 '02832','02812','02822','02836','02816','02834','02840','02818','02824',\n",
    "                                 '02814','02820','02868','02866'])\n",
    "        elif token == 'DFW_Elite_Clubs':\n",
    "            entity_codes.update(['00268','00002','00245','01162'])\n",
    "        elif token == 'Houston_Legacy_Clubs':\n",
    "            entity_codes.update(['00116','00153','00164','00112','00298','00192','02604'])\n",
    "        elif token == 'Champions_Houston_Atlanta':\n",
    "            entity_codes.update(['02847','02845','02849','02843','02855'])\n",
    "        elif token == 'YEX_Houston_Dallas':\n",
    "            entity_codes.update(['00116','00153','00164','02859','02861','00112','02859',\n",
    "                                 '00298','00192','02604','00100','00102','00170','00238',\n",
    "                                 '00574','01582','02701','01584','00128','00430','00648'])\n",
    "        else:\n",
    "            entity_codes.add(token)\n",
    "    \n",
    "    club_list_str = str(list(entity_codes))\n",
    "    club_list_str = club_list_str.replace(\"[\",\"\")\n",
    "    club_list_str = club_list_str.replace(\"]\",\"\")\n",
    "    return club_list_str\n",
    "\n",
    "def getMemberOfPredicate(member_of):\n",
    "    club_list = getClubList(member_of)\n",
    "    return \"df.'Attributes.CCNative.ENTITY_CODE' in (\" + club_list + \")\"  \n",
    "\n",
    "def getNotMemberOfPredicate(not_member_of):\n",
    "    club_list = getClubList(not_member_of)\n",
    "    return \"df.'Attributes.CCNative.ENTITY_CODE' not in (\" + club_list + \")\"  \n",
    "\n",
    "def getResortSuitBenefitProgramPredicate(benefitPrograms):\n",
    "    benefitPrograms_str = str(benefitPrograms.split(\",\"))\n",
    "    benefitPrograms_str = benefitPrograms_str.replace(\"[\",\"\")\n",
    "    benefitPrograms_str = benefitPrograms_str.replace(\"]\",\"\")\n",
    "    return \"df.'Attributes.EC_MP_Detail.RESORTSUITE_BENEFIT_PROGRAM_NAME' in (\" + benefitPrograms_str + \")\"  \n",
    "\n",
    "def getResortSuitBenefitProgramIgnorePredicate(resort_suite_bef_prog_ignore_names):\n",
    "    benefitPrograms_str = str(resort_suite_bef_prog_ignore_names.split(\",\"))\n",
    "    benefitPrograms_str = benefitPrograms_str.replace(\"[\",\"\")\n",
    "    benefitPrograms_str = benefitPrograms_str.replace(\"]\",\"\")\n",
    "    return \"df.'Attributes.EC_MP_Detail.RESORTSUITE_BENEFIT_PROGRAM_NAME' not in (\" + benefitPrograms_str + \")\"     \n",
    "\n",
    "def getOnePredicate(one):\n",
    "    if one == \"Yes\":\n",
    "        return \"df.'Attributes.EC_MP_Detail.MP_ONE_FLAG' = 'Y'\"\n",
    "    else:\n",
    "        return \"ifnull(df.'Attributes.EC_MP_Detail.MP_ONE_FLAG','N') = 'N'\" \n",
    "\n",
    "def getCategoryGolfPredicate(category_golf):\n",
    "    if category_golf == 'Yes':\n",
    "        return \"df.'Attributes.EC_MP_Detail.MBRSHIP_CATEGORY_CODE' = '01'\"\n",
    "    else:\n",
    "        return \"df.'Attributes.EC_MP_Detail.MBRSHIP_CATEGORY_CODE' != '01'\"\n",
    "\n",
    "def getCategorySocialPredicate(category_social):\n",
    "    if category_social == 'Yes':\n",
    "        return \"df.'Attributes.EC_MP_Detail.MBRSHIP_CATEGORY_CODE' = '04'\"\n",
    "    else:\n",
    "        return \"df.'Attributes.EC_MP_Detail.MBRSHIP_CATEGORY_CODE' != '04'\"   \n",
    "    \n",
    "def getMbrshipTypeDescContainsPredicate(mbrship_type_desc_contains):\n",
    "    predicate = \"\"\n",
    "    mbrship_type_descriptions = mbrship_type_desc_contains.split(\",\")\n",
    "    for mbrship_type_description in mbrship_type_descriptions:\n",
    "        \n",
    "        if len(predicate) != 0:\n",
    "            predicate = predicate + ' or '\n",
    "        if '-' in mbrship_type_description:\n",
    "            mbrship_type_description = mbrship_type_description.replace('-','#-') #Chinmoy - taking care of -\n",
    "            predicate = predicate + \"df.'Attributes.EC_MP_Detail.MBRSHIP_TYPE_DESCRIPTION' like '%\" + mbrship_type_description.strip() + \"%'\" + \" ESCAPE '#'\"    \n",
    "        else:\n",
    "            predicate = predicate + \"df.'Attributes.EC_MP_Detail.MBRSHIP_TYPE_DESCRIPTION' like '%\" + mbrship_type_description.strip() + \"%'\"\n",
    "    predicate = '(' + predicate + \")\"\n",
    "    return predicate\n",
    "\n",
    "def getMbrshipTypeDescDoesNotHavePredicate(mbrship_type_desc_does_not_have):\n",
    "    predicate = \"\"\n",
    "    mbrship_type_descriptions = mbrship_type_desc_does_not_have.split(\",\")\n",
    "    for mbrship_type_description in mbrship_type_descriptions:\n",
    "        if len(predicate) != 0:\n",
    "            predicate = predicate + ' and '\n",
    "        predicate = predicate + \"df.'Attributes.EC_MP_Detail.MBRSHIP_TYPE_DESCRIPTION' not like '%\" + mbrship_type_description.strip() + \"%'\"\n",
    "    predicate = '(' + predicate + \")\"\n",
    "    return predicate\n",
    "\n",
    "def getMbrshipTypeDescEqualsPredicate(mbrship_type_desc_equals):\n",
    "    return \"df.'Attributes.EC_MP_Detail.MBRSHIP_TYPE_DESCRIPTION' = '\" + mbrship_type_desc_equals + \"'\" "
   ]
  },
  {
   "cell_type": "code",
   "execution_count": 7,
   "metadata": {},
   "outputs": [],
   "source": [
    "#getNotMemberOfPredicate(\"Atlanta_Legacy_Clubs,Canongate_Clubs,Atlanta_Business_Clubs,01592\")"
   ]
  },
  {
   "cell_type": "code",
   "execution_count": 8,
   "metadata": {},
   "outputs": [],
   "source": [
    "def getCommunityPredicate(communities):\n",
    "    community_names = str(communities.split('#'))\n",
    "    community_names = community_names.replace(\"[\",\"\")\n",
    "    community_names = community_names.replace(\"]\",\"\")\n",
    "    return \"(df.'Attributes.EC_Community.EC_Name' in (\" + community_names + \") or df.'Attributes.EC_Community2.EC_Name' in (\" + community_names + \"))\""
   ]
  },
  {
   "cell_type": "code",
   "execution_count": 9,
   "metadata": {},
   "outputs": [],
   "source": [
    "def getIgnoreCommunityPredicate(communities):\n",
    "    community_names = str(communities.split('#'))\n",
    "    community_names = community_names.replace(\"[\",\"\")\n",
    "    community_names = community_names.replace(\"]\",\"\")\n",
    "    return \"(df.'Attributes.EC_Community.EC_Name' not in (\" + community_names + \") and df.'Attributes.EC_Community2.EC_Name' not in (\" + community_names + \"))\""
   ]
  },
  {
   "cell_type": "code",
   "execution_count": 10,
   "metadata": {},
   "outputs": [],
   "source": [
    "def addPredicate(buffer, predicate):\n",
    "    if len(buffer) != 0:\n",
    "        buffer = buffer + \" and \" + predicate\n",
    "    else:\n",
    "        buffer = buffer + predicate\n",
    "    return buffer"
   ]
  },
  {
   "cell_type": "code",
   "execution_count": 11,
   "metadata": {},
   "outputs": [],
   "source": [
    "def getBenefitTierQuery(benefit_tire, query_list):\n",
    "    for data in query_list:\n",
    "        if data.get('benefit_tier') == benefit_tire:\n",
    "            return data.get('query')\n",
    "    return \"\""
   ]
  },
  {
   "cell_type": "code",
   "execution_count": 12,
   "metadata": {},
   "outputs": [],
   "source": [
    "benefit_tier_and_query = []\n",
    "for index, row in metadata_df.iterrows():\n",
    "    query_predicate = \"\"\n",
    "    benefit_tier = row['Benefit Tier']\n",
    "    \n",
    "    community_flag = row['Community_Flag']\n",
    "    if community_flag:\n",
    "        query_predicate = addPredicate(query_predicate, \"df.'Attributes.EC_MP_Detail.MBRSHIP_COMMUNITY_FLAG' = '\" + community_flag + \"'\")\n",
    "        \n",
    "    member_of = row['Member_Of']\n",
    "    if member_of:\n",
    "        query_predicate = addPredicate(query_predicate, getMemberOfPredicate(member_of))\n",
    "\n",
    "    not_member_of = row['Not_Member_Of']\n",
    "    if not_member_of:\n",
    "        query_predicate = addPredicate(query_predicate, getNotMemberOfPredicate(not_member_of))\n",
    "        \n",
    "    community = row['Community']\n",
    "    if community:\n",
    "        query_predicate = addPredicate(query_predicate, getCommunityPredicate(community))\n",
    "        \n",
    "    ignore_community = row['Ignore_Community']\n",
    "    if ignore_community:\n",
    "        query_predicate = addPredicate(query_predicate, getIgnoreCommunityPredicate(ignore_community))\n",
    "        \n",
    "    resort_suite_bef_prog_names = row['RS_Ben_Prog_Name']\n",
    "    if resort_suite_bef_prog_names:\n",
    "        query_predicate = addPredicate(query_predicate, getResortSuitBenefitProgramPredicate(resort_suite_bef_prog_names))\n",
    "    \n",
    "    resort_suite_bef_prog_ignore_names = row['RS_Ben_Prog_Name_Not']\n",
    "    if resort_suite_bef_prog_ignore_names:\n",
    "        query_predicate = addPredicate(query_predicate, getResortSuitBenefitProgramIgnorePredicate(resort_suite_bef_prog_ignore_names))\n",
    "    \n",
    "    one = row['ONE']\n",
    "    if one:\n",
    "        query_predicate = addPredicate(query_predicate, getOnePredicate(one))\n",
    "        \n",
    "    category_golf = row['Category_Golf']\n",
    "    if category_golf: \n",
    "        query_predicate = addPredicate(query_predicate, getCategoryGolfPredicate(category_golf))\n",
    "        \n",
    "    category_social = row['Category_Social']\n",
    "    if category_social:\n",
    "        query_predicate = addPredicate(query_predicate, getCategorySocialPredicate(category_social))\n",
    "        \n",
    "    mbrship_type_desc_contains = row['Mbrship_type_desc_contains']\n",
    "    if mbrship_type_desc_contains:\n",
    "        query_predicate = addPredicate(query_predicate, getMbrshipTypeDescContainsPredicate(mbrship_type_desc_contains))\n",
    "        \n",
    "    mbrship_type_desc_equals = row['Mbrship_type_desc_equals']\n",
    "    if mbrship_type_desc_equals:\n",
    "        query_predicate = addPredicate(query_predicate, getMbrshipTypeDescEqualsPredicate(mbrship_type_desc_equals))\n",
    "        \n",
    "    mbrship_type_desc_does_not_have = row['Mbrship_type_desc_does_not_have']\n",
    "    if mbrship_type_desc_does_not_have:\n",
    "        query_predicate = addPredicate(query_predicate, getMbrshipTypeDescDoesNotHavePredicate(mbrship_type_desc_does_not_have))    \n",
    "        \n",
    "    if len(query_predicate) > 0:\n",
    "        query = \"select df.ID from df where \" + query_predicate\n",
    "    else:\n",
    "        query = \"\"\n",
    "        \n",
    "    benefit_tier = benefit_tier.replace('  ', ' ')\n",
    "    \n",
    "    exclude_benefit_tiers = row['Exclude_Benefit_Tiers'].strip()\n",
    "    if exclude_benefit_tiers:\n",
    "        exclude_benefit_tier_list = exclude_benefit_tiers.split(',')\n",
    "        except_query = ''\n",
    "        for exclude_benefit_tier in exclude_benefit_tier_list:\n",
    "            if len(except_query) > 0:\n",
    "                except_query = except_query + \" Except \" + getBenefitTierQuery(exclude_benefit_tier,benefit_tier_and_query)\n",
    "            else:\n",
    "                except_query = getBenefitTierQuery(exclude_benefit_tier,benefit_tier_and_query)\n",
    "        query = query + \" Except \" + except_query + \"\"\n",
    "        \n",
    "    \n",
    "    benefit_tier_and_query.append({\"benefit_tier\": benefit_tier, \"query\":query})        "
   ]
  },
  {
   "cell_type": "code",
   "execution_count": 13,
   "metadata": {},
   "outputs": [],
   "source": [
    "#benefit_tier_and_query"
   ]
  },
  {
   "cell_type": "code",
   "execution_count": 14,
   "metadata": {},
   "outputs": [],
   "source": [
    "#benefit_tier_and_query"
   ]
  },
  {
   "cell_type": "code",
   "execution_count": 15,
   "metadata": {},
   "outputs": [],
   "source": [
    "query_df = pd.DataFrame(benefit_tier_and_query)"
   ]
  },
  {
   "cell_type": "code",
   "execution_count": 16,
   "metadata": {},
   "outputs": [],
   "source": [
    "#query_df.describe()"
   ]
  },
  {
   "cell_type": "code",
   "execution_count": 17,
   "metadata": {},
   "outputs": [
    {
     "data": {
      "text/html": [
       "<div>\n",
       "<style scoped>\n",
       "    .dataframe tbody tr th:only-of-type {\n",
       "        vertical-align: middle;\n",
       "    }\n",
       "\n",
       "    .dataframe tbody tr th {\n",
       "        vertical-align: top;\n",
       "    }\n",
       "\n",
       "    .dataframe thead th {\n",
       "        text-align: right;\n",
       "    }\n",
       "</style>\n",
       "<table border=\"1\" class=\"dataframe\">\n",
       "  <thead>\n",
       "    <tr style=\"text-align: right;\">\n",
       "      <th></th>\n",
       "      <th>benefit_tier</th>\n",
       "      <th>query</th>\n",
       "    </tr>\n",
       "  </thead>\n",
       "  <tbody>\n",
       "    <tr>\n",
       "      <td>0</td>\n",
       "      <td>All Community Programming</td>\n",
       "      <td>select df.ID from df where df.'Attributes.EC_M...</td>\n",
       "    </tr>\n",
       "    <tr>\n",
       "      <td>1</td>\n",
       "      <td>Associate Golf</td>\n",
       "      <td>select df.ID from df where df.'Attributes.EC_M...</td>\n",
       "    </tr>\n",
       "    <tr>\n",
       "      <td>2</td>\n",
       "      <td>ATL Society for Alliance Clubs</td>\n",
       "      <td>select df.ID from df where df.'Attributes.EC_M...</td>\n",
       "    </tr>\n",
       "    <tr>\n",
       "      <td>3</td>\n",
       "      <td>ATL Society for CCoS Golf</td>\n",
       "      <td>select df.ID from df where df.'Attributes.EC_M...</td>\n",
       "    </tr>\n",
       "    <tr>\n",
       "      <td>4</td>\n",
       "      <td>ATL Society for CCoS Non Golf</td>\n",
       "      <td>select df.ID from df where df.'Attributes.EC_M...</td>\n",
       "    </tr>\n",
       "  </tbody>\n",
       "</table>\n",
       "</div>"
      ],
      "text/plain": [
       "                     benefit_tier  \\\n",
       "0       All Community Programming   \n",
       "1                  Associate Golf   \n",
       "2  ATL Society for Alliance Clubs   \n",
       "3       ATL Society for CCoS Golf   \n",
       "4   ATL Society for CCoS Non Golf   \n",
       "\n",
       "                                               query  \n",
       "0  select df.ID from df where df.'Attributes.EC_M...  \n",
       "1  select df.ID from df where df.'Attributes.EC_M...  \n",
       "2  select df.ID from df where df.'Attributes.EC_M...  \n",
       "3  select df.ID from df where df.'Attributes.EC_M...  \n",
       "4  select df.ID from df where df.'Attributes.EC_M...  "
      ]
     },
     "execution_count": 17,
     "metadata": {},
     "output_type": "execute_result"
    }
   ],
   "source": [
    "query_df.head()"
   ]
  },
  {
   "cell_type": "code",
   "execution_count": 18,
   "metadata": {},
   "outputs": [],
   "source": [
    "query_df.to_csv(\"output/benefit_tier_query_20190919 V29.csv\", index=False)"
   ]
  },
  {
   "cell_type": "code",
   "execution_count": 19,
   "metadata": {},
   "outputs": [],
   "source": [
    "query_df = pd.read_csv(\"output/benefit_tier_query_20190919 V29.csv\", dtype=str)"
   ]
  },
  {
   "cell_type": "markdown",
   "metadata": {},
   "source": [
    "<B>Test The Queries</b>"
   ]
  },
  {
   "cell_type": "code",
   "execution_count": 20,
   "metadata": {},
   "outputs": [],
   "source": [
    "import sqlite3"
   ]
  },
  {
   "cell_type": "code",
   "execution_count": 21,
   "metadata": {},
   "outputs": [],
   "source": [
    "df = pd.read_csv(\"Datasets/prod_non_resigned_membership_20190911.csv\", dtype=str)"
   ]
  },
  {
   "cell_type": "code",
   "execution_count": 22,
   "metadata": {},
   "outputs": [],
   "source": [
    "#df.head()"
   ]
  },
  {
   "cell_type": "markdown",
   "metadata": {},
   "source": [
    "<b>Loading query & Reltio export of non-resigned members in SQLite</b>"
   ]
  },
  {
   "cell_type": "code",
   "execution_count": 23,
   "metadata": {},
   "outputs": [
    {
     "name": "stdout",
     "output_type": "stream",
     "text": [
      "Wall time: 8.04 s\n"
     ]
    }
   ],
   "source": [
    "%%time\n",
    "conn = sqlite3.connect(\"membershipQuery.db\")\n",
    "cur = conn.cursor()\n",
    "query_df.to_sql(\"query_df\", conn, if_exists=\"replace\")\n",
    "df.to_sql(\"df\", conn, if_exists=\"replace\")"
   ]
  },
  {
   "cell_type": "markdown",
   "metadata": {},
   "source": [
    "<b>Generation counts from a recent Reltio export</b>"
   ]
  },
  {
   "cell_type": "code",
   "execution_count": 24,
   "metadata": {},
   "outputs": [
    {
     "name": "stdout",
     "output_type": "stream",
     "text": [
      "Membership count for Champions: 25\n",
      "Membership count for Champions YEX ONE - Retired: 170\n",
      "Membership count for Champions YEX ONE: 9\n",
      "Membership count for Champions ONE: 489\n",
      "Membership count for NCS: 0\n",
      "Membership count for ONE TX Tech - Houston: 0\n",
      "Membership count for ONE UT Club - Houston: 0\n",
      "Membership count for Topgolf: 0\n",
      "Membership count for Premier Golf: 0\n",
      "Membership count for Full Golf: 0\n"
     ]
    }
   ],
   "source": [
    "count = 0\n",
    "for index, row in query_df.iterrows():\n",
    "    query_str = row['query']\n",
    "    rs = pd.read_sql_query(query_str, conn)\n",
    "    count = count + len(rs.index)\n",
    "    if len(rs.index) == 0 or 'Champions' in row['benefit_tier']:\n",
    "        #print(\"No membership found for \" + row['benefit_tier'] + \": \" + str(len(rs.index)))\n",
    "        print(\"Membership count for \" + row['benefit_tier'] + \": \" + str(len(rs.index)))"
   ]
  },
  {
   "cell_type": "code",
   "execution_count": null,
   "metadata": {},
   "outputs": [],
   "source": []
  }
 ],
 "metadata": {
  "kernelspec": {
   "display_name": "Python 3",
   "language": "python",
   "name": "python3"
  },
  "language_info": {
   "codemirror_mode": {
    "name": "ipython",
    "version": 3
   },
   "file_extension": ".py",
   "mimetype": "text/x-python",
   "name": "python",
   "nbconvert_exporter": "python",
   "pygments_lexer": "ipython3",
   "version": "3.6.9"
  }
 },
 "nbformat": 4,
 "nbformat_minor": 2
}
