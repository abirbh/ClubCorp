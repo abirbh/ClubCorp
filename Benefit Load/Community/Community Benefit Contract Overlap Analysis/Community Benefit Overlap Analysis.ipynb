{
 "cells": [
  {
   "cell_type": "code",
   "execution_count": 1,
   "metadata": {},
   "outputs": [],
   "source": [
    "import pandas as pd\n",
    "import sqlite3\n",
    "from itertools import combinations\n",
    "from termcolor import colored"
   ]
  },
  {
   "cell_type": "markdown",
   "metadata": {},
   "source": [
    "<b>Benefit Tier Interpretation - required for analysis</b>"
   ]
  },
  {
   "cell_type": "code",
   "execution_count": 2,
   "metadata": {},
   "outputs": [],
   "source": [
    "fileName = \"Datasets\\\\Benefit_Tier_Understanding_20190919 V30 With Atlanta, no LS.xlsx\"\n",
    "metadata_df = pd.read_excel(fileName,sheet_name=0, dtype=str, na_filter=False)"
   ]
  },
  {
   "cell_type": "markdown",
   "metadata": {},
   "source": [
    "<b>Benefit Tier Query</b>"
   ]
  },
  {
   "cell_type": "code",
   "execution_count": 3,
   "metadata": {},
   "outputs": [],
   "source": [
    "#Benefit Tier specific query\n",
    "query_df = pd.read_csv(\"output/benefit_tier_query_20190919 V29.csv\", dtype=str)\n",
    "query_df['benefit_tier'] = query_df['benefit_tier'].str.upper()\n",
    "query_df['benefit_tier'] = query_df['benefit_tier'].str.strip()"
   ]
  },
  {
   "cell_type": "markdown",
   "metadata": {},
   "source": [
    "<b>Non Resigned Memberships</b>"
   ]
  },
  {
   "cell_type": "code",
   "execution_count": 4,
   "metadata": {},
   "outputs": [],
   "source": [
    "# Non resigned membership data from Reltio\n",
    "df_membership = pd.read_csv(\"Datasets/prod_non_resigned_membership_20190911.csv\", dtype=str)"
   ]
  },
  {
   "cell_type": "code",
   "execution_count": 5,
   "metadata": {},
   "outputs": [
    {
     "data": {
      "text/plain": [
       "Index(['benefit_tier', 'query'], dtype='object')"
      ]
     },
     "execution_count": 5,
     "metadata": {},
     "output_type": "execute_result"
    }
   ],
   "source": [
    "query_df.columns"
   ]
  },
  {
   "cell_type": "markdown",
   "metadata": {},
   "source": [
    "<b>Community Benefits File</b>"
   ]
  },
  {
   "cell_type": "code",
   "execution_count": 6,
   "metadata": {},
   "outputs": [],
   "source": [
    "# Community Benefits File\n",
    "community_df = pd.read_excel(\"Datasets/Owned Club Community Benefits Review with 10.1 Atlanta 080829 no LS or Sac.xlsx\", dtype=str, sheet_name=2)\n",
    "community_df['Benefit Tier'] = community_df['Benefit Tier'].str.upper()\n",
    "community_df['Benefit Tier'] = community_df['Benefit Tier'].str.strip()"
   ]
  },
  {
   "cell_type": "code",
   "execution_count": 7,
   "metadata": {},
   "outputs": [],
   "source": [
    "#community_df.head()"
   ]
  },
  {
   "cell_type": "markdown",
   "metadata": {},
   "source": [
    "<b>Dana's Community name to Reltio community name mapping</b>"
   ]
  },
  {
   "cell_type": "code",
   "execution_count": 8,
   "metadata": {},
   "outputs": [],
   "source": [
    "# Community Name & Id mapping\n",
    "community_name_df = pd.read_excel(\"datasets/community_name_mapping.xlsx\", sheet_name=0, dtype=str)"
   ]
  },
  {
   "cell_type": "code",
   "execution_count": 9,
   "metadata": {},
   "outputs": [
    {
     "name": "stdout",
     "output_type": "stream",
     "text": [
      "Wall time: 1.01 ms\n"
     ]
    }
   ],
   "source": [
    "%%time\n",
    "conn = sqlite3.connect(\"communityOverlap.db\")\n",
    "cur = conn.cursor()"
   ]
  },
  {
   "cell_type": "code",
   "execution_count": 10,
   "metadata": {},
   "outputs": [],
   "source": [
    "def getStandardCommunityName(Community_Name_Dana):\n",
    "    standard_community_name = ''\n",
    "    standard_community_name_df = community_name_df[community_name_df['Community_Name_Business'] == Community_Name_Dana]\n",
    "    if len(standard_community_name_df.index) > 0:\n",
    "        standard_community_name = standard_community_name_df.iloc[0]['Community_Name_Reltio']\n",
    "    return standard_community_name"
   ]
  },
  {
   "cell_type": "code",
   "execution_count": 11,
   "metadata": {},
   "outputs": [
    {
     "name": "stdout",
     "output_type": "stream",
     "text": [
      "No overlaps detected\n",
      "Wall time: 1min 8s\n"
     ]
    }
   ],
   "source": [
    "%%time\n",
    "overlap_found = []\n",
    "overlap_not_computed = []\n",
    "# All communities\n",
    "all_communities = community_df['Community'].unique()\n",
    "for community in all_communities:\n",
    "    community_name = getStandardCommunityName(community)\n",
    "    df = df_membership[(df_membership['Attributes.EC_Community.EC_Name']==community_name)|(df_membership['Attributes.EC_Community2.EC_Name']==community_name)]\n",
    "    df.to_sql(\"df\", conn, if_exists=\"replace\")\n",
    "    benefit_tiers = list(community_df[community_df['Community']==community]['Benefit Tier'].dropna().unique())\n",
    "    \n",
    "    if 'NAN' in benefit_tiers:\n",
    "        benefit_tiers.remove('NAN')\n",
    "    if 'NO COMMUNITY AT THIS TIME' in benefit_tiers:\n",
    "        benefit_tiers.remove('NO COMMUNITY AT THIS TIME')\n",
    "        \n",
    "    benefit_tier_combinations = [comb for comb in combinations(benefit_tiers, 2)]\n",
    "    for combination in benefit_tier_combinations:\n",
    "        #print(community_name, combination)\n",
    "        benefit_tier0 = combination[0]\n",
    "        benefit_tier0 = benefit_tier0.replace('  ', ' ')\n",
    "        benefit_tier1 = combination[1]\n",
    "        benefit_tier1 = benefit_tier1.replace('  ', ' ')\n",
    "        query0 = ''\n",
    "        query1 = ''\n",
    "        if len(query_df[query_df['benefit_tier'] == benefit_tier0]['query']) > 0:\n",
    "            query0 = query_df[query_df['benefit_tier'] == benefit_tier0]['query'].iloc[0]\n",
    "        else:\n",
    "            continue\n",
    "        if len(query_df[query_df['benefit_tier'] == benefit_tier1]['query']) > 0:\n",
    "            query1 = query_df[query_df['benefit_tier'] == benefit_tier1]['query'].iloc[0]\n",
    "        else:\n",
    "            continue\n",
    "            \n",
    "        rs0 = pd.read_sql_query(query0, conn)\n",
    "        rs1 = pd.read_sql_query(query1, conn)\n",
    "        if len(rs0.index) == 0 or len(rs1.index) == 0:\n",
    "            #print(\"Overlap not computed for,\" + community + \",\" + benefit_tier0 + \", \" + benefit_tier1)\n",
    "            overlap_not_computed.append({\n",
    "                'community': community,\n",
    "                'benefit_tier0': benefit_tier0,\n",
    "                'benefit_tier1': benefit_tier1\n",
    "            })\n",
    "        else:\n",
    "            intersection = list(set(rs0['ID']) & set(rs1['ID']))\n",
    "            if len(intersection) > 0:\n",
    "                print(colored(community + \",\" + benefit_tier0 + \",\" + benefit_tier1,'red'))\n",
    "                overlap_found.append({\n",
    "                    'community': community,\n",
    "                    'benefit_tier0': benefit_tier0,\n",
    "                    'benefit_tier1': benefit_tier1                    \n",
    "                })\n",
    "\n",
    "if len(overlap_found) == 0:\n",
    "    print(\"No overlaps detected\")\n",
    "else:\n",
    "    print(\"Overlap count: \" + str(len(overlap_found)))"
   ]
  },
  {
   "cell_type": "code",
   "execution_count": 12,
   "metadata": {},
   "outputs": [
    {
     "name": "stdout",
     "output_type": "stream",
     "text": [
      "No overlaps found, output file not generated\n"
     ]
    }
   ],
   "source": [
    "if len(overlap_found) > 0:\n",
    "    overlap_found_df = pd.DataFrame(overlap_found, columns=overlap_found[0].keys())\n",
    "    overlap_found_df.to_csv(\"output/community_benefits_overlaps.csv\", index=False)\n",
    "else:\n",
    "    print(\"No overlaps found, output file not generated\")"
   ]
  },
  {
   "cell_type": "code",
   "execution_count": 13,
   "metadata": {},
   "outputs": [
    {
     "data": {
      "text/html": [
       "<div>\n",
       "<style scoped>\n",
       "    .dataframe tbody tr th:only-of-type {\n",
       "        vertical-align: middle;\n",
       "    }\n",
       "\n",
       "    .dataframe tbody tr th {\n",
       "        vertical-align: top;\n",
       "    }\n",
       "\n",
       "    .dataframe thead th {\n",
       "        text-align: right;\n",
       "    }\n",
       "</style>\n",
       "<table border=\"1\" class=\"dataframe\">\n",
       "  <thead>\n",
       "    <tr style=\"text-align: right;\">\n",
       "      <th></th>\n",
       "      <th>community</th>\n",
       "      <th>benefit_tier0</th>\n",
       "      <th>benefit_tier1</th>\n",
       "    </tr>\n",
       "  </thead>\n",
       "  <tbody>\n",
       "    <tr>\n",
       "      <td>0</td>\n",
       "      <td>Atlanta</td>\n",
       "      <td>ATL ASSOCIATE GOLF</td>\n",
       "      <td>FULL GOLF</td>\n",
       "    </tr>\n",
       "    <tr>\n",
       "      <td>1</td>\n",
       "      <td>Atlanta</td>\n",
       "      <td>ATL ASSOCIATE GOLF</td>\n",
       "      <td>PREMIER GOLF</td>\n",
       "    </tr>\n",
       "    <tr>\n",
       "      <td>2</td>\n",
       "      <td>Atlanta</td>\n",
       "      <td>ATL ONE GOLF</td>\n",
       "      <td>FULL GOLF</td>\n",
       "    </tr>\n",
       "    <tr>\n",
       "      <td>3</td>\n",
       "      <td>Atlanta</td>\n",
       "      <td>ATL ONE GOLF</td>\n",
       "      <td>PREMIER GOLF</td>\n",
       "    </tr>\n",
       "    <tr>\n",
       "      <td>4</td>\n",
       "      <td>Atlanta</td>\n",
       "      <td>ATL ONE NON GOLF</td>\n",
       "      <td>FULL GOLF</td>\n",
       "    </tr>\n",
       "  </tbody>\n",
       "</table>\n",
       "</div>"
      ],
      "text/plain": [
       "  community       benefit_tier0 benefit_tier1\n",
       "0   Atlanta  ATL ASSOCIATE GOLF     FULL GOLF\n",
       "1   Atlanta  ATL ASSOCIATE GOLF  PREMIER GOLF\n",
       "2   Atlanta        ATL ONE GOLF     FULL GOLF\n",
       "3   Atlanta        ATL ONE GOLF  PREMIER GOLF\n",
       "4   Atlanta    ATL ONE NON GOLF     FULL GOLF"
      ]
     },
     "execution_count": 13,
     "metadata": {},
     "output_type": "execute_result"
    }
   ],
   "source": [
    "overlap_not_computed_df = pd.DataFrame(overlap_not_computed, columns=overlap_not_computed[0].keys())\n",
    "overlap_not_computed_df.head()"
   ]
  },
  {
   "cell_type": "code",
   "execution_count": 14,
   "metadata": {},
   "outputs": [],
   "source": [
    "def getBenefitTierAttributes(benefit_tier):\n",
    "    rule_attributes = metadata_df[metadata_df['Benefit Tier'].str.upper() == benefit_tier]\n",
    "    for index, row in rule_attributes.iterrows():\n",
    "        one = row['ONE']\n",
    "        category_golf = row['Category_Golf']\n",
    "        category_social = row['Category_Social']\n",
    "        return (one, category_golf, category_social)\n",
    "    return ('', '', '')"
   ]
  },
  {
   "cell_type": "code",
   "execution_count": 15,
   "metadata": {},
   "outputs": [],
   "source": [
    "overlap_suspect_details = []\n",
    "named_clubs = ('TX TECH','UT CLUB','BAYLOR', 'STONEBRIDGE', 'BAY OAKS','KINGWOOD', 'WOODLANDS', 'CCOS', 'INFINITY', 'CHAMPIONS')\n",
    "\n",
    "for index, row in overlap_not_computed_df.iterrows():\n",
    "    community = row['community']\n",
    "    benefit_tier0 = row['benefit_tier0']\n",
    "    benefit_tier1 = row['benefit_tier1']\n",
    "    one_0, category_golf_0, category_social_0 = getBenefitTierAttributes(benefit_tier0)\n",
    "    one_1, category_golf_1, category_social_1 = getBenefitTierAttributes(benefit_tier1)\n",
    "    \n",
    "    safe = False\n",
    "    if one_0 == 'Yes' and one_1 == 'No':\n",
    "        safe =  True\n",
    "    elif one_0 == 'No' and one_1 == 'Yes':\n",
    "        safe = True\n",
    "    elif category_golf_0 == 'Yes' and category_social_1 == 'Yes':\n",
    "        safe = True\n",
    "    elif category_golf_0 == 'Yes' and category_golf_1 == 'No':\n",
    "        safe = True \n",
    "    elif category_golf_0 == 'No' and category_golf_1 == 'Yes':\n",
    "        safe = True \n",
    "    elif benefit_tier0 in ['TOPGOLF','NCS','NCS CUSTOM'] or benefit_tier1 in ['TOPGOLF','NCS','NCS CUSTOM']:\n",
    "        safe = True\n",
    "    else:\n",
    "        bnt0_in_stadium_clubs = any(s in benefit_tier0 for s in named_clubs)\n",
    "        bnt1_in_stadium_clubs = any(s in benefit_tier1 for s in named_clubs)\n",
    "        if bnt0_in_stadium_clubs == True and bnt1_in_stadium_clubs == True:\n",
    "            safe = True\n",
    "        \n",
    "    overlap_suspect_details.append({\n",
    "        'community': community,\n",
    "        'benefit_tier0': benefit_tier0,\n",
    "        'one_0': one_0,\n",
    "        'category_golf_0': category_golf_0,\n",
    "        'category_social_0': category_social_0,\n",
    "        'benefit_tier1': benefit_tier1,\n",
    "        'one_1': one_1,\n",
    "        'category_golf_1': category_golf_1,\n",
    "        'category_social_1': category_social_1,\n",
    "        'safe': safe\n",
    "    })"
   ]
  },
  {
   "cell_type": "code",
   "execution_count": 16,
   "metadata": {},
   "outputs": [
    {
     "data": {
      "text/html": [
       "<div>\n",
       "<style scoped>\n",
       "    .dataframe tbody tr th:only-of-type {\n",
       "        vertical-align: middle;\n",
       "    }\n",
       "\n",
       "    .dataframe tbody tr th {\n",
       "        vertical-align: top;\n",
       "    }\n",
       "\n",
       "    .dataframe thead th {\n",
       "        text-align: right;\n",
       "    }\n",
       "</style>\n",
       "<table border=\"1\" class=\"dataframe\">\n",
       "  <thead>\n",
       "    <tr style=\"text-align: right;\">\n",
       "      <th></th>\n",
       "      <th>community</th>\n",
       "      <th>benefit_tier0</th>\n",
       "      <th>one_0</th>\n",
       "      <th>category_golf_0</th>\n",
       "      <th>category_social_0</th>\n",
       "      <th>benefit_tier1</th>\n",
       "      <th>one_1</th>\n",
       "      <th>category_golf_1</th>\n",
       "      <th>category_social_1</th>\n",
       "      <th>safe</th>\n",
       "    </tr>\n",
       "  </thead>\n",
       "  <tbody>\n",
       "    <tr>\n",
       "      <td>0</td>\n",
       "      <td>Atlanta</td>\n",
       "      <td>ATL ASSOCIATE GOLF</td>\n",
       "      <td>No</td>\n",
       "      <td>Yes</td>\n",
       "      <td></td>\n",
       "      <td>FULL GOLF</td>\n",
       "      <td>No</td>\n",
       "      <td>Yes</td>\n",
       "      <td></td>\n",
       "      <td>False</td>\n",
       "    </tr>\n",
       "    <tr>\n",
       "      <td>1</td>\n",
       "      <td>Atlanta</td>\n",
       "      <td>ATL ASSOCIATE GOLF</td>\n",
       "      <td>No</td>\n",
       "      <td>Yes</td>\n",
       "      <td></td>\n",
       "      <td>PREMIER GOLF</td>\n",
       "      <td>No</td>\n",
       "      <td>Yes</td>\n",
       "      <td></td>\n",
       "      <td>False</td>\n",
       "    </tr>\n",
       "    <tr>\n",
       "      <td>2</td>\n",
       "      <td>Atlanta</td>\n",
       "      <td>ATL ONE GOLF</td>\n",
       "      <td></td>\n",
       "      <td>Yes</td>\n",
       "      <td></td>\n",
       "      <td>FULL GOLF</td>\n",
       "      <td>No</td>\n",
       "      <td>Yes</td>\n",
       "      <td></td>\n",
       "      <td>False</td>\n",
       "    </tr>\n",
       "    <tr>\n",
       "      <td>3</td>\n",
       "      <td>Atlanta</td>\n",
       "      <td>ATL ONE GOLF</td>\n",
       "      <td></td>\n",
       "      <td>Yes</td>\n",
       "      <td></td>\n",
       "      <td>PREMIER GOLF</td>\n",
       "      <td>No</td>\n",
       "      <td>Yes</td>\n",
       "      <td></td>\n",
       "      <td>False</td>\n",
       "    </tr>\n",
       "    <tr>\n",
       "      <td>4</td>\n",
       "      <td>Atlanta</td>\n",
       "      <td>ATL ONE NON GOLF</td>\n",
       "      <td></td>\n",
       "      <td>No</td>\n",
       "      <td></td>\n",
       "      <td>FULL GOLF</td>\n",
       "      <td>No</td>\n",
       "      <td>Yes</td>\n",
       "      <td></td>\n",
       "      <td>True</td>\n",
       "    </tr>\n",
       "  </tbody>\n",
       "</table>\n",
       "</div>"
      ],
      "text/plain": [
       "  community       benefit_tier0 one_0 category_golf_0 category_social_0  \\\n",
       "0   Atlanta  ATL ASSOCIATE GOLF    No             Yes                     \n",
       "1   Atlanta  ATL ASSOCIATE GOLF    No             Yes                     \n",
       "2   Atlanta        ATL ONE GOLF                   Yes                     \n",
       "3   Atlanta        ATL ONE GOLF                   Yes                     \n",
       "4   Atlanta    ATL ONE NON GOLF                    No                     \n",
       "\n",
       "  benefit_tier1 one_1 category_golf_1 category_social_1   safe  \n",
       "0     FULL GOLF    No             Yes                    False  \n",
       "1  PREMIER GOLF    No             Yes                    False  \n",
       "2     FULL GOLF    No             Yes                    False  \n",
       "3  PREMIER GOLF    No             Yes                    False  \n",
       "4     FULL GOLF    No             Yes                     True  "
      ]
     },
     "execution_count": 16,
     "metadata": {},
     "output_type": "execute_result"
    }
   ],
   "source": [
    "overlap_suspect_details_df = pd.DataFrame(overlap_suspect_details, columns=overlap_suspect_details[0].keys())\n",
    "overlap_suspect_details_df = overlap_suspect_details_df.drop_duplicates()\n",
    "overlap_suspect_details_df.to_csv('output/overlap_suspect_details.csv', index=False)\n",
    "overlap_suspect_details_df.head()"
   ]
  },
  {
   "cell_type": "code",
   "execution_count": null,
   "metadata": {},
   "outputs": [],
   "source": []
  }
 ],
 "metadata": {
  "kernelspec": {
   "display_name": "Python 3",
   "language": "python",
   "name": "python3"
  },
  "language_info": {
   "codemirror_mode": {
    "name": "ipython",
    "version": 3
   },
   "file_extension": ".py",
   "mimetype": "text/x-python",
   "name": "python",
   "nbconvert_exporter": "python",
   "pygments_lexer": "ipython3",
   "version": "3.6.9"
  }
 },
 "nbformat": 4,
 "nbformat_minor": 2
}
