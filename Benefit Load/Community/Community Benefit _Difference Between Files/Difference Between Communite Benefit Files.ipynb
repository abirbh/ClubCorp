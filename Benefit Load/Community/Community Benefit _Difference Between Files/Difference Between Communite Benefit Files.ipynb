{
 "cells": [
  {
   "cell_type": "code",
   "execution_count": 1,
   "metadata": {},
   "outputs": [],
   "source": [
    "import pandas as pd"
   ]
  },
  {
   "cell_type": "markdown",
   "metadata": {},
   "source": [
    "<b> Read Data File of Old File </b>"
   ]
  },
  {
   "cell_type": "code",
   "execution_count": 2,
   "metadata": {},
   "outputs": [],
   "source": [
    "df_old = pd.read_csv(\"datasets/Owned Club Community Benefits Review 11302020 Preprocessed.csv\",dtype=str)\n",
    "\n",
    "# df_old = pd.read_csv(\"datasets/Owned Club Community Benefits Review 11062020 Preprocessed_20201112_v2.csv\",dtype=str)\n",
    "\n",
    "#df_old = pd.read_csv(\"datasets/Owned Club Community Benefits Review 07152020 Preprocessed_removedGolfBenefitToClubAtlantaNatioanal.csv\",dtype=str)\n",
    "\n",
    "#df_old = pd.read_csv(\"datasets/Owned Club Community Benefits Review 07152020 Preprocessed_removedGolfBenefitToClubAtlantaNatioanal.csv\",dtype=str)\n",
    "\n",
    "#df_old = pd.read_excel(\"datasets/Copy of VillageBenefit.xlsx\", dtype=str, sheet_name=0, skiprows=0, na_filter=False)"
   ]
  },
  {
   "cell_type": "markdown",
   "metadata": {},
   "source": [
    "<b> Read Data File of New File</b>"
   ]
  },
  {
   "cell_type": "code",
   "execution_count": 3,
   "metadata": {},
   "outputs": [],
   "source": [
    "df_new = pd.read_csv(\"datasets/Owned Club Community Benefits Review 12072020 Preprocessed.csv\",dtype=str)\n",
    "\n",
    "#df_new = pd.read_csv(\"datasets/Owned Club Community Benefits Review 09182020 Preprocessed.csv\",dtype=str)\n",
    "\n",
    "#df_new = pd.read_csv(\"datasets/Owned Club Community Benefits Review 09102020 Preprocessed_removedGolfBenefitToClubAtlantaNatioanal.csv\",dtype=str)\n",
    "\n",
    "#df_new = pd.read_csv(\"datasets/Owned Club Community Benefits Review 08312020 Preprocessed_removedGolfBenefitToClubAtlantaNatioanal.csv\", dtype=str, sheet_name=0, skiprows=0, na_filter=False)"
   ]
  },
  {
   "cell_type": "markdown",
   "metadata": {},
   "source": [
    "<b>New Added Columns</b>"
   ]
  },
  {
   "cell_type": "code",
   "execution_count": 4,
   "metadata": {},
   "outputs": [
    {
     "data": {
      "text/plain": [
       "{'Member Type Codes',\n",
       " 'Other Advance',\n",
       " 'Other Availability',\n",
       " 'Other Benefit',\n",
       " 'Relationship'}"
      ]
     },
     "execution_count": 4,
     "metadata": {},
     "output_type": "execute_result"
    }
   ],
   "source": [
    "new_column = set(list(df_new)) - set(list(df_old))\n",
    "new_column"
   ]
  },
  {
   "cell_type": "code",
   "execution_count": 5,
   "metadata": {},
   "outputs": [],
   "source": [
    "#list(df_new['Members coming from'].dropna())"
   ]
  },
  {
   "cell_type": "markdown",
   "metadata": {},
   "source": [
    "<b>Read Benefit Understanding File</b>"
   ]
  },
  {
   "cell_type": "code",
   "execution_count": 6,
   "metadata": {},
   "outputs": [],
   "source": [
    "df_Benefit = pd.read_excel(\"datasets/Benefit_Tier_Understanding 11.30.20.xlsx\",sheet_name=0, dtype=str, na_filter=False)\n",
    "benefit_tiers = df_Benefit['Benefit Tier'].unique()\n",
    "benefit_tiers = [x.strip().upper() for x in benefit_tiers]\n",
    "benefit_tiers = [' '.join(x.split()) for x in benefit_tiers]"
   ]
  },
  {
   "cell_type": "code",
   "execution_count": 7,
   "metadata": {},
   "outputs": [],
   "source": [
    "c_old = df_old.Community.dropna().unique()\n",
    "#c_old = df_old.Village.dropna().unique()\n",
    "c_old = [x.strip().upper() for x in c_old]\n",
    "c_old = [' '.join(x.split()) for x in c_old]\n",
    "c_new = df_new.Community.dropna().unique()\n",
    "#c_new = df_new.Village.dropna().unique()\n",
    "c_new = [x.strip().upper() for x in c_new]\n",
    "c_new = [' '.join(x.split()) for x in c_new]"
   ]
  },
  {
   "cell_type": "markdown",
   "metadata": {},
   "source": [
    "<b> Community introduced in the new edition</b>"
   ]
  },
  {
   "cell_type": "code",
   "execution_count": null,
   "metadata": {},
   "outputs": [],
   "source": []
  },
  {
   "cell_type": "code",
   "execution_count": 8,
   "metadata": {},
   "outputs": [
    {
     "data": {
      "text/plain": [
       "set()"
      ]
     },
     "execution_count": 8,
     "metadata": {},
     "output_type": "execute_result"
    }
   ],
   "source": [
    "c_newEdition = set(list(c_new)) -  set(list(c_old))\n",
    "c_newEdition"
   ]
  },
  {
   "cell_type": "markdown",
   "metadata": {},
   "source": [
    "<b> Community dropped in new edition</b>"
   ]
  },
  {
   "cell_type": "code",
   "execution_count": 9,
   "metadata": {},
   "outputs": [
    {
     "data": {
      "text/plain": [
       "set()"
      ]
     },
     "execution_count": 9,
     "metadata": {},
     "output_type": "execute_result"
    }
   ],
   "source": [
    "c_dropped = set(list(c_old)) - set(list(c_new))\n",
    "c_dropped"
   ]
  },
  {
   "cell_type": "code",
   "execution_count": 10,
   "metadata": {},
   "outputs": [],
   "source": [
    "club_old = df_old.Club.dropna().unique()\n",
    "club_old = [x.strip().upper() for x in club_old]\n",
    "club_old = [' '.join(x.split()) for x in club_old]\n",
    "club_new = df_new.Club.dropna().unique()\n",
    "club_new = [x.strip().upper() for x in club_new]\n",
    "club_new = [' '.join(x.split()) for x in club_new]\n",
    "# print(club_old)\n",
    "# print(club_new)"
   ]
  },
  {
   "cell_type": "markdown",
   "metadata": {},
   "source": [
    "<b>Club introduced in the new edition</b>"
   ]
  },
  {
   "cell_type": "code",
   "execution_count": 11,
   "metadata": {},
   "outputs": [
    {
     "data": {
      "text/plain": [
       "set()"
      ]
     },
     "execution_count": 11,
     "metadata": {},
     "output_type": "execute_result"
    }
   ],
   "source": [
    "club_newEdition = set(list(club_new)) -  set(list(club_old))\n",
    "club_newEdition"
   ]
  },
  {
   "cell_type": "markdown",
   "metadata": {},
   "source": [
    "<b> Club dropped in the new edition</b>"
   ]
  },
  {
   "cell_type": "code",
   "execution_count": 12,
   "metadata": {},
   "outputs": [
    {
     "data": {
      "text/plain": [
       "set()"
      ]
     },
     "execution_count": 12,
     "metadata": {},
     "output_type": "execute_result"
    }
   ],
   "source": [
    "club_oldEdition = set(list(club_old)) -  set(list(club_new))\n",
    "club_oldEdition"
   ]
  },
  {
   "cell_type": "markdown",
   "metadata": {},
   "source": [
    "<b>Benefit Tier</b>\n"
   ]
  },
  {
   "cell_type": "code",
   "execution_count": 13,
   "metadata": {},
   "outputs": [],
   "source": [
    "b_old = df_old['Benefit Tier'].dropna().unique()\n",
    "b_old = [x.strip().upper() for x in b_old]\n",
    "b_old = [' '.join(x.split()) for x in b_old]\n",
    "b_new = df_new['Benefit Tier'].dropna().unique()\n",
    "b_new = [x.strip().upper() for x in b_new]\n",
    "b_new = [' '.join(x.split()) for x in b_new]\n",
    "#sorted(b_old)"
   ]
  },
  {
   "cell_type": "markdown",
   "metadata": {},
   "source": [
    "<b>1. Benefit tier introduced in the new edition</b>"
   ]
  },
  {
   "cell_type": "code",
   "execution_count": 14,
   "metadata": {},
   "outputs": [
    {
     "data": {
      "text/plain": [
       "{'ONE GOLF - CLASSIC - ATLANTA', 'ONE NON GOLF - CLASSIC - ATLANTA'}"
      ]
     },
     "execution_count": 14,
     "metadata": {},
     "output_type": "execute_result"
    }
   ],
   "source": [
    "diff_newEdition = set(list(b_new)) -  set(list(b_old))\n",
    "diff_newEdition"
   ]
  },
  {
   "cell_type": "markdown",
   "metadata": {},
   "source": [
    "<b> 2. Benefit tier dropped in the new edition</b>"
   ]
  },
  {
   "cell_type": "code",
   "execution_count": 15,
   "metadata": {},
   "outputs": [
    {
     "data": {
      "text/plain": [
       "set()"
      ]
     },
     "execution_count": 15,
     "metadata": {},
     "output_type": "execute_result"
    }
   ],
   "source": [
    "diff_dropped = set(list(b_old)) -  set(list(b_new))\n",
    "diff_dropped"
   ]
  },
  {
   "cell_type": "markdown",
   "metadata": {},
   "source": [
    "<b>Golf benefit </b>"
   ]
  },
  {
   "cell_type": "code",
   "execution_count": 16,
   "metadata": {},
   "outputs": [],
   "source": [
    "junkValues = ['No access','N/A','','No Community at this time','Home Club','No access ','No access ','No Access']\n",
    "golf_benefit_old = df_old[['Golf Benefit']].dropna()\n",
    "golf_benefit_old = golf_benefit_old[~golf_benefit_old['Golf Benefit'].isin(junkValues)].drop_duplicates()\n",
    "golf_benefit_old = golf_benefit_old['Golf Benefit'].unique()\n",
    "golf_benefit_old = [x.strip().upper() for x in golf_benefit_old]\n",
    "golf_benefit_old = [' '.join(x.split()) for x in golf_benefit_old]\n",
    "#sorted(golf_benefit_old)"
   ]
  },
  {
   "cell_type": "code",
   "execution_count": 17,
   "metadata": {},
   "outputs": [],
   "source": [
    "golf_benefit_new = df_new[['Golf Benefit']].dropna()\n",
    "golf_benefit_new = golf_benefit_new[~golf_benefit_new['Golf Benefit'].isin(junkValues)].drop_duplicates()\n",
    "golf_benefit_new = golf_benefit_new['Golf Benefit'].unique()\n",
    "golf_benefit_new = [' '.join(x.split()) for x in golf_benefit_new]\n",
    "golf_benefit_new = [x.strip().upper() for x in golf_benefit_new]\n",
    "#sorted(golf_benefit_new)"
   ]
  },
  {
   "cell_type": "markdown",
   "metadata": {},
   "source": [
    "\n",
    "<b>3. Golf benefit introduced in the new edition</b>"
   ]
  },
  {
   "cell_type": "code",
   "execution_count": 18,
   "metadata": {},
   "outputs": [
    {
     "data": {
      "text/plain": [
       "set()"
      ]
     },
     "execution_count": 18,
     "metadata": {},
     "output_type": "execute_result"
    }
   ],
   "source": [
    "gbenefit_newEdition = set(list(golf_benefit_new)) - set(list(golf_benefit_old))\n",
    "gbenefit_newEdition"
   ]
  },
  {
   "cell_type": "markdown",
   "metadata": {},
   "source": [
    "<b>4. Golf benefit dropped in the new edition</b>"
   ]
  },
  {
   "cell_type": "code",
   "execution_count": 19,
   "metadata": {},
   "outputs": [
    {
     "data": {
      "text/plain": [
       "set()"
      ]
     },
     "execution_count": 19,
     "metadata": {},
     "output_type": "execute_result"
    }
   ],
   "source": [
    "golf_benefit_dropped = set(list(golf_benefit_old)) - set(list(golf_benefit_new))\n",
    "golf_benefit_dropped"
   ]
  },
  {
   "cell_type": "markdown",
   "metadata": {},
   "source": [
    "<b> Golf Amenity Restrictions </b>"
   ]
  },
  {
   "cell_type": "code",
   "execution_count": 20,
   "metadata": {},
   "outputs": [],
   "source": [
    "golf_amenity_restrictions_old = df_old['Golf Amenity Restrictions'].dropna().unique()\n",
    "golf_amenity_restrictions_old = [x.strip().upper() for x in golf_amenity_restrictions_old]\n",
    "golf_amenity_restrictions_old = [' '.join(x.split()) for x in golf_amenity_restrictions_old]\n",
    "golf_amenity_restrictions_new = df_new['Golf Amenity Restrictions'].dropna().unique()\n",
    "golf_amenity_restrictions_new = [x.strip().upper() for x in golf_amenity_restrictions_new]\n",
    "golf_amenity_restrictions_new = [' '.join(x.split()) for x in golf_amenity_restrictions_new]"
   ]
  },
  {
   "cell_type": "code",
   "execution_count": 21,
   "metadata": {},
   "outputs": [
    {
     "data": {
      "text/plain": [
       "set()"
      ]
     },
     "execution_count": 21,
     "metadata": {},
     "output_type": "execute_result"
    }
   ],
   "source": [
    "gAmenity_newEdition = set(list(golf_amenity_restrictions_new)) - set(list(golf_amenity_restrictions_old))\n",
    "gAmenity_newEdition"
   ]
  },
  {
   "cell_type": "code",
   "execution_count": 22,
   "metadata": {},
   "outputs": [
    {
     "data": {
      "text/plain": [
       "set()"
      ]
     },
     "execution_count": 22,
     "metadata": {},
     "output_type": "execute_result"
    }
   ],
   "source": [
    "gAmenity_oldEdition = set(list(golf_amenity_restrictions_old)) - set(list(golf_amenity_restrictions_new))\n",
    "gAmenity_oldEdition"
   ]
  },
  {
   "cell_type": "markdown",
   "metadata": {},
   "source": [
    "<b>Dining benefit</b>"
   ]
  },
  {
   "cell_type": "code",
   "execution_count": 23,
   "metadata": {},
   "outputs": [],
   "source": [
    "dine_benefit_old = df_old[['Dining Benefit']].dropna()\n",
    "dine_benefit_old = dine_benefit_old[~dine_benefit_old['Dining Benefit'].isin(junkValues)].drop_duplicates()\n",
    "dine_benefit_old = dine_benefit_old['Dining Benefit']\n",
    "\n",
    "dine_benefit_new = df_new[['Dining Benefit']].dropna()\n",
    "dine_benefit_new = dine_benefit_new[~dine_benefit_new['Dining Benefit'].isin(junkValues)].drop_duplicates()\n",
    "dine_benefit_new = dine_benefit_new['Dining Benefit']\n",
    "##trimming spaces \n",
    "dine_benefit_old = [x.strip().upper() for x in dine_benefit_old]\n",
    "#replacing double spaces with single space\n",
    "dine_benefit_old = [' '.join(x.split()) for x in dine_benefit_old]"
   ]
  },
  {
   "cell_type": "code",
   "execution_count": 24,
   "metadata": {},
   "outputs": [],
   "source": [
    "dine_benefit_new = [x.strip().upper() for x in dine_benefit_new]\n",
    "dine_benefit_new = [' '.join(x.split()) for x in dine_benefit_new]"
   ]
  },
  {
   "cell_type": "markdown",
   "metadata": {},
   "source": [
    "<b> 5. Dining benefit introduced in the new edition</b>"
   ]
  },
  {
   "cell_type": "code",
   "execution_count": 25,
   "metadata": {},
   "outputs": [
    {
     "data": {
      "text/plain": [
       "set()"
      ]
     },
     "execution_count": 25,
     "metadata": {},
     "output_type": "execute_result"
    }
   ],
   "source": [
    "dine_new_edition = set(list(dine_benefit_new)) - set(list(dine_benefit_old))\n",
    "dine_new_edition"
   ]
  },
  {
   "cell_type": "markdown",
   "metadata": {},
   "source": [
    "<b>6. Dining benefit dropped in the new edition </b>"
   ]
  },
  {
   "cell_type": "code",
   "execution_count": 26,
   "metadata": {},
   "outputs": [
    {
     "data": {
      "text/plain": [
       "set()"
      ]
     },
     "execution_count": 26,
     "metadata": {},
     "output_type": "execute_result"
    }
   ],
   "source": [
    "dine_dropped = set(list(dine_benefit_old)) - set(list(dine_benefit_new))\n",
    "dine_dropped"
   ]
  },
  {
   "cell_type": "markdown",
   "metadata": {},
   "source": [
    "<b>Golf availability</b>"
   ]
  },
  {
   "cell_type": "code",
   "execution_count": 27,
   "metadata": {},
   "outputs": [],
   "source": [
    "golf_availabilityOld = df_old.Availability.dropna().unique()\n",
    "golf_availabilityOld = [x.strip().upper() for x in golf_availabilityOld]\n",
    "golf_availabilityOld = [' '.join(x.split()) for x in golf_availabilityOld]\n",
    "golf_availabilityNew = df_new.Availability.dropna().unique()\n",
    "golf_availabilityNew = [x.strip().upper() for x in golf_availabilityNew]\n",
    "golf_availabilityNew = [' '.join(x.split()) for x in golf_availabilityNew]\n",
    "#sorted(golf_availabilityOld)"
   ]
  },
  {
   "cell_type": "code",
   "execution_count": 28,
   "metadata": {},
   "outputs": [],
   "source": [
    "#sorted(golf_availabilityNew)"
   ]
  },
  {
   "cell_type": "markdown",
   "metadata": {},
   "source": [
    "<b>7. Golf availability introduced in the new edition</b>"
   ]
  },
  {
   "cell_type": "code",
   "execution_count": 29,
   "metadata": {},
   "outputs": [
    {
     "data": {
      "text/plain": [
       "set()"
      ]
     },
     "execution_count": 29,
     "metadata": {},
     "output_type": "execute_result"
    }
   ],
   "source": [
    "golf_availability_new = set(list(golf_availabilityNew)) - set(list(golf_availabilityOld))\n",
    "golf_availability_new"
   ]
  },
  {
   "cell_type": "markdown",
   "metadata": {},
   "source": [
    "<b> 8. Golf  availability dropped in the new edition</b>"
   ]
  },
  {
   "cell_type": "code",
   "execution_count": 30,
   "metadata": {},
   "outputs": [
    {
     "data": {
      "text/plain": [
       "{'MON - FRI'}"
      ]
     },
     "execution_count": 30,
     "metadata": {},
     "output_type": "execute_result"
    }
   ],
   "source": [
    "golf_availability_dropped = set(list(golf_availabilityOld)) - set(list(golf_availabilityNew))\n",
    "golf_availability_dropped"
   ]
  },
  {
   "cell_type": "markdown",
   "metadata": {},
   "source": [
    "<b>Dining availability</b>"
   ]
  },
  {
   "cell_type": "code",
   "execution_count": 31,
   "metadata": {},
   "outputs": [],
   "source": [
    "dine_a_new = df_new['Dining Availability'].dropna().unique()\n",
    "dine_a_new = [x.strip().upper() for x in dine_a_new]\n",
    "dine_a_new = [' '.join(x.split()) for x in dine_a_new]\n",
    "dine_a_old = df_old['Dining Availability'].dropna().unique()\n",
    "dine_a_old = [x.strip().upper() for x in dine_a_old]\n",
    "dine_a_old = [' '.join(x.split()) for x in dine_a_old]\n",
    "#sorted(dine_a_old)"
   ]
  },
  {
   "cell_type": "code",
   "execution_count": 32,
   "metadata": {},
   "outputs": [],
   "source": [
    "#sorted(dine_a_new)"
   ]
  },
  {
   "cell_type": "markdown",
   "metadata": {},
   "source": [
    "<b>9. Dining availability introduced in the new edition</b>"
   ]
  },
  {
   "cell_type": "code",
   "execution_count": 33,
   "metadata": {},
   "outputs": [
    {
     "data": {
      "text/plain": [
       "set()"
      ]
     },
     "execution_count": 33,
     "metadata": {},
     "output_type": "execute_result"
    }
   ],
   "source": [
    "dine_availability_new = set(list(dine_a_new)) - set(list(dine_a_old))\n",
    "dine_availability_new"
   ]
  },
  {
   "cell_type": "markdown",
   "metadata": {},
   "source": [
    "<b>10. Dining availability dropped in the new edition</b>"
   ]
  },
  {
   "cell_type": "code",
   "execution_count": 34,
   "metadata": {},
   "outputs": [
    {
     "data": {
      "text/plain": [
       "set()"
      ]
     },
     "execution_count": 34,
     "metadata": {},
     "output_type": "execute_result"
    }
   ],
   "source": [
    "dine_availability_dropped = set(list(dine_a_old)) - set(list(dine_a_new))\n",
    "dine_availability_dropped"
   ]
  },
  {
   "cell_type": "markdown",
   "metadata": {},
   "source": [
    "<b>Golf advance</b>"
   ]
  },
  {
   "cell_type": "code",
   "execution_count": 35,
   "metadata": {},
   "outputs": [],
   "source": [
    "golf_advanceNew = df_new.Advance.dropna().unique().tolist()\n",
    "golf_advanceNew = [x.strip().upper() for x in golf_advanceNew]\n",
    "golf_advanceNew = [' '.join(x.split()) for x in golf_advanceNew]\n",
    "golf_advanceOld = df_old.Advance.dropna().unique().tolist()\n",
    "golf_advanceOld = [x.strip().upper() for x in golf_advanceOld]\n",
    "golf_advanceOld = [' '.join(x.split()) for x in golf_advanceOld]\n",
    "#golf_advanceOld"
   ]
  },
  {
   "cell_type": "code",
   "execution_count": 36,
   "metadata": {},
   "outputs": [],
   "source": [
    "#golf_advance28"
   ]
  },
  {
   "cell_type": "markdown",
   "metadata": {},
   "source": [
    "<b>11. Golf advance introduced in the new edition</b>"
   ]
  },
  {
   "cell_type": "code",
   "execution_count": 37,
   "metadata": {},
   "outputs": [
    {
     "data": {
      "text/plain": [
       "set()"
      ]
     },
     "execution_count": 37,
     "metadata": {},
     "output_type": "execute_result"
    }
   ],
   "source": [
    "golf_advance_new = set(golf_advanceNew) - set(golf_advanceOld)\n",
    "golf_advance_new"
   ]
  },
  {
   "cell_type": "markdown",
   "metadata": {},
   "source": [
    "<b> 12. Golf  advance dropped in the new edition </b>\n"
   ]
  },
  {
   "cell_type": "code",
   "execution_count": 38,
   "metadata": {},
   "outputs": [
    {
     "data": {
      "text/plain": [
       "set()"
      ]
     },
     "execution_count": 38,
     "metadata": {},
     "output_type": "execute_result"
    }
   ],
   "source": [
    "golf_advance_dropped = set(golf_advanceOld) - set(golf_advanceNew)\n",
    "golf_advance_dropped"
   ]
  },
  {
   "cell_type": "markdown",
   "metadata": {},
   "source": [
    "<b>Dining restriction</b>"
   ]
  },
  {
   "cell_type": "code",
   "execution_count": 39,
   "metadata": {},
   "outputs": [],
   "source": [
    "dining_restriction_new = df_new[['Dining Restrictions']].dropna()\n",
    "dining_restriction_new = dining_restriction_new[~dining_restriction_new['Dining Restrictions'].isin(junkValues)].drop_duplicates()\n",
    "dining_restriction_new = dining_restriction_new['Dining Restrictions']\n",
    "dining_restriction_old = df_old[['Dining Restrictions']].dropna()\n",
    "dining_restriction_old = dining_restriction_old[~dining_restriction_old['Dining Restrictions'].isin(junkValues)].drop_duplicates()\n",
    "dining_restriction_old = dining_restriction_old['Dining Restrictions']\n",
    "dining_restriction_old = [x.strip().upper() for x in dining_restriction_old]\n",
    "dining_restriction_old = [' '.join(x.split()) for x in dining_restriction_old]"
   ]
  },
  {
   "cell_type": "code",
   "execution_count": 40,
   "metadata": {},
   "outputs": [],
   "source": [
    "dining_restriction_new = [x.strip().upper() for x in dining_restriction_new]\n",
    "dining_restriction_new = [' '.join(x.split()) for x in dining_restriction_new]"
   ]
  },
  {
   "cell_type": "markdown",
   "metadata": {},
   "source": [
    "<b>13. Dining restriction introduced in the new edition</b>"
   ]
  },
  {
   "cell_type": "code",
   "execution_count": 41,
   "metadata": {},
   "outputs": [
    {
     "data": {
      "text/plain": [
       "set()"
      ]
     },
     "execution_count": 41,
     "metadata": {},
     "output_type": "execute_result"
    }
   ],
   "source": [
    "dining_restriction_n = set(list(dining_restriction_new)) - set(list(dining_restriction_old))\n",
    "dining_restriction_n"
   ]
  },
  {
   "cell_type": "markdown",
   "metadata": {},
   "source": [
    "<b> 14. Dining restriction dropped in the new edition</b>"
   ]
  },
  {
   "cell_type": "code",
   "execution_count": 42,
   "metadata": {},
   "outputs": [
    {
     "data": {
      "text/plain": [
       "set()"
      ]
     },
     "execution_count": 42,
     "metadata": {},
     "output_type": "execute_result"
    }
   ],
   "source": [
    "dining_restriction_dropped = set(list(dining_restriction_old)) - set(list(dining_restriction_new))\n",
    "dining_restriction_dropped"
   ]
  },
  {
   "cell_type": "code",
   "execution_count": 43,
   "metadata": {},
   "outputs": [
    {
     "name": "stderr",
     "output_type": "stream",
     "text": [
      "<ipython-input-43-652369aae3a8>:9: DeprecationWarning: The default dtype for empty Series will be 'object' instead of 'float64' in a future version. Specify a dtype explicitly to silence this warning.\n",
      "  df = pd.DataFrame(dict([ (k,pd.Series(v)) for k,v in d.items() ]))\n"
     ]
    }
   ],
   "source": [
    "d = {'Community Added' : list(c_newEdition), 'Community Dropped' : list(c_dropped),\n",
    "     'Club Added' : list(club_newEdition), 'Club Dropped' : list(club_oldEdition),\n",
    "     'Benefit Tier Added' :  list(diff_newEdition), 'Benefit Tier Dropped' :  list(diff_dropped),\n",
    "     'Golf benefit Added':  list(gbenefit_newEdition),'Golf benefit Dropped':  list(golf_benefit_dropped),\n",
    "     'Golf availability Added':  list(golf_availability_new),'Golf availability Dropped':  list(golf_availability_dropped),\n",
    "     'Golf advance Added':  list(golf_advance_new),'Golf advance Dropped':  list(golf_advance_dropped),           \n",
    "     'Dining benefit Added' :  list(dine_new_edition),'Dining benefit Dropped' :  list(dine_dropped),\n",
    "     'Dining availability Added' :  list(dine_availability_new), 'Dining availability Dropped' :  list(dine_availability_dropped)}\n",
    "df = pd.DataFrame(dict([ (k,pd.Series(v)) for k,v in d.items() ]))"
   ]
  },
  {
   "cell_type": "code",
   "execution_count": 44,
   "metadata": {},
   "outputs": [],
   "source": [
    "df.to_csv(\"outputs/Owned Club Community Benefits New Introduced values 20200831.csv\",index=False)"
   ]
  },
  {
   "cell_type": "code",
   "execution_count": 45,
   "metadata": {},
   "outputs": [
    {
     "name": "stdout",
     "output_type": "stream",
     "text": [
      "ONE GOLF - CLASSIC - ATLANTA\n",
      "ONE NON GOLF - CLASSIC - ATLANTA\n"
     ]
    }
   ],
   "source": [
    "df_report = pd.DataFrame({'Benefit Tier' : []})\n",
    "for bt in diff_newEdition :\n",
    "    if bt not in benefit_tiers :\n",
    "        print(bt)\n",
    "        df_report = df_report.append({'Benefit Tier':bt}, ignore_index=True)\n",
    "        \n",
    "\n",
    "if df_report.empty == False:\n",
    "    df_report.to_csv(\"outputs/Report New Benefit Tiers 20200831.csv\",index=False)"
   ]
  },
  {
   "cell_type": "markdown",
   "metadata": {},
   "source": [
    "<h1> Analysis of possible new Benefit entities added/dropped </h1>"
   ]
  },
  {
   "cell_type": "code",
   "execution_count": 46,
   "metadata": {},
   "outputs": [
    {
     "name": "stderr",
     "output_type": "stream",
     "text": [
      "<ipython-input-46-c7d4d0094ef3>:2: UserWarning: Boolean Series key will be reindexed to match DataFrame index.\n",
      "  df_subset_new = df_new[(~df_old['Golf Benefit'].isin(['No access','Home Club','NO ACCESS','NAN']))]\n"
     ]
    },
    {
     "ename": "IndexingError",
     "evalue": "Unalignable boolean Series provided as indexer (index of the boolean Series and of the indexed object do not match).",
     "output_type": "error",
     "traceback": [
      "\u001b[1;31m---------------------------------------------------------------------------\u001b[0m",
      "\u001b[1;31mIndexingError\u001b[0m                             Traceback (most recent call last)",
      "\u001b[1;32m<ipython-input-46-c7d4d0094ef3>\u001b[0m in \u001b[0;36m<module>\u001b[1;34m\u001b[0m\n\u001b[0;32m      1\u001b[0m \u001b[0mdf_subset_old\u001b[0m \u001b[1;33m=\u001b[0m \u001b[0mdf_old\u001b[0m\u001b[1;33m[\u001b[0m\u001b[1;33m(\u001b[0m\u001b[1;33m~\u001b[0m\u001b[0mdf_old\u001b[0m\u001b[1;33m[\u001b[0m\u001b[1;34m'Golf Benefit'\u001b[0m\u001b[1;33m]\u001b[0m\u001b[1;33m.\u001b[0m\u001b[0misin\u001b[0m\u001b[1;33m(\u001b[0m\u001b[1;33m[\u001b[0m\u001b[1;34m'No access'\u001b[0m\u001b[1;33m,\u001b[0m\u001b[1;34m'Home Club'\u001b[0m\u001b[1;33m,\u001b[0m\u001b[1;34m'NO ACCESS'\u001b[0m\u001b[1;33m,\u001b[0m\u001b[1;34m'NAN'\u001b[0m\u001b[1;33m]\u001b[0m\u001b[1;33m)\u001b[0m\u001b[1;33m)\u001b[0m\u001b[1;33m]\u001b[0m\u001b[1;33m\u001b[0m\u001b[1;33m\u001b[0m\u001b[0m\n\u001b[1;32m----> 2\u001b[1;33m \u001b[0mdf_subset_new\u001b[0m \u001b[1;33m=\u001b[0m \u001b[0mdf_new\u001b[0m\u001b[1;33m[\u001b[0m\u001b[1;33m(\u001b[0m\u001b[1;33m~\u001b[0m\u001b[0mdf_old\u001b[0m\u001b[1;33m[\u001b[0m\u001b[1;34m'Golf Benefit'\u001b[0m\u001b[1;33m]\u001b[0m\u001b[1;33m.\u001b[0m\u001b[0misin\u001b[0m\u001b[1;33m(\u001b[0m\u001b[1;33m[\u001b[0m\u001b[1;34m'No access'\u001b[0m\u001b[1;33m,\u001b[0m\u001b[1;34m'Home Club'\u001b[0m\u001b[1;33m,\u001b[0m\u001b[1;34m'NO ACCESS'\u001b[0m\u001b[1;33m,\u001b[0m\u001b[1;34m'NAN'\u001b[0m\u001b[1;33m]\u001b[0m\u001b[1;33m)\u001b[0m\u001b[1;33m)\u001b[0m\u001b[1;33m]\u001b[0m\u001b[1;33m\u001b[0m\u001b[1;33m\u001b[0m\u001b[0m\n\u001b[0m",
      "\u001b[1;32m~\\anaconda3\\lib\\site-packages\\pandas\\core\\frame.py\u001b[0m in \u001b[0;36m__getitem__\u001b[1;34m(self, key)\u001b[0m\n\u001b[0;32m   2789\u001b[0m         \u001b[1;31m# Do we have a (boolean) 1d indexer?\u001b[0m\u001b[1;33m\u001b[0m\u001b[1;33m\u001b[0m\u001b[1;33m\u001b[0m\u001b[0m\n\u001b[0;32m   2790\u001b[0m         \u001b[1;32mif\u001b[0m \u001b[0mcom\u001b[0m\u001b[1;33m.\u001b[0m\u001b[0mis_bool_indexer\u001b[0m\u001b[1;33m(\u001b[0m\u001b[0mkey\u001b[0m\u001b[1;33m)\u001b[0m\u001b[1;33m:\u001b[0m\u001b[1;33m\u001b[0m\u001b[1;33m\u001b[0m\u001b[0m\n\u001b[1;32m-> 2791\u001b[1;33m             \u001b[1;32mreturn\u001b[0m \u001b[0mself\u001b[0m\u001b[1;33m.\u001b[0m\u001b[0m_getitem_bool_array\u001b[0m\u001b[1;33m(\u001b[0m\u001b[0mkey\u001b[0m\u001b[1;33m)\u001b[0m\u001b[1;33m\u001b[0m\u001b[1;33m\u001b[0m\u001b[0m\n\u001b[0m\u001b[0;32m   2792\u001b[0m \u001b[1;33m\u001b[0m\u001b[0m\n\u001b[0;32m   2793\u001b[0m         \u001b[1;31m# We are left with two options: a single key, and a collection of keys,\u001b[0m\u001b[1;33m\u001b[0m\u001b[1;33m\u001b[0m\u001b[1;33m\u001b[0m\u001b[0m\n",
      "\u001b[1;32m~\\anaconda3\\lib\\site-packages\\pandas\\core\\frame.py\u001b[0m in \u001b[0;36m_getitem_bool_array\u001b[1;34m(self, key)\u001b[0m\n\u001b[0;32m   2841\u001b[0m         \u001b[1;31m# check_bool_indexer will throw exception if Series key cannot\u001b[0m\u001b[1;33m\u001b[0m\u001b[1;33m\u001b[0m\u001b[1;33m\u001b[0m\u001b[0m\n\u001b[0;32m   2842\u001b[0m         \u001b[1;31m# be reindexed to match DataFrame rows\u001b[0m\u001b[1;33m\u001b[0m\u001b[1;33m\u001b[0m\u001b[1;33m\u001b[0m\u001b[0m\n\u001b[1;32m-> 2843\u001b[1;33m         \u001b[0mkey\u001b[0m \u001b[1;33m=\u001b[0m \u001b[0mcheck_bool_indexer\u001b[0m\u001b[1;33m(\u001b[0m\u001b[0mself\u001b[0m\u001b[1;33m.\u001b[0m\u001b[0mindex\u001b[0m\u001b[1;33m,\u001b[0m \u001b[0mkey\u001b[0m\u001b[1;33m)\u001b[0m\u001b[1;33m\u001b[0m\u001b[1;33m\u001b[0m\u001b[0m\n\u001b[0m\u001b[0;32m   2844\u001b[0m         \u001b[0mindexer\u001b[0m \u001b[1;33m=\u001b[0m \u001b[0mkey\u001b[0m\u001b[1;33m.\u001b[0m\u001b[0mnonzero\u001b[0m\u001b[1;33m(\u001b[0m\u001b[1;33m)\u001b[0m\u001b[1;33m[\u001b[0m\u001b[1;36m0\u001b[0m\u001b[1;33m]\u001b[0m\u001b[1;33m\u001b[0m\u001b[1;33m\u001b[0m\u001b[0m\n\u001b[0;32m   2845\u001b[0m         \u001b[1;32mreturn\u001b[0m \u001b[0mself\u001b[0m\u001b[1;33m.\u001b[0m\u001b[0m_take_with_is_copy\u001b[0m\u001b[1;33m(\u001b[0m\u001b[0mindexer\u001b[0m\u001b[1;33m,\u001b[0m \u001b[0maxis\u001b[0m\u001b[1;33m=\u001b[0m\u001b[1;36m0\u001b[0m\u001b[1;33m)\u001b[0m\u001b[1;33m\u001b[0m\u001b[1;33m\u001b[0m\u001b[0m\n",
      "\u001b[1;32m~\\anaconda3\\lib\\site-packages\\pandas\\core\\indexing.py\u001b[0m in \u001b[0;36mcheck_bool_indexer\u001b[1;34m(index, key)\u001b[0m\n\u001b[0;32m   2315\u001b[0m         \u001b[0mmask\u001b[0m \u001b[1;33m=\u001b[0m \u001b[0misna\u001b[0m\u001b[1;33m(\u001b[0m\u001b[0mresult\u001b[0m\u001b[1;33m.\u001b[0m\u001b[0m_values\u001b[0m\u001b[1;33m)\u001b[0m\u001b[1;33m\u001b[0m\u001b[1;33m\u001b[0m\u001b[0m\n\u001b[0;32m   2316\u001b[0m         \u001b[1;32mif\u001b[0m \u001b[0mmask\u001b[0m\u001b[1;33m.\u001b[0m\u001b[0many\u001b[0m\u001b[1;33m(\u001b[0m\u001b[1;33m)\u001b[0m\u001b[1;33m:\u001b[0m\u001b[1;33m\u001b[0m\u001b[1;33m\u001b[0m\u001b[0m\n\u001b[1;32m-> 2317\u001b[1;33m             raise IndexingError(\n\u001b[0m\u001b[0;32m   2318\u001b[0m                 \u001b[1;34m\"Unalignable boolean Series provided as \"\u001b[0m\u001b[1;33m\u001b[0m\u001b[1;33m\u001b[0m\u001b[0m\n\u001b[0;32m   2319\u001b[0m                 \u001b[1;34m\"indexer (index of the boolean Series and of \"\u001b[0m\u001b[1;33m\u001b[0m\u001b[1;33m\u001b[0m\u001b[0m\n",
      "\u001b[1;31mIndexingError\u001b[0m: Unalignable boolean Series provided as indexer (index of the boolean Series and of the indexed object do not match)."
     ]
    }
   ],
   "source": [
    "df_subset_old = df_old[(~df_old['Golf Benefit'].isin(['No access','Home Club','NO ACCESS','NAN']))]\n",
    "df_subset_new = df_new[(~df_old['Golf Benefit'].isin(['No access','Home Club','NO ACCESS','NAN']))]"
   ]
  },
  {
   "cell_type": "code",
   "execution_count": 47,
   "metadata": {},
   "outputs": [
    {
     "name": "stdout",
     "output_type": "stream",
     "text": [
      "Benefit Package Added : 2\n",
      "Benefit Package Deprected : 0\n"
     ]
    },
    {
     "data": {
      "text/plain": [
       "{Pandas(Community='ATLANTA', _1='ONE GOLF - CLASSIC - ATLANTA'),\n",
       " Pandas(Community='ATLANTA', _1='ONE NON GOLF - CLASSIC - ATLANTA')}"
      ]
     },
     "execution_count": 47,
     "metadata": {},
     "output_type": "execute_result"
    }
   ],
   "source": [
    "benefit_package_df_old = df_old[['Community','Benefit Tier']].drop_duplicates()\n",
    "#benefit_package_df_old = df_old[['Village','Benefit Tier']].drop_duplicates()\n",
    "bp_old = list(benefit_package_df_old.itertuples(index=False))\n",
    "\n",
    "benefit_package_df_new = df_new[['Community','Benefit Tier']].drop_duplicates()\n",
    "#benefit_package_df_new = df_new[['Village','Benefit Tier']].drop_duplicates()\n",
    "bp_new = list(benefit_package_df_new.itertuples(index=False))\n",
    "\n",
    "added_BP = set(bp_new) -  set(bp_old)\n",
    "\n",
    "print(\"Benefit Package Added : \" + str(len(added_BP)))\n",
    "dropped_BP = set(bp_old) -  set(bp_new)\n",
    "print(\"Benefit Package Deprected : \" + str(len(dropped_BP)))\n",
    "\n",
    "\n",
    "added_BP"
   ]
  },
  {
   "cell_type": "code",
   "execution_count": 48,
   "metadata": {},
   "outputs": [
    {
     "name": "stdout",
     "output_type": "stream",
     "text": [
      "Golf Benefit Added : 3\n",
      "Golf Benefit Deprected : 0\n"
     ]
    },
    {
     "data": {
      "text/plain": [
       "{Pandas(Community='ATLANTA', _1='ONE GOLF - CLASSIC - ATLANTA', _2='4 PLAY ROUNDS PER MONTH, MAX 2 PER CLUB', Advance='7 DAY'),\n",
       " Pandas(Community='ATLANTA', _1='ONE GOLF - NONPREMIER - NEWNAN', _2='4 PLAY ROUNDS PER MONTH, MAX 2 PER CLUB', Advance='7 DAY'),\n",
       " Pandas(Community='ATLANTA', _1='ONE GOLF - NONPREMIER - PTC', _2='4 PLAY ROUNDS PER MONTH, MAX 2 PER CLUB', Advance='7 DAY')}"
      ]
     },
     "execution_count": 48,
     "metadata": {},
     "output_type": "execute_result"
    }
   ],
   "source": [
    "benefit_golf_df_old = df_old[['Community','Benefit Tier','Golf Benefit','Advance']].drop_duplicates()\n",
    "#benefit_golf_df_old = df_old[['Village','Benefit Tier','Golf Benefit','Advance']].drop_duplicates()\n",
    "benefit_golf_df_old = benefit_golf_df_old[(~benefit_golf_df_old['Golf Benefit'].isin(['No access','Home Club','NO ACCESS','NAN','N/A','nan']))].dropna()\n",
    "golf_benefit_old = list(benefit_golf_df_old.itertuples(index=False))\n",
    "\n",
    "benefit_golf_df_new = df_new[['Community','Benefit Tier','Golf Benefit','Advance']].drop_duplicates()\n",
    "#benefit_golf_df_new = df_new[['Village','Benefit Tier','Golf Benefit','Advance']].drop_duplicates()\n",
    "benefit_golf_df_new = benefit_golf_df_new[(~benefit_golf_df_new['Golf Benefit'].isin(['No access','Home Club','NO ACCESS','NAN','N/A','nan']))].dropna()\n",
    "golf_benefit_new = list(benefit_golf_df_new.itertuples(index=False))\n",
    "\n",
    "added_Ben_Golf = set(golf_benefit_new) -  set(golf_benefit_old)\n",
    "\n",
    "\n",
    "\n",
    "print(\"Golf Benefit Added : \" + str(len(added_Ben_Golf)))\n",
    "\n",
    "dropped_Ben_Golf = set(golf_benefit_old) -  set(golf_benefit_new)\n",
    "print(\"Golf Benefit Deprected : \" + str(len(dropped_Ben_Golf)))\n",
    "\n",
    "\n",
    "added_Ben_Golf"
   ]
  },
  {
   "cell_type": "code",
   "execution_count": 49,
   "metadata": {},
   "outputs": [
    {
     "name": "stdout",
     "output_type": "stream",
     "text": [
      "Dining Benefit Added : 14\n",
      "Dining Benefit Deprected : 0\n"
     ]
    },
    {
     "data": {
      "text/plain": [
       "{Pandas(Community='ATLANTA', _1='ONEGOLF-CLASSIC-ATLANTA', _2='50%OFFEVENINGDINING'),\n",
       " Pandas(Community='ATLANTA', _1='ONEGOLF-CLASSIC-ATLANTA', _2='LUNCHACCESS'),\n",
       " Pandas(Community='ATLANTA', _1='ONEGOLF-CLASSIC-ATLANTA', _2='PAYTODINE'),\n",
       " Pandas(Community='ATLANTA', _1='ONEGOLF-NONPREMIER-NEWNAN', _2='50%OFFEVENINGDINING'),\n",
       " Pandas(Community='ATLANTA', _1='ONEGOLF-NONPREMIER-NEWNAN', _2='LUNCHACCESS'),\n",
       " Pandas(Community='ATLANTA', _1='ONEGOLF-NONPREMIER-PTC', _2='50%OFFEVENINGDINING'),\n",
       " Pandas(Community='ATLANTA', _1='ONEGOLF-NONPREMIER-PTC', _2='LUNCHACCESS'),\n",
       " Pandas(Community='ATLANTA', _1='ONEGOLF-PREMIER-ATL.NATIONAL', _2='50%OFFEVENINGDINING'),\n",
       " Pandas(Community='ATLANTA', _1='ONEGOLF-PREMIER-ATL.NATIONAL', _2='LUNCHACCESS'),\n",
       " Pandas(Community='ATLANTA', _1='ONEGOLF-PREMIER-POLOCHAMPIONS', _2='50%OFFEVENINGDINING'),\n",
       " Pandas(Community='ATLANTA', _1='ONEGOLF-PREMIER-POLOCHAMPIONS', _2='LUNCHACCESS'),\n",
       " Pandas(Community='ATLANTA', _1='ONENONGOLF-CLASSIC-ATLANTA', _2='50%OFFEVENINGDINING'),\n",
       " Pandas(Community='ATLANTA', _1='ONENONGOLF-CLASSIC-ATLANTA', _2='LUNCHACCESS'),\n",
       " Pandas(Community='ATLANTA', _1='ONENONGOLF-CLASSIC-ATLANTA', _2='PAYTODINE')}"
      ]
     },
     "execution_count": 49,
     "metadata": {},
     "output_type": "execute_result"
    }
   ],
   "source": [
    "benefit_dining_df_old = df_old[['Community','Benefit Tier','Dining Benefit']].drop_duplicates()\n",
    "#benefit_dining_df_old = df_old[['Village','Benefit Tier','Dining Benefit']].drop_duplicates()\n",
    "benefit_dining_df_old = benefit_dining_df_old[(~benefit_dining_df_old['Dining Benefit'].isin(['No access','Home Club','NO ACCESS','NAN','N/A']))].replace('\\s+', '', regex=True).dropna()\n",
    "dining_benefit_old = list(benefit_dining_df_old.itertuples(index=False))\n",
    "\n",
    "benefit_dining_df_new = df_new[['Community','Benefit Tier','Dining Benefit']].drop_duplicates()\n",
    "#benefit_dining_df_new = df_new[['Village','Benefit Tier','Dining Benefit']].drop_duplicates()\n",
    "benefit_dining_df_new = benefit_dining_df_new[(~benefit_dining_df_new['Dining Benefit'].isin(['No access','Home Club','NO ACCESS','NAN','N/A']))].replace('\\s+', '', regex=True).dropna()\n",
    "dining_benefit_new = list(benefit_dining_df_new.itertuples(index=False))\n",
    "\n",
    "added_Ben_Dining = set(dining_benefit_new) -  set(dining_benefit_old)\n",
    "#print(added_Ben_Golf)\n",
    "print(\"Dining Benefit Added : \" + str(len(added_Ben_Dining)))\n",
    "\n",
    "dropped_Ben_Dining = set(dining_benefit_old) -  set(dining_benefit_new)\n",
    "print(\"Dining Benefit Deprected : \" + str(len(dropped_Ben_Dining)))\n",
    "\n",
    "added_Ben_Dining   "
   ]
  },
  {
   "cell_type": "code",
   "execution_count": 50,
   "metadata": {},
   "outputs": [
    {
     "name": "stdout",
     "output_type": "stream",
     "text": [
      "Golf Access Rule Created : 21\n",
      "Golf Access Rule Deprected : 26\n"
     ]
    },
    {
     "data": {
      "text/plain": [
       "{Pandas(Community='ATLANTA', _1='ONE GOLF - CLASSIC - ATLANTA', _2='4 PLAY ROUNDS PER MONTH, MAX 2 PER CLUB', Advance='7 DAY', Availability='SUN NOON - FRI NOON'),\n",
       " Pandas(Community='ATLANTA', _1='ONE GOLF - NONPREMIER - NEWNAN', _2='4 PLAY ROUNDS PER MONTH, MAX 2 PER CLUB', Advance='7 DAY', Availability='SUN NOON - FRI NOON'),\n",
       " Pandas(Community='ATLANTA', _1='ONE GOLF - NONPREMIER - NEWNAN', _2='CFO - UNLIMITED', Advance='7 DAY', Availability='SUN NOON - FRI NOON'),\n",
       " Pandas(Community='ATLANTA', _1='ONE GOLF - NONPREMIER - PTC', _2='4 PLAY ROUNDS PER MONTH, MAX 2 PER CLUB', Advance='7 DAY', Availability='SUN NOON - FRI NOON'),\n",
       " Pandas(Community='ATLANTA', _1='ONE GOLF - NONPREMIER - PTC', _2='CFO - UNLIMITED', Advance='7 DAY', Availability='SUN NOON - FRI NOON'),\n",
       " Pandas(Community='DFW', _1='TOWER/LA CIMA SOCIETY', _2='2 CFO TOTAL', Advance='2 DAY', Availability='SUN NOON - FRI NOON'),\n",
       " Pandas(Community='JACKSONVILLE', _1='ALL COMMUNITY PROGRAMMING', _2='2 CFO PER CLUB', Advance='3 DAY', Availability='SUN NOON - FRI NOON'),\n",
       " Pandas(Community='LONESTAR', _1='ONE BAYLOR - SAN ANTONIO', _2='2 CFO ROUNDS PER CLUB (MY WORLD BENEFIT WOULD BE APPLICABLE)', Advance='30 DAY', Availability='SUN NOON - FRI NOON'),\n",
       " Pandas(Community='LONESTAR', _1='ONE BAYLOR - SAN ANTONIO', _2='2 CFO TOTAL', Advance='30 DAY', Availability='SUN NOON - FRI NOON'),\n",
       " Pandas(Community='LONESTAR', _1='ONE TX TECH - AUSTIN', _2='2 CFO ROUNDS PER CLUB (MY WORLD BENEFIT WOULD BE APPLICABLE)', Advance='30 DAY', Availability='SUN NOON - FRI NOON'),\n",
       " Pandas(Community='LONESTAR', _1='ONE TX TECH - SAN ANTONIO', _2='2 CFO ROUNDS PER CLUB (MY WORLD BENEFIT WOULD BE APPLICABLE)', Advance='30 DAY', Availability='SUN NOON - FRI NOON'),\n",
       " Pandas(Community='LONESTAR', _1='ONE TX TECH - SAN ANTONIO', _2='2 CFO TOTAL', Advance='5 DAY', Availability='SUN NOON - FRI NOON'),\n",
       " Pandas(Community='NEW YORK CITY', _1='ONE - HAMLET MEMBERS ONLY', _2='2 CFO PER CLUB', Advance='7 DAY', Availability='SUN NOON - FRI NOON'),\n",
       " Pandas(Community='ORLANDO', _1='ALL COMMUNITY PROGRAMMING', _2='2 CFO PER CLUB', Advance='7 DAY', Availability='SUN NOON - FRI NOON'),\n",
       " Pandas(Community='TAMPA BAY', _1='SOCIETY', _2='ONE 2-4-1 PER DINING OR GOLF', Advance='2 DAY', Availability='SUN NOON - FRI NOON'),\n",
       " Pandas(Community='TRIANGLE', _1='TRI COMMUNITY - BRIER/HASEN', _2='2 CFO PER CLUB', Advance='7 DAY', Availability='SUN NOON - FRI NOON'),\n",
       " Pandas(Community='TRIANGLE', _1='TRI COMMUNITY - DR GOLF', _2='2 CFO PER CLUB', Advance='7 DAY', Availability='SUN NOON - FRI NOON'),\n",
       " Pandas(Community='TRIANGLE', _1='TRI COMMUNITY - GOLF', _2='2 CFO PER CLUB', Advance='7 DAY', Availability='SUN NOON - FRI NOON'),\n",
       " Pandas(Community='TRIANGLE', _1='TRI COMMUNITY - NON GOLF', _2='2 CFO PER CLUB', Advance='7 DAY', Availability='SUN NOON - FRI NOON'),\n",
       " Pandas(Community='TRIANGLE', _1='TRI COMMUNITY - SIGNATURE BRIER/HASEN', _2='2 CFO PER CLUB', Advance='7 DAY', Availability='SUN NOON - FRI NOON'),\n",
       " Pandas(Community='WACO', _1='ALL COMMUNITY PROGRAMMING', _2='2 CFO PER CLUB', Advance='7 DAY', Availability='SUN NOON - FRI NOON')}"
      ]
     },
     "execution_count": 50,
     "metadata": {},
     "output_type": "execute_result"
    }
   ],
   "source": [
    "accessrule_golf_df_old = df_old[['Community','Benefit Tier','Golf Benefit','Advance','Availability']].drop_duplicates()\n",
    "#accessrule_golf_df_old = df_old[['Village','Benefit Tier','Golf Benefit','Advance','Availability']].drop_duplicates()\n",
    "\n",
    "accessrule_golf_df_old = accessrule_golf_df_old[(~accessrule_golf_df_old['Golf Benefit'].isin(['No access','Home Club','NO ACCESS','NAN','N/A']))].dropna()\n",
    "golf_ar_old = list(accessrule_golf_df_old.itertuples(index=False))\n",
    "\n",
    "accessrule_golf_df_new = df_new[['Community','Benefit Tier','Golf Benefit','Advance','Availability']].drop_duplicates()\n",
    "#accessrule_golf_df_new = df_new[['Village','Benefit Tier','Golf Benefit','Advance','Availability']].drop_duplicates()\n",
    "accessrule_golf_df_new = accessrule_golf_df_new[(~accessrule_golf_df_new['Golf Benefit'].isin(['No access','Home Club','NO ACCESS','NAN','N/A']))].dropna()\n",
    "golf_ar_new = list(accessrule_golf_df_new.itertuples(index=False))\n",
    "\n",
    "added_ar_Golf = set(golf_ar_new) -  set(golf_ar_old)\n",
    "#print(added_Ben_Golf)\n",
    "print(\"Golf Access Rule Created : \" + str(len(added_ar_Golf)))\n",
    "\n",
    "dropped_ar_Golf = set(golf_ar_old) -  set(golf_ar_new)\n",
    "print(\"Golf Access Rule Deprected : \" + str(len(dropped_ar_Golf)))\n",
    "\n",
    "added_ar_Golf"
   ]
  },
  {
   "cell_type": "code",
   "execution_count": 51,
   "metadata": {},
   "outputs": [
    {
     "name": "stdout",
     "output_type": "stream",
     "text": [
      "Dining Access Rule Created : 14\n",
      "Dining Access Rule Deprected : 0\n"
     ]
    },
    {
     "data": {
      "text/plain": [
       "{Pandas(Community='ATLANTA', _1='ONEGOLF-CLASSIC-ATLANTA', _2='50%OFFEVENINGDINING', _3='UNLIMITEDAFTER3PM'),\n",
       " Pandas(Community='ATLANTA', _1='ONEGOLF-CLASSIC-ATLANTA', _2='LUNCHACCESS', _3='SPACEAVAILABLE'),\n",
       " Pandas(Community='ATLANTA', _1='ONEGOLF-CLASSIC-ATLANTA', _2='PAYTODINE', _3='SPACEAVAILABLE'),\n",
       " Pandas(Community='ATLANTA', _1='ONEGOLF-NONPREMIER-NEWNAN', _2='50%OFFEVENINGDINING', _3='UNLIMITEDAFTER3PM'),\n",
       " Pandas(Community='ATLANTA', _1='ONEGOLF-NONPREMIER-NEWNAN', _2='LUNCHACCESS', _3='SPACEAVAILABLE'),\n",
       " Pandas(Community='ATLANTA', _1='ONEGOLF-NONPREMIER-PTC', _2='50%OFFEVENINGDINING', _3='UNLIMITEDAFTER3PM'),\n",
       " Pandas(Community='ATLANTA', _1='ONEGOLF-NONPREMIER-PTC', _2='LUNCHACCESS', _3='SPACEAVAILABLE'),\n",
       " Pandas(Community='ATLANTA', _1='ONEGOLF-PREMIER-ATL.NATIONAL', _2='50%OFFEVENINGDINING', _3='UNLIMITEDAFTER3PM'),\n",
       " Pandas(Community='ATLANTA', _1='ONEGOLF-PREMIER-ATL.NATIONAL', _2='LUNCHACCESS', _3='SPACEAVAILABLE'),\n",
       " Pandas(Community='ATLANTA', _1='ONEGOLF-PREMIER-POLOCHAMPIONS', _2='50%OFFEVENINGDINING', _3='UNLIMITEDAFTER3PM'),\n",
       " Pandas(Community='ATLANTA', _1='ONEGOLF-PREMIER-POLOCHAMPIONS', _2='LUNCHACCESS', _3='SPACEAVAILABLE'),\n",
       " Pandas(Community='ATLANTA', _1='ONENONGOLF-CLASSIC-ATLANTA', _2='50%OFFEVENINGDINING', _3='UNLIMITEDAFTER3PM'),\n",
       " Pandas(Community='ATLANTA', _1='ONENONGOLF-CLASSIC-ATLANTA', _2='LUNCHACCESS', _3='SPACEAVAILABLE'),\n",
       " Pandas(Community='ATLANTA', _1='ONENONGOLF-CLASSIC-ATLANTA', _2='PAYTODINE', _3='SPACEAVAILABLE')}"
      ]
     },
     "execution_count": 51,
     "metadata": {},
     "output_type": "execute_result"
    }
   ],
   "source": [
    "ar_dining_df_old = df_old[['Community','Benefit Tier','Dining Benefit','Dining Availability']].drop_duplicates()\n",
    "#ar_dining_df_old = df_old[['Village','Benefit Tier','Dining Benefit','Dining Availability']].drop_duplicates()\n",
    "ar_dining_df_old = ar_dining_df_old[(~ar_dining_df_old['Dining Benefit'].isin(['No access','Home Club','NO ACCESS','NAN','N/A']))].replace('\\s+', '', regex=True).dropna()\n",
    "dining_ar_old = list(ar_dining_df_old.itertuples(index=False))\n",
    "\n",
    "ar_dining_df_new = df_new[['Community','Benefit Tier','Dining Benefit','Dining Availability']].drop_duplicates()\n",
    "#ar_dining_df_new = df_new[['Village','Benefit Tier','Dining Benefit','Dining Availability']].drop_duplicates()\n",
    "ar_dining_df_new = ar_dining_df_new[(~ar_dining_df_new['Dining Benefit'].isin(['No access','Home Club','NO ACCESS','NAN','N/A']))].replace('\\s+', '', regex=True).dropna()\n",
    "dining_ar_new = list(ar_dining_df_new.itertuples(index=False))\n",
    "\n",
    "added_ar_Dining = set(dining_ar_new) -  set(dining_ar_old)\n",
    "#print(added_Ben_Golf)\n",
    "print(\"Dining Access Rule Created : \" + str(len(added_ar_Dining)))\n",
    "\n",
    "dropped_ar_Dining = set(dining_ar_old) -  set(dining_ar_new)\n",
    "print(\"Dining Access Rule Deprected : \" + str(len(dropped_ar_Dining)))\n",
    "\n",
    "added_ar_Dining"
   ]
  },
  {
   "cell_type": "code",
   "execution_count": 52,
   "metadata": {},
   "outputs": [],
   "source": [
    "count_data = [['Benefit Package Added', str(len(added_BP))],['Benefit Package Deprected', str(len(dropped_BP))], ['Golf Benefit Added', str(len(added_Ben_Golf))], ['Golf Benefit Deprecated', str(len(dropped_Ben_Golf))], ['Dining Benefit Added', str(len(added_Ben_Dining))], ['Dining Benefit Deprecated', str(len(dropped_Ben_Dining))], ['Golf Access Rule Added', str(len(added_ar_Golf))], ['Golf Access Rule Deprecated', str(len(dropped_ar_Golf))], ['Dining Access Rule Added', str(len(added_ar_Dining))], ['Dining Access Rule Deprecated', str(len(dropped_ar_Dining))]]\n",
    "count_data_df = pd.DataFrame(count_data, columns = ['Description', 'Count'])\n",
    "count_data_df.to_csv(\"outputs/ExpectedCountData.csv\",index=False)                                                                       "
   ]
  },
  {
   "cell_type": "code",
   "execution_count": null,
   "metadata": {},
   "outputs": [],
   "source": []
  },
  {
   "cell_type": "code",
   "execution_count": null,
   "metadata": {},
   "outputs": [],
   "source": []
  }
 ],
 "metadata": {
  "kernelspec": {
   "display_name": "Python 3",
   "language": "python",
   "name": "python3"
  },
  "language_info": {
   "codemirror_mode": {
    "name": "ipython",
    "version": 3
   },
   "file_extension": ".py",
   "mimetype": "text/x-python",
   "name": "python",
   "nbconvert_exporter": "python",
   "pygments_lexer": "ipython3",
   "version": "3.8.3"
  }
 },
 "nbformat": 4,
 "nbformat_minor": 2
}
