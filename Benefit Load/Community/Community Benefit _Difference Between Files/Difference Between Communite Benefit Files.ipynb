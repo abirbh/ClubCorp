{
 "cells": [
  {
   "cell_type": "code",
   "execution_count": 1,
   "metadata": {},
   "outputs": [],
   "source": [
    "import pandas as pd"
   ]
  },
  {
   "cell_type": "markdown",
   "metadata": {},
   "source": [
    "<b> Read Data File of Old File </b>"
   ]
  },
  {
   "cell_type": "code",
   "execution_count": 2,
   "metadata": {},
   "outputs": [],
   "source": [
    "#df_old = pd.read_csv(\"datasets/Owned Club Community Benefits Review 080919_old Preprocessed_removedGolfBenefitToClubAtlantaNatioanal.csv\",dtype=str)\n",
    "\n",
    "df_old = pd.read_excel(\"datasets/Copy of VillageBenefit.xlsx\", dtype=str, sheet_name=0, skiprows=0, na_filter=False)"
   ]
  },
  {
   "cell_type": "markdown",
   "metadata": {},
   "source": [
    "<b> Read Data File of New File</b>"
   ]
  },
  {
   "cell_type": "code",
   "execution_count": 3,
   "metadata": {},
   "outputs": [],
   "source": [
    "#df_new = pd.read_csv(\"datasets/Owned Club Community Benefits Review 20190809 Preprocessed_removedGolfBenefitToClubAtlantaNatioanal.csv\",dtype=str)\n",
    "\n",
    "df_new = pd.read_excel(\"datasets/VillageBenefit.xlsx\", dtype=str, sheet_name=0, skiprows=0, na_filter=False)"
   ]
  },
  {
   "cell_type": "markdown",
   "metadata": {},
   "source": [
    "<b>New Added Columns</b>"
   ]
  },
  {
   "cell_type": "code",
   "execution_count": 4,
   "metadata": {},
   "outputs": [
    {
     "data": {
      "text/plain": [
       "set()"
      ]
     },
     "execution_count": 4,
     "metadata": {},
     "output_type": "execute_result"
    }
   ],
   "source": [
    "new_column = set(list(df_new)) - set(list(df_old))\n",
    "new_column"
   ]
  },
  {
   "cell_type": "code",
   "execution_count": 5,
   "metadata": {},
   "outputs": [],
   "source": [
    "#list(df_new['Members coming from'].dropna())"
   ]
  },
  {
   "cell_type": "markdown",
   "metadata": {},
   "source": [
    "<b>Read Benefit Understanding File</b>"
   ]
  },
  {
   "cell_type": "code",
   "execution_count": 6,
   "metadata": {},
   "outputs": [],
   "source": [
    "df_Benefit = pd.read_excel(\"datasets/Benefit_Tier_Understanding_20190925 V31 With Houston, no LS.xlsx\",sheet_name=0, dtype=str, na_filter=False)\n",
    "benefit_tiers = df_Benefit['Benefit Tier'].unique()\n",
    "benefit_tiers = [x.strip().upper() for x in benefit_tiers]\n",
    "benefit_tiers = [' '.join(x.split()) for x in benefit_tiers]"
   ]
  },
  {
   "cell_type": "code",
   "execution_count": 7,
   "metadata": {},
   "outputs": [],
   "source": [
    "#c_old = df_old.Community.dropna().unique()\n",
    "c_old = df_old.Village.dropna().unique()\n",
    "c_old = [x.strip().upper() for x in c_old]\n",
    "c_old = [' '.join(x.split()) for x in c_old]\n",
    "#c_new = df_new.Community.dropna().unique()\n",
    "c_new = df_new.Village.dropna().unique()\n",
    "c_new = [x.strip().upper() for x in c_new]\n",
    "c_new = [' '.join(x.split()) for x in c_new]"
   ]
  },
  {
   "cell_type": "markdown",
   "metadata": {},
   "source": [
    "<b> Community introduced in the new edition</b>"
   ]
  },
  {
   "cell_type": "code",
   "execution_count": null,
   "metadata": {},
   "outputs": [],
   "source": []
  },
  {
   "cell_type": "code",
   "execution_count": 8,
   "metadata": {},
   "outputs": [
    {
     "data": {
      "text/plain": [
       "set()"
      ]
     },
     "execution_count": 8,
     "metadata": {},
     "output_type": "execute_result"
    }
   ],
   "source": [
    "c_newEdition = set(list(c_new)) -  set(list(c_old))\n",
    "c_newEdition"
   ]
  },
  {
   "cell_type": "markdown",
   "metadata": {},
   "source": [
    "<b> Community dropped in new edition</b>"
   ]
  },
  {
   "cell_type": "code",
   "execution_count": 9,
   "metadata": {},
   "outputs": [
    {
     "data": {
      "text/plain": [
       "set()"
      ]
     },
     "execution_count": 9,
     "metadata": {},
     "output_type": "execute_result"
    }
   ],
   "source": [
    "c_dropped = set(list(c_old)) - set(list(c_new))\n",
    "c_dropped"
   ]
  },
  {
   "cell_type": "code",
   "execution_count": 10,
   "metadata": {},
   "outputs": [
    {
     "ename": "AttributeError",
     "evalue": "'DataFrame' object has no attribute 'Club'",
     "output_type": "error",
     "traceback": [
      "\u001b[1;31m---------------------------------------------------------------------------\u001b[0m",
      "\u001b[1;31mAttributeError\u001b[0m                            Traceback (most recent call last)",
      "\u001b[1;32m<ipython-input-10-218ef101f9b6>\u001b[0m in \u001b[0;36m<module>\u001b[1;34m\u001b[0m\n\u001b[1;32m----> 1\u001b[1;33m \u001b[0mclub_old\u001b[0m \u001b[1;33m=\u001b[0m \u001b[0mdf_old\u001b[0m\u001b[1;33m.\u001b[0m\u001b[0mClub\u001b[0m\u001b[1;33m.\u001b[0m\u001b[0mdropna\u001b[0m\u001b[1;33m(\u001b[0m\u001b[1;33m)\u001b[0m\u001b[1;33m.\u001b[0m\u001b[0munique\u001b[0m\u001b[1;33m(\u001b[0m\u001b[1;33m)\u001b[0m\u001b[1;33m\u001b[0m\u001b[1;33m\u001b[0m\u001b[0m\n\u001b[0m\u001b[0;32m      2\u001b[0m \u001b[0mclub_old\u001b[0m \u001b[1;33m=\u001b[0m \u001b[1;33m[\u001b[0m\u001b[0mx\u001b[0m\u001b[1;33m.\u001b[0m\u001b[0mstrip\u001b[0m\u001b[1;33m(\u001b[0m\u001b[1;33m)\u001b[0m\u001b[1;33m.\u001b[0m\u001b[0mupper\u001b[0m\u001b[1;33m(\u001b[0m\u001b[1;33m)\u001b[0m \u001b[1;32mfor\u001b[0m \u001b[0mx\u001b[0m \u001b[1;32min\u001b[0m \u001b[0mclub_old\u001b[0m\u001b[1;33m]\u001b[0m\u001b[1;33m\u001b[0m\u001b[1;33m\u001b[0m\u001b[0m\n\u001b[0;32m      3\u001b[0m \u001b[0mclub_old\u001b[0m \u001b[1;33m=\u001b[0m \u001b[1;33m[\u001b[0m\u001b[1;34m' '\u001b[0m\u001b[1;33m.\u001b[0m\u001b[0mjoin\u001b[0m\u001b[1;33m(\u001b[0m\u001b[0mx\u001b[0m\u001b[1;33m.\u001b[0m\u001b[0msplit\u001b[0m\u001b[1;33m(\u001b[0m\u001b[1;33m)\u001b[0m\u001b[1;33m)\u001b[0m \u001b[1;32mfor\u001b[0m \u001b[0mx\u001b[0m \u001b[1;32min\u001b[0m \u001b[0mclub_old\u001b[0m\u001b[1;33m]\u001b[0m\u001b[1;33m\u001b[0m\u001b[1;33m\u001b[0m\u001b[0m\n\u001b[0;32m      4\u001b[0m \u001b[0mclub_new\u001b[0m \u001b[1;33m=\u001b[0m \u001b[0mdf_new\u001b[0m\u001b[1;33m.\u001b[0m\u001b[0mClub\u001b[0m\u001b[1;33m.\u001b[0m\u001b[0mdropna\u001b[0m\u001b[1;33m(\u001b[0m\u001b[1;33m)\u001b[0m\u001b[1;33m.\u001b[0m\u001b[0munique\u001b[0m\u001b[1;33m(\u001b[0m\u001b[1;33m)\u001b[0m\u001b[1;33m\u001b[0m\u001b[1;33m\u001b[0m\u001b[0m\n\u001b[0;32m      5\u001b[0m \u001b[0mclub_new\u001b[0m \u001b[1;33m=\u001b[0m \u001b[1;33m[\u001b[0m\u001b[0mx\u001b[0m\u001b[1;33m.\u001b[0m\u001b[0mstrip\u001b[0m\u001b[1;33m(\u001b[0m\u001b[1;33m)\u001b[0m\u001b[1;33m.\u001b[0m\u001b[0mupper\u001b[0m\u001b[1;33m(\u001b[0m\u001b[1;33m)\u001b[0m \u001b[1;32mfor\u001b[0m \u001b[0mx\u001b[0m \u001b[1;32min\u001b[0m \u001b[0mclub_new\u001b[0m\u001b[1;33m]\u001b[0m\u001b[1;33m\u001b[0m\u001b[1;33m\u001b[0m\u001b[0m\n",
      "\u001b[1;32m~\\Anaconda3\\envs\\tensorflow\\lib\\site-packages\\pandas\\core\\generic.py\u001b[0m in \u001b[0;36m__getattr__\u001b[1;34m(self, name)\u001b[0m\n\u001b[0;32m   5177\u001b[0m             \u001b[1;32mif\u001b[0m \u001b[0mself\u001b[0m\u001b[1;33m.\u001b[0m\u001b[0m_info_axis\u001b[0m\u001b[1;33m.\u001b[0m\u001b[0m_can_hold_identifiers_and_holds_name\u001b[0m\u001b[1;33m(\u001b[0m\u001b[0mname\u001b[0m\u001b[1;33m)\u001b[0m\u001b[1;33m:\u001b[0m\u001b[1;33m\u001b[0m\u001b[1;33m\u001b[0m\u001b[0m\n\u001b[0;32m   5178\u001b[0m                 \u001b[1;32mreturn\u001b[0m \u001b[0mself\u001b[0m\u001b[1;33m[\u001b[0m\u001b[0mname\u001b[0m\u001b[1;33m]\u001b[0m\u001b[1;33m\u001b[0m\u001b[1;33m\u001b[0m\u001b[0m\n\u001b[1;32m-> 5179\u001b[1;33m             \u001b[1;32mreturn\u001b[0m \u001b[0mobject\u001b[0m\u001b[1;33m.\u001b[0m\u001b[0m__getattribute__\u001b[0m\u001b[1;33m(\u001b[0m\u001b[0mself\u001b[0m\u001b[1;33m,\u001b[0m \u001b[0mname\u001b[0m\u001b[1;33m)\u001b[0m\u001b[1;33m\u001b[0m\u001b[1;33m\u001b[0m\u001b[0m\n\u001b[0m\u001b[0;32m   5180\u001b[0m \u001b[1;33m\u001b[0m\u001b[0m\n\u001b[0;32m   5181\u001b[0m     \u001b[1;32mdef\u001b[0m \u001b[0m__setattr__\u001b[0m\u001b[1;33m(\u001b[0m\u001b[0mself\u001b[0m\u001b[1;33m,\u001b[0m \u001b[0mname\u001b[0m\u001b[1;33m,\u001b[0m \u001b[0mvalue\u001b[0m\u001b[1;33m)\u001b[0m\u001b[1;33m:\u001b[0m\u001b[1;33m\u001b[0m\u001b[1;33m\u001b[0m\u001b[0m\n",
      "\u001b[1;31mAttributeError\u001b[0m: 'DataFrame' object has no attribute 'Club'"
     ]
    }
   ],
   "source": [
    "club_old = df_old.Club.dropna().unique()\n",
    "club_old = [x.strip().upper() for x in club_old]\n",
    "club_old = [' '.join(x.split()) for x in club_old]\n",
    "club_new = df_new.Club.dropna().unique()\n",
    "club_new = [x.strip().upper() for x in club_new]\n",
    "club_new = [' '.join(x.split()) for x in club_new]\n",
    "# print(club_old)\n",
    "# print(club_new)"
   ]
  },
  {
   "cell_type": "markdown",
   "metadata": {},
   "source": [
    "<b>Club introduced in the new edition</b>"
   ]
  },
  {
   "cell_type": "code",
   "execution_count": 11,
   "metadata": {},
   "outputs": [
    {
     "ename": "NameError",
     "evalue": "name 'club_new' is not defined",
     "output_type": "error",
     "traceback": [
      "\u001b[1;31m---------------------------------------------------------------------------\u001b[0m",
      "\u001b[1;31mNameError\u001b[0m                                 Traceback (most recent call last)",
      "\u001b[1;32m<ipython-input-11-858aebc4ee1a>\u001b[0m in \u001b[0;36m<module>\u001b[1;34m\u001b[0m\n\u001b[1;32m----> 1\u001b[1;33m \u001b[0mclub_newEdition\u001b[0m \u001b[1;33m=\u001b[0m \u001b[0mset\u001b[0m\u001b[1;33m(\u001b[0m\u001b[0mlist\u001b[0m\u001b[1;33m(\u001b[0m\u001b[0mclub_new\u001b[0m\u001b[1;33m)\u001b[0m\u001b[1;33m)\u001b[0m \u001b[1;33m-\u001b[0m  \u001b[0mset\u001b[0m\u001b[1;33m(\u001b[0m\u001b[0mlist\u001b[0m\u001b[1;33m(\u001b[0m\u001b[0mclub_old\u001b[0m\u001b[1;33m)\u001b[0m\u001b[1;33m)\u001b[0m\u001b[1;33m\u001b[0m\u001b[1;33m\u001b[0m\u001b[0m\n\u001b[0m\u001b[0;32m      2\u001b[0m \u001b[0mclub_newEdition\u001b[0m\u001b[1;33m\u001b[0m\u001b[1;33m\u001b[0m\u001b[0m\n",
      "\u001b[1;31mNameError\u001b[0m: name 'club_new' is not defined"
     ]
    }
   ],
   "source": [
    "club_newEdition = set(list(club_new)) -  set(list(club_old))\n",
    "club_newEdition"
   ]
  },
  {
   "cell_type": "markdown",
   "metadata": {},
   "source": [
    "<b> Club dropped in the new edition</b>"
   ]
  },
  {
   "cell_type": "code",
   "execution_count": 12,
   "metadata": {},
   "outputs": [
    {
     "ename": "NameError",
     "evalue": "name 'club_old' is not defined",
     "output_type": "error",
     "traceback": [
      "\u001b[1;31m---------------------------------------------------------------------------\u001b[0m",
      "\u001b[1;31mNameError\u001b[0m                                 Traceback (most recent call last)",
      "\u001b[1;32m<ipython-input-12-81611e71f5d0>\u001b[0m in \u001b[0;36m<module>\u001b[1;34m\u001b[0m\n\u001b[1;32m----> 1\u001b[1;33m \u001b[0mclub_oldEdition\u001b[0m \u001b[1;33m=\u001b[0m \u001b[0mset\u001b[0m\u001b[1;33m(\u001b[0m\u001b[0mlist\u001b[0m\u001b[1;33m(\u001b[0m\u001b[0mclub_old\u001b[0m\u001b[1;33m)\u001b[0m\u001b[1;33m)\u001b[0m \u001b[1;33m-\u001b[0m  \u001b[0mset\u001b[0m\u001b[1;33m(\u001b[0m\u001b[0mlist\u001b[0m\u001b[1;33m(\u001b[0m\u001b[0mclub_new\u001b[0m\u001b[1;33m)\u001b[0m\u001b[1;33m)\u001b[0m\u001b[1;33m\u001b[0m\u001b[1;33m\u001b[0m\u001b[0m\n\u001b[0m\u001b[0;32m      2\u001b[0m \u001b[0mclub_oldEdition\u001b[0m\u001b[1;33m\u001b[0m\u001b[1;33m\u001b[0m\u001b[0m\n",
      "\u001b[1;31mNameError\u001b[0m: name 'club_old' is not defined"
     ]
    }
   ],
   "source": [
    "club_oldEdition = set(list(club_old)) -  set(list(club_new))\n",
    "club_oldEdition"
   ]
  },
  {
   "cell_type": "markdown",
   "metadata": {},
   "source": [
    "<b>Benefit Tier</b>\n"
   ]
  },
  {
   "cell_type": "code",
   "execution_count": 13,
   "metadata": {},
   "outputs": [],
   "source": [
    "b_old = df_old['Benefit Tier'].dropna().unique()\n",
    "b_old = [x.strip().upper() for x in b_old]\n",
    "b_old = [' '.join(x.split()) for x in b_old]\n",
    "b_new = df_new['Benefit Tier'].dropna().unique()\n",
    "b_new = [x.strip().upper() for x in b_new]\n",
    "b_new = [' '.join(x.split()) for x in b_new]\n",
    "#sorted(b_old)"
   ]
  },
  {
   "cell_type": "markdown",
   "metadata": {},
   "source": [
    "<b>1. Benefit tier introduced in the new edition</b>"
   ]
  },
  {
   "cell_type": "code",
   "execution_count": 14,
   "metadata": {},
   "outputs": [
    {
     "data": {
      "text/plain": [
       "set()"
      ]
     },
     "execution_count": 14,
     "metadata": {},
     "output_type": "execute_result"
    }
   ],
   "source": [
    "diff_newEdition = set(list(b_new)) -  set(list(b_old))\n",
    "diff_newEdition"
   ]
  },
  {
   "cell_type": "markdown",
   "metadata": {},
   "source": [
    "<b> 2. Benefit tier dropped in the new edition</b>"
   ]
  },
  {
   "cell_type": "code",
   "execution_count": 15,
   "metadata": {},
   "outputs": [
    {
     "data": {
      "text/plain": [
       "set()"
      ]
     },
     "execution_count": 15,
     "metadata": {},
     "output_type": "execute_result"
    }
   ],
   "source": [
    "diff_dropped = set(list(b_old)) -  set(list(b_new))\n",
    "diff_dropped"
   ]
  },
  {
   "cell_type": "markdown",
   "metadata": {},
   "source": [
    "<b>Golf benefit </b>"
   ]
  },
  {
   "cell_type": "code",
   "execution_count": 16,
   "metadata": {},
   "outputs": [],
   "source": [
    "junkValues = ['No access','N/A','','No Community at this time','Home Club','No access ','No access ','No Access']\n",
    "golf_benefit_old = df_old[['Golf Benefit']].dropna()\n",
    "golf_benefit_old = golf_benefit_old[~golf_benefit_old['Golf Benefit'].isin(junkValues)].drop_duplicates()\n",
    "golf_benefit_old = golf_benefit_old['Golf Benefit'].unique()\n",
    "golf_benefit_old = [x.strip().upper() for x in golf_benefit_old]\n",
    "golf_benefit_old = [' '.join(x.split()) for x in golf_benefit_old]\n",
    "#sorted(golf_benefit_old)"
   ]
  },
  {
   "cell_type": "code",
   "execution_count": 17,
   "metadata": {},
   "outputs": [],
   "source": [
    "golf_benefit_new = df_new[['Golf Benefit']].dropna()\n",
    "golf_benefit_new = golf_benefit_new[~golf_benefit_new['Golf Benefit'].isin(junkValues)].drop_duplicates()\n",
    "golf_benefit_new = golf_benefit_new['Golf Benefit'].unique()\n",
    "golf_benefit_new = [' '.join(x.split()) for x in golf_benefit_new]\n",
    "golf_benefit_new = [x.strip().upper() for x in golf_benefit_new]\n",
    "#sorted(golf_benefit_new)"
   ]
  },
  {
   "cell_type": "markdown",
   "metadata": {},
   "source": [
    "\n",
    "<b>3. Golf benefit introduced in the new edition</b>"
   ]
  },
  {
   "cell_type": "code",
   "execution_count": 18,
   "metadata": {},
   "outputs": [
    {
     "data": {
      "text/plain": [
       "set()"
      ]
     },
     "execution_count": 18,
     "metadata": {},
     "output_type": "execute_result"
    }
   ],
   "source": [
    "gbenefit_newEdition = set(list(golf_benefit_new)) - set(list(golf_benefit_old))\n",
    "gbenefit_newEdition"
   ]
  },
  {
   "cell_type": "markdown",
   "metadata": {},
   "source": [
    "<b>4. Golf benefit dropped in the new edition</b>"
   ]
  },
  {
   "cell_type": "code",
   "execution_count": 19,
   "metadata": {},
   "outputs": [
    {
     "data": {
      "text/plain": [
       "set()"
      ]
     },
     "execution_count": 19,
     "metadata": {},
     "output_type": "execute_result"
    }
   ],
   "source": [
    "golf_benefit_dropped = set(list(golf_benefit_old)) - set(list(golf_benefit_new))\n",
    "golf_benefit_dropped"
   ]
  },
  {
   "cell_type": "markdown",
   "metadata": {},
   "source": [
    "<b> Golf Amenity Restrictions </b>"
   ]
  },
  {
   "cell_type": "code",
   "execution_count": 20,
   "metadata": {},
   "outputs": [],
   "source": [
    "golf_amenity_restrictions_old = df_old['Golf Amenity Restrictions'].dropna().unique()\n",
    "golf_amenity_restrictions_old = [x.strip().upper() for x in golf_amenity_restrictions_old]\n",
    "golf_amenity_restrictions_old = [' '.join(x.split()) for x in golf_amenity_restrictions_old]\n",
    "golf_amenity_restrictions_new = df_new['Golf Amenity Restrictions'].dropna().unique()\n",
    "golf_amenity_restrictions_new = [x.strip().upper() for x in golf_amenity_restrictions_new]\n",
    "golf_amenity_restrictions_new = [' '.join(x.split()) for x in golf_amenity_restrictions_new]"
   ]
  },
  {
   "cell_type": "code",
   "execution_count": 21,
   "metadata": {},
   "outputs": [
    {
     "data": {
      "text/plain": [
       "set()"
      ]
     },
     "execution_count": 21,
     "metadata": {},
     "output_type": "execute_result"
    }
   ],
   "source": [
    "gAmenity_newEdition = set(list(golf_amenity_restrictions_new)) - set(list(golf_amenity_restrictions_old))\n",
    "gAmenity_newEdition"
   ]
  },
  {
   "cell_type": "code",
   "execution_count": 22,
   "metadata": {},
   "outputs": [
    {
     "data": {
      "text/plain": [
       "set()"
      ]
     },
     "execution_count": 22,
     "metadata": {},
     "output_type": "execute_result"
    }
   ],
   "source": [
    "gAmenity_oldEdition = set(list(golf_amenity_restrictions_old)) - set(list(golf_amenity_restrictions_new))\n",
    "gAmenity_oldEdition"
   ]
  },
  {
   "cell_type": "markdown",
   "metadata": {},
   "source": [
    "<b>Dining benefit</b>"
   ]
  },
  {
   "cell_type": "code",
   "execution_count": 23,
   "metadata": {},
   "outputs": [],
   "source": [
    "dine_benefit_old = df_old[['Dining Benefit']].dropna()\n",
    "dine_benefit_old = dine_benefit_old[~dine_benefit_old['Dining Benefit'].isin(junkValues)].drop_duplicates()\n",
    "dine_benefit_old = dine_benefit_old['Dining Benefit']\n",
    "\n",
    "dine_benefit_new = df_new[['Dining Benefit']].dropna()\n",
    "dine_benefit_new = dine_benefit_new[~dine_benefit_new['Dining Benefit'].isin(junkValues)].drop_duplicates()\n",
    "dine_benefit_new = dine_benefit_new['Dining Benefit']\n",
    "##trimming spaces \n",
    "dine_benefit_old = [x.strip().upper() for x in dine_benefit_old]\n",
    "#replacing double spaces with single space\n",
    "dine_benefit_old = [' '.join(x.split()) for x in dine_benefit_old]"
   ]
  },
  {
   "cell_type": "code",
   "execution_count": 24,
   "metadata": {},
   "outputs": [],
   "source": [
    "dine_benefit_new = [x.strip().upper() for x in dine_benefit_new]\n",
    "dine_benefit_new = [' '.join(x.split()) for x in dine_benefit_new]"
   ]
  },
  {
   "cell_type": "markdown",
   "metadata": {},
   "source": [
    "<b> 5. Dining benefit introduced in the new edition</b>"
   ]
  },
  {
   "cell_type": "code",
   "execution_count": 25,
   "metadata": {},
   "outputs": [
    {
     "data": {
      "text/plain": [
       "set()"
      ]
     },
     "execution_count": 25,
     "metadata": {},
     "output_type": "execute_result"
    }
   ],
   "source": [
    "dine_new_edition = set(list(dine_benefit_new)) - set(list(dine_benefit_old))\n",
    "dine_new_edition"
   ]
  },
  {
   "cell_type": "markdown",
   "metadata": {},
   "source": [
    "<b>6. Dining benefit dropped in the new edition </b>"
   ]
  },
  {
   "cell_type": "code",
   "execution_count": 26,
   "metadata": {},
   "outputs": [
    {
     "data": {
      "text/plain": [
       "set()"
      ]
     },
     "execution_count": 26,
     "metadata": {},
     "output_type": "execute_result"
    }
   ],
   "source": [
    "dine_dropped = set(list(dine_benefit_old)) - set(list(dine_benefit_new))\n",
    "dine_dropped"
   ]
  },
  {
   "cell_type": "markdown",
   "metadata": {},
   "source": [
    "<b>Golf availability</b>"
   ]
  },
  {
   "cell_type": "code",
   "execution_count": 27,
   "metadata": {},
   "outputs": [],
   "source": [
    "golf_availabilityOld = df_old.Availability.dropna().unique()\n",
    "golf_availabilityOld = [x.strip().upper() for x in golf_availabilityOld]\n",
    "golf_availabilityOld = [' '.join(x.split()) for x in golf_availabilityOld]\n",
    "golf_availabilityNew = df_new.Availability.dropna().unique()\n",
    "golf_availabilityNew = [x.strip().upper() for x in golf_availabilityNew]\n",
    "golf_availabilityNew = [' '.join(x.split()) for x in golf_availabilityNew]\n",
    "#sorted(golf_availabilityOld)"
   ]
  },
  {
   "cell_type": "code",
   "execution_count": 28,
   "metadata": {},
   "outputs": [],
   "source": [
    "#sorted(golf_availabilityNew)"
   ]
  },
  {
   "cell_type": "markdown",
   "metadata": {},
   "source": [
    "<b>7. Golf availability introduced in the new edition</b>"
   ]
  },
  {
   "cell_type": "code",
   "execution_count": 29,
   "metadata": {},
   "outputs": [
    {
     "data": {
      "text/plain": [
       "set()"
      ]
     },
     "execution_count": 29,
     "metadata": {},
     "output_type": "execute_result"
    }
   ],
   "source": [
    "golf_availability_new = set(list(golf_availabilityNew)) - set(list(golf_availabilityOld))\n",
    "golf_availability_new"
   ]
  },
  {
   "cell_type": "markdown",
   "metadata": {},
   "source": [
    "<b> 8. Golf  availability dropped in the new edition</b>"
   ]
  },
  {
   "cell_type": "code",
   "execution_count": 30,
   "metadata": {},
   "outputs": [
    {
     "data": {
      "text/plain": [
       "set()"
      ]
     },
     "execution_count": 30,
     "metadata": {},
     "output_type": "execute_result"
    }
   ],
   "source": [
    "golf_availability_dropped = set(list(golf_availabilityOld)) - set(list(golf_availabilityNew))\n",
    "golf_availability_dropped"
   ]
  },
  {
   "cell_type": "markdown",
   "metadata": {},
   "source": [
    "<b>Dining availability</b>"
   ]
  },
  {
   "cell_type": "code",
   "execution_count": 31,
   "metadata": {},
   "outputs": [],
   "source": [
    "dine_a_new = df_new['Dining Availability'].dropna().unique()\n",
    "dine_a_new = [x.strip().upper() for x in dine_a_new]\n",
    "dine_a_new = [' '.join(x.split()) for x in dine_a_new]\n",
    "dine_a_old = df_old['Dining Availability'].dropna().unique()\n",
    "dine_a_old = [x.strip().upper() for x in dine_a_old]\n",
    "dine_a_old = [' '.join(x.split()) for x in dine_a_old]\n",
    "#sorted(dine_a_old)"
   ]
  },
  {
   "cell_type": "code",
   "execution_count": 32,
   "metadata": {},
   "outputs": [],
   "source": [
    "#sorted(dine_a_new)"
   ]
  },
  {
   "cell_type": "markdown",
   "metadata": {},
   "source": [
    "<b>9. Dining availability introduced in the new edition</b>"
   ]
  },
  {
   "cell_type": "code",
   "execution_count": 33,
   "metadata": {},
   "outputs": [
    {
     "data": {
      "text/plain": [
       "set()"
      ]
     },
     "execution_count": 33,
     "metadata": {},
     "output_type": "execute_result"
    }
   ],
   "source": [
    "dine_availability_new = set(list(dine_a_new)) - set(list(dine_a_old))\n",
    "dine_availability_new"
   ]
  },
  {
   "cell_type": "markdown",
   "metadata": {},
   "source": [
    "<b>10. Dining availability dropped in the new edition</b>"
   ]
  },
  {
   "cell_type": "code",
   "execution_count": 34,
   "metadata": {},
   "outputs": [
    {
     "data": {
      "text/plain": [
       "set()"
      ]
     },
     "execution_count": 34,
     "metadata": {},
     "output_type": "execute_result"
    }
   ],
   "source": [
    "dine_availability_dropped = set(list(dine_a_old)) - set(list(dine_a_new))\n",
    "dine_availability_dropped"
   ]
  },
  {
   "cell_type": "markdown",
   "metadata": {},
   "source": [
    "<b>Golf advance</b>"
   ]
  },
  {
   "cell_type": "code",
   "execution_count": 35,
   "metadata": {},
   "outputs": [],
   "source": [
    "golf_advanceNew = df_new.Advance.dropna().unique().tolist()\n",
    "golf_advanceNew = [x.strip().upper() for x in golf_advanceNew]\n",
    "golf_advanceNew = [' '.join(x.split()) for x in golf_advanceNew]\n",
    "golf_advanceOld = df_old.Advance.dropna().unique().tolist()\n",
    "golf_advanceOld = [x.strip().upper() for x in golf_advanceOld]\n",
    "golf_advanceOld = [' '.join(x.split()) for x in golf_advanceOld]\n",
    "#golf_advanceOld"
   ]
  },
  {
   "cell_type": "code",
   "execution_count": 36,
   "metadata": {},
   "outputs": [],
   "source": [
    "#golf_advance28"
   ]
  },
  {
   "cell_type": "markdown",
   "metadata": {},
   "source": [
    "<b>11. Golf advance introduced in the new edition</b>"
   ]
  },
  {
   "cell_type": "code",
   "execution_count": 37,
   "metadata": {},
   "outputs": [
    {
     "data": {
      "text/plain": [
       "set()"
      ]
     },
     "execution_count": 37,
     "metadata": {},
     "output_type": "execute_result"
    }
   ],
   "source": [
    "golf_advance_new = set(golf_advanceNew) - set(golf_advanceOld)\n",
    "golf_advance_new"
   ]
  },
  {
   "cell_type": "markdown",
   "metadata": {},
   "source": [
    "<b> 12. Golf  advance dropped in the new edition </b>\n"
   ]
  },
  {
   "cell_type": "code",
   "execution_count": 38,
   "metadata": {},
   "outputs": [
    {
     "data": {
      "text/plain": [
       "set()"
      ]
     },
     "execution_count": 38,
     "metadata": {},
     "output_type": "execute_result"
    }
   ],
   "source": [
    "golf_advance_dropped = set(golf_advanceOld) - set(golf_advanceNew)\n",
    "golf_advance_dropped"
   ]
  },
  {
   "cell_type": "markdown",
   "metadata": {},
   "source": [
    "<b>Dining restriction</b>"
   ]
  },
  {
   "cell_type": "code",
   "execution_count": 39,
   "metadata": {},
   "outputs": [],
   "source": [
    "dining_restriction_new = df_new[['Dining Restrictions']].dropna()\n",
    "dining_restriction_new = dining_restriction_new[~dining_restriction_new['Dining Restrictions'].isin(junkValues)].drop_duplicates()\n",
    "dining_restriction_new = dining_restriction_new['Dining Restrictions']\n",
    "dining_restriction_old = df_old[['Dining Restrictions']].dropna()\n",
    "dining_restriction_old = dining_restriction_old[~dining_restriction_old['Dining Restrictions'].isin(junkValues)].drop_duplicates()\n",
    "dining_restriction_old = dining_restriction_old['Dining Restrictions']\n",
    "dining_restriction_old = [x.strip().upper() for x in dining_restriction_old]\n",
    "dining_restriction_old = [' '.join(x.split()) for x in dining_restriction_old]"
   ]
  },
  {
   "cell_type": "code",
   "execution_count": 40,
   "metadata": {},
   "outputs": [],
   "source": [
    "dining_restriction_new = [x.strip().upper() for x in dining_restriction_new]\n",
    "dining_restriction_new = [' '.join(x.split()) for x in dining_restriction_new]"
   ]
  },
  {
   "cell_type": "markdown",
   "metadata": {},
   "source": [
    "<b>13. Dining restriction introduced in the new edition</b>"
   ]
  },
  {
   "cell_type": "code",
   "execution_count": 41,
   "metadata": {},
   "outputs": [
    {
     "data": {
      "text/plain": [
       "set()"
      ]
     },
     "execution_count": 41,
     "metadata": {},
     "output_type": "execute_result"
    }
   ],
   "source": [
    "dining_restriction_n = set(list(dining_restriction_new)) - set(list(dining_restriction_old))\n",
    "dining_restriction_n"
   ]
  },
  {
   "cell_type": "markdown",
   "metadata": {},
   "source": [
    "<b> 14. Dining restriction dropped in the new edition</b>"
   ]
  },
  {
   "cell_type": "code",
   "execution_count": 42,
   "metadata": {},
   "outputs": [
    {
     "data": {
      "text/plain": [
       "set()"
      ]
     },
     "execution_count": 42,
     "metadata": {},
     "output_type": "execute_result"
    }
   ],
   "source": [
    "dining_restriction_dropped = set(list(dining_restriction_old)) - set(list(dining_restriction_new))\n",
    "dining_restriction_dropped"
   ]
  },
  {
   "cell_type": "code",
   "execution_count": 43,
   "metadata": {},
   "outputs": [
    {
     "ename": "NameError",
     "evalue": "name 'club_newEdition' is not defined",
     "output_type": "error",
     "traceback": [
      "\u001b[1;31m---------------------------------------------------------------------------\u001b[0m",
      "\u001b[1;31mNameError\u001b[0m                                 Traceback (most recent call last)",
      "\u001b[1;32m<ipython-input-43-652369aae3a8>\u001b[0m in \u001b[0;36m<module>\u001b[1;34m\u001b[0m\n\u001b[0;32m      1\u001b[0m d = {'Community Added' : list(c_newEdition), 'Community Dropped' : list(c_dropped),\n\u001b[1;32m----> 2\u001b[1;33m      \u001b[1;34m'Club Added'\u001b[0m \u001b[1;33m:\u001b[0m \u001b[0mlist\u001b[0m\u001b[1;33m(\u001b[0m\u001b[0mclub_newEdition\u001b[0m\u001b[1;33m)\u001b[0m\u001b[1;33m,\u001b[0m \u001b[1;34m'Club Dropped'\u001b[0m \u001b[1;33m:\u001b[0m \u001b[0mlist\u001b[0m\u001b[1;33m(\u001b[0m\u001b[0mclub_oldEdition\u001b[0m\u001b[1;33m)\u001b[0m\u001b[1;33m,\u001b[0m\u001b[1;33m\u001b[0m\u001b[1;33m\u001b[0m\u001b[0m\n\u001b[0m\u001b[0;32m      3\u001b[0m      \u001b[1;34m'Benefit Tier Added'\u001b[0m \u001b[1;33m:\u001b[0m  \u001b[0mlist\u001b[0m\u001b[1;33m(\u001b[0m\u001b[0mdiff_newEdition\u001b[0m\u001b[1;33m)\u001b[0m\u001b[1;33m,\u001b[0m \u001b[1;34m'Benefit Tier Dropped'\u001b[0m \u001b[1;33m:\u001b[0m  \u001b[0mlist\u001b[0m\u001b[1;33m(\u001b[0m\u001b[0mdiff_dropped\u001b[0m\u001b[1;33m)\u001b[0m\u001b[1;33m,\u001b[0m\u001b[1;33m\u001b[0m\u001b[1;33m\u001b[0m\u001b[0m\n\u001b[0;32m      4\u001b[0m      \u001b[1;34m'Golf benefit Added'\u001b[0m\u001b[1;33m:\u001b[0m  \u001b[0mlist\u001b[0m\u001b[1;33m(\u001b[0m\u001b[0mgbenefit_newEdition\u001b[0m\u001b[1;33m)\u001b[0m\u001b[1;33m,\u001b[0m\u001b[1;34m'Golf benefit Dropped'\u001b[0m\u001b[1;33m:\u001b[0m  \u001b[0mlist\u001b[0m\u001b[1;33m(\u001b[0m\u001b[0mgolf_benefit_dropped\u001b[0m\u001b[1;33m)\u001b[0m\u001b[1;33m,\u001b[0m\u001b[1;33m\u001b[0m\u001b[1;33m\u001b[0m\u001b[0m\n\u001b[0;32m      5\u001b[0m      \u001b[1;34m'Golf availability Added'\u001b[0m\u001b[1;33m:\u001b[0m  \u001b[0mlist\u001b[0m\u001b[1;33m(\u001b[0m\u001b[0mgolf_availability_new\u001b[0m\u001b[1;33m)\u001b[0m\u001b[1;33m,\u001b[0m\u001b[1;34m'Golf availability Dropped'\u001b[0m\u001b[1;33m:\u001b[0m  \u001b[0mlist\u001b[0m\u001b[1;33m(\u001b[0m\u001b[0mgolf_availability_dropped\u001b[0m\u001b[1;33m)\u001b[0m\u001b[1;33m,\u001b[0m\u001b[1;33m\u001b[0m\u001b[1;33m\u001b[0m\u001b[0m\n",
      "\u001b[1;31mNameError\u001b[0m: name 'club_newEdition' is not defined"
     ]
    }
   ],
   "source": [
    "d = {'Community Added' : list(c_newEdition), 'Community Dropped' : list(c_dropped),\n",
    "     'Club Added' : list(club_newEdition), 'Club Dropped' : list(club_oldEdition),\n",
    "     'Benefit Tier Added' :  list(diff_newEdition), 'Benefit Tier Dropped' :  list(diff_dropped),\n",
    "     'Golf benefit Added':  list(gbenefit_newEdition),'Golf benefit Dropped':  list(golf_benefit_dropped),\n",
    "     'Golf availability Added':  list(golf_availability_new),'Golf availability Dropped':  list(golf_availability_dropped),\n",
    "     'Golf advance Added':  list(golf_advance_new),'Golf advance Dropped':  list(golf_advance_dropped),           \n",
    "     'Dining benefit Added' :  list(dine_new_edition),'Dining benefit Dropped' :  list(dine_dropped),\n",
    "     'Dining availability Added' :  list(dine_availability_new), 'Dining availability Dropped' :  list(dine_availability_dropped)}\n",
    "df = pd.DataFrame(dict([ (k,pd.Series(v)) for k,v in d.items() ]))"
   ]
  },
  {
   "cell_type": "code",
   "execution_count": 44,
   "metadata": {},
   "outputs": [
    {
     "ename": "NameError",
     "evalue": "name 'df' is not defined",
     "output_type": "error",
     "traceback": [
      "\u001b[1;31m---------------------------------------------------------------------------\u001b[0m",
      "\u001b[1;31mNameError\u001b[0m                                 Traceback (most recent call last)",
      "\u001b[1;32m<ipython-input-44-bcb1f77f73e7>\u001b[0m in \u001b[0;36m<module>\u001b[1;34m\u001b[0m\n\u001b[1;32m----> 1\u001b[1;33m \u001b[0mdf\u001b[0m\u001b[1;33m.\u001b[0m\u001b[0mto_csv\u001b[0m\u001b[1;33m(\u001b[0m\u001b[1;34m\"outputs/Owned Club Community Benefits New Introduced values 20190927.csv\"\u001b[0m\u001b[1;33m,\u001b[0m\u001b[0mindex\u001b[0m\u001b[1;33m=\u001b[0m\u001b[1;32mFalse\u001b[0m\u001b[1;33m)\u001b[0m\u001b[1;33m\u001b[0m\u001b[1;33m\u001b[0m\u001b[0m\n\u001b[0m",
      "\u001b[1;31mNameError\u001b[0m: name 'df' is not defined"
     ]
    }
   ],
   "source": [
    "df.to_csv(\"outputs/Owned Club Community Benefits New Introduced values 20190927.csv\",index=False)"
   ]
  },
  {
   "cell_type": "code",
   "execution_count": 45,
   "metadata": {},
   "outputs": [],
   "source": [
    "df_report = pd.DataFrame({'Benefit Tier' : []})\n",
    "for bt in diff_newEdition :\n",
    "    if bt not in benefit_tiers :\n",
    "        print(bt)\n",
    "        df_report = df_report.append({'Benefit Tier':bt}, ignore_index=True)\n",
    "        \n",
    "\n",
    "if df_report.empty == False:\n",
    "    df_report.to_csv(\"outputs/Report New Benefit Tiers 20190413.csv\",index=False)"
   ]
  },
  {
   "cell_type": "markdown",
   "metadata": {},
   "source": [
    "<h1> Analysis of possible new Benefit entities added/dropped </h1>"
   ]
  },
  {
   "cell_type": "code",
   "execution_count": 46,
   "metadata": {},
   "outputs": [],
   "source": [
    "df_subset_old = df_old[(~df_old['Golf Benefit'].isin(['No access','Home Club','NO ACCESS','NAN']))]\n",
    "df_subset_new = df_new[(~df_old['Golf Benefit'].isin(['No access','Home Club','NO ACCESS','NAN']))]"
   ]
  },
  {
   "cell_type": "code",
   "execution_count": 47,
   "metadata": {},
   "outputs": [
    {
     "name": "stdout",
     "output_type": "stream",
     "text": [
      "Benefit Package Added : 0\n",
      "Benefit Package Deprected : 0\n"
     ]
    }
   ],
   "source": [
    "#benefit_package_df_old = df_old[['Community','Benefit Tier']].drop_duplicates()\n",
    "benefit_package_df_old = df_old[['Village','Benefit Tier']].drop_duplicates()\n",
    "bp_old = list(benefit_package_df_old.itertuples(index=False))\n",
    "\n",
    "#benefit_package_df_new = df_new[['Community','Benefit Tier']].drop_duplicates()\n",
    "benefit_package_df_new = df_new[['Village','Benefit Tier']].drop_duplicates()\n",
    "bp_new = list(benefit_package_df_new.itertuples(index=False))\n",
    "\n",
    "added_BP = set(bp_new) -  set(bp_old)\n",
    "print(\"Benefit Package Added : \" + str(len(added_BP)))\n",
    "dropped_BP = set(bp_old) -  set(bp_new)\n",
    "print(\"Benefit Package Deprected : \" + str(len(dropped_BP)))"
   ]
  },
  {
   "cell_type": "code",
   "execution_count": 48,
   "metadata": {},
   "outputs": [
    {
     "name": "stdout",
     "output_type": "stream",
     "text": [
      "Golf Benefit Added : 0\n",
      "Golf Benefit Deprected : 0\n"
     ]
    }
   ],
   "source": [
    "#benefit_golf_df_old = df_old[['Community','Benefit Tier','Golf Benefit','Advance']].drop_duplicates()\n",
    "benefit_golf_df_old = df_old[['Village','Benefit Tier','Golf Benefit','Advance']].drop_duplicates()\n",
    "benefit_golf_df_old = benefit_golf_df_old[(~benefit_golf_df_old['Golf Benefit'].isin(['No access','Home Club','NO ACCESS','NAN','N/A']))]\n",
    "golf_benefit_old = list(benefit_golf_df_old.itertuples(index=False))\n",
    "\n",
    "#benefit_golf_df_new = df_new[['Community','Benefit Tier','Golf Benefit','Advance']].drop_duplicates()\n",
    "benefit_golf_df_new = df_new[['Village','Benefit Tier','Golf Benefit','Advance']].drop_duplicates()\n",
    "benefit_golf_df_new = benefit_golf_df_new[(~benefit_golf_df_new['Golf Benefit'].isin(['No access','Home Club','NO ACCESS','NAN','N/A']))]\n",
    "golf_benefit_new = list(benefit_golf_df_new.itertuples(index=False))\n",
    "\n",
    "added_Ben_Golf = set(golf_benefit_new) -  set(golf_benefit_old)\n",
    "print(\"Golf Benefit Added : \" + str(len(added_Ben_Golf)))\n",
    "\n",
    "dropped_Ben_Golf = set(golf_benefit_old) -  set(golf_benefit_new)\n",
    "print(\"Golf Benefit Deprected : \" + str(len(dropped_Ben_Golf)))"
   ]
  },
  {
   "cell_type": "code",
   "execution_count": 49,
   "metadata": {},
   "outputs": [
    {
     "name": "stdout",
     "output_type": "stream",
     "text": [
      "Dining Benefit Added : 0\n",
      "Dining Benefit Deprected : 0\n"
     ]
    }
   ],
   "source": [
    "#benefit_dining_df_old = df_old[['Community','Benefit Tier','Dining Benefit']].drop_duplicates()\n",
    "benefit_dining_df_old = df_old[['Village','Benefit Tier','Dining Benefit']].drop_duplicates()\n",
    "benefit_dining_df_old = benefit_dining_df_old[(~benefit_dining_df_old['Dining Benefit'].isin(['No access','Home Club','NO ACCESS','NAN','N/A']))]\n",
    "dining_benefit_old = list(benefit_dining_df_old.itertuples(index=False))\n",
    "\n",
    "#benefit_dining_df_new = df_new[['Community','Benefit Tier','Dining Benefit']].drop_duplicates()\n",
    "benefit_dining_df_new = df_new[['Village','Benefit Tier','Dining Benefit']].drop_duplicates()\n",
    "benefit_dining_df_new = benefit_dining_df_new[(~benefit_dining_df_new['Dining Benefit'].isin(['No access','Home Club','NO ACCESS','NAN','N/A']))]\n",
    "dining_benefit_new = list(benefit_dining_df_new.itertuples(index=False))\n",
    "\n",
    "added_Ben_Dining = set(dining_benefit_new) -  set(dining_benefit_old)\n",
    "#print(added_Ben_Golf)\n",
    "print(\"Dining Benefit Added : \" + str(len(added_Ben_Dining)))\n",
    "\n",
    "dropped_Ben_Dining = set(dining_benefit_old) -  set(dining_benefit_new)\n",
    "print(\"Dining Benefit Deprected : \" + str(len(dropped_Ben_Dining)))"
   ]
  },
  {
   "cell_type": "code",
   "execution_count": 50,
   "metadata": {},
   "outputs": [
    {
     "name": "stdout",
     "output_type": "stream",
     "text": [
      "Golf Access Rule Created : 1\n",
      "Golf Access Rule Deprected : 1\n"
     ]
    }
   ],
   "source": [
    "#accessrule_golf_df_old = df_old[['Community','Benefit Tier','Golf Benefit','Advance','Availability']].drop_duplicates()\n",
    "accessrule_golf_df_old = df_old[['Village','Benefit Tier','Golf Benefit','Advance','Availability']].drop_duplicates()\n",
    "\n",
    "accessrule_golf_df_old = accessrule_golf_df_old[(~accessrule_golf_df_old['Golf Benefit'].isin(['No access','Home Club','NO ACCESS','NAN','N/A']))]\n",
    "golf_ar_old = list(accessrule_golf_df_old.itertuples(index=False))\n",
    "\n",
    "#accessrule_golf_df_new = df_new[['Community','Benefit Tier','Golf Benefit','Advance','Availability']].drop_duplicates()\n",
    "accessrule_golf_df_new = df_new[['Village','Benefit Tier','Golf Benefit','Advance','Availability']].drop_duplicates()\n",
    "accessrule_golf_df_new = accessrule_golf_df_new[(~accessrule_golf_df_new['Golf Benefit'].isin(['No access','Home Club','NO ACCESS','NAN','N/A']))]\n",
    "golf_ar_new = list(accessrule_golf_df_new.itertuples(index=False))\n",
    "\n",
    "added_ar_Golf = set(golf_ar_new) -  set(golf_ar_old)\n",
    "#print(added_Ben_Golf)\n",
    "print(\"Golf Access Rule Created : \" + str(len(added_ar_Golf)))\n",
    "\n",
    "dropped_ar_Golf = set(golf_ar_old) -  set(golf_ar_new)\n",
    "print(\"Golf Access Rule Deprected : \" + str(len(dropped_ar_Golf)))"
   ]
  },
  {
   "cell_type": "code",
   "execution_count": 51,
   "metadata": {},
   "outputs": [
    {
     "name": "stdout",
     "output_type": "stream",
     "text": [
      "Dining Access Rule Created : 0\n",
      "Dining Access Rule Deprected : 0\n"
     ]
    }
   ],
   "source": [
    "#ar_dining_df_old = df_old[['Community','Benefit Tier','Dining Benefit','Dining Availability']].drop_duplicates()\n",
    "ar_dining_df_old = df_old[['Village','Benefit Tier','Dining Benefit','Dining Availability']].drop_duplicates()\n",
    "ar_dining_df_old = ar_dining_df_old[(~ar_dining_df_old['Dining Benefit'].isin(['No access','Home Club','NO ACCESS','NAN','N/A']))]\n",
    "dining_ar_old = list(ar_dining_df_old.itertuples(index=False))\n",
    "\n",
    "#ar_dining_df_new = df_new[['Community','Benefit Tier','Dining Benefit','Dining Availability']].drop_duplicates()\n",
    "ar_dining_df_new = df_new[['Village','Benefit Tier','Dining Benefit','Dining Availability']].drop_duplicates()\n",
    "ar_dining_df_new = ar_dining_df_new[(~ar_dining_df_new['Dining Benefit'].isin(['No access','Home Club','NO ACCESS','NAN','N/A']))]\n",
    "dining_ar_new = list(ar_dining_df_new.itertuples(index=False))\n",
    "\n",
    "added_ar_Dining = set(dining_ar_new) -  set(dining_ar_old)\n",
    "#print(added_Ben_Golf)\n",
    "print(\"Dining Access Rule Created : \" + str(len(added_ar_Dining)))\n",
    "\n",
    "dropped_ar_Dining = set(dining_ar_old) -  set(dining_ar_new)\n",
    "print(\"Dining Access Rule Deprected : \" + str(len(dropped_ar_Dining)))"
   ]
  },
  {
   "cell_type": "code",
   "execution_count": 52,
   "metadata": {},
   "outputs": [],
   "source": [
    "count_data = [['Benefit Package Added', str(len(added_BP))],['Benefit Package Deprected', str(len(dropped_BP))], ['Golf Benefit Added', str(len(added_Ben_Golf))], ['Golf Benefit Deprecated', str(len(dropped_Ben_Golf))], ['Dining Benefit Added', str(len(added_Ben_Dining))], ['Dining Benefit Deprecated', str(len(dropped_Ben_Dining))], ['Golf Access Rule Added', str(len(added_ar_Golf))], ['Golf Access Rule Deprecated', str(len(dropped_ar_Golf))], ['Dining Access Rule Added', str(len(added_ar_Dining))], ['Dining Access Rule Deprecated', str(len(dropped_ar_Dining))]]\n",
    "count_data_df = pd.DataFrame(count_data, columns = ['Description', 'Count'])\n",
    "count_data_df.to_csv(\"outputs/ExpectedCountData.csv\",index=False)                                                                       "
   ]
  },
  {
   "cell_type": "code",
   "execution_count": null,
   "metadata": {},
   "outputs": [],
   "source": []
  }
 ],
 "metadata": {
  "kernelspec": {
   "display_name": "Python 3",
   "language": "python",
   "name": "python3"
  },
  "language_info": {
   "codemirror_mode": {
    "name": "ipython",
    "version": 3
   },
   "file_extension": ".py",
   "mimetype": "text/x-python",
   "name": "python",
   "nbconvert_exporter": "python",
   "pygments_lexer": "ipython3",
   "version": "3.6.9"
  }
 },
 "nbformat": 4,
 "nbformat_minor": 2
}
