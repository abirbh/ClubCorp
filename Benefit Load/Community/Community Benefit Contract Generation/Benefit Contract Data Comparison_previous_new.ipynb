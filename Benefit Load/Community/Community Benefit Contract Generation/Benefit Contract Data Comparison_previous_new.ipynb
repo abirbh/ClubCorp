{
 "cells": [
  {
   "cell_type": "markdown",
   "metadata": {},
   "source": [
    "<H2>Benefit Contract Data Generation</b>"
   ]
  },
  {
   "cell_type": "code",
   "execution_count": 7,
   "metadata": {},
   "outputs": [],
   "source": [
    "import pandas as pd\n",
    "import sqlite3\n",
    "import re\n",
    "import hashlib"
   ]
  },
  {
   "cell_type": "markdown",
   "metadata": {},
   "source": [
    "<b>Read membership data from Reltio export</b>"
   ]
  },
  {
   "cell_type": "code",
   "execution_count": 8,
   "metadata": {},
   "outputs": [],
   "source": [
    "community_benefit_contract_old_df = pd.read_csv(\"output/community_benefit_contracts_allValues_unique_old.csv\", dtype=str)\n",
    "\n",
    "community_benefit_contract_df = pd.read_csv(\"output/community_benefit_contracts_allValues_unique.csv\", dtype=str)"
   ]
  },
  {
   "cell_type": "code",
   "execution_count": 9,
   "metadata": {},
   "outputs": [
    {
     "name": "stdout",
     "output_type": "stream",
     "text": [
      "Newly added Benefit Contract : 1109\n",
      "Deleted Benefit Contract : 0\n"
     ]
    }
   ],
   "source": [
    "\n",
    "newlyAddedBenefitContract = set(list(community_benefit_contract_df['benefit_contract_id'])) - set(list(community_benefit_contract_old_df['benefit_contract_id']))\n",
    "print(\"Newly added Benefit Contract : \" + str(len(newlyAddedBenefitContract)))\n",
    "#print(newlyAddedBenefitContract)\n",
    "\n",
    "df_newlyAdded = community_benefit_contract_df[(community_benefit_contract_df['benefit_contract_id'].isin(newlyAddedBenefitContract))]\n",
    "df_newlyAdded.to_csv(\"output\\Added_Benefit_Contract.csv\", index=False)\n",
    "\n",
    "\n",
    "deletedBenefitContract = set(list(community_benefit_contract_old_df['benefit_contract_id'])) - set(list(community_benefit_contract_df['benefit_contract_id']))\n",
    "print(\"Deleted Benefit Contract : \" + str(len(deletedBenefitContract)))\n",
    "#print(deletedBenefitContract)\n",
    "\n",
    "df_deleted = community_benefit_contract_old_df[(community_benefit_contract_old_df['benefit_contract_id'].isin(deletedBenefitContract))]\n",
    "df_deleted.to_csv(\"output\\Deleted_Benefit_Contract.csv\", index=False)\n",
    "\n",
    "\n"
   ]
  },
  {
   "cell_type": "code",
   "execution_count": null,
   "metadata": {},
   "outputs": [],
   "source": []
  }
 ],
 "metadata": {
  "kernelspec": {
   "display_name": "Python 3",
   "language": "python",
   "name": "python3"
  },
  "language_info": {
   "codemirror_mode": {
    "name": "ipython",
    "version": 3
   },
   "file_extension": ".py",
   "mimetype": "text/x-python",
   "name": "python",
   "nbconvert_exporter": "python",
   "pygments_lexer": "ipython3",
   "version": "3.6.9"
  }
 },
 "nbformat": 4,
 "nbformat_minor": 2
}
