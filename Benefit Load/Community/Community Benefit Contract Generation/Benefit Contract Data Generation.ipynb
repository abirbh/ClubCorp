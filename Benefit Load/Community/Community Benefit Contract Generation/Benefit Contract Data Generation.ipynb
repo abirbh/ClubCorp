{
 "cells": [
  {
   "cell_type": "markdown",
   "metadata": {},
   "source": [
    "<H2>Benefit Contract Data Generation</b>"
   ]
  },
  {
   "cell_type": "code",
   "execution_count": 1,
   "metadata": {},
   "outputs": [],
   "source": [
    "import pandas as pd\n",
    "import sqlite3\n",
    "import re\n",
    "import hashlib"
   ]
  },
  {
   "cell_type": "markdown",
   "metadata": {},
   "source": [
    "<b>Read membership data from Reltio export</b>"
   ]
  },
  {
   "cell_type": "code",
   "execution_count": 2,
   "metadata": {},
   "outputs": [],
   "source": [
    "df_non_resigned = pd.read_csv(\"datasets/prod_non_resigned_membership_20193001.csv\", dtype=str)"
   ]
  },
  {
   "cell_type": "markdown",
   "metadata": {},
   "source": [
    "<b>Read Community name mappings</b>"
   ]
  },
  {
   "cell_type": "code",
   "execution_count": 3,
   "metadata": {},
   "outputs": [],
   "source": [
    "community_names_df = pd.read_excel(\"datasets/Community Name Mapping.xlsx\", sheet_name=0, dtype=str)\n",
    "community_names_df['Community_Name_Dana'] = community_names_df['Community_Name_Dana'].apply(lambda x: x.strip().upper())\n",
    "community_names_df['Community_Name_Dana'] = community_names_df['Community_Name_Dana'].apply(lambda x: ' '.join(x.split()))"
   ]
  },
  {
   "cell_type": "code",
   "execution_count": 4,
   "metadata": {},
   "outputs": [
    {
     "data": {
      "text/plain": [
       "Index(['Community_ID', 'Community_Name_Reltio', 'Community_Name_Dana'], dtype='object')"
      ]
     },
     "execution_count": 4,
     "metadata": {},
     "output_type": "execute_result"
    }
   ],
   "source": [
    "community_names_df.columns"
   ]
  },
  {
   "cell_type": "markdown",
   "metadata": {},
   "source": [
    "<b>Read Community Benefit File<b>"
   ]
  },
  {
   "cell_type": "code",
   "execution_count": 5,
   "metadata": {},
   "outputs": [],
   "source": [
    "community_benefit_df = pd.read_csv(\"datasets/Owned Club Community Benefits Review 20181220 V8 Preprocessed.csv\", dtype=str)\n",
    "community_benefit_df['Benefit Tier'] = community_benefit_df['Benefit Tier'].apply(lambda x: x.strip().upper())\n",
    "community_benefit_df['Benefit Tier'] = community_benefit_df['Benefit Tier'].apply(lambda x: ' '.join(x.split()))"
   ]
  },
  {
   "cell_type": "markdown",
   "metadata": {},
   "source": [
    "<b>Read benefit tier queries</b>"
   ]
  },
  {
   "cell_type": "code",
   "execution_count": 6,
   "metadata": {},
   "outputs": [],
   "source": [
    "query_df = pd.read_csv(\"datasets/benefit_tier_query_20190129 V18.csv\", dtype=str)\n",
    "query_df['benefit_tier'] = query_df['benefit_tier'].str.upper()\n",
    "query_df['benefit_tier'] = query_df['benefit_tier'].str.strip()"
   ]
  },
  {
   "cell_type": "code",
   "execution_count": 7,
   "metadata": {},
   "outputs": [
    {
     "data": {
      "text/plain": [
       "Index(['benefit_tier', 'query'], dtype='object')"
      ]
     },
     "execution_count": 7,
     "metadata": {},
     "output_type": "execute_result"
    }
   ],
   "source": [
    "query_df.columns"
   ]
  },
  {
   "cell_type": "markdown",
   "metadata": {},
   "source": [
    "<b>Loading datasets in SQLite</b>"
   ]
  },
  {
   "cell_type": "code",
   "execution_count": 8,
   "metadata": {},
   "outputs": [
    {
     "name": "stdout",
     "output_type": "stream",
     "text": [
      "Wall time: 25.7 ms\n"
     ]
    }
   ],
   "source": [
    "%%time\n",
    "conn = sqlite3.connect(\"benefitContract.db\")"
   ]
  },
  {
   "cell_type": "markdown",
   "metadata": {},
   "source": [
    "<b>Benefit contract generation</b>"
   ]
  },
  {
   "cell_type": "code",
   "execution_count": 9,
   "metadata": {},
   "outputs": [
    {
     "name": "stdout",
     "output_type": "stream",
     "text": [
      "ATLANTA\n",
      "Generating benefit contract for : My Atlanta Community,ATL ASSOCIATE GOLF\n",
      "Generating benefit contract for : My Atlanta Community,ATL ONE GOLF\n",
      "Generating benefit contract for : My Atlanta Community,ATL ONE NON GOLF\n",
      "Generating benefit contract for : My Atlanta Community,ATL SOCIETY FOR ALLIANCE CLUBS\n",
      "Generating benefit contract for : My Atlanta Community,ATL SOCIETY FOR CCOS GOLF\n",
      "Generating benefit contract for : My Atlanta Community,ATL SOCIETY FOR CCOS NON GOLF\n",
      "Generating benefit contract for : My Atlanta Community,ATL SOCIETY FOR LEGACY CLUBS\n",
      "Generating benefit contract for : My Atlanta Community,ATLANTA SIGNATURE GOLF\n",
      "Generating benefit contract for : My Atlanta Community,CHAMPIONS\n",
      "Generating benefit contract for : My Atlanta Community,CHAMPIONS ONE\n",
      "Generating benefit contract for : My Atlanta Community,INFINITY\n",
      "Generating benefit contract for : My Atlanta Community,INFINITY - ONE\n",
      "Generating benefit contract for : My Atlanta Community,ONE BC RESIDENT\n",
      "Generating benefit contract for : My Atlanta Community,ONE BC EXEC\n",
      "Generating benefit contract for : My Atlanta Community,ONE GOLF\n",
      "Generating benefit contract for : My Atlanta Community,ONE GOLF - LEGACY\n",
      "Generating benefit contract for : My Atlanta Community,ONE NON GOLF\n",
      "Generating benefit contract for : My Atlanta Community,ONE NON GOLF - LEGACY\n",
      "CHARLOTTE\n",
      "Generating benefit contract for : My Charlotte Community,ONE GOLF\n",
      "Generating benefit contract for : My Charlotte Community,ONE NON GOLF\n",
      "Generating benefit contract for : My Charlotte Community,SOCIETY\n",
      "CHICAGO\n",
      "Generating benefit contract for : My Chicago Community,ONE\n",
      "Generating benefit contract for : My Chicago Community,SOCIETY\n",
      "COLUMBIA\n",
      "Generating benefit contract for : My Columbia Community,ALL COMMUNITY PROGRAMMING\n",
      "DENVER/CO SPRINGS\n",
      "Generating benefit contract for : My Denver Community,ALL COMMUNITY PROGRAMMING\n",
      "DFW\n",
      "Generating benefit contract for : My Dallas Fort Worth Community,NCS\n",
      "Generating benefit contract for : My Dallas Fort Worth Community,NCS CUSTOM\n",
      "Generating benefit contract for : My Dallas Fort Worth Community,ONE BAYLOR - DALLAS\n",
      "Generating benefit contract for : My Dallas Fort Worth Community,ONE DUAL CLUB - STONEBRIDGE RANCH\n",
      "Generating benefit contract for : My Dallas Fort Worth Community,ONE GOLF - ELITE CLUB MEMBER\n",
      "Generating benefit contract for : My Dallas Fort Worth Community,ONE GOLF - PREMIER STONEBRIDGE HILLS MEMBER\n",
      "Generating benefit contract for : My Dallas Fort Worth Community,ONE GOLF - PREMIERE CLUB MEMBER\n",
      "Generating benefit contract for : My Dallas Fort Worth Community,ONE NON GOLF\n",
      "Generating benefit contract for : My Dallas Fort Worth Community,ONE TX TECH - DALLAS\n",
      "Generating benefit contract for : My Dallas Fort Worth Community,ONE UT CLUB - DALLAS\n",
      "Generating benefit contract for : My Dallas Fort Worth Community,SOCIETY\n",
      "Generating benefit contract for : My Dallas Fort Worth Community,TOPGOLF\n",
      "Generating benefit contract for : My Dallas Fort Worth Community,TOWER/LA CIMA SOCIETY\n",
      "Generating benefit contract for : My Dallas Fort Worth Community,YEX\n",
      "Generating benefit contract for : My Dallas Fort Worth Community,YEX - ONE\n",
      "GREENVILLE\n",
      "Generating benefit contract for : My Greenville, SC-Asheville, NC Community,ALL COMMUNITY PROGRAMMING\n",
      "HILTON HEAD\n",
      "Generating benefit contract for : My Hilton Head Community,ONE GOLF - CCHH ONLY\n",
      "Generating benefit contract for : My Hilton Head Community,ONE GOLF - GCIR ONLY\n",
      "Generating benefit contract for : My Hilton Head Community,ONE NON GOLF - CCHH ONLY\n",
      "Generating benefit contract for : My Hilton Head Community,ONE NON GOLF - GCIR ONLY\n",
      "HOUSTON\n",
      "Generating benefit contract for : My Houston Community,ASSOCIATE GOLF\n",
      "Generating benefit contract for : My Houston Community,ASSOCIATE ONE\n",
      "Generating benefit contract for : My Houston Community,CHAMPIONS\n",
      "Generating benefit contract for : My Houston Community,CHAMPIONS ONE\n",
      "Generating benefit contract for : My Houston Community,FULL ONE\n",
      "Generating benefit contract for : My Houston Community,ONE BAYLOR - HOUSTON\n",
      "Generating benefit contract for : My Houston Community,ONE GOLF\n",
      "Generating benefit contract for : My Houston Community,ONE GOLF - BAY OAKS GOLF MEMBERS\n",
      "Generating benefit contract for : My Houston Community,ONE GOLF - KINGWOOD FULL GOLF MASTERS MEMBERS\n",
      "Generating benefit contract for : My Houston Community,ONE GOLF - WOODLANDS MEMBERS\n",
      "Generating benefit contract for : My Houston Community,ONE NON GOLF\n",
      "Generating benefit contract for : My Houston Community,ONE TX TECH - HOUSTON\n",
      "Generating benefit contract for : My Houston Community,ONE UT CLUB - HOUSTON\n",
      "Generating benefit contract for : My Houston Community,SOCIETY\n",
      "Generating benefit contract for : My Houston Community,TOPGOLF\n",
      "Generating benefit contract for : My Houston Community,YEX\n",
      "Generating benefit contract for : My Houston Community,YEX - ONE CANONGATE\n",
      "Generating benefit contract for : My Houston Community,YEX - ONE LEGACY\n",
      "KANSAS CITY\n",
      "Generating benefit contract for : My Kansas City Community,ALL COMMUNITY PROGRAMMING\n",
      "MINNEAPOLIS\n",
      "Generating benefit contract for : My Minneapolis-St. Paul Community,ALL COMMUNITY PROGRAMMING\n",
      "NEW YORK CITY\n",
      "Generating benefit contract for : My New York City Community,NYC COMMUNITY\n",
      "Generating benefit contract for : My New York City Community,ONE - HAMLET MEMBERS ONLY\n",
      "OKC\n",
      "Generating benefit contract for : My Oklahoma City Community,ALL COMMUNITY PROGRAMMING\n",
      "ORANGE COUNTY\n",
      "Generating benefit contract for : My Orange County Community Unlimited,SOCIETY\n",
      "Generating benefit contract for : My Orange County Community Unlimited,ONE\n",
      "Generating benefit contract for : My Orange County Community Unlimited,SOCIETY (CENTER CLUB ONLY)\n",
      "PUGET SOUND\n",
      "Generating benefit contract for : My Puget Sound Community,ALL COMMUNITY PROGRAMMING\n",
      "SOUTH COAST\n",
      "Generating benefit contract for : My South Coast Community - Miami/Ft Lauderdale,ALL COMMUNITY PROGRAMMING\n",
      "TRIANGLE\n",
      "Generating benefit contract for : My Triangle Community - Raleigh/Durham/Chapel Hill,ALL COMMUNITY PROGRAMMING\n",
      "WACO\n",
      "Generating benefit contract for : My Waco Community,ALL COMMUNITY PROGRAMMING\n",
      "WINSTON-SALEM\n",
      "Generating benefit contract for : My Winston-Salem Community,ALL COMMUNITY PROGRAMMING\n",
      "BIRMINGHAM\n",
      "Generating benefit contract for : My Birmingham Community,ALL COMMUNITY PROGRAMMING\n",
      "BAY AREA\n",
      "Generating benefit contract for : My Bay Area Community,ALL COMMUNITY PROGRAMMING\n",
      "LOS ANGELES\n",
      "Generating benefit contract for : My Los Angeles Community,ONE\n",
      "Generating benefit contract for : My Los Angeles Community,SOCIETY BRAEMAR GOLF MEMBERS\n",
      "Generating benefit contract for : My Los Angeles Community,SOCIETY PV GOLF MEMBERS\n",
      "Generating benefit contract for : My Los Angeles Community,SOCIETY (LA)\n",
      "RIVER\n",
      "Generating benefit contract for : My River Community - Cincinnati/Dayton,ALL COMMUNITY PROGRAMMING\n",
      "SAN DIEGO\n",
      "Generating benefit contract for : My San Diego Community Unlimited,ONE\n",
      "Generating benefit contract for : My San Diego Community Unlimited,SOCIETY (UC CLUB & LA COSTA ONLY)\n",
      "SPRING VALLEY/CANYON CREST\n",
      "Generating benefit contract for : My Spring Valley Lake-Canyon Crest Community,ALL COMMUNITY PROGRAMMING\n",
      "CAPITAL\n",
      "Generating benefit contract for : My Capital Community - Washington DC,ALL COMMUNITY PROGRAMMING\n",
      "CHARLESTON\n",
      "Generating benefit contract for : My Charleston Community,ALL COMMUNITY PROGRAMMING\n",
      "COACHELLA\n",
      "Generating benefit contract for : My Coachella Valley Community,ALL COMMUNITY PROGRAMMING\n",
      "DETROIT\n",
      "Generating benefit contract for : My Detroit Community,ONE\n",
      "Generating benefit contract for : My Detroit Community,SOCIETY\n",
      "INDIANPOLIS\n",
      "Generating benefit contract for : My Indianapolis Community,ALL COMMUNITY PROGRAMMING\n",
      "JACKSONVILLE\n",
      "Generating benefit contract for : My Jacksonville Community,ALL COMMUNITY PROGRAMMING\n",
      "MID-ATLANTIC\n",
      "Generating benefit contract for : My Mid-Atlantic Community - Philadelphia,ALL COMMUNITY PROGRAMMING\n",
      "NASHVILLE\n",
      "Generating benefit contract for : My Nashville Community,ALL COMMUNITY PROGRAMMING\n",
      "NEW ENGLAND\n",
      "Generating benefit contract for : My New England Community - Boston, MA/Providence, RI,ALL COMMUNITY PROGRAMMING\n",
      "NORFOLK\n",
      "Generating benefit contract for : My Hampton Roads Community - Norfolk,ALL COMMUNITY PROGRAMMING\n",
      "NORTH COAST\n",
      "Generating benefit contract for : My North Coast Community - Cleveland/Akron,ALL COMMUNITY PROGRAMMING\n",
      "ORLANDO\n"
     ]
    },
    {
     "name": "stdout",
     "output_type": "stream",
     "text": [
      "Generating benefit contract for : My Orlando Community,ALL COMMUNITY PROGRAMMING\n",
      "PHOENIX\n",
      "Generating benefit contract for : My Phoenix Community,ALL COMMUNITY PROGRAMMING\n",
      "PITTSBURGH\n",
      "Generating benefit contract for : My Pittsburgh Community,ALL COMMUNITY PROGRAMMING\n",
      "TAMPA BAY\n",
      "Generating benefit contract for : My Tampa Bay Community,CROSS BAY\n",
      "Generating benefit contract for : My Tampa Bay Community,ONE\n",
      "Generating benefit contract for : My Tampa Bay Community,SOCIETY\n",
      "LONESTAR\n",
      "Generating benefit contract for : My Lone Star Community - Austin/San Antonio,ONE BAYLOR - AUSTIN\n",
      "Generating benefit contract for : My Lone Star Community - Austin/San Antonio,ONE BAYLOR - SAN ANTONIO\n",
      "Generating benefit contract for : My Lone Star Community - Austin/San Antonio,ONE\n",
      "Generating benefit contract for : My Lone Star Community - Austin/San Antonio,ONE TX TECH - AUSTIN\n",
      "Generating benefit contract for : My Lone Star Community - Austin/San Antonio,ONE TX TECH - SAN ANTONIO\n",
      "Generating benefit contract for : My Lone Star Community - Austin/San Antonio,SOCIETY\n"
     ]
    }
   ],
   "source": [
    "benefit_contracts = []\n",
    "membership_type_and_benefit_tier = set()\n",
    "all_communities = community_benefit_df['Community'].dropna().unique()\n",
    "for community_name_dana in all_communities:\n",
    "    print(community_name_dana)\n",
    "    community_name_reltio = community_names_df[community_names_df['Community_Name_Dana'] == community_name_dana]['Community_Name_Reltio'].iloc[0]\n",
    "    community_id = community_names_df[community_names_df['Community_Name_Dana'] == community_name_dana]['Community_ID'].iloc[0]\n",
    "    \n",
    "    if community_name_reltio == 'My Compass Southern Community':\n",
    "        continue\n",
    "        \n",
    "    df = df_non_resigned[(df_non_resigned['Attributes.EC_Community.EC_Name'] == community_name_reltio) | (df_non_resigned['Attributes.EC_Community2.EC_Name'] == community_name_reltio)]\n",
    "    df.to_sql(\"df\", conn, if_exists=\"replace\")\n",
    "\n",
    "    benefit_tiers = community_benefit_df[community_benefit_df['Community']==community_name_dana]['Benefit Tier'].dropna().unique()\n",
    "    #print(benefit_tiers)\n",
    "    for benefit_tier in benefit_tiers:\n",
    "        benefit_tier = benefit_tier.strip()\n",
    "        benefit_tier = benefit_tier.replace('  ',' ')\n",
    "        benefit_tier = benefit_tier.upper()\n",
    "        print(\"Generating benefit contract for : \" + community_name_reltio + \",\" + benefit_tier)\n",
    "        query_str = query_df[query_df['benefit_tier'] == benefit_tier]['query'].iloc[0]\n",
    "        query_all_columns = query_str.replace('select df.ID', 'select df.*')\n",
    "        rs = pd.read_sql_query(query_all_columns, conn)\n",
    "        if len(rs.index) > 0:\n",
    "            \n",
    "            for membership_index, membership_row in rs.iterrows():\n",
    "                \n",
    "                membership_uri = membership_row['ID']\n",
    "                membership_number = membership_row['Attributes.EC_Membership_Number']\n",
    "                entity_code = membership_row['Attributes.CCNative.ENTITY_CODE']\n",
    "                membership_type_id = membership_row['Attributes.EC_MP_Detail.MBRSHIP_TYPE_ID']\n",
    "                membership_category_code = membership_row['Attributes.EC_MP_Detail.MBRSHIP_CATEGORY_CODE']\n",
    "                #community_1 = membership_row['Attributes.EC_Community.EC_Name']\n",
    "                #community_2 = membership_row['Attributes.EC_Community2.EC_Name']\n",
    "                \n",
    "                benefit_contracts.append({'membership_uri':membership_uri,'membership_number':membership_number,'entity_code':entity_code, 'membership_type_id':membership_type_id, 'membership_category_code' : membership_category_code , 'benefit_tier': benefit_tier,'community': community_name_reltio,'community_id': community_id})\n",
    "                membership_type_and_benefit_tier.add((membership_type_id,membership_category_code,benefit_tier))\n"
   ]
  },
  {
   "cell_type": "markdown",
   "metadata": {},
   "source": [
    "<b>Save Benefit Contract Data</b>"
   ]
  },
  {
   "cell_type": "code",
   "execution_count": 10,
   "metadata": {},
   "outputs": [],
   "source": [
    "benefit_contract_df = pd.DataFrame(benefit_contracts)\n",
    "benefit_contract_df = benefit_contract_df[['membership_uri','membership_number','entity_code','membership_type_id', 'membership_category_code', 'benefit_tier','community','community_id']]\n",
    "benefit_contract_df.to_csv(\"output\\community_benefit_contracts_initial.csv\", index=False)"
   ]
  },
  {
   "cell_type": "code",
   "execution_count": 11,
   "metadata": {},
   "outputs": [],
   "source": [
    "membership_type_and_benefit_tier_df = pd.DataFrame(list(membership_type_and_benefit_tier), columns=['membership_type_id','membership_category_code','benefit_tier'])\n",
    "membership_type_and_benefit_tier_df.to_csv(\"output\\membership_type_and_benefit_tier_df.csv\", index=False)"
   ]
  },
  {
   "cell_type": "markdown",
   "metadata": {},
   "source": [
    "<b>Duplicate Membership Type IDs - this means benefit tier interpretation problem<b/>"
   ]
  },
  {
   "cell_type": "code",
   "execution_count": 12,
   "metadata": {},
   "outputs": [
    {
     "name": "stdout",
     "output_type": "stream",
     "text": [
      "                                             benefit_tier\n",
      "membership_type_id membership_category_code              \n",
      "102000476          01                                   2\n",
      "112000476          04                                   2\n",
      "114000476          01                                   2\n",
      "119000476          01                                   2\n",
      "120000476          01                                   2\n",
      "128000476          01                                   2\n",
      "129000476          01                                   2\n",
      "130000476          01                                   2\n",
      "139000476          01                                   2\n",
      "143000476          01                                   2\n",
      "145000476          01                                   2\n",
      "146000476          01                                   2\n",
      "196002810          01                                   2\n",
      "199002832          01                                   2\n",
      "50000476           01                                   2\n",
      "51000476           01                                   2\n",
      "53000476           01                                   2\n",
      "54000476           01                                   2\n",
      "56000476           01                                   2\n",
      "57000476           01                                   2\n",
      "59000476           01                                   2\n",
      "63000476           02                                   2\n",
      "65000476           04                                   2\n",
      "                                                          benefit_tier\n",
      "membership_type_id membership_category_code                           \n",
      "102000476          01                        ALL COMMUNITY PROGRAMMING\n",
      "112000476          04                        ALL COMMUNITY PROGRAMMING\n",
      "114000476          01                        ALL COMMUNITY PROGRAMMING\n",
      "119000476          01                        ALL COMMUNITY PROGRAMMING\n",
      "120000476          01                        ALL COMMUNITY PROGRAMMING\n",
      "128000476          01                        ALL COMMUNITY PROGRAMMING\n",
      "129000476          01                        ALL COMMUNITY PROGRAMMING\n",
      "130000476          01                        ALL COMMUNITY PROGRAMMING\n",
      "139000476          01                        ALL COMMUNITY PROGRAMMING\n",
      "143000476          01                        ALL COMMUNITY PROGRAMMING\n",
      "145000476          01                        ALL COMMUNITY PROGRAMMING\n",
      "146000476          01                        ALL COMMUNITY PROGRAMMING\n",
      "196002810          01                                     ATL ONE GOLF\n",
      "199002832          01                                     ATL ONE GOLF\n",
      "50000476           01                        ALL COMMUNITY PROGRAMMING\n",
      "51000476           01                        ALL COMMUNITY PROGRAMMING\n",
      "53000476           01                        ALL COMMUNITY PROGRAMMING\n",
      "54000476           01                        ALL COMMUNITY PROGRAMMING\n",
      "56000476           01                        ALL COMMUNITY PROGRAMMING\n",
      "57000476           01                        ALL COMMUNITY PROGRAMMING\n",
      "59000476           01                        ALL COMMUNITY PROGRAMMING\n",
      "63000476           02                        ALL COMMUNITY PROGRAMMING\n",
      "65000476           04                        ALL COMMUNITY PROGRAMMING\n",
      "                                            benefit_tier\n",
      "membership_type_id membership_category_code             \n",
      "102000476          01                                ONE\n",
      "112000476          04                                ONE\n",
      "114000476          01                                ONE\n",
      "119000476          01                                ONE\n",
      "120000476          01                                ONE\n",
      "128000476          01                                ONE\n",
      "129000476          01                                ONE\n",
      "130000476          01                                ONE\n",
      "139000476          01                                ONE\n",
      "143000476          01                                ONE\n",
      "145000476          01                                ONE\n",
      "146000476          01                                ONE\n",
      "196002810          01                           ONE GOLF\n",
      "199002832          01                           ONE GOLF\n",
      "50000476           01                                ONE\n",
      "51000476           01                                ONE\n",
      "53000476           01                                ONE\n",
      "54000476           01                                ONE\n",
      "56000476           01                                ONE\n",
      "57000476           01                                ONE\n",
      "59000476           01                                ONE\n",
      "63000476           02                                ONE\n",
      "65000476           04                                ONE\n"
     ]
    }
   ],
   "source": [
    "## Printing the duplicate MembershipIds\n",
    "print(membership_type_and_benefit_tier_df[membership_type_and_benefit_tier_df.duplicated(['membership_type_id','membership_category_code'], keep=False)].groupby(('membership_type_id', 'membership_category_code')).count())\n",
    "\n",
    "print(membership_type_and_benefit_tier_df[membership_type_and_benefit_tier_df.duplicated(['membership_type_id','membership_category_code'], keep=False)].groupby(('membership_type_id', 'membership_category_code')).min())\n",
    "print(membership_type_and_benefit_tier_df[membership_type_and_benefit_tier_df.duplicated(['membership_type_id','membership_category_code'], keep=False)].groupby(('membership_type_id', 'membership_category_code')).max())\n",
    "\n"
   ]
  },
  {
   "cell_type": "markdown",
   "metadata": {},
   "source": [
    "<b>Generating Benefit Contract with all the required values With All</b>"
   ]
  },
  {
   "cell_type": "code",
   "execution_count": 13,
   "metadata": {},
   "outputs": [],
   "source": [
    "pattern = re.compile(r'\\s+')\n",
    "def generateIdBasedOnHashBenefitContract(df):\n",
    "    benefit_contract_ids = []\n",
    "    for index, row in df.iterrows():\n",
    "        community_id = row['community_id']\n",
    "        text = row['benefit_tier'] + \"|\" + community_id + \"|\" + row['membership_number']+ \"|\" + row['entity_code'] \n",
    "        benefit_contract_ids.append(generateIdBasedOnHash(text))\n",
    "    return benefit_contract_ids"
   ]
  },
  {
   "cell_type": "code",
   "execution_count": 14,
   "metadata": {},
   "outputs": [],
   "source": [
    "def generateIdBasedOnHashBenefitPackage(df):\n",
    "    benefit_contract_ids = []\n",
    "    for index, row in df.iterrows():\n",
    "        community_id = row['community_id']\n",
    "        text = community_id + \"|\" + row['benefit_tier']\n",
    "        benefit_contract_ids.append(generateIdBasedOnHash(text))\n",
    "    return benefit_contract_ids"
   ]
  },
  {
   "cell_type": "code",
   "execution_count": 15,
   "metadata": {},
   "outputs": [],
   "source": [
    "pattern = re.compile(r'\\s+')\n",
    "def generateIdBasedOnHash(text):\n",
    "    normalized_text = text.strip().lower()\n",
    "    normalized_text = re.sub(pattern, '_', normalized_text)\n",
    "    return str(hashlib.md5(normalized_text.encode('utf-8')).hexdigest())"
   ]
  },
  {
   "cell_type": "code",
   "execution_count": 16,
   "metadata": {},
   "outputs": [],
   "source": [
    "benefit_contract_initial_df = pd.read_csv(\"output/community_benefit_contracts_initial.csv\", dtype=str)\n",
    "\n",
    "benefit_contract_initial_df['benefit_package_id'] = generateIdBasedOnHashBenefitPackage(benefit_contract_initial_df)\n",
    "benefit_contract_initial_df['benefit_contract_id'] = generateIdBasedOnHashBenefitContract(benefit_contract_initial_df)\n",
    "benefit_contract_initial_df['name'] = benefit_contract_initial_df.apply(lambda row: row.benefit_tier + \"_\" + row.community + \"(\" + row.membership_number + \")\", axis=1)\n",
    "benefit_contract_initial_df['description'] = benefit_contract_initial_df.apply(lambda row: row.benefit_tier + \"_\" + row.community + \"(\" + row.membership_number+ \"-\" + row.entity_code + \")\", axis=1)\n",
    "benefit_contract_initial_df['type'] = \"Community\"\n",
    "benefit_contract_initial_df['active'] = \"Y\"\n",
    "\n",
    "benefit_contract_initial_df.to_csv(\"output\\community_benefit_contracts_allValues.csv\", index=False)"
   ]
  },
  {
   "cell_type": "markdown",
   "metadata": {},
   "source": [
    "<b>Close database connection</b>"
   ]
  },
  {
   "cell_type": "code",
   "execution_count": 17,
   "metadata": {},
   "outputs": [],
   "source": [
    "conn.close()"
   ]
  },
  {
   "cell_type": "markdown",
   "metadata": {},
   "source": [
    "<b>Removing Duplicate Ids</b>"
   ]
  },
  {
   "cell_type": "code",
   "execution_count": 18,
   "metadata": {},
   "outputs": [
    {
     "name": "stdout",
     "output_type": "stream",
     "text": [
      "Benefit Contract Id Uniqueness : False\n",
      "['11cfe081da9fa3dc8fce53abae0650bc' '444e853f566b6ac94c541b55a172e547'\n",
      " '5efff61abc8d6523971ba33f3bb338e7' 'c972536421a6a2027d424ec02d20aa4e'\n",
      " 'e31585ce45694c89cb226d5231493c89']\n",
      "94852\n",
      "94842\n",
      "10\n"
     ]
    }
   ],
   "source": [
    "benefit_contract_id_unique = benefit_contract_initial_df['benefit_contract_id'].is_unique\n",
    "print(\"Benefit Contract Id Uniqueness : \" + str(benefit_contract_id_unique))\n",
    "\n",
    "if not benefit_contract_id_unique:\n",
    "    #Getting the duplicate Ids\n",
    "    sub_set = benefit_contract_initial_df[['benefit_contract_id']]\n",
    "    dulicateBenefitContractIds = sub_set[sub_set.duplicated(['benefit_contract_id'], keep=False)].groupby(('benefit_contract_id')).max().index.values\n",
    "    print(dulicateBenefitContractIds)\n",
    "    \n",
    "    \n",
    "    condition = benefit_contract_initial_df['benefit_contract_id'].isin(dulicateBenefitContractIds)\n",
    "    df_unique_values = benefit_contract_initial_df[(~condition)]\n",
    "    df_duplicate_values = benefit_contract_initial_df[(condition)]\n",
    "    \n",
    "    print(len(benefit_contract_initial_df.index))\n",
    "    print(len(df_unique_values.index))\n",
    "    print(len(df_duplicate_values.index))\n",
    "    \n",
    "    df_unique_values.to_csv(\"output\\community_benefit_contracts_allValues_unique.csv\", index=False)\n",
    "    df_duplicate_values.to_csv(\"output\\community_benefit_contracts_allValues_duplicate.csv\", index=False)\n",
    "          \n",
    "          \n",
    "    "
   ]
  },
  {
   "cell_type": "code",
   "execution_count": null,
   "metadata": {},
   "outputs": [],
   "source": []
  }
 ],
 "metadata": {
  "kernelspec": {
   "display_name": "Python 3",
   "language": "python",
   "name": "python3"
  },
  "language_info": {
   "codemirror_mode": {
    "name": "ipython",
    "version": 3
   },
   "file_extension": ".py",
   "mimetype": "text/x-python",
   "name": "python",
   "nbconvert_exporter": "python",
   "pygments_lexer": "ipython3",
   "version": "3.6.9"
  }
 },
 "nbformat": 4,
 "nbformat_minor": 2
}
