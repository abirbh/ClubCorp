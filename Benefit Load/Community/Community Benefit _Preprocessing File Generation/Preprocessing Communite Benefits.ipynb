{
 "cells": [
  {
   "cell_type": "code",
   "execution_count": 1,
   "metadata": {},
   "outputs": [],
   "source": [
    "import pandas as pd"
   ]
  },
  {
   "cell_type": "code",
   "execution_count": 2,
   "metadata": {},
   "outputs": [],
   "source": [
    "inputfilename = 'Owned Club Community Benefits Review 09102020'\n",
    "\n",
    "df = pd.read_excel(\"datasets\\\\\" + inputfilename + \".xlsx\", dtype=str, sheet_name=2, skiprows=0, na_filter=False)\n",
    "df = df.drop_duplicates()"
   ]
  },
  {
   "cell_type": "code",
   "execution_count": 3,
   "metadata": {},
   "outputs": [
    {
     "data": {
      "text/plain": [
       "Index(['Community', 'Market', 'Club Type', 'Club', 'Benefit Tier',\n",
       "       'Members coming from', 'Cart Fee Rate', 'Suggested Tier Rate 2019',\n",
       "       'Golf Benefit', 'Availability', 'Advance', 'Golf Amenity Restrictions',\n",
       "       'Dining Benefit', 'Dining Availability', 'Dining Restrictions',\n",
       "       'Tennis Benefit', 'Tennis Availability', 'Tennis Advance',\n",
       "       'Athletic Benefit', 'Athletic Availability', 'Athletic Advance',\n",
       "       'Pool Benefit', 'Pool Availability', 'Pool Advance', 'Notes'],\n",
       "      dtype='object')"
      ]
     },
     "execution_count": 3,
     "metadata": {},
     "output_type": "execute_result"
    }
   ],
   "source": [
    "df.columns"
   ]
  },
  {
   "cell_type": "markdown",
   "metadata": {},
   "source": [
    "<b> Replace \n",
    "    1. BRAELIN by BRAELINN GOLF CLUB\n",
    "    2. Planterra Ridge by Planterra Ridge Golf Club\n",
    "    3. Whitewater Creek by Whitewater Creek Country Club\n",
    "</b>\n",
    "This replacement is not required as our full_club list file contains both the string with same entity code"
   ]
  },
  {
   "cell_type": "code",
   "execution_count": 4,
   "metadata": {},
   "outputs": [],
   "source": [
    "df.Club = df.Club.str.replace('Braelin','Braelinn Golf Club')\n",
    "df.Club = df.Club.str.replace('Planterra Ridge','Planterra Ridge Golf Club')\n",
    "df.Club = df.Club.str.replace('Whitewater Creek','Whitewater Creek Country Club')\n",
    "#df.Club.unique()"
   ]
  },
  {
   "cell_type": "markdown",
   "metadata": {},
   "source": [
    "<b> Fix Clubs of Peachtree from Phil's Mail </b>\n",
    "From 15th May, 2019 file, Clubs of Peachtree does not exists in the Own Club file\n",
    "So, the following portion of code not required, hence commented"
   ]
  },
  {
   "cell_type": "code",
   "execution_count": 5,
   "metadata": {},
   "outputs": [],
   "source": [
    "#peachtree_clubs = ['Braelinn Golf Club','Flat Creek Country Club','Planterra Ridge Golf Club','Whitewater Creek Country Club']\n",
    "\n",
    "#for peachtree_club in peachtree_clubs:\n",
    "#    df_peachtree_club_copy = df[df['Club'] == 'Clubs of Peachtree'].copy()\n",
    "#    df_peachtree_club_copy['Club'] = peachtree_club\n",
    "#    df = df.append(df_peachtree_club_copy)\n",
    "    \n",
    "#df = df[~(df['Club'] == 'Clubs of Peachtree')] "
   ]
  },
  {
   "cell_type": "markdown",
   "metadata": {},
   "source": [
    "<b>Split dining benefits</b>"
   ]
  },
  {
   "cell_type": "code",
   "execution_count": 6,
   "metadata": {},
   "outputs": [
    {
     "data": {
      "text/plain": [
       "array(['No access', 'Pay to dine',\n",
       "       'Multiple\\n* 50% off evening dining\\n* Lunch access\\n',\n",
       "       'Two 2-4-1 per club\\nAdditional pay to dine access available',\n",
       "       'Multiple\\n* 50% off evening dining\\n* Lunch access\\n* Two 2-4-1 per club dining ',\n",
       "       'One 2-4-1 per club\\nAdditional pay to dine access available',\n",
       "       'Multiple\\n* 50% off two member meals per \\n* Lunch access',\n",
       "       'One 2-4-1 total\\nAdditional pay to dine acces available',\n",
       "       'Multiple offers\\n*  One 2-4-1 per club\\n*  50% off evening dining, unlimited',\n",
       "       'Multiple\\n* 50% off evening dining\\n* Lunch access\\n* One 2-4-1 per club dining\\n',\n",
       "       'Dining access',\n",
       "       'One 2-4-1 total Monday - Friday only\\nAdditional pay to dine acces available',\n",
       "       'N/A',\n",
       "       '2 comp meals per club\\nAdditional pay to dine access available',\n",
       "       'One 2-4-1 per dining OR Golf\\nAdditional pay to dine access available',\n",
       "       'Unlimited 2-4-1', 'No Community at this time', 'NA',\n",
       "       'Unlimited 50% off evening dining'], dtype=object)"
      ]
     },
     "execution_count": 6,
     "metadata": {},
     "output_type": "execute_result"
    }
   ],
   "source": [
    "df['Dining Benefit'].unique()"
   ]
  },
  {
   "cell_type": "code",
   "execution_count": 7,
   "metadata": {},
   "outputs": [],
   "source": [
    "dining_benefit_d = [{\"benefit\":'Multiple\\n* 50% off evening dining\\n* Lunch access\\n* Two 2-4-1 per club dining ',\\\n",
    "                                \"values\":['50% off evening dining','Lunch access','Two 2-4-1 per club dining']},\n",
    "                    {\"benefit\":'Multiple\\n* 50% off evening dining\\n* Lunch access\\n',\n",
    "                                \"values\":['50% off evening dining','Lunch access']},  \n",
    "                    {\"benefit\":'Two 2-4-1 per club\\nAdditional pay to dine access available',\n",
    "                                \"values\":['Two 2-4-1 per club dining','Additional pay to dine access available']},  \n",
    "                    {\"benefit\":'One 2-4-1 per club\\nAdditional pay to dine access available',\n",
    "                                \"values\":['One 2-4-1 per club dining','Additional pay to dine access available']},  \n",
    "                    {\"benefit\":'Multiple\\n* 50% off two member meals per \\n* Lunch access',\n",
    "                                \"values\":['50% off two member meals per club','Lunch access']},  \n",
    "                    {\"benefit\":'One 2-4-1 total\\nAdditional pay to dine acces available',\n",
    "                                \"values\":['One 2-4-1 total','Additional pay to dine access available']},  \n",
    "                    {\"benefit\":'Multiple offers\\n*  One 2-4-1 total\\n*  50% off evening dining, unlimited',\n",
    "                                \"values\":['One 2-4-1 total','50% off evening dining']},  \n",
    "                    {\"benefit\":'Multiple\\n* 50% off evening dining\\n* Lunch access\\n* One 2-4-1 per club dining\\n',\n",
    "                                \"values\":['50% off evening dining','Lunch access','One 2-4-1 per club dining']},   \n",
    "                    {\"benefit\":'One 2-4-1 total Monday - Friday only\\nAdditional pay to dine acces available',\n",
    "                                \"values\":['One 2-4-1 total Monday - Friday only','Additional pay to dine access available']},   \n",
    "                    {\"benefit\":'2 comp meals per club\\nAdditional pay to dine access available',\n",
    "                                \"values\":['2 comp meals per club','Additional pay to dine access available']},  \n",
    "                    {\"benefit\":'One 2-4-1 per dining OR Golf\\nAdditional pay to dine access available',\n",
    "                                \"values\":['One 2-4-1 per dining OR Golf','Additional pay to dine access available']},\n",
    "                    {\"benefit\" : 'Multiple\\n* 50% off evening dining, \\n* Lunch access\\n* Two 2-4-1 per club',\n",
    "                                \"values\" :['50% off evening dining', 'Lunch access','Two 2-4-1 per club dining']},\n",
    "                    {\"benefit\" : 'Multiple\\n* 50% off evening dining\\n* Lunch access\\n* Two 2-4-1 per club',\n",
    "                                \"values\" : ['50% off evening dining','Lunch access','Two 2-4-1 per club dining']},\n",
    "                    {\"benefit\" : 'Multiple\\n* 50% off evening dining\\n* Lunch access\\n* Two 2-4-1 per club dining\\n',\n",
    "                                \"values\":['50% off evening dining','Lunch access','Two 2-4-1 per club dining']},\n",
    "                    {\"benefit\" : 'Multiple offers\\n*  One 2-4-1 per club\\n*  50% off evening dining, unlimited',\n",
    "                                \"values\" :['One 2-4-1 per club dining', '50% off evening dining']},\n",
    "                    {\"benefit\" : ' Multiple: \\n* 50% off evening dining\\n* Lunch access',\n",
    "                                \"values\" : ['50% off evening dining','Lunch access']},\n",
    "                    {\"benefit\" : 'Multiple\\n* 50% off evening dining, \\n* Lunch access\\n* Two 2-4-1 per club ',\n",
    "                                \"values\" : ['50% off evening dining','Lunch access','Two 2-4-1 per club dining']},\n",
    "                    {\"benefit\" : 'Multiple\\n* 50% off evening dining\\n* Lunch access\\n* Two 2-4-1 per club\\n',\n",
    "                                \"values\" : ['50% off evening dining','Lunch access','Two 2-4-1 per club dining']},\n",
    "                    {\"benefit\" : 'Multiple\\n* 50% off evening dining\\n* Lunch access\\n* Two 2-4-1 per club ',\n",
    "                                \"values\" : ['50% off evening dining','Lunch access','Two 2-4-1 per club dining']},\n",
    "                    {\"benefit\" : 'Multiple\\n* 50% off evening dining, \\n* Lunch access\\n',\n",
    "                                \"values\" : ['50% off evening dining','Lunch access']},\n",
    "                    {\"benefit\" : 'Multiple\\n* 50% off evening dining\\n* Lunch access\\n\\n',\n",
    "                                \"values\" : ['50% off evening dining','Lunch access']}\n",
    "                   ]"
   ]
  },
  {
   "cell_type": "code",
   "execution_count": 8,
   "metadata": {},
   "outputs": [
    {
     "data": {
      "text/plain": [
       "array(['No access', 'Space available',\n",
       "       '50% off: Unlimited After 3pm\\nLunch access: Space available',\n",
       "       '50% off: Unlimited After 3pm\\nLunch access: Space available\\nTwo 2-4-1 per club dining: Space available',\n",
       "       'Sun Noon - Fri Noon',\n",
       "       'Weekday:  Space available\\nWeekend:  After 10:00am', 'N/A',\n",
       "       'No Community at this time', '', 'NA'], dtype=object)"
      ]
     },
     "execution_count": 8,
     "metadata": {},
     "output_type": "execute_result"
    }
   ],
   "source": [
    "df['Dining Availability'].unique()"
   ]
  },
  {
   "cell_type": "code",
   "execution_count": 9,
   "metadata": {},
   "outputs": [],
   "source": [
    "dining_availability_multiple = [{\"availability\" : '50% off: Unlimited After 3pm\\nLunch access: Space available\\nTwo 2-4-1 per club dining: Space available',\n",
    "                                \"values\" : {\"50% off evening dining\" : 'Unlimited After 3pm',\n",
    "                                            \"Lunch access\" : 'Space available',\n",
    "                                            \"Two 2-4-1 per club dining\" : 'Space available'}},\n",
    "                                {\"availability\" : '50% off: Unlimited After 3pm\\nLunch access: Space available',\n",
    "                                \"values\" : {\"50% off evening dining\" : 'Unlimited After 3pm',\n",
    "                                            \"Lunch access\" : 'Space available'}}\n",
    "                               ]"
   ]
  },
  {
   "cell_type": "code",
   "execution_count": 10,
   "metadata": {},
   "outputs": [],
   "source": [
    "# len(df.index)"
   ]
  },
  {
   "cell_type": "code",
   "execution_count": 11,
   "metadata": {},
   "outputs": [],
   "source": [
    "for dining_benefit_item in dining_benefit_d:\n",
    "    dining_benefit_values = list(dining_benefit_item['values'])\n",
    "    count = 0;\n",
    "    for dining_benefit_value in dining_benefit_values:          \n",
    "        benefit_rows = df[df['Dining Benefit'] == dining_benefit_item['benefit']].copy()\n",
    "        benefit_rows['Dining Benefit'] = dining_benefit_value\n",
    "        if dining_benefit_value == 'One 2-4-1 total Monday - Friday only' :\n",
    "            benefit_rows['Dining Availability'] = \"Monday - Friday\"\n",
    "            benefit_rows['Dining Benefit'] = \"One 2-4-1 total\"\n",
    "        if count > 0:\n",
    "            benefit_rows['Golf Benefit'] = \"N/A\"\n",
    "            benefit_rows['Availability'] = \"N/A\"\n",
    "            benefit_rows['Advance'] = \"N/A\"\n",
    "            benefit_rows['Cart Fee Rate'] = \"N/A\"\n",
    "            benefit_rows['Suggested Tier Rate 2019'] = \"N/A\"\n",
    "        count = count + 1\n",
    "        df = df.append(benefit_rows)\n",
    "        #print(dining_benefit_value)\n",
    "\n",
    "    # Remove original block\n",
    "    df = df[~(df['Dining Benefit'] == dining_benefit_item['benefit'])]\n"
   ]
  },
  {
   "cell_type": "code",
   "execution_count": 12,
   "metadata": {},
   "outputs": [
    {
     "data": {
      "text/plain": [
       "array(['No access', 'Pay to dine', 'Dining access', 'N/A',\n",
       "       'Unlimited 2-4-1', 'No Community at this time', 'NA',\n",
       "       'Unlimited 50% off evening dining', '50% off evening dining',\n",
       "       'Lunch access', 'Two 2-4-1 per club dining',\n",
       "       'Additional pay to dine access available',\n",
       "       'One 2-4-1 per club dining', '50% off two member meals per club',\n",
       "       'One 2-4-1 total', '2 comp meals per club',\n",
       "       'One 2-4-1 per dining OR Golf'], dtype=object)"
      ]
     },
     "execution_count": 12,
     "metadata": {},
     "output_type": "execute_result"
    }
   ],
   "source": [
    "df['Dining Benefit'].unique()"
   ]
  },
  {
   "cell_type": "code",
   "execution_count": 13,
   "metadata": {},
   "outputs": [],
   "source": [
    "dining = df[df['Dining Benefit'].isin(['50% off evening dining','Lunch access','Two 2-4-1 per club dining'])][['Dining Benefit', 'Dining Availability']]\n",
    "dining.to_csv('Dining_beforeAvailabilityChange.csv',index=False)"
   ]
  },
  {
   "cell_type": "markdown",
   "metadata": {},
   "source": [
    "<b> Spilt Dining Availability </b>"
   ]
  },
  {
   "cell_type": "code",
   "execution_count": 14,
   "metadata": {},
   "outputs": [],
   "source": [
    "for diningAvailability in dining_availability_multiple:\n",
    "    benefit_rows = df[df['Dining Availability'] == diningAvailability['availability']].copy()\n",
    "    availabilityValues = diningAvailability['values']                        \n",
    "    benefit_rows['Dining Availability'] = benefit_rows['Dining Benefit'].map(availabilityValues)\n",
    "#     print(benefit_rows[['Dining Benefit','Dining Availability']])\n",
    "    df = df.append(benefit_rows)\n",
    "    df = df[~(df['Dining Availability'] == diningAvailability['availability'])]"
   ]
  },
  {
   "cell_type": "code",
   "execution_count": 15,
   "metadata": {},
   "outputs": [],
   "source": [
    "dining = df[df['Dining Benefit'].isin(['50% off evening dining','Lunch access','Two 2-4-1 per club dining'])][['Dining Benefit', 'Dining Availability']]\n",
    "dining.to_csv('Dining_AfterAvailabilityChange.csv',index=False)"
   ]
  },
  {
   "cell_type": "code",
   "execution_count": 16,
   "metadata": {},
   "outputs": [
    {
     "data": {
      "text/plain": [
       "array(['No access', 'Space available', 'Sun Noon - Fri Noon',\n",
       "       'Weekday:  Space available\\nWeekend:  After 10:00am', 'N/A',\n",
       "       'No Community at this time', '', 'NA', 'Monday - Friday',\n",
       "       'Unlimited After 3pm'], dtype=object)"
      ]
     },
     "execution_count": 16,
     "metadata": {},
     "output_type": "execute_result"
    }
   ],
   "source": [
    "df['Dining Availability'].unique()"
   ]
  },
  {
   "cell_type": "markdown",
   "metadata": {},
   "source": [
    "<b> Replace Space Availability </b>"
   ]
  },
  {
   "cell_type": "code",
   "execution_count": 17,
   "metadata": {},
   "outputs": [],
   "source": [
    "#df.Availability.unique()"
   ]
  },
  {
   "cell_type": "code",
   "execution_count": 18,
   "metadata": {},
   "outputs": [],
   "source": [
    "df.Availability = df.Availability.str.replace('Space availability','Space available')"
   ]
  },
  {
   "cell_type": "code",
   "execution_count": 19,
   "metadata": {},
   "outputs": [],
   "source": [
    "#df.Availability.unique()"
   ]
  },
  {
   "cell_type": "markdown",
   "metadata": {},
   "source": [
    "<b>Remove N/A from Benefit Tier</b>"
   ]
  },
  {
   "cell_type": "code",
   "execution_count": 20,
   "metadata": {},
   "outputs": [],
   "source": [
    "df = df[df['Benefit Tier'] != \"N/A\"]\n",
    "df['Benefit Tier'] = [' '.join(x.split()) for x in df['Benefit Tier']]\n",
    "df['Benefit Tier'] = df['Benefit Tier'].str.strip()\n",
    "df['Benefit Tier'] = df['Benefit Tier'].str.upper()"
   ]
  },
  {
   "cell_type": "code",
   "execution_count": 21,
   "metadata": {},
   "outputs": [],
   "source": [
    "df.Club = [' '.join(x.split()) for x in df.Club]\n",
    "df.Club = df.Club.str.strip()\n",
    "df.Club = df.Club.str.upper()"
   ]
  },
  {
   "cell_type": "markdown",
   "metadata": {},
   "source": [
    "<b>Remove double spaces, and make all upper cases</b>"
   ]
  },
  {
   "cell_type": "code",
   "execution_count": 22,
   "metadata": {},
   "outputs": [],
   "source": [
    "df.Community = [' '.join(x.split()) for x in df.Community]\n",
    "df.Community = df.Community.str.strip()\n",
    "df.Community = df.Community.str.upper()"
   ]
  },
  {
   "cell_type": "code",
   "execution_count": 23,
   "metadata": {},
   "outputs": [],
   "source": [
    "df.Market = [' '.join(x.split()) for x in df.Market]\n",
    "df.Market = df.Market.str.strip()\n",
    "df.Market = df.Market.str.upper()"
   ]
  },
  {
   "cell_type": "code",
   "execution_count": 24,
   "metadata": {},
   "outputs": [],
   "source": [
    "#df.Availability = df.Availability.str.replace('  ',' ')\n",
    "df.Availability = df.Availability.str.strip()\n",
    "df.Availability = df.Availability.str.upper()\n",
    "#replacing new lines with single space\n",
    "df.Availability = df.Availability.str.replace('\\n',' ')\n",
    "df.Availability = [' '.join(x.split()) for x in df.Availability]"
   ]
  },
  {
   "cell_type": "code",
   "execution_count": 25,
   "metadata": {},
   "outputs": [],
   "source": [
    "df.Advance = [' '.join(x.split()) for x in df.Advance]\n",
    "df.Advance = df.Advance.str.strip()\n",
    "df.Advance = df.Advance.str.upper()\n",
    "df.Advance = df.Advance.str.replace('\\n',' ')"
   ]
  },
  {
   "cell_type": "code",
   "execution_count": 26,
   "metadata": {},
   "outputs": [],
   "source": [
    "df['Golf Benefit'] = [' '.join(x.split()) for x in df['Golf Benefit']]\n",
    "df['Golf Benefit'] = df['Golf Benefit'].str.strip()\n",
    "df['Golf Benefit'] = df['Golf Benefit'].str.upper()\n",
    "df['Golf Benefit'] = df['Golf Benefit'].str.replace('\\n',' ')"
   ]
  },
  {
   "cell_type": "code",
   "execution_count": 27,
   "metadata": {},
   "outputs": [],
   "source": [
    "df['Dining Benefit'] = [' '.join(x.split()) for x in df['Dining Benefit']]\n",
    "df['Dining Benefit'] = df['Dining Benefit'].str.strip()\n",
    "df['Dining Benefit'] = df['Dining Benefit'].str.upper()\n",
    "df['Dining Benefit'] = df['Dining Benefit'].str.replace('\\n',' ')"
   ]
  },
  {
   "cell_type": "code",
   "execution_count": 28,
   "metadata": {},
   "outputs": [],
   "source": [
    "df['Dining Availability'] = [' '.join(x.split()) for x in df['Dining Availability']]\n",
    "df['Dining Availability'] = df['Dining Availability'].str.strip()\n",
    "df['Dining Availability'] = df['Dining Availability'].str.upper()\n",
    "df['Dining Availability'] = df['Dining Availability'].str.replace('\\n',' ')"
   ]
  },
  {
   "cell_type": "markdown",
   "metadata": {},
   "source": [
    "<b> Remove empty communities</b>"
   ]
  },
  {
   "cell_type": "code",
   "execution_count": 29,
   "metadata": {},
   "outputs": [],
   "source": [
    "df = df[df.Community != '']"
   ]
  },
  {
   "cell_type": "markdown",
   "metadata": {},
   "source": [
    "<B>Fix NCS & NCS Custom</b><br>\n",
    "Create a similar block for NCS Custom & rename existing 'NCS & NCS Custom' to NCS"
   ]
  },
  {
   "cell_type": "code",
   "execution_count": 30,
   "metadata": {},
   "outputs": [],
   "source": [
    "df_ncs_common = df[df['Benefit Tier'] == 'NCS & NCS Custom'].copy()\n",
    "df_ncs_common['Benefit Tier'] = 'NCS Custom'\n",
    "df = df.replace({'Benefit Tier':{'NCS & NCS Custom':'NCS'}})\n",
    "df = df.append(df_ncs_common)"
   ]
  },
  {
   "cell_type": "markdown",
   "metadata": {},
   "source": [
    "<b>Fix two clubs in a single line</b>"
   ]
  },
  {
   "cell_type": "code",
   "execution_count": 31,
   "metadata": {},
   "outputs": [],
   "source": [
    "double_club_names = list(df[df['Club'].str.contains('/')]['Club'].unique())"
   ]
  },
  {
   "cell_type": "code",
   "execution_count": 32,
   "metadata": {},
   "outputs": [
    {
     "name": "stdout",
     "output_type": "stream",
     "text": [
      "EAGLE WATCH/BENTWATER\n",
      "BRAELINN GOLF CLUB/FLAT CREEK/PLANTERRA RIDGE GOLF CLUB/WHITEWATER CREEK COUNTRY CLUB\n",
      "CANONGATE 1/WHITE OAK\n",
      "CHAPEL HILLS/MIRROR LAKE\n",
      "HAMILTON MILLS/BRASELTON\n",
      "OLDE ATLANTA/WINDEMERE\n",
      "RIVER FOREST/HEALY\n",
      "WINDEMERE/OLDE ATLANTA\n",
      "BENTWATER/EAGLE WATCH\n",
      "MAG CREEK/SOUTH SHORE\n"
     ]
    }
   ],
   "source": [
    "for double_club_name in double_club_names:\n",
    "    print(double_club_name)\n",
    "    club_names = double_club_name.split(\"/\")\n",
    "    for club_name in club_names:\n",
    "        df_club_copy = df[df['Club'] == double_club_name].copy()\n",
    "        df_club_copy['Club'] = club_name\n",
    "        df = df.append(df_club_copy)\n",
    "    df = df[~(df['Club'] == double_club_name)]"
   ]
  },
  {
   "cell_type": "markdown",
   "metadata": {},
   "source": [
    "<b>Fix ONE (All)</b><br>\n",
    "DFW, ONE (All)<br>\n",
    "Houston, ONE (All)"
   ]
  },
  {
   "cell_type": "code",
   "execution_count": 33,
   "metadata": {},
   "outputs": [],
   "source": [
    "communities = df['Community'].dropna().unique()\n",
    "for community in communities:\n",
    "    benefit_tiers = list(df[df['Community']==community]['Benefit Tier'].dropna().unique())\n",
    "    #print(benefit_tiers)\n",
    "    for benefit_tier in benefit_tiers:\n",
    "        if benefit_tier == \"ONE (All)\":\n",
    "            print (community + \", \" + benefit_tier)\n",
    "    "
   ]
  },
  {
   "cell_type": "markdown",
   "metadata": {},
   "source": [
    "<b>Fix DFW</b>"
   ]
  },
  {
   "cell_type": "code",
   "execution_count": 34,
   "metadata": {},
   "outputs": [],
   "source": [
    "dfw_bt_to_fix = ['ONE Golf - Elite Club Member','ONE Golf - Premier Stonebridge Hills Member','ONE Golf - Premiere Club Member','ONE Non Golf','ONE Baylor - Dallas','ONE TX Tech - Dallas','ONE UT Club - Dallas','ONE UT Club  - Dallas','ONE Dual Club - Stonebridge Ranch','ONE Full Golf only - Prestonwood']\n",
    "for bt in dfw_bt_to_fix:\n",
    "    one_all_dfw = df[(df['Community'] == 'DFW') & (df['Benefit Tier'] == 'ONE (All)')].copy()\n",
    "    one_all_dfw['Benefit Tier'] = bt\n",
    "    df = df.append(one_all_dfw)\n",
    "    \n",
    "df = df[~((df['Community'] == 'DFW') & (df['Benefit Tier'] == 'ONE (All)'))]"
   ]
  },
  {
   "cell_type": "markdown",
   "metadata": {},
   "source": [
    "<b>Fix Houston</b>"
   ]
  },
  {
   "cell_type": "code",
   "execution_count": 35,
   "metadata": {},
   "outputs": [],
   "source": [
    "houston_bt_to_fix = ['ONE Golf','ONE Non Golf','ONE TX Tech - Houston','ONE Baylor - Houston','ONE UT CLUB - HOUSTON','Full ONE','Champions ONE','ONE UT Club  - Houston','ONE Golf - Woodlands Members','ONE Golf - Bay Oaks Golf Members','ONE Golf - Kingwood FULL Golf Masters Members']\n",
    "for bt in houston_bt_to_fix:\n",
    "    one_all_houston = df[(df['Community'] == 'Houston') & (df['Benefit Tier'] == 'ONE (All)')].copy()\n",
    "    one_all_houston['Benefit Tier'] = bt\n",
    "    df = df.append(one_all_houston)\n",
    "    \n",
    "df = df[~((df['Community'] == 'Houston') & (df['Benefit Tier'] == 'ONE (All)'))]"
   ]
  },
  {
   "cell_type": "markdown",
   "metadata": {},
   "source": [
    "<b>Fix All Community Programming</b><br>\n",
    "Detroit, 3, All Community Programming<br>\n",
    "New York City, 2, All Community Programming<br>\n",
    "Orange County, 5, All Community Programming<br>"
   ]
  },
  {
   "cell_type": "code",
   "execution_count": 36,
   "metadata": {},
   "outputs": [],
   "source": [
    "communities = df['Community'].dropna().unique()\n",
    "for community in communities:\n",
    "    benefit_tiers = list(df[df['Community']==community]['Benefit Tier'].dropna().unique())\n",
    "    if len(benefit_tiers) > 1:\n",
    "        for benefit_tier in benefit_tiers:\n",
    "            if benefit_tier == \"All Community Programming\":\n",
    "                print (community + \", \" + str(len(benefit_tiers)) + \", \" + benefit_tier + \",\" + str(benefit_tiers))"
   ]
  },
  {
   "cell_type": "markdown",
   "metadata": {},
   "source": [
    "<b>Fix Detroit<b>"
   ]
  },
  {
   "cell_type": "code",
   "execution_count": 37,
   "metadata": {},
   "outputs": [],
   "source": [
    "detroit_bt_to_fix = ['ONE','Society']\n",
    "for bt in detroit_bt_to_fix:\n",
    "    all_community_detroit = df[(df['Community'] == 'Detroit') & (df['Benefit Tier'] == 'All Community Programming')].copy()\n",
    "    all_community_detroit['Benefit Tier'] = bt\n",
    "    df = df.append(all_community_detroit)\n",
    "    \n",
    "df = df[~((df['Community'] == 'Detroit') & (df['Benefit Tier'] == 'All Community Programming'))]"
   ]
  },
  {
   "cell_type": "markdown",
   "metadata": {},
   "source": [
    "<b>Fix Orange County</b>"
   ]
  },
  {
   "cell_type": "code",
   "execution_count": 38,
   "metadata": {},
   "outputs": [],
   "source": [
    "oc_bt_to_fix = ['ONE', 'Society (Center Club Only)', 'Society (Compass)','Society']\n",
    "for bt in oc_bt_to_fix:\n",
    "    all_community_oc = df[(df['Community'] == 'Orange County') & (df['Benefit Tier'] == 'All Community Programming')].copy()\n",
    "    all_community_oc['Benefit Tier'] = bt\n",
    "    df = df.append(all_community_oc)\n",
    "    \n",
    "df = df[~((df['Community'] == 'Orange County') & (df['Benefit Tier'] == 'All Community Programming'))]"
   ]
  },
  {
   "cell_type": "markdown",
   "metadata": {},
   "source": [
    "<b> Convert \"CFO UNLIMITED, AFTER 12 PM\" to \"CFO UNLIMITED\" and add \"AFTER 12 PM\" to \"Availability\" column value</b>"
   ]
  },
  {
   "cell_type": "code",
   "execution_count": 39,
   "metadata": {},
   "outputs": [],
   "source": [
    "df.loc[df['Golf Benefit'] == 'CFO UNLIMITED, AFTER 12 PM', 'Availability'] = df.loc[df['Golf Benefit'] == 'CFO UNLIMITED, AFTER 12 PM', 'Availability'] +' AFTER 12 PM'\n",
    "df.loc[df['Golf Benefit'] == 'CFO UNLIMITED, AFTER 12 PM', 'Golf Benefit'] = 'CFO UNLIMITED'"
   ]
  },
  {
   "cell_type": "markdown",
   "metadata": {},
   "source": [
    "<b>Convert \"50% OFF CART FEE, AFTER 12 PM\" to '50% CART FEE ONLY, UNLIMITED'  and add \"AFTER 12 PM\" to \"Availability\" column value</b>"
   ]
  },
  {
   "cell_type": "code",
   "execution_count": 40,
   "metadata": {},
   "outputs": [],
   "source": [
    "df.loc[df['Golf Benefit'] == '50% OFF CART FEE, AFTER 12 PM', 'Availability'] = df.loc[df['Golf Benefit'] == '50% OFF CART FEE, AFTER 12 PM', 'Availability'] + ' AFTER 12 PM'\n",
    "df.loc[df['Golf Benefit'] == '50% OFF CART FEE, AFTER 12 PM', 'Golf Benefit'] = '50% CART FEE ONLY, UNLIMITED'"
   ]
  },
  {
   "cell_type": "markdown",
   "metadata": {},
   "source": [
    "<h4>Convert \"CFO UNLIMITED\" to \"CFO - UNLIMITED\" and \"UNLIMITED CFO\" to \"CFO - UNLIMITED\"</h4>"
   ]
  },
  {
   "cell_type": "code",
   "execution_count": 41,
   "metadata": {},
   "outputs": [],
   "source": [
    "df.loc[df['Golf Benefit'] == 'CFO UNLIMITED', 'Golf Benefit'] = 'CFO - UNLIMITED'\n",
    "df.loc[df['Golf Benefit'] == 'UNLIMITED CFO', 'Golf Benefit'] = 'CFO - UNLIMITED'"
   ]
  },
  {
   "cell_type": "markdown",
   "metadata": {},
   "source": [
    "<h4>Convert 'DINING ACCESS' to 'PAY TO DINE'</h4>"
   ]
  },
  {
   "cell_type": "code",
   "execution_count": 42,
   "metadata": {},
   "outputs": [],
   "source": [
    "df.loc[df['Dining Benefit'] == 'DINING ACCESS', 'Dining Benefit'] = 'PAY TO DINE'"
   ]
  },
  {
   "cell_type": "code",
   "execution_count": 43,
   "metadata": {},
   "outputs": [
    {
     "data": {
      "text/plain": [
       "1932"
      ]
     },
     "execution_count": 43,
     "metadata": {},
     "output_type": "execute_result"
    }
   ],
   "source": [
    "len(df.index)"
   ]
  },
  {
   "cell_type": "code",
   "execution_count": 44,
   "metadata": {},
   "outputs": [
    {
     "data": {
      "text/html": [
       "<div>\n",
       "<style scoped>\n",
       "    .dataframe tbody tr th:only-of-type {\n",
       "        vertical-align: middle;\n",
       "    }\n",
       "\n",
       "    .dataframe tbody tr th {\n",
       "        vertical-align: top;\n",
       "    }\n",
       "\n",
       "    .dataframe thead th {\n",
       "        text-align: right;\n",
       "    }\n",
       "</style>\n",
       "<table border=\"1\" class=\"dataframe\">\n",
       "  <thead>\n",
       "    <tr style=\"text-align: right;\">\n",
       "      <th></th>\n",
       "      <th>Community</th>\n",
       "      <th>Market</th>\n",
       "      <th>Club Type</th>\n",
       "      <th>Club</th>\n",
       "      <th>Benefit Tier</th>\n",
       "      <th>Golf Benefit</th>\n",
       "      <th>Availability</th>\n",
       "      <th>Advance</th>\n",
       "      <th>Dining Benefit</th>\n",
       "      <th>Dining Availability</th>\n",
       "    </tr>\n",
       "  </thead>\n",
       "  <tbody>\n",
       "    <tr>\n",
       "      <th>22</th>\n",
       "      <td>ATLANTA</td>\n",
       "      <td>ATL</td>\n",
       "      <td>Golf - Private</td>\n",
       "      <td>WINDEMERE</td>\n",
       "      <td>ATL ASSOCIATE GOLF</td>\n",
       "      <td>UNLIMITED ACCESS, PREFERRED RATES</td>\n",
       "      <td>SPACE AVAILABLE</td>\n",
       "      <td>7 DAY</td>\n",
       "      <td>PAY TO DINE</td>\n",
       "      <td>SPACE AVAILABLE</td>\n",
       "    </tr>\n",
       "    <tr>\n",
       "      <th>22</th>\n",
       "      <td>ATLANTA</td>\n",
       "      <td>ATL</td>\n",
       "      <td>Golf - Private</td>\n",
       "      <td>OLDE ATLANTA</td>\n",
       "      <td>ATL ASSOCIATE GOLF</td>\n",
       "      <td>UNLIMITED ACCESS, PREFERRED RATES</td>\n",
       "      <td>SPACE AVAILABLE</td>\n",
       "      <td>7 DAY</td>\n",
       "      <td>PAY TO DINE</td>\n",
       "      <td>SPACE AVAILABLE</td>\n",
       "    </tr>\n",
       "  </tbody>\n",
       "</table>\n",
       "</div>"
      ],
      "text/plain": [
       "   Community Market       Club Type          Club        Benefit Tier  \\\n",
       "22   ATLANTA    ATL  Golf - Private     WINDEMERE  ATL ASSOCIATE GOLF   \n",
       "22   ATLANTA    ATL  Golf - Private  OLDE ATLANTA  ATL ASSOCIATE GOLF   \n",
       "\n",
       "                         Golf Benefit     Availability Advance Dining Benefit  \\\n",
       "22  UNLIMITED ACCESS, PREFERRED RATES  SPACE AVAILABLE   7 DAY    PAY TO DINE   \n",
       "22  UNLIMITED ACCESS, PREFERRED RATES  SPACE AVAILABLE   7 DAY    PAY TO DINE   \n",
       "\n",
       "   Dining Availability  \n",
       "22     SPACE AVAILABLE  \n",
       "22     SPACE AVAILABLE  "
      ]
     },
     "execution_count": 44,
     "metadata": {},
     "output_type": "execute_result"
    }
   ],
   "source": [
    "df[df.duplicated(subset=None, keep='first')][['Community','Market','Club Type','Club','Benefit Tier','Golf Benefit','Availability','Advance','Dining Benefit','Dining Availability']]"
   ]
  },
  {
   "cell_type": "code",
   "execution_count": 45,
   "metadata": {},
   "outputs": [
    {
     "data": {
      "text/plain": [
       "1930"
      ]
     },
     "execution_count": 45,
     "metadata": {},
     "output_type": "execute_result"
    }
   ],
   "source": [
    "#df = df[['Community','Market','Club Type','Club','Benefit Tier','Golf Benefit','Availability','Advance','Dining Benefit','Dining Availability']]\n",
    "df = df.drop_duplicates()\n",
    "len(df.index)"
   ]
  },
  {
   "cell_type": "code",
   "execution_count": 46,
   "metadata": {},
   "outputs": [],
   "source": [
    "outputfilename = inputfilename + ' Preprocessed'"
   ]
  },
  {
   "cell_type": "markdown",
   "metadata": {},
   "source": [
    "<h1>Replacing values with NA with N/A</h1>"
   ]
  },
  {
   "cell_type": "code",
   "execution_count": 47,
   "metadata": {},
   "outputs": [],
   "source": [
    "df.loc[df['Golf Benefit'] == 'NA', 'Golf Benefit'] = 'N/A'\n",
    "df.loc[df['Availability'] == 'NA', 'Availability'] = 'N/A'\n",
    "df.loc[df['Advance'] == 'NA', 'Advance'] = 'N/A'\n",
    "df.loc[df['Dining Benefit'] == 'NA', 'Dining Benefit'] = 'N/A'\n",
    "df.loc[df['Dining Availability'] == 'NA', 'Dining Availability'] = 'N/A'"
   ]
  },
  {
   "cell_type": "code",
   "execution_count": 48,
   "metadata": {},
   "outputs": [],
   "source": [
    "df.to_csv(\"output/\" + outputfilename + \".csv\", index=False)"
   ]
  },
  {
   "cell_type": "markdown",
   "metadata": {},
   "source": [
    "<H1> Removing All the Golf Benefit to Club 'ATLANTA NATIONAL'</H1>"
   ]
  },
  {
   "cell_type": "code",
   "execution_count": 49,
   "metadata": {},
   "outputs": [],
   "source": [
    "df.loc[((df['Community'] == 'ATLANTA') & (df['Club'] == 'ATLANTA NATIONAL')), 'Golf Benefit'] = 'NO ACCESS'"
   ]
  },
  {
   "cell_type": "code",
   "execution_count": 50,
   "metadata": {},
   "outputs": [],
   "source": [
    "df.to_csv(\"output/\" + outputfilename + \"_removedGolfBenefitToClubAtlantaNatioanal.csv\", index=False)"
   ]
  },
  {
   "cell_type": "code",
   "execution_count": null,
   "metadata": {},
   "outputs": [],
   "source": []
  },
  {
   "cell_type": "code",
   "execution_count": null,
   "metadata": {},
   "outputs": [],
   "source": []
  },
  {
   "cell_type": "code",
   "execution_count": null,
   "metadata": {},
   "outputs": [],
   "source": []
  }
 ],
 "metadata": {
  "kernelspec": {
   "display_name": "Python 3",
   "language": "python",
   "name": "python3"
  },
  "language_info": {
   "codemirror_mode": {
    "name": "ipython",
    "version": 3
   },
   "file_extension": ".py",
   "mimetype": "text/x-python",
   "name": "python",
   "nbconvert_exporter": "python",
   "pygments_lexer": "ipython3",
   "version": "3.8.3"
  }
 },
 "nbformat": 4,
 "nbformat_minor": 2
}
