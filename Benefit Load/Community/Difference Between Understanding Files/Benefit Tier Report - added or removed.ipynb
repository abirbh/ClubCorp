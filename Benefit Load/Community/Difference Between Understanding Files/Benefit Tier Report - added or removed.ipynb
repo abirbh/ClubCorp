{
 "cells": [
  {
   "cell_type": "code",
   "execution_count": 1,
   "metadata": {},
   "outputs": [],
   "source": [
    "import pandas as pd"
   ]
  },
  {
   "cell_type": "code",
   "execution_count": 2,
   "metadata": {},
   "outputs": [],
   "source": [
    "old = pd.read_excel(\"C:\\\\Work\\\\ClubCorp\\\\MSS\\\\Dana\\\\Owned Club Community Benefits Review 20181213.xlsx\", dtype=str, sheet_name=2, skiprows=1)"
   ]
  },
  {
   "cell_type": "code",
   "execution_count": 3,
   "metadata": {},
   "outputs": [],
   "source": [
    "new = pd.read_excel(\"C:\\\\Work\\\\ClubCorp\\\\MSS\\\\Dana\\\\Owned Club Community Benefits Review 20181214.xlsx\", dtype=str, sheet_name=2, skiprows=1)"
   ]
  },
  {
   "cell_type": "code",
   "execution_count": 4,
   "metadata": {},
   "outputs": [
    {
     "data": {
      "text/plain": [
       "Index(['Community', 'Market', 'Club Type', 'Club', 'Benefit Tier',\n",
       "       'Members coming from', 'Cart Fee Rate', 'Suggested Tier Rate 2019',\n",
       "       'Golf Benefit', 'Availability', 'Advance', 'Golf Amenity Restrictions',\n",
       "       'Dining Benefit', 'Dining Availability', 'Dining Restrictions',\n",
       "       'Tennis Benefit', 'Tennis Availability', 'Tennis Advance',\n",
       "       'Athletic Benefit', 'Athletic Availability', 'Athletic Advance',\n",
       "       'Pool Benefit', 'Pool Availability', 'Pool Advance', 'Notes'],\n",
       "      dtype='object')"
      ]
     },
     "execution_count": 4,
     "metadata": {},
     "output_type": "execute_result"
    }
   ],
   "source": [
    "old.columns"
   ]
  },
  {
   "cell_type": "code",
   "execution_count": 5,
   "metadata": {},
   "outputs": [],
   "source": [
    "old['Benefit Tier'] = old['Benefit Tier'].str.strip()\n",
    "new['Benefit Tier'] = new['Benefit Tier'].str.strip()"
   ]
  },
  {
   "cell_type": "code",
   "execution_count": 6,
   "metadata": {},
   "outputs": [],
   "source": [
    "old_benefit_tiers = old['Benefit Tier'].dropna().str.upper().unique()\n",
    "new_benefit_tiers = new['Benefit Tier'].dropna().str.upper().unique()"
   ]
  },
  {
   "cell_type": "markdown",
   "metadata": {},
   "source": [
    "<b>Benefit Tiers Added</b>"
   ]
  },
  {
   "cell_type": "code",
   "execution_count": 7,
   "metadata": {},
   "outputs": [
    {
     "data": {
      "text/plain": [
       "set()"
      ]
     },
     "execution_count": 7,
     "metadata": {},
     "output_type": "execute_result"
    }
   ],
   "source": [
    "set(new_benefit_tiers) - set(old_benefit_tiers)"
   ]
  },
  {
   "cell_type": "markdown",
   "metadata": {},
   "source": [
    "<b>Dropped Benefit Tiers</b>"
   ]
  },
  {
   "cell_type": "code",
   "execution_count": 8,
   "metadata": {},
   "outputs": [
    {
     "data": {
      "text/plain": [
       "set()"
      ]
     },
     "execution_count": 8,
     "metadata": {},
     "output_type": "execute_result"
    }
   ],
   "source": [
    "set(old_benefit_tiers) - set(new_benefit_tiers)"
   ]
  },
  {
   "cell_type": "code",
   "execution_count": null,
   "metadata": {},
   "outputs": [],
   "source": []
  }
 ],
 "metadata": {
  "kernelspec": {
   "display_name": "Python 3",
   "language": "python",
   "name": "python3"
  },
  "language_info": {
   "codemirror_mode": {
    "name": "ipython",
    "version": 3
   },
   "file_extension": ".py",
   "mimetype": "text/x-python",
   "name": "python",
   "nbconvert_exporter": "python",
   "pygments_lexer": "ipython3",
   "version": "3.8.3"
  }
 },
 "nbformat": 4,
 "nbformat_minor": 2
}
