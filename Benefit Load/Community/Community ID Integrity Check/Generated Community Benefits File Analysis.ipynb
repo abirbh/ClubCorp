{
 "cells": [
  {
   "cell_type": "markdown",
   "metadata": {},
   "source": [
    "<h3>Analysis of Ids</h3>"
   ]
  },
  {
   "cell_type": "code",
   "execution_count": 1,
   "metadata": {},
   "outputs": [],
   "source": [
    "import pandas as pd"
   ]
  },
  {
   "cell_type": "markdown",
   "metadata": {},
   "source": [
    "<b>Read Files</b>"
   ]
  },
  {
   "cell_type": "code",
   "execution_count": 2,
   "metadata": {},
   "outputs": [],
   "source": [
    "ben_pkg_df =  pd.read_csv(\"datasets/Community_Benefit_Packages.csv\", dtype=str)\n",
    "golf_ben_df =  pd.read_csv(\"datasets/Community_Golf_Benefit_Extended.csv\", dtype=str)\n",
    "dine_ben_df =  pd.read_csv(\"datasets/Community_Dining_Benefit_Extended.csv\", dtype=str)\n",
    "golf_acc_df =  pd.read_csv(\"datasets/Community_Golf_Access_Rule_Extended.csv\", dtype=str)\n",
    "dine_acc_df =  pd.read_csv(\"datasets/Community_Dining_Access_Rule_Extended.csv\", dtype=str)\n",
    "golf_rel_df =  pd.read_csv(\"datasets/Community_Golf_Access_Rules_Club.csv\", dtype=str)\n",
    "dine_rel_df =  pd.read_csv(\"datasets/Community_Dining_Access_Rules_Club.csv\", dtype=str)\n",
    "all_ben_contract = pd.read_csv(\"datasets/community_benefit_contracts_allValues_unique.csv\", dtype=str)"
   ]
  },
  {
   "cell_type": "markdown",
   "metadata": {},
   "source": [
    "<b>Testing Uniqueness of Benefit Package</b>"
   ]
  },
  {
   "cell_type": "code",
   "execution_count": 3,
   "metadata": {},
   "outputs": [
    {
     "name": "stdout",
     "output_type": "stream",
     "text": [
      "Benefit Package count: 110\n",
      "Benefit Package Id uniqueness: True\n"
     ]
    }
   ],
   "source": [
    "#Checking the uniqueness\n",
    "print(\"Benefit Package count: \" + str(len(ben_pkg_df.index)))\n",
    "\n",
    "ret = ben_pkg_df['benefit_package_id'].is_unique\n",
    "print(\"Benefit Package Id uniqueness: \" + str(ret))"
   ]
  },
  {
   "cell_type": "markdown",
   "metadata": {},
   "source": [
    "<b>Testing Golf Benefits</b>"
   ]
  },
  {
   "cell_type": "code",
   "execution_count": 4,
   "metadata": {},
   "outputs": [
    {
     "name": "stdout",
     "output_type": "stream",
     "text": [
      "Golf Benefit count: 142\n",
      "Golf Benefit Id uniqueness: True\n",
      "benefit_package_id mismatch count in Golf: 0\n",
      "set()\n"
     ]
    }
   ],
   "source": [
    "print(\"Golf Benefit count: \" + str(len(golf_ben_df.index)))\n",
    "\n",
    "ret_golf = golf_ben_df['benefit_id'].is_unique\n",
    "print(\"Golf Benefit Id uniqueness: \" + str(ret_golf))\n",
    "\n",
    "orphan_benefit_packages = set(list(golf_ben_df['benefit_package_id'])) - set(list(ben_pkg_df['benefit_package_id']))\n",
    "print(\"benefit_package_id mismatch count in Golf: \" + str(len(orphan_benefit_packages)))\n",
    "print(orphan_benefit_packages)"
   ]
  },
  {
   "cell_type": "markdown",
   "metadata": {},
   "source": [
    "<b>Testing Dining Benefits</b>"
   ]
  },
  {
   "cell_type": "code",
   "execution_count": 5,
   "metadata": {},
   "outputs": [
    {
     "name": "stdout",
     "output_type": "stream",
     "text": [
      "Dining Benefit count: 251\n",
      "Dining Benefit Id uniqueness: True\n",
      "benefit_package_id mismatch count in Dining: 0\n",
      "set()\n"
     ]
    }
   ],
   "source": [
    "print(\"Dining Benefit count: \" + str(len(dine_ben_df.index)))\n",
    "\n",
    "ret_dining = dine_ben_df['benefit_id'].is_unique\n",
    "print(\"Dining Benefit Id uniqueness: \" + str(ret_dining))\n",
    "\n",
    "orphan_benefit_packages_dining = set(list(dine_ben_df['benefit_package_id'])) - set(list(ben_pkg_df['benefit_package_id']))\n",
    "print(\"benefit_package_id mismatch count in Dining: \" + str(len(orphan_benefit_packages_dining)))\n",
    "print(orphan_benefit_packages_dining)"
   ]
  },
  {
   "cell_type": "markdown",
   "metadata": {},
   "source": [
    "<b>Testing Benefit Uniqueness for Golf and Dining Combined</b>"
   ]
  },
  {
   "cell_type": "code",
   "execution_count": 6,
   "metadata": {},
   "outputs": [
    {
     "name": "stdout",
     "output_type": "stream",
     "text": [
      "Golf and Dining combined Benefit Id count: 393\n",
      "Golf and Dining combined Benefit Id uniqueness: True\n"
     ]
    }
   ],
   "source": [
    "allBenefitIds = []\n",
    "allBenefitIds.extend(list(golf_ben_df['benefit_id'].values))\n",
    "allBenefitIds.extend(list(dine_ben_df['benefit_id'].values))\n",
    "\n",
    "len1 = len(allBenefitIds)\n",
    "\n",
    "setAllBenefitIds = set(allBenefitIds)\n",
    "len2 = len(setAllBenefitIds)\n",
    "\n",
    "print(\"Golf and Dining combined Benefit Id count: \" + str(len(setAllBenefitIds)))\n",
    "ret_allBenefits = (len1==len2)\n",
    "print(\"Golf and Dining combined Benefit Id uniqueness: \" + str(ret_allBenefits))"
   ]
  },
  {
   "cell_type": "markdown",
   "metadata": {},
   "source": [
    "<b>Testing Golf Access Rules</b>"
   ]
  },
  {
   "cell_type": "code",
   "execution_count": 7,
   "metadata": {},
   "outputs": [
    {
     "name": "stdout",
     "output_type": "stream",
     "text": [
      "Golf Access Rule count: 173\n",
      "Golf Access Rule Id uniqueness: True\n",
      "benefit_id mismatch count in Golf Access Rule: 0\n",
      "set()\n"
     ]
    }
   ],
   "source": [
    "print(\"Golf Access Rule count: \" + str(len(golf_acc_df.index)))\n",
    "\n",
    "ret_golf_acc = golf_acc_df['access_rule_id'].is_unique\n",
    "print(\"Golf Access Rule Id uniqueness: \" + str(ret_golf_acc))\n",
    "\n",
    "orphan_benefit_golf = set(list(golf_acc_df['benefit_id'])) - set(list(golf_ben_df['benefit_id']))\n",
    "print(\"benefit_id mismatch count in Golf Access Rule: \" + str(len(orphan_benefit_golf)))\n",
    "\n",
    "print(orphan_benefit_golf)"
   ]
  },
  {
   "cell_type": "markdown",
   "metadata": {},
   "source": [
    "<b>Testing Dining Access Rules</b>"
   ]
  },
  {
   "cell_type": "code",
   "execution_count": 8,
   "metadata": {},
   "outputs": [
    {
     "name": "stdout",
     "output_type": "stream",
     "text": [
      "Dining Access Rule count: 266\n",
      "Dining Access Rule Id uniqueness: True\n",
      "benefit_id mismatch count in Golf Access Rule: 0\n",
      "set()\n"
     ]
    }
   ],
   "source": [
    "print(\"Dining Access Rule count: \" + str(len(dine_acc_df.index)))\n",
    "\n",
    "ret_dine_acc = dine_acc_df['access_rule_id'].is_unique\n",
    "print(\"Dining Access Rule Id uniqueness: \" + str(ret_dine_acc))\n",
    "\n",
    "orphan_benefit_dine = set(list(dine_acc_df['benefit_id'])) - set(list(dine_ben_df['benefit_id']))\n",
    "print(\"benefit_id mismatch count in Golf Access Rule: \" + str(len(orphan_benefit_dine)))\n",
    "\n",
    "print(orphan_benefit_dine)"
   ]
  },
  {
   "cell_type": "markdown",
   "metadata": {},
   "source": [
    "<b>Testing Golf and Dining Access Rule Combined</b>"
   ]
  },
  {
   "cell_type": "code",
   "execution_count": 9,
   "metadata": {},
   "outputs": [
    {
     "name": "stdout",
     "output_type": "stream",
     "text": [
      "Golf and Dining combined Access Rule Id total: 439\n",
      "Golf and Dining combined Access Rule Id uniqueness: True\n"
     ]
    }
   ],
   "source": [
    "allAccessRuleIds = []\n",
    "allAccessRuleIds.extend(list(dine_acc_df['access_rule_id'].values))\n",
    "allAccessRuleIds.extend(list(golf_acc_df['access_rule_id'].values))\n",
    "\n",
    "len1 = len(allAccessRuleIds)\n",
    "print(\"Golf and Dining combined Access Rule Id total: \" + str(len1))\n",
    "\n",
    "setAllAccessRuleIds = set(allAccessRuleIds)\n",
    "len2 = len(setAllAccessRuleIds)\n",
    "ret_allBenefits = (len1==len2)\n",
    "print(\"Golf and Dining combined Access Rule Id uniqueness: \" + str(ret_allBenefits))"
   ]
  },
  {
   "cell_type": "markdown",
   "metadata": {},
   "source": [
    "<b>Testing Golf Amenity Relationship</b>"
   ]
  },
  {
   "cell_type": "code",
   "execution_count": 10,
   "metadata": {},
   "outputs": [
    {
     "name": "stdout",
     "output_type": "stream",
     "text": [
      "Golf Access Rule to Amenity Relationship count: 874\n",
      "benefit_id mismatch count in Golf To Club: 0\n",
      "access_rule_id mismatch count in Golf To Club: 0\n"
     ]
    }
   ],
   "source": [
    "golf_ben_id_acc = golf_rel_df['benefit_id']\n",
    "golf_acc_id_acc = golf_rel_df['access_rule_id']\n",
    "orphan_ben_id_golf = set(list(golf_rel_df['benefit_id'])) - set(list(golf_ben_df['benefit_id']))\n",
    "orphan_acc_id_golf = set(list(golf_rel_df['access_rule_id'])) - set(list(golf_acc_df['access_rule_id']))\n",
    "print(\"Golf Access Rule to Amenity Relationship count: \" + str(len(golf_rel_df.index)))\n",
    "print(\"benefit_id mismatch count in Golf To Club: \" + str(len(orphan_ben_id_golf)))\n",
    "print(\"access_rule_id mismatch count in Golf To Club: \" + str(len(orphan_acc_id_golf)))"
   ]
  },
  {
   "cell_type": "markdown",
   "metadata": {},
   "source": [
    "<b>Testing Dining Amenity Relationship</b>"
   ]
  },
  {
   "cell_type": "code",
   "execution_count": 11,
   "metadata": {},
   "outputs": [
    {
     "name": "stdout",
     "output_type": "stream",
     "text": [
      "Dining Access Rule to Amenity Relationship count: 1278\n",
      "benefit_id mismatch count in Dining To Club: 0\n",
      "access_rule_id mismatch count in Dining To Club: 0\n"
     ]
    }
   ],
   "source": [
    "dine_ben_id_acc = dine_rel_df['benefit_id']\n",
    "dine_acc_id_acc = dine_rel_df['access_rule_id']\n",
    "orphan_ben_id_dine = set(list(dine_rel_df['benefit_id'])) - set(list(dine_ben_df['benefit_id']))\n",
    "orphan_acc_id_dine = set(list(dine_rel_df['access_rule_id'])) - set(list(dine_acc_df['access_rule_id']))\n",
    "print(\"Dining Access Rule to Amenity Relationship count: \" + str(len(dine_rel_df.index)))\n",
    "print(\"benefit_id mismatch count in Dining To Club: \" + str(len(orphan_ben_id_dine)))\n",
    "print(\"access_rule_id mismatch count in Dining To Club: \" + str(len(orphan_acc_id_dine)))"
   ]
  },
  {
   "cell_type": "markdown",
   "metadata": {},
   "source": [
    "<b>Testing Benefit Contract</b>"
   ]
  },
  {
   "cell_type": "code",
   "execution_count": 12,
   "metadata": {},
   "outputs": [
    {
     "name": "stdout",
     "output_type": "stream",
     "text": [
      "Total Benefit Contract: 94365\n",
      "Benefit Contract Id Uniqueness : True\n",
      "Benefit Package Id missing in Benefit Package file : \n",
      "[]\n"
     ]
    }
   ],
   "source": [
    "print(\"Total Benefit Contract: \" + str(len(all_ben_contract.index)))\n",
    "\n",
    "benefit_contract_id_unique = all_ben_contract['benefit_contract_id'].is_unique\n",
    "print(\"Benefit Contract Id Uniqueness : \" + str(benefit_contract_id_unique))\n",
    "\n",
    "if not benefit_contract_id_unique:\n",
    "    sub_set = all_ben_contract[['benefit_contract_id']]\n",
    "    #print(sub_set[sub_set.duplicated(['benefit_contract_id'], keep=False)].groupby(('benefit_contract_id')).count())\n",
    "    print(sub_set[sub_set.duplicated(['benefit_contract_id'], keep=False)].groupby(('benefit_contract_id')).max().index.values)\n",
    "    #print(sub_set[sub_set.duplicated(['benefit_contract_id'], keep=False)].groupby(('benefit_contract_id')).min())\n",
    "    \n",
    "orphan_ben_pkg_in_contract = set(list(all_ben_contract['benefit_package_id'])) - set(list(ben_pkg_df['benefit_package_id']))\n",
    "print('Benefit Package Id missing in Benefit Package file : ')\n",
    "print(list(orphan_ben_pkg_in_contract))"
   ]
  },
  {
   "cell_type": "code",
   "execution_count": 13,
   "metadata": {},
   "outputs": [
    {
     "name": "stdout",
     "output_type": "stream",
     "text": [
      "Total number of membership impacted: 0\n"
     ]
    }
   ],
   "source": [
    "error_benefit_contract = all_ben_contract[all_ben_contract['benefit_package_id'].isin(orphan_ben_pkg_in_contract)]\n",
    "print(\"Total number of membership impacted: \" + str(len(error_benefit_contract.index)))"
   ]
  },
  {
   "cell_type": "code",
   "execution_count": 14,
   "metadata": {},
   "outputs": [
    {
     "name": "stdout",
     "output_type": "stream",
     "text": [
      "Following communities have been impacted by bad benefit_package_id in contract file\n"
     ]
    },
    {
     "data": {
      "text/plain": [
       "[]"
      ]
     },
     "execution_count": 14,
     "metadata": {},
     "output_type": "execute_result"
    }
   ],
   "source": [
    "print(\"Following communities have been impacted by bad benefit_package_id in contract file\")\n",
    "list(error_benefit_contract['community'].unique())"
   ]
  },
  {
   "cell_type": "code",
   "execution_count": 15,
   "metadata": {},
   "outputs": [
    {
     "name": "stdout",
     "output_type": "stream",
     "text": [
      "Following Community & Benefit Tiers are impacted\n"
     ]
    },
    {
     "data": {
      "text/html": [
       "<div>\n",
       "<style scoped>\n",
       "    .dataframe tbody tr th:only-of-type {\n",
       "        vertical-align: middle;\n",
       "    }\n",
       "\n",
       "    .dataframe tbody tr th {\n",
       "        vertical-align: top;\n",
       "    }\n",
       "\n",
       "    .dataframe thead th {\n",
       "        text-align: right;\n",
       "    }\n",
       "</style>\n",
       "<table border=\"1\" class=\"dataframe\">\n",
       "  <thead>\n",
       "    <tr style=\"text-align: right;\">\n",
       "      <th></th>\n",
       "      <th>community</th>\n",
       "      <th>community_id</th>\n",
       "      <th>benefit_tier</th>\n",
       "      <th>benefit_package_id</th>\n",
       "    </tr>\n",
       "  </thead>\n",
       "  <tbody>\n",
       "  </tbody>\n",
       "</table>\n",
       "</div>"
      ],
      "text/plain": [
       "Empty DataFrame\n",
       "Columns: [community, community_id, benefit_tier, benefit_package_id]\n",
       "Index: []"
      ]
     },
     "execution_count": 15,
     "metadata": {},
     "output_type": "execute_result"
    }
   ],
   "source": [
    "print(\"Following Community & Benefit Tiers are impacted\")\n",
    "error_benefit_contract[['community','community_id','benefit_tier','benefit_package_id']].drop_duplicates()"
   ]
  },
  {
   "cell_type": "code",
   "execution_count": null,
   "metadata": {},
   "outputs": [],
   "source": []
  },
  {
   "cell_type": "code",
   "execution_count": null,
   "metadata": {},
   "outputs": [],
   "source": []
  }
 ],
 "metadata": {
  "kernelspec": {
   "display_name": "Python 3",
   "language": "python",
   "name": "python3"
  },
  "language_info": {
   "codemirror_mode": {
    "name": "ipython",
    "version": 3
   },
   "file_extension": ".py",
   "mimetype": "text/x-python",
   "name": "python",
   "nbconvert_exporter": "python",
   "pygments_lexer": "ipython3",
   "version": "3.6.9"
  }
 },
 "nbformat": 4,
 "nbformat_minor": 2
}
