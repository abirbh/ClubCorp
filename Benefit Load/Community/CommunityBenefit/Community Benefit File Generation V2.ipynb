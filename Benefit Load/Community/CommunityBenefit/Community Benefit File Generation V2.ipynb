{
 "cells": [
  {
   "cell_type": "code",
   "execution_count": 1,
   "metadata": {},
   "outputs": [],
   "source": [
    "import pandas as pd\n",
    "from collections import defaultdict\n",
    "import collections\n",
    "import hashlib\n",
    "import re"
   ]
  },
  {
   "cell_type": "code",
   "execution_count": 2,
   "metadata": {},
   "outputs": [
    {
     "name": "stdout",
     "output_type": "stream",
     "text": [
      "1497\n"
     ]
    }
   ],
   "source": [
    "#Read Dana's file (headers are simplified)\n",
    "df = pd.read_csv(\"output\\intermediate\\Danas_File_ExtendedWithIds.csv\",dtype = str)\n",
    "print(len(df.index))"
   ]
  },
  {
   "cell_type": "markdown",
   "metadata": {},
   "source": [
    "<h1>MD5 Hash Generating Function</h1>"
   ]
  },
  {
   "cell_type": "code",
   "execution_count": 3,
   "metadata": {},
   "outputs": [],
   "source": [
    "# Following operations are performed\n",
    "# (1) Trim (2) Convert to lower (c) Replace consequitive white space characters with underscore (_)\n",
    "\n",
    "pattern = re.compile(r'\\s+')\n",
    "def generateIdBasedOnHash(text):\n",
    "    normalized_text = text.strip().lower()\n",
    "    normalized_text = re.sub(pattern, '_', normalized_text)\n",
    "    return str(hashlib.md5(normalized_text.encode('utf-8')).hexdigest())"
   ]
  },
  {
   "cell_type": "markdown",
   "metadata": {},
   "source": [
    "<h1>Generating Benefit Package</h1>"
   ]
  },
  {
   "cell_type": "code",
   "execution_count": 4,
   "metadata": {},
   "outputs": [],
   "source": [
    "df_benefit_tier_subset = df[['community_id','Benefit Tier']].drop_duplicates().dropna(subset=['community_id','Benefit Tier'])"
   ]
  },
  {
   "cell_type": "code",
   "execution_count": 5,
   "metadata": {},
   "outputs": [],
   "source": [
    "# Basic Standardization\n",
    "df_benefit_tier_subset = df_benefit_tier_subset.apply(lambda x: x.astype(str).str.upper())\n",
    "df_benefit_tier_subset = df_benefit_tier_subset.apply(lambda x: x.astype(str).str.strip())\n",
    "df_benefit_tier_subset = df_benefit_tier_subset.apply(lambda x: x.astype(str).str.replace('  ',' '))"
   ]
  },
  {
   "cell_type": "code",
   "execution_count": 6,
   "metadata": {},
   "outputs": [],
   "source": [
    "d1 = []\n",
    "for row in df_benefit_tier_subset.itertuples():\n",
    "    community = row[1]\n",
    "    benefit_tier = row[2].strip()\n",
    "    benefit_package_id = generateIdBasedOnHash(community + \"|\" + benefit_tier)\n",
    "    d1.append({\"community\": community, \"benefit_package_id\": benefit_package_id, \"benefit_tier\": benefit_tier})\n",
    "    \n",
    "benefit_package_df = pd.DataFrame(d1)\n",
    "benefit_package_df = benefit_package_df[['community','benefit_package_id','benefit_tier']]"
   ]
  },
  {
   "cell_type": "markdown",
   "metadata": {},
   "source": [
    "<H3>Golf Benefits</H3>"
   ]
  },
  {
   "cell_type": "code",
   "execution_count": 7,
   "metadata": {},
   "outputs": [],
   "source": [
    "df = df[(~df['Golf Benefit'].isnull())]\n",
    "df_subset = df[(~df['Golf Benefit'].isin(['No access','Home Club','NO ACCESS','NAN']))]\\\n",
    "                [['community_id','Benefit Tier','Golf Benefit','Availability','Advance','entity_code','Golf Amenity Restrictions']].drop_duplicates().dropna(subset=['community_id','Benefit Tier','Golf Benefit','entity_code'])"
   ]
  },
  {
   "cell_type": "code",
   "execution_count": 8,
   "metadata": {},
   "outputs": [],
   "source": [
    "# Basic Standardization\n",
    "df_subset = df_subset.apply(lambda x: x.astype(str).str.upper())\n",
    "df_subset = df_subset.apply(lambda x: x.astype(str).str.strip())\n",
    "df_subset = df_subset.apply(lambda x: x.astype(str).str.replace('  ',' '))"
   ]
  },
  {
   "cell_type": "code",
   "execution_count": 9,
   "metadata": {},
   "outputs": [],
   "source": [
    "d = defaultdict(lambda: defaultdict(lambda: defaultdict(lambda: defaultdict(list))))"
   ]
  },
  {
   "cell_type": "code",
   "execution_count": 10,
   "metadata": {},
   "outputs": [],
   "source": [
    "for row in df_subset.itertuples():\n",
    "    if row[7] :\n",
    "        d[row[1]][row[2]][row[3]+ \" # \" + row[5]][row[4]].append(row[6]+ \"##\" + row[7])       \n",
    "    else :  \n",
    "        d[row[1]][row[2]][row[3]+ \" # \" + row[5]][row[4]].append(row[6])"
   ]
  },
  {
   "cell_type": "code",
   "execution_count": 11,
   "metadata": {},
   "outputs": [],
   "source": [
    "communities = list(d.keys())"
   ]
  },
  {
   "cell_type": "code",
   "execution_count": 12,
   "metadata": {},
   "outputs": [],
   "source": [
    "d2 = []\n",
    "d3 = []\n",
    "d4 = []\n",
    "for community in communities:\n",
    "    benefit_tiers = list(d[community].keys())\n",
    "    for benefit_tier in benefit_tiers:\n",
    "        benefit_package_id_golf = generateIdBasedOnHash(community + \"|\" + benefit_tier.strip())\n",
    "        benefits = list(d[community][benefit_tier])\n",
    "        for benefit in benefits:\n",
    "            benefit_id = generateIdBasedOnHash(community + \"|Golf|\" + benefit_tier + \"|\" + benefit)\n",
    "            d2.append({\"community\": community,\"benefit_package_id\": benefit_package_id_golf, \"benefit_id\": benefit_id, \"benefit\": benefit})\n",
    "            access_rules = list(d[community][benefit_tier][benefit])\n",
    "            for access_rule in access_rules:\n",
    "                clubs = list(d[community][benefit_tier][benefit][access_rule])\n",
    "                if access_rule == 'NAN':\n",
    "                    access_rule = \"Access Rule\"\n",
    "                access_rule_id = generateIdBasedOnHash(community + \"|Golf|\" + benefit_tier + \"|\" + benefit + \"|\" + access_rule)\n",
    "                d3.append({\"benefit_id\": benefit_id, \"access_rule_id\": access_rule_id, \"access_rule\": access_rule})\n",
    "                \n",
    "                for club in clubs:\n",
    "                    token = club.split(\"##\")\n",
    "                    entityCode = token[0]\n",
    "                    restriction = ''\n",
    "                    if len(token)>1 :\n",
    "                        restriction = token[1]\n",
    "                    d4.append({\"benefit_id\": benefit_id, \"access_rule_id\": access_rule_id, \"access_rule\": access_rule, \"entity_code\":entityCode,\"Type\" : \"Golf\", 'Restriction' : restriction})"
   ]
  },
  {
   "cell_type": "markdown",
   "metadata": {},
   "source": [
    "<b>Golf Data Frames</b>"
   ]
  },
  {
   "cell_type": "code",
   "execution_count": 13,
   "metadata": {},
   "outputs": [],
   "source": [
    "benefit_df = pd.DataFrame(d2)\n",
    "benefit_df = benefit_df[['community','benefit_package_id','benefit_id','benefit']]\n",
    "access_rule_df = pd.DataFrame(d3)\n",
    "access_rule_df = access_rule_df[['benefit_id','access_rule_id','access_rule']]\n",
    "access_rule_club_df = pd.DataFrame(d4)\n",
    "access_rule_club_df = access_rule_club_df[['benefit_id','access_rule_id','access_rule','entity_code', 'Type','Restriction']]"
   ]
  },
  {
   "cell_type": "markdown",
   "metadata": {},
   "source": [
    "<H3>Dining Benefits</H3>"
   ]
  },
  {
   "cell_type": "code",
   "execution_count": 14,
   "metadata": {},
   "outputs": [
    {
     "name": "stdout",
     "output_type": "stream",
     "text": [
      "1497\n",
      "1290\n",
      "10\n"
     ]
    }
   ],
   "source": [
    "df = pd.read_csv(\"output\\intermediate\\Danas_File_ExtendedWithIds.csv\",dtype = str)\n",
    "print(len(df.index))\n",
    "df = df[(~df['Dining Benefit'].isnull())]\n",
    "df_subset_dining = df[(~df['Dining Benefit'].isin(['No access','Home Club','N/A','NO ACCESS','NAN']))]\\\n",
    "                    [['community_id','Benefit Tier','Dining Benefit','Dining Availability','entity_code','Dining Restrictions']].drop_duplicates()\n",
    "    \n",
    "    \n",
    "print(len(df_subset_dining.index))\n",
    "\n",
    "df_subset_check = df_subset_dining[(df_subset_dining['community_id'].isin(['5345','5347','5348','5349','5315','5338']))]\n",
    "df_subset_check = df_subset_check[(df_subset_check['Benefit Tier'].isin(['ALL COMMUNITY PROGRAMMING']))]\n",
    "\n",
    "print(len(df_subset_check.index))"
   ]
  },
  {
   "cell_type": "code",
   "execution_count": 15,
   "metadata": {},
   "outputs": [],
   "source": [
    "# Basic Standardization\n",
    "df_subset_dining = df_subset_dining.apply(lambda x: x.astype(str).str.upper())\n",
    "df_subset_dining = df_subset_dining.apply(lambda x: x.astype(str).str.strip())\n",
    "df_subset_dining = df_subset_dining.apply(lambda x: x.astype(str).str.replace('  ',' '))"
   ]
  },
  {
   "cell_type": "code",
   "execution_count": 16,
   "metadata": {},
   "outputs": [],
   "source": [
    "d_dining = defaultdict(lambda: defaultdict(lambda: defaultdict(lambda: defaultdict(list))))\n",
    "for row in df_subset_dining.itertuples():\n",
    "    d_dining[row[1]][row[2]][row[3]][row[4]].append(row[5] +\"##\" + row[6])"
   ]
  },
  {
   "cell_type": "code",
   "execution_count": 17,
   "metadata": {},
   "outputs": [
    {
     "name": "stdout",
     "output_type": "stream",
     "text": [
      "------------------------------------\n",
      "5338\n",
      "050e2a6d5c64a8e416673096d42bf16c\n",
      "['50% OFF TWO MEMBER MEALS PER CLUB', 'LUNCH ACCESS']\n",
      "d56dc079ad791b356e44f96fdf899fb4\n",
      "120cd73056daa6f473aabd645401b4e9\n",
      "------------------------------------\n",
      "5345\n",
      "99f39b71f4350e20f95df39e456b8f39\n",
      "['50% OFF TWO MEMBER MEALS PER CLUB', 'LUNCH ACCESS']\n",
      "05496543edf35b70b47334a2fe50bfea\n",
      "aec6fffb6fa88a6fedc72d847e432d67\n",
      "------------------------------------\n",
      "5349\n",
      "5fc107a38e2867820696fea9415a0cf2\n",
      "['TWO 2-4-1 PER CLUB DINING', 'ADDITIONAL PAY TO DINE ACCESS AVAILABLE']\n",
      "935f0d9ce25e44f371bb672cca274c7b\n",
      "f38f55b12a753ac667cec58ab4777220\n",
      "------------------------------------\n",
      "5315\n",
      "0e4a3fec96524e29fde3df05267eed3e\n",
      "['ONE 2-4-1 PER CLUB DINING', 'ADDITIONAL PAY TO DINE ACCESS AVAILABLE']\n",
      "12fda5120d1c85ba50eceb0640740881\n",
      "8efc71d2a08cf93427aa3ea670d8e580\n",
      "------------------------------------\n",
      "5348\n",
      "1cc73dd645f7668b95eabce233a499f1\n",
      "['PAY TO DINE']\n",
      "8c50501c7eb4f0573a2bff5869d445a8\n",
      "------------------------------------\n",
      "5347\n",
      "33cb606383950b4adea62579b6b52bd9\n",
      "['DINING ACCESS']\n",
      "bd243f099c89e78748af4025a8a76a6c\n"
     ]
    }
   ],
   "source": [
    "communities = list(d_dining.keys())\n",
    "\n",
    "d2_dining = []\n",
    "d3_dining = []\n",
    "d4_dining = []\n",
    "\n",
    "list_club = ['5345','5347','5348','5349','5315','5338']\n",
    "\n",
    "\n",
    "for community in communities:\n",
    "    #print(community)\n",
    "    benefit_tiers = list(d_dining[community].keys())\n",
    "    for benefit_tier in benefit_tiers:\n",
    "        benefit_package_id_dining = generateIdBasedOnHash(community + \"|\" + benefit_tier.strip())\n",
    "        benefits = list(d_dining[community][benefit_tier])\n",
    "        \n",
    "        \n",
    "        if community in list_club :\n",
    "            print(\"------------------------------------\")\n",
    "            print(community)\n",
    "            print(benefit_package_id_dining)\n",
    "            print(benefits)\n",
    "            \n",
    "        for benefit in benefits:\n",
    "            benefit_id = generateIdBasedOnHash(community + \"|Dining|\" + benefit_tier + \"|\" + benefit)\n",
    "            d2_dining.append({\"community\": community,\"benefit_package_id\": benefit_package_id_dining, \"benefit_id\": benefit_id, \"benefit\": benefit})\n",
    "            access_rules = list(d_dining[community][benefit_tier][benefit])\n",
    "            \n",
    "            if community in list_club :  \n",
    "                print(benefit_id)\n",
    "            \n",
    "            for access_rule in access_rules:\n",
    "                clubs = list(d_dining[community][benefit_tier][benefit][access_rule])\n",
    "                if access_rule == 'NAN':\n",
    "                    access_rule = \"Access Rule\"\n",
    "                \n",
    "                access_rule_id = generateIdBasedOnHash(community + \"|Dining|\" + benefit_tier + \"|\" + benefit + \"|\" + access_rule)\n",
    "                d3_dining.append({\"benefit_id\": benefit_id, \"access_rule_id\": access_rule_id, \"access_rule\": access_rule})\n",
    "                \n",
    "                for club in clubs:          \n",
    "                    token = club.split(\"##\")\n",
    "                    entityCode = token[0]\n",
    "                    restriction = ''\n",
    "                    if len(token)>1 :\n",
    "                        restriction = token[1]                  \n",
    "                    d4_dining.append({\"benefit_id\": benefit_id, \"access_rule_id\": access_rule_id, \"access_rule\": access_rule, \"entity_code\":entityCode,\"Type\" : \"Dining\", \"Restriction\" : restriction})\n"
   ]
  },
  {
   "cell_type": "markdown",
   "metadata": {},
   "source": [
    "<b>Dining Data Frames</b>"
   ]
  },
  {
   "cell_type": "code",
   "execution_count": 18,
   "metadata": {},
   "outputs": [],
   "source": [
    "dining_benefit_df = pd.DataFrame(d2_dining)\n",
    "dining_benefit_df = dining_benefit_df[['community','benefit_package_id','benefit_id','benefit']]\n",
    "dining_access_rule_df = pd.DataFrame(d3_dining)\n",
    "dining_access_rule_df = dining_access_rule_df[['benefit_id','access_rule_id','access_rule']]\n",
    "dining_access_rule_club_df = pd.DataFrame(d4_dining)\n",
    "dining_access_rule_club_df = dining_access_rule_club_df[['benefit_id','access_rule_id','access_rule','entity_code','Type', 'Restriction']]"
   ]
  },
  {
   "cell_type": "markdown",
   "metadata": {},
   "source": [
    "<B> Merging two Benefit Package generated for Golf and Dining</B>"
   ]
  },
  {
   "cell_type": "markdown",
   "metadata": {},
   "source": [
    "<b>Save Files</b>"
   ]
  },
  {
   "cell_type": "code",
   "execution_count": 19,
   "metadata": {},
   "outputs": [],
   "source": [
    "benefit_package_df.to_csv(\"output\\Community_Benefit_Packages.csv\", index=False)\n",
    "benefit_df.to_csv(\"output\\intermediate\\Community_Golf_Benefits.csv\", index=False)\n",
    "access_rule_df.to_csv(\"output\\intermediate\\Community_Golf_Access_Rules.csv\", index=False)\n",
    "access_rule_club_df.to_csv(\"output\\Community_Golf_Access_Rules_Club.csv\", index=False)\n",
    "dining_benefit_df.to_csv(\"output\\intermediate\\Community_Dining_Benefits.csv\", index=False)\n",
    "dining_access_rule_df.to_csv(\"output\\intermediate\\Community_Dining_Access_Rules.csv\", index=False)\n",
    "dining_access_rule_club_df.to_csv(\"output\\Community_Dining_Access_Rules_Club.csv\", index=False)"
   ]
  },
  {
   "cell_type": "code",
   "execution_count": null,
   "metadata": {},
   "outputs": [],
   "source": []
  }
 ],
 "metadata": {
  "kernelspec": {
   "display_name": "Python 3",
   "language": "python",
   "name": "python3"
  },
  "language_info": {
   "codemirror_mode": {
    "name": "ipython",
    "version": 3
   },
   "file_extension": ".py",
   "mimetype": "text/x-python",
   "name": "python",
   "nbconvert_exporter": "python",
   "pygments_lexer": "ipython3",
   "version": "3.6.9"
  }
 },
 "nbformat": 4,
 "nbformat_minor": 2
}
