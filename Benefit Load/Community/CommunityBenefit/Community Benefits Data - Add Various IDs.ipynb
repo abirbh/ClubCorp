{
 "cells": [
  {
   "cell_type": "code",
   "execution_count": 1,
   "metadata": {},
   "outputs": [],
   "source": [
    "import pandas as pd\n",
    "import sqlite3"
   ]
  },
  {
   "cell_type": "code",
   "execution_count": 2,
   "metadata": {},
   "outputs": [
    {
     "name": "stdout",
     "output_type": "stream",
     "text": [
      "Before dropping duplicates: \n",
      "1499\n",
      "After dropping duplicates: \n",
      "1497\n"
     ]
    }
   ],
   "source": [
    "# Read dana's files\n",
    "community_benefit_df = pd.read_csv(\"datasets\\Owned Club Community Benefits Review 20181220 V8 Preprocessed.csv\",dtype=str)\n",
    "print(\"Before dropping duplicates: \")\n",
    "print(len(community_benefit_df.index))\n",
    "\n",
    "community_benefit_df.drop_duplicates(keep='first', inplace=True)\n",
    "print(\"After dropping duplicates: \")\n",
    "print(len(community_benefit_df.index))"
   ]
  },
  {
   "cell_type": "code",
   "execution_count": 3,
   "metadata": {},
   "outputs": [
    {
     "name": "stdout",
     "output_type": "stream",
     "text": [
      "62\n"
     ]
    }
   ],
   "source": [
    "#Reading Marekt Ids\n",
    "market_id_df = pd.read_excel(\"datasets\\MarketNameMapping.xlsx\", sheet_name=0,dtype=str)\n",
    "#market_id_df.head()\n",
    "market_id_df['Market_Name_Dana'] = market_id_df['Market_Name_Dana'].apply(lambda x: x.strip().upper())\n",
    "market_id_df['Market_Name_Dana'] = market_id_df['Market_Name_Dana'].apply(lambda x: ' '.join(x.split()))\n",
    "market_id_df = market_id_df.drop_duplicates()\n",
    "market_id_df = market_id_df.drop_duplicates(keep=False)\n",
    "print(len(market_id_df.index))"
   ]
  },
  {
   "cell_type": "code",
   "execution_count": 4,
   "metadata": {},
   "outputs": [],
   "source": [
    "# Reading Community Ids\n",
    "community_id_df = pd.read_excel(\"datasets\\Community Name Mapping.xlsx\", sheet_name=0,dtype=str)\n",
    "community_id_df['Community_Name_Dana'] = community_id_df['Community_Name_Dana'].apply(lambda x: x.strip().upper())\n",
    "community_id_df['Community_Name_Dana'] = community_id_df['Community_Name_Dana'].apply(lambda x: ' '.join(x.split()))\n",
    "#community_id_df.head()\n",
    "community_id_df = community_id_df.drop_duplicates()"
   ]
  },
  {
   "cell_type": "code",
   "execution_count": 5,
   "metadata": {},
   "outputs": [],
   "source": [
    "# Reading club ids\n",
    "#entity_code_df = pd.read_excel(\"datasets//full club list_20181218.xlsx\", sheet_name=0,dtype=str)\n",
    "entity_code_df = pd.read_excel(\"datasets//full club list_20190130.xlsx\", sheet_name=0,dtype=str)\n",
    "# Make entity code 5 digits\n",
    "entity_code_df = entity_code_df[['Community','Market', 'Club','Entity_Code']]\n",
    "entity_code_df['Entity_Code'] = entity_code_df['Entity_Code'].apply(lambda x: str(x).zfill(5))\n",
    "\n",
    "#Make club name to upper case,trim and removing consecutive space\n",
    "entity_code_df['Club'] = entity_code_df['Club'].apply(lambda x: x.strip().upper())\n",
    "entity_code_df['Club'] = entity_code_df['Club'].apply(lambda x: ' '.join(x.split()))\n",
    "\n",
    "entity_code_df['Community'] = entity_code_df['Community'].apply(lambda x: x.strip().upper())\n",
    "entity_code_df['Community'] = entity_code_df['Community'].apply(lambda x: ' '.join(x.split()))\n",
    "\n",
    "entity_code_df['Market'] = entity_code_df['Market'].apply(lambda x: x.strip().upper())\n",
    "entity_code_df['Market'] = entity_code_df['Market'].apply(lambda x: ' '.join(x.split()))\n",
    "\n",
    "entity_code_df = entity_code_df.drop_duplicates()\n",
    "#entity_code_df.head()"
   ]
  },
  {
   "cell_type": "code",
   "execution_count": 6,
   "metadata": {},
   "outputs": [
    {
     "name": "stderr",
     "output_type": "stream",
     "text": [
      "C:\\Users\\akk\\Anaconda3\\envs\\tensorflow\\lib\\site-packages\\pandas\\core\\generic.py:1534: UserWarning: The spaces in these column names will not be changed. In pandas versions < 0.14, spaces were converted to underscores.\n",
      "  chunksize=chunksize, dtype=dtype)\n"
     ]
    },
    {
     "name": "stdout",
     "output_type": "stream",
     "text": [
      "Wall time: 335 ms\n"
     ]
    }
   ],
   "source": [
    "%%time\n",
    "conn = sqlite3.connect(\"CommunityBenefit.db\")\n",
    "cur = conn.cursor()\n",
    "community_benefit_df.to_sql(\"community_benefit\", conn, if_exists=\"replace\")\n",
    "community_id_df.to_sql(\"community_id\", conn, if_exists=\"replace\")\n",
    "market_id_df.to_sql(\"market_id\", conn, if_exists=\"replace\")\n",
    "entity_code_df.to_sql(\"entity_code\", conn, if_exists=\"replace\")"
   ]
  },
  {
   "cell_type": "code",
   "execution_count": 7,
   "metadata": {},
   "outputs": [],
   "source": [
    "# query for merging dana's file with the id file\n",
    "# we exclude those rows of dana's file that does associated with a community id or, club id\n",
    "\n",
    "query = \"\"\"select distinct        \n",
    "            community_benefit.Community,\n",
    "            community_id.Community_ID as community_id,\n",
    "            community_benefit.Market,\n",
    "            market_id.Market_ID_BF as market_id,\n",
    "            community_benefit.'Club Type',\n",
    "            community_benefit.Club,\n",
    "            entity_code.Entity_Code as entity_code,\n",
    "            community_benefit.'Benefit Tier',\n",
    "            community_benefit.'Cart Fee Rate',\n",
    "            community_benefit.'Suggested Tier Rate 2019',\n",
    "            community_benefit.'Golf Benefit',\n",
    "            community_benefit.'Availability',\n",
    "            community_benefit.'Advance',\n",
    "            community_benefit.'Golf Amenity Restrictions',\n",
    "            community_benefit.'Dining Benefit',\n",
    "            community_benefit.'Dining Availability',\n",
    "            community_benefit.'Dining Restrictions',\n",
    "            community_benefit.'Tennis Benefit',\n",
    "            community_benefit.'Tennis Availability',\n",
    "            community_benefit.'Tennis Advance',\n",
    "            community_benefit.'Athletic Benefit',\n",
    "            community_benefit.'Athletic Availability',\n",
    "            community_benefit.'Athletic Advance',\n",
    "            community_benefit.'Pool Benefit',\n",
    "            community_benefit.'Pool Availability',\n",
    "            community_benefit.'Pool Advance',\n",
    "            community_benefit.Notes\n",
    "            from community_benefit\n",
    "            left join community_id on community_id.Community_Name_Dana = community_benefit.Community\n",
    "            left join market_id on market_id.Market_Name_Dana = community_benefit.Market\n",
    "            left join entity_code on entity_code.Club = community_benefit.Club and entity_code.Community=community_id.Community_Name_Dana and entity_code.Market=community_benefit.Market\n",
    "            \"\"\""
   ]
  },
  {
   "cell_type": "code",
   "execution_count": 8,
   "metadata": {},
   "outputs": [
    {
     "name": "stdout",
     "output_type": "stream",
     "text": [
      "1497\n"
     ]
    }
   ],
   "source": [
    "rs_benefit = pd.read_sql_query(query, conn)\n",
    "#rs_benefit.head()\n",
    "print(len(rs_benefit.index))"
   ]
  },
  {
   "cell_type": "code",
   "execution_count": 9,
   "metadata": {},
   "outputs": [
    {
     "name": "stdout",
     "output_type": "stream",
     "text": [
      "1497\n"
     ]
    }
   ],
   "source": [
    "print(len(rs_benefit.index))\n",
    "rs_benefit.to_csv(\"output/intermediate/Danas_File_ExtendedWithIds.csv\",index=False)"
   ]
  },
  {
   "cell_type": "code",
   "execution_count": 10,
   "metadata": {},
   "outputs": [],
   "source": [
    "conn.execute(\"DROP TABLE community_benefit\")\n",
    "conn.execute(\"DROP TABLE community_id\")\n",
    "conn.execute(\"DROP TABLE market_id\")\n",
    "conn.execute(\"DROP TABLE entity_code\")\n",
    "cur.close()\n",
    "conn.close()"
   ]
  },
  {
   "cell_type": "code",
   "execution_count": null,
   "metadata": {},
   "outputs": [],
   "source": []
  }
 ],
 "metadata": {
  "kernelspec": {
   "display_name": "Python 3",
   "language": "python",
   "name": "python3"
  },
  "language_info": {
   "codemirror_mode": {
    "name": "ipython",
    "version": 3
   },
   "file_extension": ".py",
   "mimetype": "text/x-python",
   "name": "python",
   "nbconvert_exporter": "python",
   "pygments_lexer": "ipython3",
   "version": "3.5.5"
  }
 },
 "nbformat": 4,
 "nbformat_minor": 2
}
