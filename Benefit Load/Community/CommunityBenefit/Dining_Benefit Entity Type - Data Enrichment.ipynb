{
 "cells": [
  {
   "cell_type": "code",
   "execution_count": 1,
   "metadata": {},
   "outputs": [
    {
     "name": "stdout",
     "output_type": "stream",
     "text": [
      "C:\\Users\\akk\\Clubcorp\\CommunityBenefit\n"
     ]
    }
   ],
   "source": [
    "import os\n",
    "cwd = os.getcwd()\n",
    "print(cwd)"
   ]
  },
  {
   "cell_type": "code",
   "execution_count": 2,
   "metadata": {},
   "outputs": [],
   "source": [
    "import pandas as pd\n",
    "import sqlite3"
   ]
  },
  {
   "cell_type": "code",
   "execution_count": 3,
   "metadata": {},
   "outputs": [],
   "source": [
    "dining_benefit_df = pd.read_csv(\"output\\intermediate\\Community_Dining_Benefits.csv\")"
   ]
  },
  {
   "cell_type": "code",
   "execution_count": 4,
   "metadata": {
    "scrolled": true
   },
   "outputs": [
    {
     "data": {
      "text/html": [
       "<div>\n",
       "<style scoped>\n",
       "    .dataframe tbody tr th:only-of-type {\n",
       "        vertical-align: middle;\n",
       "    }\n",
       "\n",
       "    .dataframe tbody tr th {\n",
       "        vertical-align: top;\n",
       "    }\n",
       "\n",
       "    .dataframe thead th {\n",
       "        text-align: right;\n",
       "    }\n",
       "</style>\n",
       "<table border=\"1\" class=\"dataframe\">\n",
       "  <thead>\n",
       "    <tr style=\"text-align: right;\">\n",
       "      <th></th>\n",
       "      <th>community</th>\n",
       "      <th>benefit_package_id</th>\n",
       "      <th>benefit_id</th>\n",
       "      <th>benefit</th>\n",
       "    </tr>\n",
       "  </thead>\n",
       "  <tbody>\n",
       "    <tr>\n",
       "      <th>0</th>\n",
       "      <td>5338</td>\n",
       "      <td>050e2a6d5c64a8e416673096d42bf16c</td>\n",
       "      <td>d56dc079ad791b356e44f96fdf899fb4</td>\n",
       "      <td>50% OFF TWO MEMBER MEALS PER CLUB</td>\n",
       "    </tr>\n",
       "    <tr>\n",
       "      <th>1</th>\n",
       "      <td>5338</td>\n",
       "      <td>050e2a6d5c64a8e416673096d42bf16c</td>\n",
       "      <td>120cd73056daa6f473aabd645401b4e9</td>\n",
       "      <td>LUNCH ACCESS</td>\n",
       "    </tr>\n",
       "    <tr>\n",
       "      <th>2</th>\n",
       "      <td>5334</td>\n",
       "      <td>94c705581c4b62602e9e13105ed33351</td>\n",
       "      <td>c6994c49a7a41151e993a4d84fee8e62</td>\n",
       "      <td>50% OFF TWO MEMBER MEALS PER CLUB</td>\n",
       "    </tr>\n",
       "    <tr>\n",
       "      <th>3</th>\n",
       "      <td>5334</td>\n",
       "      <td>94c705581c4b62602e9e13105ed33351</td>\n",
       "      <td>38262002de457cedc3354470b1e66286</td>\n",
       "      <td>LUNCH ACCESS</td>\n",
       "    </tr>\n",
       "    <tr>\n",
       "      <th>4</th>\n",
       "      <td>5322</td>\n",
       "      <td>f00b6c1a5e377bdf937d6a924113cd47</td>\n",
       "      <td>c66d5597e371e64ff903708cb173a386</td>\n",
       "      <td>ONE 2-4-1 PER CLUB DINING</td>\n",
       "    </tr>\n",
       "  </tbody>\n",
       "</table>\n",
       "</div>"
      ],
      "text/plain": [
       "   community                benefit_package_id  \\\n",
       "0       5338  050e2a6d5c64a8e416673096d42bf16c   \n",
       "1       5338  050e2a6d5c64a8e416673096d42bf16c   \n",
       "2       5334  94c705581c4b62602e9e13105ed33351   \n",
       "3       5334  94c705581c4b62602e9e13105ed33351   \n",
       "4       5322  f00b6c1a5e377bdf937d6a924113cd47   \n",
       "\n",
       "                         benefit_id                            benefit  \n",
       "0  d56dc079ad791b356e44f96fdf899fb4  50% OFF TWO MEMBER MEALS PER CLUB  \n",
       "1  120cd73056daa6f473aabd645401b4e9                       LUNCH ACCESS  \n",
       "2  c6994c49a7a41151e993a4d84fee8e62  50% OFF TWO MEMBER MEALS PER CLUB  \n",
       "3  38262002de457cedc3354470b1e66286                       LUNCH ACCESS  \n",
       "4  c66d5597e371e64ff903708cb173a386          ONE 2-4-1 PER CLUB DINING  "
      ]
     },
     "execution_count": 4,
     "metadata": {},
     "output_type": "execute_result"
    }
   ],
   "source": [
    "dining_benefit_df.head()"
   ]
  },
  {
   "cell_type": "code",
   "execution_count": 5,
   "metadata": {},
   "outputs": [],
   "source": [
    "dining_benefit_metadata_df = pd.read_csv(\"datasets\\metadata\\dining_benefit_meta_data.csv\")"
   ]
  },
  {
   "cell_type": "code",
   "execution_count": 6,
   "metadata": {},
   "outputs": [
    {
     "data": {
      "text/html": [
       "<div>\n",
       "<style scoped>\n",
       "    .dataframe tbody tr th:only-of-type {\n",
       "        vertical-align: middle;\n",
       "    }\n",
       "\n",
       "    .dataframe tbody tr th {\n",
       "        vertical-align: top;\n",
       "    }\n",
       "\n",
       "    .dataframe thead th {\n",
       "        text-align: right;\n",
       "    }\n",
       "</style>\n",
       "<table border=\"1\" class=\"dataframe\">\n",
       "  <thead>\n",
       "    <tr style=\"text-align: right;\">\n",
       "      <th></th>\n",
       "      <th>benefit</th>\n",
       "      <th>UsageType</th>\n",
       "      <th>IsQuantityUnlimited</th>\n",
       "      <th>Quantity</th>\n",
       "      <th>Period</th>\n",
       "      <th>Scope</th>\n",
       "      <th>MaxPerClub</th>\n",
       "    </tr>\n",
       "  </thead>\n",
       "  <tbody>\n",
       "    <tr>\n",
       "      <th>0</th>\n",
       "      <td>DINING ACCESS</td>\n",
       "      <td>Dining Access</td>\n",
       "      <td>Yes</td>\n",
       "      <td>NaN</td>\n",
       "      <td>Per Month</td>\n",
       "      <td>Per Club</td>\n",
       "      <td>NaN</td>\n",
       "    </tr>\n",
       "    <tr>\n",
       "      <th>1</th>\n",
       "      <td>PAY TO DINE</td>\n",
       "      <td>Dining Access</td>\n",
       "      <td>Yes</td>\n",
       "      <td>NaN</td>\n",
       "      <td>Per Month</td>\n",
       "      <td>Per Club</td>\n",
       "      <td>NaN</td>\n",
       "    </tr>\n",
       "    <tr>\n",
       "      <th>2</th>\n",
       "      <td>UNLIMITED 2-4-1</td>\n",
       "      <td>2-4-1</td>\n",
       "      <td>Yes</td>\n",
       "      <td>NaN</td>\n",
       "      <td>Per Month</td>\n",
       "      <td>Per Club</td>\n",
       "      <td>NaN</td>\n",
       "    </tr>\n",
       "    <tr>\n",
       "      <th>3</th>\n",
       "      <td>ONE 2-4-1 TOTAL</td>\n",
       "      <td>2-4-1</td>\n",
       "      <td>NaN</td>\n",
       "      <td>1.0</td>\n",
       "      <td>Per Month</td>\n",
       "      <td>Per Community</td>\n",
       "      <td>NaN</td>\n",
       "    </tr>\n",
       "    <tr>\n",
       "      <th>4</th>\n",
       "      <td>ONE 2-4-1 PER DINING OR GOLF</td>\n",
       "      <td>2-4-1 Dining or Golf</td>\n",
       "      <td>NaN</td>\n",
       "      <td>1.0</td>\n",
       "      <td>Per Month</td>\n",
       "      <td>Per Community</td>\n",
       "      <td>NaN</td>\n",
       "    </tr>\n",
       "  </tbody>\n",
       "</table>\n",
       "</div>"
      ],
      "text/plain": [
       "                        benefit             UsageType IsQuantityUnlimited  \\\n",
       "0                 DINING ACCESS         Dining Access                 Yes   \n",
       "1                   PAY TO DINE         Dining Access                 Yes   \n",
       "2               UNLIMITED 2-4-1                 2-4-1                 Yes   \n",
       "3               ONE 2-4-1 TOTAL                 2-4-1                 NaN   \n",
       "4  ONE 2-4-1 PER DINING OR GOLF  2-4-1 Dining or Golf                 NaN   \n",
       "\n",
       "   Quantity     Period          Scope  MaxPerClub  \n",
       "0       NaN  Per Month       Per Club         NaN  \n",
       "1       NaN  Per Month       Per Club         NaN  \n",
       "2       NaN  Per Month       Per Club         NaN  \n",
       "3       1.0  Per Month  Per Community         NaN  \n",
       "4       1.0  Per Month  Per Community         NaN  "
      ]
     },
     "execution_count": 6,
     "metadata": {},
     "output_type": "execute_result"
    }
   ],
   "source": [
    "dining_benefit_metadata_df.head()"
   ]
  },
  {
   "cell_type": "code",
   "execution_count": 7,
   "metadata": {},
   "outputs": [
    {
     "name": "stdout",
     "output_type": "stream",
     "text": [
      "Wall time: 108 ms\n"
     ]
    }
   ],
   "source": [
    "%%time\n",
    "conn = sqlite3.connect(\"diningBenefit.db\")\n",
    "cur = conn.cursor()\n",
    "dining_benefit_df.to_sql(\"diningBenefit\", conn, if_exists=\"replace\")\n",
    "dining_benefit_metadata_df.to_sql(\"diningBenefitMetadata\", conn, if_exists=\"replace\")"
   ]
  },
  {
   "cell_type": "code",
   "execution_count": 8,
   "metadata": {},
   "outputs": [],
   "source": [
    "query = \"\"\"select diningBenefit.community,\n",
    "         diningBenefit.benefit_package_id,\n",
    "         diningBenefit.benefit_id,\n",
    "         diningBenefit.benefit,\n",
    "         diningBenefitMetadata.UsageType,\n",
    "         diningBenefitMetadata.IsQuantityUnlimited,\n",
    "         diningBenefitMetadata.Quantity,\n",
    "         diningBenefitMetadata.Period,\n",
    "         diningBenefitMetadata.Scope,\n",
    "         diningBenefitMetadata.MaxPerClub\n",
    "         from diningBenefit\n",
    "         left join diningBenefitMetadata on trim(upper(diningBenefitMetadata.benefit)) = trim(upper(diningBenefit.benefit))\"\"\"\n",
    "\n",
    "rs_benefit = pd.read_sql_query(query, conn)"
   ]
  },
  {
   "cell_type": "code",
   "execution_count": 9,
   "metadata": {},
   "outputs": [
    {
     "name": "stdout",
     "output_type": "stream",
     "text": [
      "Total number of dining benefits: 261\n"
     ]
    }
   ],
   "source": [
    "print(\"Total number of dining benefits: \" + str(len(rs_benefit)))"
   ]
  },
  {
   "cell_type": "markdown",
   "metadata": {},
   "source": [
    "<b>Save Golf Benefits With Additional Columns<b>"
   ]
  },
  {
   "cell_type": "code",
   "execution_count": 10,
   "metadata": {},
   "outputs": [],
   "source": [
    "rs_benefit.to_csv(\"output/Community_Dining_Benefit_Extended.csv\",index=False)"
   ]
  },
  {
   "cell_type": "code",
   "execution_count": 11,
   "metadata": {},
   "outputs": [],
   "source": [
    "conn.execute(\"DROP TABLE diningBenefit\")\n",
    "conn.execute(\"DROP TABLE diningBenefitMetadata\")\n",
    "cur.close()\n",
    "conn.close()"
   ]
  },
  {
   "cell_type": "code",
   "execution_count": null,
   "metadata": {},
   "outputs": [],
   "source": []
  }
 ],
 "metadata": {
  "kernelspec": {
   "display_name": "Python 3",
   "language": "python",
   "name": "python3"
  },
  "language_info": {
   "codemirror_mode": {
    "name": "ipython",
    "version": 3
   },
   "file_extension": ".py",
   "mimetype": "text/x-python",
   "name": "python",
   "nbconvert_exporter": "python",
   "pygments_lexer": "ipython3",
   "version": "3.5.5"
  }
 },
 "nbformat": 4,
 "nbformat_minor": 2
}
