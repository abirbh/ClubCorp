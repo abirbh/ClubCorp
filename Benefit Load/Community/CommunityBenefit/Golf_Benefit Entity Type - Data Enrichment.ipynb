{
 "cells": [
  {
   "cell_type": "code",
   "execution_count": 1,
   "metadata": {},
   "outputs": [
    {
     "name": "stdout",
     "output_type": "stream",
     "text": [
      "C:\\Users\\akk\\Clubcorp\\CommunityBenefit\n"
     ]
    }
   ],
   "source": [
    "import os\n",
    "cwd = os.getcwd()\n",
    "print(cwd)"
   ]
  },
  {
   "cell_type": "code",
   "execution_count": 2,
   "metadata": {},
   "outputs": [],
   "source": [
    "import pandas as pd\n",
    "import sqlite3"
   ]
  },
  {
   "cell_type": "code",
   "execution_count": 3,
   "metadata": {},
   "outputs": [],
   "source": [
    "golf_benefit_df = pd.read_csv(\"output\\intermediate\\Community_Golf_Benefits.csv\")  "
   ]
  },
  {
   "cell_type": "code",
   "execution_count": 4,
   "metadata": {},
   "outputs": [],
   "source": [
    "#benefit_df.columns"
   ]
  },
  {
   "cell_type": "markdown",
   "metadata": {},
   "source": [
    "<b>Split benefit column into two columns (a) benefit_1 (b) advance</b>"
   ]
  },
  {
   "cell_type": "code",
   "execution_count": 5,
   "metadata": {},
   "outputs": [],
   "source": [
    "# Max split = 1\n",
    "golf_benefit_df['benefit_1'], golf_benefit_df['advance'] = golf_benefit_df['benefit'].str.split(' # ', 1).str"
   ]
  },
  {
   "cell_type": "code",
   "execution_count": 6,
   "metadata": {},
   "outputs": [
    {
     "data": {
      "text/plain": [
       "community             142\n",
       "benefit_package_id    142\n",
       "benefit_id            142\n",
       "benefit               142\n",
       "benefit_1             142\n",
       "advance               142\n",
       "dtype: int64"
      ]
     },
     "execution_count": 6,
     "metadata": {},
     "output_type": "execute_result"
    }
   ],
   "source": [
    "golf_benefit_df.count()"
   ]
  },
  {
   "cell_type": "code",
   "execution_count": 7,
   "metadata": {},
   "outputs": [],
   "source": [
    "golf_benefit_metadata_df = pd.read_csv(\"datasets\\metadata\\golf_benefit_meta_data.csv\")\n",
    "golf_advance_metadata_df = pd.read_csv(\"datasets\\metadata\\golf_advance_meta_data.csv\")"
   ]
  },
  {
   "cell_type": "code",
   "execution_count": 8,
   "metadata": {},
   "outputs": [
    {
     "data": {
      "text/html": [
       "<div>\n",
       "<style scoped>\n",
       "    .dataframe tbody tr th:only-of-type {\n",
       "        vertical-align: middle;\n",
       "    }\n",
       "\n",
       "    .dataframe tbody tr th {\n",
       "        vertical-align: top;\n",
       "    }\n",
       "\n",
       "    .dataframe thead th {\n",
       "        text-align: right;\n",
       "    }\n",
       "</style>\n",
       "<table border=\"1\" class=\"dataframe\">\n",
       "  <thead>\n",
       "    <tr style=\"text-align: right;\">\n",
       "      <th></th>\n",
       "      <th>benefit</th>\n",
       "      <th>UsageType</th>\n",
       "      <th>IsQuantityUnlimited</th>\n",
       "      <th>Quantity</th>\n",
       "      <th>Period</th>\n",
       "      <th>Scope</th>\n",
       "      <th>MaxPerClub</th>\n",
       "    </tr>\n",
       "  </thead>\n",
       "  <tbody>\n",
       "    <tr>\n",
       "      <th>0</th>\n",
       "      <td>CFO - unlimited</td>\n",
       "      <td>CFO</td>\n",
       "      <td>Yes</td>\n",
       "      <td>NaN</td>\n",
       "      <td>Per Month</td>\n",
       "      <td>Per Club</td>\n",
       "      <td>NaN</td>\n",
       "    </tr>\n",
       "    <tr>\n",
       "      <th>1</th>\n",
       "      <td>Unlimited access, no fees</td>\n",
       "      <td>CFO</td>\n",
       "      <td>Yes</td>\n",
       "      <td>NaN</td>\n",
       "      <td>Per Month</td>\n",
       "      <td>Per Club</td>\n",
       "      <td>NaN</td>\n",
       "    </tr>\n",
       "    <tr>\n",
       "      <th>2</th>\n",
       "      <td>Unlimited CFO</td>\n",
       "      <td>CFO</td>\n",
       "      <td>Yes</td>\n",
       "      <td>NaN</td>\n",
       "      <td>Per Month</td>\n",
       "      <td>Per Club</td>\n",
       "      <td>NaN</td>\n",
       "    </tr>\n",
       "    <tr>\n",
       "      <th>3</th>\n",
       "      <td>Unlimited cfo golf</td>\n",
       "      <td>CFO</td>\n",
       "      <td>Yes</td>\n",
       "      <td>NaN</td>\n",
       "      <td>Per Month</td>\n",
       "      <td>Per Club</td>\n",
       "      <td>NaN</td>\n",
       "    </tr>\n",
       "    <tr>\n",
       "      <th>4</th>\n",
       "      <td>1 CFO per club</td>\n",
       "      <td>CFO</td>\n",
       "      <td>NaN</td>\n",
       "      <td>1.0</td>\n",
       "      <td>Per Month</td>\n",
       "      <td>Per Club</td>\n",
       "      <td>NaN</td>\n",
       "    </tr>\n",
       "  </tbody>\n",
       "</table>\n",
       "</div>"
      ],
      "text/plain": [
       "                     benefit UsageType IsQuantityUnlimited  Quantity  \\\n",
       "0            CFO - unlimited       CFO                 Yes       NaN   \n",
       "1  Unlimited access, no fees       CFO                 Yes       NaN   \n",
       "2              Unlimited CFO       CFO                 Yes       NaN   \n",
       "3         Unlimited cfo golf       CFO                 Yes       NaN   \n",
       "4             1 CFO per club       CFO                 NaN       1.0   \n",
       "\n",
       "      Period     Scope  MaxPerClub  \n",
       "0  Per Month  Per Club         NaN  \n",
       "1  Per Month  Per Club         NaN  \n",
       "2  Per Month  Per Club         NaN  \n",
       "3  Per Month  Per Club         NaN  \n",
       "4  Per Month  Per Club         NaN  "
      ]
     },
     "execution_count": 8,
     "metadata": {},
     "output_type": "execute_result"
    }
   ],
   "source": [
    "golf_benefit_metadata_df.head()"
   ]
  },
  {
   "cell_type": "code",
   "execution_count": 9,
   "metadata": {},
   "outputs": [
    {
     "data": {
      "text/html": [
       "<div>\n",
       "<style scoped>\n",
       "    .dataframe tbody tr th:only-of-type {\n",
       "        vertical-align: middle;\n",
       "    }\n",
       "\n",
       "    .dataframe tbody tr th {\n",
       "        vertical-align: top;\n",
       "    }\n",
       "\n",
       "    .dataframe thead th {\n",
       "        text-align: right;\n",
       "    }\n",
       "</style>\n",
       "<table border=\"1\" class=\"dataframe\">\n",
       "  <thead>\n",
       "    <tr style=\"text-align: right;\">\n",
       "      <th></th>\n",
       "      <th>Advance</th>\n",
       "      <th>Prompt</th>\n",
       "      <th>PromptScope</th>\n",
       "      <th>DefaultValue</th>\n",
       "      <th>Prompt1</th>\n",
       "      <th>PromptScope1</th>\n",
       "      <th>DefaultValue1</th>\n",
       "    </tr>\n",
       "  </thead>\n",
       "  <tbody>\n",
       "    <tr>\n",
       "      <th>0</th>\n",
       "      <td>7 day</td>\n",
       "      <td>Advance Tee Times</td>\n",
       "      <td>All Days</td>\n",
       "      <td>7 days</td>\n",
       "      <td>NaN</td>\n",
       "      <td>NaN</td>\n",
       "      <td>NaN</td>\n",
       "    </tr>\n",
       "    <tr>\n",
       "      <th>1</th>\n",
       "      <td>5 day</td>\n",
       "      <td>Advance Tee Times</td>\n",
       "      <td>All Days</td>\n",
       "      <td>5 days</td>\n",
       "      <td>NaN</td>\n",
       "      <td>NaN</td>\n",
       "      <td>NaN</td>\n",
       "    </tr>\n",
       "    <tr>\n",
       "      <th>2</th>\n",
       "      <td>30 day</td>\n",
       "      <td>Advance Tee Times</td>\n",
       "      <td>All Days</td>\n",
       "      <td>30 days</td>\n",
       "      <td>NaN</td>\n",
       "      <td>NaN</td>\n",
       "      <td>NaN</td>\n",
       "    </tr>\n",
       "    <tr>\n",
       "      <th>3</th>\n",
       "      <td>30 days</td>\n",
       "      <td>Advance Tee Times</td>\n",
       "      <td>All Days</td>\n",
       "      <td>30 days</td>\n",
       "      <td>NaN</td>\n",
       "      <td>NaN</td>\n",
       "      <td>NaN</td>\n",
       "    </tr>\n",
       "    <tr>\n",
       "      <th>4</th>\n",
       "      <td>72 hour</td>\n",
       "      <td>Advance Tee Times</td>\n",
       "      <td>All Days</td>\n",
       "      <td>72 hours</td>\n",
       "      <td>NaN</td>\n",
       "      <td>NaN</td>\n",
       "      <td>NaN</td>\n",
       "    </tr>\n",
       "    <tr>\n",
       "      <th>5</th>\n",
       "      <td>48 hour</td>\n",
       "      <td>Advance Tee Times</td>\n",
       "      <td>All Days</td>\n",
       "      <td>48 hours</td>\n",
       "      <td>NaN</td>\n",
       "      <td>NaN</td>\n",
       "      <td>NaN</td>\n",
       "    </tr>\n",
       "    <tr>\n",
       "      <th>6</th>\n",
       "      <td>72 hours</td>\n",
       "      <td>Advance Tee Times</td>\n",
       "      <td>All Days</td>\n",
       "      <td>72 hours</td>\n",
       "      <td>NaN</td>\n",
       "      <td>NaN</td>\n",
       "      <td>NaN</td>\n",
       "    </tr>\n",
       "    <tr>\n",
       "      <th>7</th>\n",
       "      <td>72 hour advance</td>\n",
       "      <td>Advance Tee Times</td>\n",
       "      <td>All Days</td>\n",
       "      <td>72 hours</td>\n",
       "      <td>NaN</td>\n",
       "      <td>NaN</td>\n",
       "      <td>NaN</td>\n",
       "    </tr>\n",
       "    <tr>\n",
       "      <th>8</th>\n",
       "      <td>5 day advance</td>\n",
       "      <td>Advance Tee Times</td>\n",
       "      <td>All Days</td>\n",
       "      <td>5 days</td>\n",
       "      <td>NaN</td>\n",
       "      <td>NaN</td>\n",
       "      <td>NaN</td>\n",
       "    </tr>\n",
       "    <tr>\n",
       "      <th>9</th>\n",
       "      <td>8 DAY</td>\n",
       "      <td>Advance Tee Times</td>\n",
       "      <td>All Days</td>\n",
       "      <td>8 days</td>\n",
       "      <td>NaN</td>\n",
       "      <td>NaN</td>\n",
       "      <td>NaN</td>\n",
       "    </tr>\n",
       "    <tr>\n",
       "      <th>10</th>\n",
       "      <td>WEEKDAY TEE TIMES - 7 DAY WEEKEND TEE TIMES - ...</td>\n",
       "      <td>Advance Tee Times</td>\n",
       "      <td>Weekdays</td>\n",
       "      <td>7 days</td>\n",
       "      <td>Advance Tee Times</td>\n",
       "      <td>Weekends</td>\n",
       "      <td>48 hours</td>\n",
       "    </tr>\n",
       "    <tr>\n",
       "      <th>11</th>\n",
       "      <td>WEEKDAY TEE TIMES - 7 DAY WEEKEND TEE TIMES - ...</td>\n",
       "      <td>Advance Tee Times</td>\n",
       "      <td>Weekdays</td>\n",
       "      <td>7 days</td>\n",
       "      <td>Advance Tee Times</td>\n",
       "      <td>Weekends</td>\n",
       "      <td>72 hours</td>\n",
       "    </tr>\n",
       "  </tbody>\n",
       "</table>\n",
       "</div>"
      ],
      "text/plain": [
       "                                              Advance             Prompt  \\\n",
       "0                                               7 day  Advance Tee Times   \n",
       "1                                               5 day  Advance Tee Times   \n",
       "2                                              30 day  Advance Tee Times   \n",
       "3                                             30 days  Advance Tee Times   \n",
       "4                                             72 hour  Advance Tee Times   \n",
       "5                                             48 hour  Advance Tee Times   \n",
       "6                                            72 hours  Advance Tee Times   \n",
       "7                                     72 hour advance  Advance Tee Times   \n",
       "8                                       5 day advance  Advance Tee Times   \n",
       "9                                               8 DAY  Advance Tee Times   \n",
       "10  WEEKDAY TEE TIMES - 7 DAY WEEKEND TEE TIMES - ...  Advance Tee Times   \n",
       "11  WEEKDAY TEE TIMES - 7 DAY WEEKEND TEE TIMES - ...  Advance Tee Times   \n",
       "\n",
       "   PromptScope DefaultValue            Prompt1 PromptScope1 DefaultValue1  \n",
       "0     All Days       7 days                NaN          NaN           NaN  \n",
       "1     All Days       5 days                NaN          NaN           NaN  \n",
       "2     All Days      30 days                NaN          NaN           NaN  \n",
       "3     All Days      30 days                NaN          NaN           NaN  \n",
       "4     All Days     72 hours                NaN          NaN           NaN  \n",
       "5     All Days     48 hours                NaN          NaN           NaN  \n",
       "6     All Days     72 hours                NaN          NaN           NaN  \n",
       "7     All Days     72 hours                NaN          NaN           NaN  \n",
       "8     All Days       5 days                NaN          NaN           NaN  \n",
       "9     All Days       8 days                NaN          NaN           NaN  \n",
       "10    Weekdays       7 days  Advance Tee Times     Weekends      48 hours  \n",
       "11    Weekdays       7 days  Advance Tee Times     Weekends      72 hours  "
      ]
     },
     "execution_count": 9,
     "metadata": {},
     "output_type": "execute_result"
    }
   ],
   "source": [
    "golf_advance_metadata_df.head(20)"
   ]
  },
  {
   "cell_type": "code",
   "execution_count": 10,
   "metadata": {},
   "outputs": [
    {
     "name": "stdout",
     "output_type": "stream",
     "text": [
      "Wall time: 188 ms\n"
     ]
    }
   ],
   "source": [
    "%%time\n",
    "conn = sqlite3.connect(\"golfBenefit.db\")\n",
    "cur = conn.cursor()\n",
    "golf_benefit_df.to_sql(\"golfBenefit\", conn, if_exists=\"replace\")\n",
    "golf_benefit_metadata_df.to_sql(\"golfBenefitMetadata\", conn, if_exists=\"replace\")\n",
    "golf_advance_metadata_df.to_sql(\"advanceMetadata\", conn, if_exists=\"replace\")"
   ]
  },
  {
   "cell_type": "code",
   "execution_count": 11,
   "metadata": {
    "scrolled": true
   },
   "outputs": [
    {
     "data": {
      "text/html": [
       "<div>\n",
       "<style scoped>\n",
       "    .dataframe tbody tr th:only-of-type {\n",
       "        vertical-align: middle;\n",
       "    }\n",
       "\n",
       "    .dataframe tbody tr th {\n",
       "        vertical-align: top;\n",
       "    }\n",
       "\n",
       "    .dataframe thead th {\n",
       "        text-align: right;\n",
       "    }\n",
       "</style>\n",
       "<table border=\"1\" class=\"dataframe\">\n",
       "  <thead>\n",
       "    <tr style=\"text-align: right;\">\n",
       "      <th></th>\n",
       "      <th>count(distinct benefit_id)</th>\n",
       "    </tr>\n",
       "  </thead>\n",
       "  <tbody>\n",
       "    <tr>\n",
       "      <th>0</th>\n",
       "      <td>142</td>\n",
       "    </tr>\n",
       "  </tbody>\n",
       "</table>\n",
       "</div>"
      ],
      "text/plain": [
       "   count(distinct benefit_id)\n",
       "0                         142"
      ]
     },
     "execution_count": 11,
     "metadata": {},
     "output_type": "execute_result"
    }
   ],
   "source": [
    "pd.read_sql_query(\"select count(distinct benefit_id) from golfBenefit\", conn)"
   ]
  },
  {
   "cell_type": "code",
   "execution_count": 12,
   "metadata": {},
   "outputs": [],
   "source": [
    "query = \"select golfBenefit.community, golfBenefit.benefit_package_id, \\\n",
    "         golfBenefit.benefit_id, \\\n",
    "         golfBenefit.benefit_1 as benefit, \\\n",
    "         golfBenefit.advance, \\\n",
    "         golfBenefitMetadata.UsageType,\\\n",
    "         golfBenefitMetadata.IsQuantityUnlimited,\\\n",
    "         golfBenefitMetadata.Quantity,\\\n",
    "         golfBenefitMetadata.Period,\\\n",
    "         golfBenefitMetadata.Scope, \\\n",
    "         golfBenefitMetadata.MaxPerClub, \\\n",
    "         advanceMetadata.Prompt, \\\n",
    "         advanceMetadata.PromptScope, \\\n",
    "         advanceMetadata.DefaultValue,\\\n",
    "         advanceMetadata.Prompt1, \\\n",
    "         advanceMetadata.PromptScope1, \\\n",
    "         advanceMetadata.DefaultValue1\\\n",
    "         from golfBenefit \\\n",
    "         left join golfBenefitMetadata on trim(upper(golfBenefitMetadata.benefit)) = trim(upper(golfBenefit.benefit_1)) \\\n",
    "         left join advanceMetadata on trim(upper(advanceMetadata.Advance)) = trim(upper(golfBenefit.advance))\"\n",
    "rs_benefit = pd.read_sql_query(query, conn)"
   ]
  },
  {
   "cell_type": "code",
   "execution_count": 13,
   "metadata": {},
   "outputs": [
    {
     "name": "stdout",
     "output_type": "stream",
     "text": [
      "Total number of golf benefits: 142\n"
     ]
    }
   ],
   "source": [
    "print(\"Total number of golf benefits: \" + str(len(rs_benefit)))"
   ]
  },
  {
   "cell_type": "markdown",
   "metadata": {},
   "source": [
    "<b>Save Golf Benefits With Additional Columns<b>"
   ]
  },
  {
   "cell_type": "code",
   "execution_count": 14,
   "metadata": {},
   "outputs": [],
   "source": [
    "rs_benefit.to_csv(\"output/Community_Golf_Benefit_Extended.csv\",index=False)"
   ]
  },
  {
   "cell_type": "code",
   "execution_count": 15,
   "metadata": {},
   "outputs": [],
   "source": [
    "conn.execute(\"DROP TABLE golfBenefit\")\n",
    "conn.execute(\"DROP TABLE golfBenefitMetadata\")\n",
    "conn.execute(\"DROP TABLE advanceMetadata\")\n",
    "cur.close()\n",
    "conn.close()"
   ]
  },
  {
   "cell_type": "code",
   "execution_count": null,
   "metadata": {},
   "outputs": [],
   "source": []
  }
 ],
 "metadata": {
  "kernelspec": {
   "display_name": "Python 3",
   "language": "python",
   "name": "python3"
  },
  "language_info": {
   "codemirror_mode": {
    "name": "ipython",
    "version": 3
   },
   "file_extension": ".py",
   "mimetype": "text/x-python",
   "name": "python",
   "nbconvert_exporter": "python",
   "pygments_lexer": "ipython3",
   "version": "3.5.5"
  }
 },
 "nbformat": 4,
 "nbformat_minor": 2
}
