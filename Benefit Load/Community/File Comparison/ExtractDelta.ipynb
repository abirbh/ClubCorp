{
 "cells": [
  {
   "cell_type": "code",
   "execution_count": 1,
   "metadata": {},
   "outputs": [],
   "source": [
    "import pandas as pd\n",
    "import sqlite3"
   ]
  },
  {
   "cell_type": "markdown",
   "metadata": {},
   "source": [
    "<b> Read Data File of Old File </b>"
   ]
  },
  {
   "cell_type": "code",
   "execution_count": 2,
   "metadata": {},
   "outputs": [],
   "source": [
    "df_old = pd.read_csv(\"datasets/Owned Club Community Benefits Review 09212020 Preprocessed.csv\",dtype=str)"
   ]
  },
  {
   "cell_type": "code",
   "execution_count": 3,
   "metadata": {},
   "outputs": [],
   "source": [
    "df_old = df_old[['Community','Club','Benefit Tier','Golf Benefit','Availability','Advance','Dining Benefit','Dining Availability']]\n"
   ]
  },
  {
   "cell_type": "code",
   "execution_count": 4,
   "metadata": {},
   "outputs": [
    {
     "name": "stdout",
     "output_type": "stream",
     "text": [
      "Wall time: 273 ms\n"
     ]
    },
    {
     "name": "stderr",
     "output_type": "stream",
     "text": [
      "C:\\Users\\admin\\anaconda3\\lib\\site-packages\\pandas\\core\\generic.py:2653: UserWarning: The spaces in these column names will not be changed. In pandas versions < 0.14, spaces were converted to underscores.\n",
      "  sql.to_sql(\n"
     ]
    }
   ],
   "source": [
    "%%time\n",
    "conn = sqlite3.connect(\"TempOwnClubFiles.db\")\n",
    "cur = conn.cursor()\n",
    "df_old.to_sql(\"OwnClub_Data\", conn, if_exists=\"replace\")"
   ]
  },
  {
   "cell_type": "code",
   "execution_count": 6,
   "metadata": {},
   "outputs": [],
   "source": [
    "query = \"\"\"select *\n",
    "\t\t  from OwnClub_Data \n",
    "\t\t  where trim(upper(OwnClub_Data.'Benefit Tier')) like '%PRESTONWOOD%'\n",
    "\t\t  and trim(upper(OwnClub_Data.'Golf Benefit')) in ('NO ACCESS','N/A','')\n",
    "\t\t  and (trim(upper(OwnClub_Data.Availability)) not in ('NO ACCESS','N/A','')\n",
    "\t\t  or trim(upper(OwnClub_Data.Advance)) not in ('NO ACCESS','N/A',''))\"\"\"\n",
    "\n",
    "rs_benefit = pd.read_sql_query(query, conn)\n",
    "rs_benefit.to_csv(\"outputs/delta.csv\",index=False)"
   ]
  },
  {
   "cell_type": "code",
   "execution_count": null,
   "metadata": {},
   "outputs": [],
   "source": [
    "query = \"\"\"select \n",
    "\t\t  trim(upper(OwnClub_New.Community)) ,\n",
    "\t\t  trim(upper(OwnClub_New.Club)) , \n",
    "\t\t  trim(upper(OwnClub_New.'Benefit Tier')) ,count(*) \n",
    "\t\t  from OwnClub_New \n",
    "\t\t  group by trim(upper(OwnClub_New.Community)) ,\n",
    "\t\t  trim(upper(OwnClub_New.Club)) , \n",
    "\t\t  trim(upper(OwnClub_New.'Benefit Tier')),\n",
    "\t\t  trim(upper(OwnClub_New.'Golf Benefit')),\n",
    "\t\t  trim(upper(OwnClub_New.Availability)),\n",
    "\t\t  trim(upper(OwnClub_New.Advance)),\n",
    "\t\t  trim(upper(OwnClub_New.'Dining Benefit')),\n",
    "\t\t  trim(upper(OwnClub_New.'Dining Availability'))\n",
    "\t\t  having count(*) > 1\"\"\"\n",
    "\n",
    "rs_benefit = pd.read_sql_query(query, conn)\n",
    "rs_benefit.to_csv(\"outputs/new_duplicates.csv\",index=False)"
   ]
  },
  {
   "cell_type": "code",
   "execution_count": null,
   "metadata": {},
   "outputs": [],
   "source": [
    "query = \"\"\"select \n",
    "\t\t  trim(upper(OwnClub_Old.Community)) ,\n",
    "\t\t  trim(upper(OwnClub_Old.Club)) , \n",
    "\t\t  trim(upper(OwnClub_Old.'Benefit Tier')) ,count(*) \n",
    "\t\t  from OwnClub_Old \n",
    "\t\t  group by trim(upper(OwnClub_Old.Community)) ,\n",
    "\t\t  trim(upper(OwnClub_Old.Club)) , \n",
    "\t\t  trim(upper(OwnClub_Old.'Benefit Tier')),\n",
    "\t\t  trim(upper(OwnClub_Old.'Golf Benefit')),\n",
    "\t\t  trim(upper(OwnClub_Old.Availability)),\n",
    "\t\t  trim(upper(OwnClub_Old.Advance)),\n",
    "\t\t  trim(upper(OwnClub_Old.'Dining Benefit')),\n",
    "\t\t  trim(upper(OwnClub_Old.'Dining Availability'))\n",
    "\t\t  having count(*) > 1\"\"\"\n",
    "\n",
    "rs_benefit = pd.read_sql_query(query, conn)\n",
    "rs_benefit.to_csv(\"outputs/old_duplicates.csv\",index=False)"
   ]
  },
  {
   "cell_type": "code",
   "execution_count": null,
   "metadata": {},
   "outputs": [],
   "source": [
    "query = \"\"\"with op as (select trim(upper(OwnClub_Old.Community)) as Community,\n",
    "\t\t trim(upper(OwnClub_Old.Club)) as Club,\n",
    "\t\t trim(upper(OwnClub_Old.'Benefit Tier')) as BenefitTier,\n",
    "\t\t trim(upper(OwnClub_Old.'Golf Benefit')) as GolfBenefit,\n",
    "\t\t trim(upper(OwnClub_Old.Availability)) as Availability,\n",
    "\t\t trim(upper(OwnClub_Old.Advance)) as Advance,\n",
    "\t\t trim(upper(OwnClub_Old.'Dining Benefit')) as DiningBenefit,\n",
    "\t\t trim(upper(OwnClub_Old.'Dining Availability')) as DiningAvailability\n",
    "\t\t from OwnClub_Old\n",
    "\t\t except\n",
    "\t\t select trim(upper(OwnClub_New.Community)) as Community,\n",
    "\t\t trim(upper(OwnClub_New.Club)) as Club,\n",
    "\t\t trim(upper(OwnClub_New.'Benefit Tier')) as BenefitTier,\n",
    "\t\t trim(upper(OwnClub_New.'Golf Benefit')) as GolfBenefit,\n",
    "\t\t trim(upper(OwnClub_New.Availability)) as Availability,\n",
    "\t\t trim(upper(OwnClub_New.Advance)) as Advance,\n",
    "\t\t trim(upper(OwnClub_New.'Dining Benefit')) as DiningBenefit,\n",
    "\t\t trim(upper(OwnClub_New.'Dining Availability')) as DiningAvailability\n",
    "\t\t from OwnClub_New) \n",
    "\t\t select op.Community,op.Club,op.BenefitTier,\n",
    "\t\t GolfBenefit ,\n",
    "\t\t op.Availability ,\n",
    "\t\t op.Advance ,\n",
    "\t\t DiningBenefit ,\n",
    "\t\t DiningAvailability \n",
    "\t\t from op left join OwnClub_new as nw\n",
    "\t\t on (op.Community=trim(upper(nw.Community))\n",
    "\t\t and op.Club=trim(upper(nw.Club))\n",
    "\t\t and op.BenefitTier=trim(upper(nw.'Benefit Tier')))\n",
    "\t\t where nw.Community is null and nw.Club is null and nw.'Benefit Tier' is null\"\"\"\n",
    "\n",
    "rs_benefit = pd.read_sql_query(query, conn)\n",
    "rs_benefit.to_csv(\"outputs/diff_missing.csv\",index=False)"
   ]
  },
  {
   "cell_type": "code",
   "execution_count": null,
   "metadata": {},
   "outputs": [],
   "source": [
    "query = \"\"\"with op as (select trim(upper(OwnClub_Old.Community)) as Community,\n",
    "\t\t trim(upper(OwnClub_Old.Club)) as Club,\n",
    "\t\t trim(upper(OwnClub_Old.'Benefit Tier')) as BenefitTier,\n",
    "\t\t trim(upper(OwnClub_Old.'Golf Benefit')) as GolfBenefit,\n",
    "\t\t trim(upper(OwnClub_Old.Availability)) as Availability,\n",
    "\t\t trim(upper(OwnClub_Old.Advance)) as Advance,\n",
    "\t\t trim(upper(OwnClub_Old.'Dining Benefit')) as DiningBenefit,\n",
    "\t\t trim(upper(OwnClub_Old.'Dining Availability')) as DiningAvailability\n",
    "\t\t from OwnClub_Old\n",
    "\t\t except\n",
    "\t\t select trim(upper(OwnClub_New.Community)) as Community,\n",
    "\t\t trim(upper(OwnClub_New.Club)) as Club,\n",
    "\t\t trim(upper(OwnClub_New.'Benefit Tier')) as BenefitTier,\n",
    "\t\t trim(upper(OwnClub_New.'Golf Benefit')) as GolfBenefit,\n",
    "\t\t trim(upper(OwnClub_New.Availability)) as Availability,\n",
    "\t\t trim(upper(OwnClub_New.Advance)) as Advance,\n",
    "\t\t trim(upper(OwnClub_New.'Dining Benefit')) as DiningBenefit,\n",
    "\t\t trim(upper(OwnClub_New.'Dining Availability')) as DiningAvailability\n",
    "\t\t from OwnClub_New) \n",
    "\t\t select op.Community,op.Club,op.BenefitTier,\n",
    "\t\t trim(upper(nw.'Golf Benefit')) as GolfBenefit_new,GolfBenefit as GolfBenefit_old,\n",
    "\t\t trim(upper(nw.Availability)) as Availability_new,op.Availability as Availability_old,\n",
    "\t\t trim(upper(nw.Advance)) as Advance_new,op.Advance as Advance_old,\n",
    "\t\t trim(upper(nw.'Dining Benefit')) as DiningBenefit_new,DiningBenefit as DiningBenefit_old,\n",
    "\t\t trim(upper(nw.'Dining Availability')) as DiningAvailability_new,DiningAvailability as DiningAvailability_old\n",
    "\t\t from OwnClub_new as nw,op\n",
    "\t\t where op.Community=trim(upper(nw.Community))\n",
    "\t\t and op.Club=trim(upper(nw.Club))\n",
    "\t\t and op.BenefitTier=trim(upper(nw.'Benefit Tier'))\"\"\"\n",
    "\n",
    "rs_benefit = pd.read_sql_query(query, conn)\n",
    "rs_benefit.to_csv(\"outputs/diff_exists.csv\",index=False)"
   ]
  },
  {
   "cell_type": "code",
   "execution_count": null,
   "metadata": {},
   "outputs": [],
   "source": [
    "query = \"\"\"with op as (select trim(upper(OwnClub_New.Community)) as Community,\n",
    "trim(upper(OwnClub_New.Club)) as Club,\n",
    "trim(upper(OwnClub_New.'Benefit Tier')) as BenefitTier,\n",
    "trim(upper(OwnClub_New.'Golf Benefit')) as GolfBenefit,\n",
    "trim(upper(OwnClub_New.Availability)) as Availability,\n",
    "trim(upper(OwnClub_New.Advance)) as Advance,\n",
    "trim(upper(OwnClub_New.'Dining Benefit')) as DiningBenefit,\n",
    "trim(upper(OwnClub_New.'Dining Availability')) as DiningAvailability\n",
    "from OwnClub_New\n",
    "except\n",
    "select trim(upper(OwnClub_Old.Community)) as Community,\n",
    "trim(upper(OwnClub_Old.Club)) as Club,\n",
    "trim(upper(OwnClub_Old.'Benefit Tier')) as BenefitTier,\n",
    "trim(upper(OwnClub_Old.'Golf Benefit')) as GolfBenefit,\n",
    "trim(upper(OwnClub_Old.Availability)) as Availability,\n",
    "trim(upper(OwnClub_Old.Advance)) as Advance,\n",
    "trim(upper(OwnClub_Old.'Dining Benefit')) as DiningBenefit,\n",
    "trim(upper(OwnClub_Old.'Dining Availability')) as DiningAvailability\n",
    "from OwnClub_Old)\n",
    "select op.Community,op.Club,op.BenefitTier,\n",
    "GolfBenefit ,\n",
    "op.Availability ,\n",
    "op.Advance ,\n",
    "DiningBenefit ,\n",
    "DiningAvailability\n",
    "from op left join OwnClub_Old as old\n",
    "on (op.Community=trim(upper(old.Community))\n",
    "and op.Club=trim(upper(old.Club))\n",
    "and op.BenefitTier=trim(upper(old.'Benefit Tier')))\n",
    "where old.Community is null and old.Club is null and old.'Benefit Tier' is null\"\"\"\n",
    "\n",
    "rs_benefit = pd.read_sql_query(query, conn)\n",
    "rs_benefit.to_csv(\"outputs/diff_new.csv\",index=False)"
   ]
  },
  {
   "cell_type": "code",
   "execution_count": null,
   "metadata": {},
   "outputs": [],
   "source": [
    "query = \"\"\"select *\n",
    "         from OwnClub_Old inner join OwnClub_New on\n",
    "         trim(upper(OwnClub_Old.Community)) = trim(upper(OwnClub_New.Community)) and \n",
    "         trim(upper(OwnClub_Old.Club)) = trim(upper(OwnClub_New.Club)) and\n",
    "         trim(upper(OwnClub_Old.'Benefit Tier')) = trim(upper(OwnClub_New.'Benefit Tier'))\n",
    "         where trim(upper(OwnClub_Old.'Golf Benefit')) = trim(upper(OwnClub_New.'Golf Benefit')) and \n",
    "         trim(upper(OwnClub_Old.Availability)) = trim(upper(OwnClub_New.Availability)) and\n",
    "         trim(upper(OwnClub_Old.Advance)) = trim(upper(OwnClub_New.Advance)) and \n",
    "         trim(upper(OwnClub_Old.'Dining Benefit')) = trim(upper(OwnClub_New.'Dining Benefit')) and\n",
    "         trim(upper(OwnClub_Old.'Dining Availability')) = trim(upper(OwnClub_New.'Dining Availability'))\"\"\"\n",
    "\n",
    "rs_benefit = pd.read_sql_query(query, conn)\n",
    "rs_benefit.to_csv(\"outputs/commonLines.csv\",index=False)"
   ]
  },
  {
   "cell_type": "code",
   "execution_count": null,
   "metadata": {},
   "outputs": [],
   "source": [
    "query = \"\"\"select \n",
    "\t\t trim(upper(OwnClub_New.Community)) ,  \n",
    "\t\t trim(upper(OwnClub_New.Club)) , \n",
    "         trim(upper(OwnClub_New.'Benefit Tier')) ,\n",
    "\t\t trim(upper(OwnClub_New.'Golf Benefit')),\n",
    "\t\t trim(upper(OwnClub_New.Availability)),\n",
    "\t\t trim(upper(OwnClub_New.Advance)),\n",
    "\t\t trim(upper(OwnClub_New.'Dining Benefit')),\n",
    "\t\t trim(upper(OwnClub_New.'Dining Availability'))\n",
    "\t\t from OwnClub_New\n",
    "\t\t \n",
    "\t\t except\n",
    "\t\t \n",
    "\t\t select \n",
    "\t\t trim(upper(OwnClub_Old.Community)) ,  \n",
    "\t\t trim(upper(OwnClub_Old.Club)) , \n",
    "         trim(upper(OwnClub_Old.'Benefit Tier')) ,\n",
    "\t\t trim(upper(OwnClub_Old.'Golf Benefit')),\n",
    "\t\t trim(upper(OwnClub_Old.Availability)),\n",
    "\t\t trim(upper(OwnClub_Old.Advance)),\n",
    "\t\t trim(upper(OwnClub_Old.'Dining Benefit')),\n",
    "\t\t trim(upper(OwnClub_Old.'Dining Availability'))\n",
    "\t\t from OwnClub_Old\n",
    "\t\t \"\"\"\n",
    "\n",
    "rs_benefit = pd.read_sql_query(query, conn)\n",
    "rs_benefit.to_csv(\"outputs/diff.csv\",index=False)"
   ]
  },
  {
   "cell_type": "code",
   "execution_count": null,
   "metadata": {},
   "outputs": [],
   "source": [
    "query = \"\"\"select \n",
    "\t\t trim(upper(OwnClub_Old.Community)) ,  \n",
    "\t\t trim(upper(OwnClub_Old.Club)) , \n",
    "         trim(upper(OwnClub_Old.'Benefit Tier')) ,\n",
    "\t\t trim(upper(OwnClub_Old.'Golf Benefit')),\n",
    "\t\t trim(upper(OwnClub_Old.Availability)),\n",
    "\t\t trim(upper(OwnClub_Old.Advance)),\n",
    "\t\t trim(upper(OwnClub_Old.'Dining Benefit')),\n",
    "\t\t trim(upper(OwnClub_Old.'Dining Availability'))\n",
    "\t\t from OwnClub_Old\n",
    "\t\t \n",
    "\t\t except\n",
    "\t\t \n",
    "\t\t select \n",
    "\t\t trim(upper(OwnClub_New.Community)) ,  \n",
    "\t\t trim(upper(OwnClub_New.Club)) , \n",
    "         trim(upper(OwnClub_New.'Benefit Tier')) ,\n",
    "\t\t trim(upper(OwnClub_New.'Golf Benefit')),\n",
    "\t\t trim(upper(OwnClub_New.Availability)),\n",
    "\t\t trim(upper(OwnClub_New.Advance)),\n",
    "\t\t trim(upper(OwnClub_New.'Dining Benefit')),\n",
    "\t\t trim(upper(OwnClub_New.'Dining Availability'))\n",
    "\t\t from OwnClub_New\"\"\"\n",
    "\n",
    "rs_benefit = pd.read_sql_query(query, conn)\n",
    "rs_benefit.to_csv(\"outputs/diff1.csv\",index=False)"
   ]
  },
  {
   "cell_type": "code",
   "execution_count": null,
   "metadata": {},
   "outputs": [],
   "source": [
    "query = \"\"\"select *\n",
    "         from OwnClub_Old inner join OwnClub_New on\n",
    "         trim(upper(OwnClub_Old.Community)) = trim(upper(OwnClub_New.Community)) and \n",
    "         trim(upper(OwnClub_Old.Club)) = trim(upper(OwnClub_New.Club)) and\n",
    "         trim(upper(OwnClub_Old.'Benefit Tier')) = trim(upper(OwnClub_New.'Benefit Tier'))\n",
    "         where trim(upper(OwnClub_Old.'Golf Benefit')) = trim(upper(OwnClub_New.'Golf Benefit')) or \n",
    "         trim(upper(OwnClub_Old.Availability)) != trim(upper(OwnClub_New.Availability)) or\n",
    "         trim(upper(OwnClub_Old.Advance)) != trim(upper(OwnClub_New.Advance)) or \n",
    "         trim(upper(OwnClub_Old.'Dining Benefit')) != trim(upper(OwnClub_New.'Dining Benefit')) or\n",
    "         trim(upper(OwnClub_Old.'Dining Availability')) != trim(upper(OwnClub_New.'Dining Availability'))\"\"\"\n",
    "\n",
    "rs_benefit = pd.read_sql_query(query, conn)\n",
    "rs_benefit.to_csv(\"outputs/modifiedLines.csv\",index=False)"
   ]
  },
  {
   "cell_type": "code",
   "execution_count": null,
   "metadata": {},
   "outputs": [],
   "source": [
    "#benefit_dining_df_old = df_old[['Community','Benefit Tier','Dining Benefit']].drop_duplicates()\n",
    "benefit_dining_df_old = df_old[['Community','Benefit Tier','Dining Benefit']].drop_duplicates()\n",
    "benefit_dining_df_old = benefit_dining_df_old[(~benefit_dining_df_old['Dining Benefit'].isin(['No access','Home Club','NO ACCESS','NAN','N/A']))]\n",
    "dining_benefit_old = list(benefit_dining_df_old.itertuples(index=False))\n",
    "\n",
    "#benefit_dining_df_new = df_new[['Community','Benefit Tier','Dining Benefit']].drop_duplicates()\n",
    "benefit_dining_df_new = df_new[['Community','Benefit Tier','Dining Benefit']].drop_duplicates()\n",
    "benefit_dining_df_new = benefit_dining_df_new[(~benefit_dining_df_new['Dining Benefit'].isin(['No access','Home Club','NO ACCESS','NAN','N/A']))]\n",
    "dining_benefit_new = list(benefit_dining_df_new.itertuples(index=False))\n",
    "\n",
    "added_Ben_Dining = set(dining_benefit_new) -  set(dining_benefit_old)\n",
    "#print(added_Ben_Golf)\n",
    "print(\"Dining Benefit Added : \" + str(len(added_Ben_Dining)))\n",
    "\n",
    "dropped_Ben_Dining = set(dining_benefit_old) -  set(dining_benefit_new)\n",
    "print(\"Dining Benefit Deprected : \" + str(len(dropped_Ben_Dining)))"
   ]
  },
  {
   "cell_type": "code",
   "execution_count": null,
   "metadata": {},
   "outputs": [],
   "source": [
    "accessrule_golf_df_old = df_old[['Community','Benefit Tier','Golf Benefit','Advance','Availability']].drop_duplicates()\n",
    "#accessrule_golf_df_old = df_old[['Village','Benefit Tier','Golf Benefit','Advance','Availability']].drop_duplicates()\n",
    "\n",
    "accessrule_golf_df_old = accessrule_golf_df_old[(~accessrule_golf_df_old['Golf Benefit'].isin(['No access','Home Club','NO ACCESS','NAN','N/A']))]\n",
    "golf_ar_old = list(accessrule_golf_df_old.itertuples(index=False))\n",
    "\n",
    "accessrule_golf_df_new = df_new[['Community','Benefit Tier','Golf Benefit','Advance','Availability']].drop_duplicates()\n",
    "#accessrule_golf_df_new = df_new[['Village','Benefit Tier','Golf Benefit','Advance','Availability']].drop_duplicates()\n",
    "accessrule_golf_df_new = accessrule_golf_df_new[(~accessrule_golf_df_new['Golf Benefit'].isin(['No access','Home Club','NO ACCESS','NAN','N/A']))]\n",
    "golf_ar_new = list(accessrule_golf_df_new.itertuples(index=False))\n",
    "\n",
    "added_ar_Golf = set(golf_ar_new) -  set(golf_ar_old)\n",
    "#print(added_Ben_Golf)\n",
    "print(\"Golf Access Rule Created : \" + str(len(added_ar_Golf)))\n",
    "\n",
    "dropped_ar_Golf = set(golf_ar_old) -  set(golf_ar_new)\n",
    "print(\"Golf Access Rule Deprected : \" + str(len(dropped_ar_Golf)))"
   ]
  },
  {
   "cell_type": "code",
   "execution_count": null,
   "metadata": {},
   "outputs": [],
   "source": [
    "ar_dining_df_old = df_old[['Community','Benefit Tier','Dining Benefit','Dining Availability']].drop_duplicates()\n",
    "#ar_dining_df_old = df_old[['Village','Benefit Tier','Dining Benefit','Dining Availability']].drop_duplicates()\n",
    "ar_dining_df_old = ar_dining_df_old[(~ar_dining_df_old['Dining Benefit'].isin(['No access','Home Club','NO ACCESS','NAN','N/A']))]\n",
    "dining_ar_old = list(ar_dining_df_old.itertuples(index=False))\n",
    "\n",
    "ar_dining_df_new = df_new[['Community','Benefit Tier','Dining Benefit','Dining Availability']].drop_duplicates()\n",
    "#ar_dining_df_new = df_new[['Village','Benefit Tier','Dining Benefit','Dining Availability']].drop_duplicates()\n",
    "ar_dining_df_new = ar_dining_df_new[(~ar_dining_df_new['Dining Benefit'].isin(['No access','Home Club','NO ACCESS','NAN','N/A']))]\n",
    "dining_ar_new = list(ar_dining_df_new.itertuples(index=False))\n",
    "\n",
    "added_ar_Dining = set(dining_ar_new) -  set(dining_ar_old)\n",
    "#print(added_Ben_Golf)\n",
    "print(\"Dining Access Rule Created : \" + str(len(added_ar_Dining)))\n",
    "\n",
    "dropped_ar_Dining = set(dining_ar_old) -  set(dining_ar_new)\n",
    "print(\"Dining Access Rule Deprected : \" + str(len(dropped_ar_Dining)))"
   ]
  },
  {
   "cell_type": "code",
   "execution_count": null,
   "metadata": {},
   "outputs": [],
   "source": [
    "count_data = [['Benefit Package Added', str(len(added_BP))],['Benefit Package Deprected', str(len(dropped_BP))], ['Golf Benefit Added', str(len(added_Ben_Golf))], ['Golf Benefit Deprecated', str(len(dropped_Ben_Golf))], ['Dining Benefit Added', str(len(added_Ben_Dining))], ['Dining Benefit Deprecated', str(len(dropped_Ben_Dining))], ['Golf Access Rule Added', str(len(added_ar_Golf))], ['Golf Access Rule Deprecated', str(len(dropped_ar_Golf))], ['Dining Access Rule Added', str(len(added_ar_Dining))], ['Dining Access Rule Deprecated', str(len(dropped_ar_Dining))]]\n",
    "count_data_df = pd.DataFrame(count_data, columns = ['Description', 'Count'])\n",
    "count_data_df.to_csv(\"outputs/ExpectedCountData.csv\",index=False)                                                                       "
   ]
  },
  {
   "cell_type": "code",
   "execution_count": null,
   "metadata": {},
   "outputs": [],
   "source": []
  }
 ],
 "metadata": {
  "kernelspec": {
   "display_name": "Python 3",
   "language": "python",
   "name": "python3"
  },
  "language_info": {
   "codemirror_mode": {
    "name": "ipython",
    "version": 3
   },
   "file_extension": ".py",
   "mimetype": "text/x-python",
   "name": "python",
   "nbconvert_exporter": "python",
   "pygments_lexer": "ipython3",
   "version": "3.8.3"
  }
 },
 "nbformat": 4,
 "nbformat_minor": 2
}
