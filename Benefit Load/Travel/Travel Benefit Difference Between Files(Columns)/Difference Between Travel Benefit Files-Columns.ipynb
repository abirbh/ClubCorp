{
 "cells": [
  {
   "cell_type": "code",
   "execution_count": 1,
   "metadata": {},
   "outputs": [],
   "source": [
    "import pandas as pd"
   ]
  },
  {
   "cell_type": "markdown",
   "metadata": {},
   "source": [
    "<b> Read Data File of Old File </b>"
   ]
  },
  {
   "cell_type": "code",
   "execution_count": 2,
   "metadata": {},
   "outputs": [],
   "source": [
    "df_old = pd.read_csv(\"datasets/travel_benefit_cleansed_13thAug.csv\",dtype=str)\n"
   ]
  },
  {
   "cell_type": "markdown",
   "metadata": {},
   "source": [
    "<b> Read Data File of New File</b>"
   ]
  },
  {
   "cell_type": "code",
   "execution_count": 3,
   "metadata": {},
   "outputs": [],
   "source": [
    "df_new = pd.read_csv(\"datasets/travel_benefits_cleansed 11.06.20.csv\",dtype=str)\n"
   ]
  },
  {
   "cell_type": "markdown",
   "metadata": {},
   "source": [
    "<b>New Added Columns</b>"
   ]
  },
  {
   "cell_type": "code",
   "execution_count": 4,
   "metadata": {},
   "outputs": [
    {
     "data": {
      "text/plain": [
       "{'Play Away Select Dining', 'Play Away Select Golf', 'WorldVantage Golf'}"
      ]
     },
     "execution_count": 4,
     "metadata": {},
     "output_type": "execute_result"
    }
   ],
   "source": [
    "benefitPackages_added = set(list(df_new)) - set(list(df_old))\n",
    "benefitPackages_added"
   ]
  },
  {
   "cell_type": "code",
   "execution_count": 5,
   "metadata": {},
   "outputs": [
    {
     "data": {
      "text/plain": [
       "{'Bronze Travel Golf',\n",
       " 'ClubCorp Travel Dining',\n",
       " 'ClubCorp Travel Golf',\n",
       " 'NCS Custom Dining',\n",
       " 'NCS Custom Golf',\n",
       " 'NCS Dining',\n",
       " 'NCS Golf',\n",
       " 'Pacific Links Golf',\n",
       " 'Palmer Club Golf',\n",
       " 'Signature Gold Dining Golf'}"
      ]
     },
     "execution_count": 5,
     "metadata": {},
     "output_type": "execute_result"
    }
   ],
   "source": [
    "benefitPackages_dropped = set(list(df_old)) - set(list(df_new))\n",
    "benefitPackages_dropped"
   ]
  },
  {
   "cell_type": "code",
   "execution_count": 6,
   "metadata": {},
   "outputs": [
    {
     "name": "stdout",
     "output_type": "stream",
     "text": [
      "26\n"
     ]
    }
   ],
   "source": [
    "removeValues = ['Entity Number','Club Name','Community']\n",
    "\n",
    "columns_new = list(df_new)\n",
    "\n",
    "# Using list comprehension \n",
    "benefitPackages = [b for b in columns_new if\n",
    "          all(a not in b for a in removeValues)] \n",
    "\n",
    "print(str(len(benefitPackages)))\n",
    "\n",
    "\n",
    "data_set = {'Benefit Tier' :  list(benefitPackages)}\n",
    "df = pd.DataFrame(dict([ (k,pd.Series(v)) for k,v in data_set.items() ]))\n",
    "df.to_csv(\"outputs/Benefit_Tiers.csv\",index=False)"
   ]
  },
  {
   "cell_type": "code",
   "execution_count": 7,
   "metadata": {},
   "outputs": [],
   "source": [
    "column_values = df_new[['Club Name']].dropna().values.ravel()\n",
    "\n",
    "# column_values = df_new[benefitPackages_new].dropna().values.ravel()\n",
    "\n",
    "clubs_new =  pd.unique(column_values)\n",
    "\n",
    "# print(clubs_new)"
   ]
  },
  {
   "cell_type": "code",
   "execution_count": 8,
   "metadata": {},
   "outputs": [],
   "source": [
    "column_values = df_old[['Club Name']].dropna().values.ravel()\n",
    "\n",
    "# column_values = df_new[benefitPackages_new].dropna().values.ravel()\n",
    "\n",
    "clubs_old =  pd.unique(column_values)\n",
    "\n",
    "# print(clubs_new)"
   ]
  },
  {
   "cell_type": "code",
   "execution_count": 9,
   "metadata": {},
   "outputs": [],
   "source": [
    "clubs_added = set(list(clubs_new)) - set(list(clubs_old))\n",
    "# clubs_added"
   ]
  },
  {
   "cell_type": "code",
   "execution_count": 10,
   "metadata": {},
   "outputs": [],
   "source": [
    "clubs_dropped = set(list(clubs_old)) - set(list(clubs_new))\n",
    "# clubs_dropped"
   ]
  },
  {
   "cell_type": "code",
   "execution_count": null,
   "metadata": {},
   "outputs": [],
   "source": []
  },
  {
   "cell_type": "code",
   "execution_count": 11,
   "metadata": {},
   "outputs": [
    {
     "name": "stdout",
     "output_type": "stream",
     "text": [
      "['FA' 'Access' 'Yes' 'No' 'CF' 'CF Spouse' '50%' nan 'CD' 'FA - U']\n"
     ]
    }
   ],
   "source": [
    "removeValues = ['Entity Number','Club Name','Community']\n",
    "\n",
    "columns_new = list(df_new)\n",
    "\n",
    "# Using list comprehension \n",
    "benefitPackages_new = [b for b in columns_new if\n",
    "          all(a not in b for a in removeValues)] \n",
    "\n",
    "# junkValues = ['No access','N/A','','No','No access ','No access ','No Access']\n",
    "\n",
    "\n",
    "#column_values = df_new[['WorldVantage','Silver Travel Golf']].dropna().values.ravel()\n",
    "\n",
    "column_values = df_new[benefitPackages_new].values.ravel()\n",
    "\n",
    "benefits_new =  pd.unique(column_values)\n",
    "\n",
    "print(benefits_new)\n",
    "\n",
    "data_set = {'Benefit' :  list(benefits_new)}\n",
    "df = pd.DataFrame(dict([ (k,pd.Series(v)) for k,v in data_set.items() ]))\n",
    "df.to_csv(\"outputs/Benefits.csv\",index=False)"
   ]
  },
  {
   "cell_type": "code",
   "execution_count": 12,
   "metadata": {},
   "outputs": [
    {
     "name": "stdout",
     "output_type": "stream",
     "text": [
      "[nan 'Access' 'FA' 'No' 'CD' 'Yes' 'CF' 'CF Spouse' 'FA - U' '50% off']\n"
     ]
    }
   ],
   "source": [
    "removeValues = ['Entity Number','Club Name','Community']\n",
    "\n",
    "columns_old = list(df_old)\n",
    "\n",
    "# Using list comprehension \n",
    "benefitPackages_old = [b for b in columns_old if\n",
    "          all(a not in b for a in removeValues)] \n",
    "\n",
    "# junkValues = ['No access','N/A','','No','No access ','No access ','No Access']\n",
    "\n",
    "\n",
    "#column_values = df_new[['WorldVantage','Silver Travel Golf']].dropna().values.ravel()\n",
    "\n",
    "column_values = df_old[benefitPackages_old].values.ravel()\n",
    "\n",
    "benefits_old =  pd.unique(column_values)\n",
    "\n",
    "print(benefits_old)"
   ]
  },
  {
   "cell_type": "code",
   "execution_count": 13,
   "metadata": {},
   "outputs": [
    {
     "data": {
      "text/plain": [
       "{'50%'}"
      ]
     },
     "execution_count": 13,
     "metadata": {},
     "output_type": "execute_result"
    }
   ],
   "source": [
    "benefits_added = set(list(benefits_new)) - set(list(benefits_old))\n",
    "benefits_added"
   ]
  },
  {
   "cell_type": "code",
   "execution_count": 14,
   "metadata": {},
   "outputs": [
    {
     "data": {
      "text/plain": [
       "{'50% off'}"
      ]
     },
     "execution_count": 14,
     "metadata": {},
     "output_type": "execute_result"
    }
   ],
   "source": [
    "benefits_dropped = set(list(benefits_old)) - set(list(benefits_new))\n",
    "benefits_dropped"
   ]
  },
  {
   "cell_type": "code",
   "execution_count": 15,
   "metadata": {},
   "outputs": [],
   "source": [
    "d = {'Benefit Related Column Added' :  list(benefitPackages_added), 'Benefit Related Column Dropped' :  list(benefitPackages_dropped),\n",
    "    'Benefit Related Column Value Added' :  list(benefits_added), 'Benefit Related Column Value  Dropped' :  list(benefits_dropped),\n",
    "    'Club Added' :  list(clubs_added), 'Club Dropped' :  list(clubs_dropped)}\n",
    "df = pd.DataFrame(dict([ (k,pd.Series(v)) for k,v in d.items() ]))"
   ]
  },
  {
   "cell_type": "code",
   "execution_count": 16,
   "metadata": {},
   "outputs": [],
   "source": [
    "df.to_csv(\"outputs/Travel Benefits New Introduced Benefit Tier.csv\",index=False)"
   ]
  },
  {
   "cell_type": "code",
   "execution_count": null,
   "metadata": {},
   "outputs": [],
   "source": []
  },
  {
   "cell_type": "code",
   "execution_count": null,
   "metadata": {},
   "outputs": [],
   "source": [
    "removeValues = ['Entity Number','Club Name','Community']\n",
    "\n",
    "columns_new = list(df_new)\n",
    "\n",
    "# Using list comprehension \n",
    "benefitPackages_new = [b for b in columns_new if\n",
    "          all(a not in b for a in removeValues)] \n",
    "\n",
    "\n",
    "# column_values = df_new[['Signature Gold Spouse Unlimited Dining']].dropna().values.ravel()\n",
    "\n",
    "column_values = df_new[benefitPackages_new].dropna().values.ravel()\n",
    "\n",
    "benefits_new =  pd.unique(column_values)\n",
    "column_values\n",
    "\n",
    "# data_set = {'Benefit' :  list(column_values)}\n",
    "# df = pd.DataFrame(dict([ (k,pd.Series(v)) for k,v in data_set.items() ]))\n",
    "# df.to_csv(\"outputs/Benefits_U.csv\",index=False)\n",
    "\n",
    "\n",
    "df_report = pd.DataFrame({'Benefits' : []})\n",
    "for bt in benefitPackages_new :\n",
    "        column_values = df_new[bt].dropna().values.ravel()\n",
    "        benefits_new =  pd.unique(column_values)\n",
    "        print(benefits_new)\n",
    "        df_report = df_report.append({'Benefits':benefits_new}, ignore_index=True)\n",
    "        \n",
    "\n",
    "if df_report.empty == False:\n",
    "    df_report.to_csv(\"outputs/Test.csv\",index=False)"
   ]
  },
  {
   "cell_type": "code",
   "execution_count": null,
   "metadata": {},
   "outputs": [],
   "source": [
    "removeValues = ['Entity Number','Club Name','Community']\n",
    "\n",
    "columns_new = list(df_old)\n",
    "\n",
    "# Using list comprehension \n",
    "benefitPackages_new = [b for b in columns_new if\n",
    "          all(a not in b for a in removeValues)] \n",
    "\n",
    "\n",
    "# column_values = df_new[['Signature Gold Spouse Unlimited Dining']].dropna().values.ravel()\n",
    "\n",
    "column_values = df_old[benefitPackages_new].dropna().values.ravel()\n",
    "\n",
    "benefits_new =  pd.unique(column_values)\n",
    "column_values\n",
    "\n",
    "# data_set = {'Benefit' :  list(column_values)}\n",
    "# df = pd.DataFrame(dict([ (k,pd.Series(v)) for k,v in data_set.items() ]))\n",
    "# df.to_csv(\"outputs/Benefits_U.csv\",index=False)\n",
    "\n",
    "\n",
    "df_report = pd.DataFrame({'Benefits' : []})\n",
    "for bt in benefitPackages_new :\n",
    "        column_values = df_old[bt].dropna().values.ravel()\n",
    "        benefits_new =  pd.unique(column_values)\n",
    "        print(benefits_new)\n",
    "        df_report = df_report.append({'Benefits':benefits_new}, ignore_index=True)\n",
    "        \n",
    "\n",
    "# if df_report.empty == False:\n",
    "#     df_report.to_csv(\"outputs/Test.csv\",index=False)\n"
   ]
  },
  {
   "cell_type": "code",
   "execution_count": null,
   "metadata": {},
   "outputs": [],
   "source": []
  },
  {
   "cell_type": "code",
   "execution_count": null,
   "metadata": {},
   "outputs": [],
   "source": []
  }
 ],
 "metadata": {
  "kernelspec": {
   "display_name": "Python 3",
   "language": "python",
   "name": "python3"
  },
  "language_info": {
   "codemirror_mode": {
    "name": "ipython",
    "version": 3
   },
   "file_extension": ".py",
   "mimetype": "text/x-python",
   "name": "python",
   "nbconvert_exporter": "python",
   "pygments_lexer": "ipython3",
   "version": "3.8.3"
  }
 },
 "nbformat": 4,
 "nbformat_minor": 2
}
