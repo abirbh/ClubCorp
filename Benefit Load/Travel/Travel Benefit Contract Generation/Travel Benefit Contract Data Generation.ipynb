{
 "cells": [
  {
   "cell_type": "markdown",
   "metadata": {},
   "source": [
    "<H2>Travel Benefit Contract Data Generation</b>"
   ]
  },
  {
   "cell_type": "code",
   "execution_count": 1,
   "metadata": {},
   "outputs": [],
   "source": [
    "import pandas as pd\n",
    "import sqlite3\n",
    "import re\n",
    "import hashlib"
   ]
  },
  {
   "cell_type": "markdown",
   "metadata": {},
   "source": [
    "<b>Read membership data from Reltio export</b>"
   ]
  },
  {
   "cell_type": "code",
   "execution_count": 2,
   "metadata": {},
   "outputs": [
    {
     "name": "stdout",
     "output_type": "stream",
     "text": [
      "399232\n"
     ]
    }
   ],
   "source": [
    "df_non_resigned = pd.read_csv(\"datasets/prod_non_resigned_membership_20181217.csv\", dtype=str)\n",
    "print(len(df_non_resigned.index))"
   ]
  },
  {
   "cell_type": "markdown",
   "metadata": {},
   "source": [
    "<b>Read Community Benefit File<b>"
   ]
  },
  {
   "cell_type": "markdown",
   "metadata": {},
   "source": [
    "<b>Read benefit tier queries</b>"
   ]
  },
  {
   "cell_type": "code",
   "execution_count": 3,
   "metadata": {},
   "outputs": [],
   "source": [
    "query_df = pd.read_csv(\"datasets/travel_benefit_tier_query.csv\", dtype=str)\n",
    "query_df['benefit_tier'] = query_df['benefit_tier'].str.upper()\n",
    "query_df['benefit_tier'] = query_df['benefit_tier'].str.strip()"
   ]
  },
  {
   "cell_type": "code",
   "execution_count": 4,
   "metadata": {},
   "outputs": [
    {
     "data": {
      "text/plain": [
       "Index(['benefit_tier', 'query'], dtype='object')"
      ]
     },
     "execution_count": 4,
     "metadata": {},
     "output_type": "execute_result"
    }
   ],
   "source": [
    "query_df.columns"
   ]
  },
  {
   "cell_type": "markdown",
   "metadata": {},
   "source": [
    "<b>Loading datasets in SQLite</b>"
   ]
  },
  {
   "cell_type": "code",
   "execution_count": 5,
   "metadata": {},
   "outputs": [
    {
     "name": "stdout",
     "output_type": "stream",
     "text": [
      "Wall time: 17 ms\n"
     ]
    }
   ],
   "source": [
    "%%time\n",
    "conn = sqlite3.connect(\"travelBenefitContract.db\")"
   ]
  },
  {
   "cell_type": "markdown",
   "metadata": {},
   "source": [
    "<b>Benefit contract generation</b>"
   ]
  },
  {
   "cell_type": "code",
   "execution_count": 6,
   "metadata": {},
   "outputs": [
    {
     "name": "stdout",
     "output_type": "stream",
     "text": [
      "Generating benefit contract for : CLUBBENEFITS\n",
      "Generating benefit contract for : PALMER CLUB\n",
      "Generating benefit contract for : PACIFIC LINKS\n",
      "Generating benefit contract for : BRONZE TRAVEL\n",
      "Generating benefit contract for : SILVER TRAVEL\n",
      "Generating benefit contract for : ASSOCIATE ALUMNI\n",
      "Generating benefit contract for : ASSOCIATE PLUS\n",
      "Generating benefit contract for : ASSOCIATE GOLD\n",
      "Generating benefit contract for : SIGNATURE GOLD DINING\n",
      "Generating benefit contract for : SIGNATURE GOLD GOLF\n",
      "Generating benefit contract for : SIGNATURE GOLD UNLIMITED\n",
      "Generating benefit contract for : CLUBCORP TRAVEL\n",
      "Generating benefit contract for : ALUMNI TRAVEL\n",
      "Generating benefit contract for : EWGA\n",
      "Generating benefit contract for : NCS\n",
      "Generating benefit contract for : NCS CUSTOM\n"
     ]
    }
   ],
   "source": [
    "benefit_contracts = []\n",
    "\n",
    "df_non_resigned.to_sql(\"df\", conn, if_exists=\"replace\")\n",
    "\n",
    "travelBenefits = query_df['benefit_tier'].dropna().unique()\n",
    "\n",
    "for travelBenefit in travelBenefits:\n",
    "    travelBenefit = travelBenefit.strip()\n",
    "    travelBenefit = travelBenefit.replace('  ',' ')\n",
    "    travelBenefit = travelBenefit.upper()\n",
    "    print(\"Generating benefit contract for : \" + travelBenefit)\n",
    "    query_str = query_df[query_df['benefit_tier'] == travelBenefit]['query'].iloc[0]\n",
    "    query_all_columns = query_str.replace('select df.ID', 'select df.*')\n",
    "    rs = pd.read_sql_query(query_all_columns, conn)\n",
    "    if len(rs.index) > 0:\n",
    "\n",
    "        for membership_index, membership_row in rs.iterrows():\n",
    "\n",
    "            membership_uri = membership_row['ID']\n",
    "            membership_number = membership_row['Attributes.EC_Membership_Number']\n",
    "            entity_code = membership_row['Attributes.CCNative.ENTITY_CODE']\n",
    "            membership_type_id = membership_row['Attributes.EC_MP_Detail.MBRSHIP_TYPE_ID']\n",
    "            membership_category_code = membership_row['Attributes.EC_MP_Detail.MBRSHIP_CATEGORY_CODE']\n",
    "            \n",
    "            benefit_contracts.append({'membership_uri':membership_uri,'membership_number':membership_number,'entity_code':entity_code, 'membership_type_id':membership_type_id, 'membership_category_code' : membership_category_code , 'travel_benefit': travelBenefit})\n"
   ]
  },
  {
   "cell_type": "markdown",
   "metadata": {},
   "source": [
    "<b>Save Benefit Contract Data</b>"
   ]
  },
  {
   "cell_type": "code",
   "execution_count": 7,
   "metadata": {},
   "outputs": [
    {
     "name": "stdout",
     "output_type": "stream",
     "text": [
      "390178\n"
     ]
    }
   ],
   "source": [
    "benefit_contract_df = pd.DataFrame(benefit_contracts)\n",
    "benefit_contract_df = benefit_contract_df[['membership_uri','membership_number','entity_code','membership_type_id', 'membership_category_code', 'travel_benefit']]\n",
    "benefit_contract_df.to_csv(\"output/travel_benefit_contracts_initial.csv\", index=False)\n",
    "print(len(benefit_contract_df.index))"
   ]
  },
  {
   "cell_type": "code",
   "execution_count": 8,
   "metadata": {},
   "outputs": [],
   "source": [
    "pattern = re.compile(r'\\s+')\n",
    "def generateIdBasedOnHashBenefitContract(df):\n",
    "    benefit_contract_ids = []\n",
    "    for index, row in df.iterrows():\n",
    "        text = row['travel_benefit'] + \"|\" + \"|\" + row['membership_number']+ \"|\" + row['entity_code'] \n",
    "        benefit_contract_ids.append(generateIdBasedOnHash(text))\n",
    "    return benefit_contract_ids\n",
    "\n",
    "\n",
    "def generateIdBasedOnHashBenefitPackage(df):\n",
    "    benefit_contract_ids = []\n",
    "    for index, row in df.iterrows():\n",
    "        text = row['travel_benefit']\n",
    "        benefit_contract_ids.append(generateIdBasedOnHash(text))\n",
    "    return benefit_contract_ids\n",
    "\n",
    "pattern = re.compile(r'\\s+')\n",
    "def generateIdBasedOnHash(text):\n",
    "    normalized_text = text.strip().lower()\n",
    "    normalized_text = re.sub(pattern, '_', normalized_text)\n",
    "    return str(hashlib.md5(normalized_text.encode('utf-8')).hexdigest())"
   ]
  },
  {
   "cell_type": "markdown",
   "metadata": {},
   "source": [
    "<b>Generating Benefit Contract with all the required values With All</b>"
   ]
  },
  {
   "cell_type": "code",
   "execution_count": 9,
   "metadata": {},
   "outputs": [],
   "source": [
    "benefit_contract_initial_df = pd.read_csv(\"output/travel_benefit_contracts_initial.csv\", dtype=str)\n",
    "\n",
    "benefit_contract_initial_df['benefit_package_id'] = generateIdBasedOnHashBenefitPackage(benefit_contract_initial_df)\n",
    "benefit_contract_initial_df['benefit_contract_id'] = generateIdBasedOnHashBenefitContract(benefit_contract_initial_df)\n",
    "benefit_contract_initial_df['name'] = benefit_contract_initial_df.apply(lambda row: row.travel_benefit + \"(\" + row.membership_number + \")\", axis=1)\n",
    "benefit_contract_initial_df['description'] = benefit_contract_initial_df.apply(lambda row: row.travel_benefit + \"(\" + row.membership_number+ \"-\" + row.entity_code + \")\", axis=1)\n",
    "benefit_contract_initial_df['type'] = \"Travel\"\n",
    "benefit_contract_initial_df['active'] = \"Y\"\n",
    "\n",
    "benefit_contract_initial_df.to_csv(\"output/travel_benefit_contracts_initial_allValues.csv\", index=False)"
   ]
  },
  {
   "cell_type": "markdown",
   "metadata": {},
   "source": [
    "<b>Close database connection</b>"
   ]
  },
  {
   "cell_type": "code",
   "execution_count": 10,
   "metadata": {},
   "outputs": [],
   "source": [
    "conn.close()"
   ]
  },
  {
   "cell_type": "markdown",
   "metadata": {},
   "source": [
    "<b>Removing Duplicate Ids</b>"
   ]
  },
  {
   "cell_type": "code",
   "execution_count": 11,
   "metadata": {},
   "outputs": [
    {
     "name": "stdout",
     "output_type": "stream",
     "text": [
      "Benefit Contract Id Uniqueness : False\n",
      "['02a7fc096f9b8a1a1bc8629550ed8e81' '215542f72f3fe798a82134c052bd5b6e'\n",
      " '4d50cabf6e23365b2ece0aa3cc331e9e' '914e60fbdf871f766a17fb75be9c5005'\n",
      " 'e454cb01f46e017fb8a1759dbe26f358']\n",
      "390178\n",
      "390168\n",
      "10\n"
     ]
    }
   ],
   "source": [
    "benefit_contract_id_unique = benefit_contract_initial_df['benefit_contract_id'].is_unique\n",
    "print(\"Benefit Contract Id Uniqueness : \" + str(benefit_contract_id_unique))\n",
    "\n",
    "if not benefit_contract_id_unique:\n",
    "    #Getting the duplicate Ids\n",
    "    sub_set = benefit_contract_initial_df[['benefit_contract_id']]\n",
    "    dulicateBenefitContractIds = sub_set[sub_set.duplicated(['benefit_contract_id'], keep=False)].groupby(('benefit_contract_id')).max().index.values\n",
    "    print(dulicateBenefitContractIds)\n",
    "    \n",
    "    \n",
    "    condition = benefit_contract_initial_df['benefit_contract_id'].isin(dulicateBenefitContractIds)\n",
    "    df_unique_values = benefit_contract_initial_df[(~condition)]\n",
    "    df_duplicate_values = benefit_contract_initial_df[(condition)]\n",
    "    \n",
    "    print(len(benefit_contract_initial_df.index))\n",
    "    print(len(df_unique_values.index))\n",
    "    print(len(df_duplicate_values.index))\n",
    "    \n",
    "    df_unique_values.to_csv(\"output/travel_benefit_contracts_allValues_unique.csv\", index=False)\n",
    "    df_duplicate_values.to_csv(\"output/travel_benefit_contracts_allValues_duplicate.csv\", index=False)\n",
    "          "
   ]
  },
  {
   "cell_type": "code",
   "execution_count": null,
   "metadata": {},
   "outputs": [],
   "source": []
  }
 ],
 "metadata": {
  "kernelspec": {
   "display_name": "Python 3",
   "language": "python",
   "name": "python3"
  },
  "language_info": {
   "codemirror_mode": {
    "name": "ipython",
    "version": 3
   },
   "file_extension": ".py",
   "mimetype": "text/x-python",
   "name": "python",
   "nbconvert_exporter": "python",
   "pygments_lexer": "ipython3",
   "version": "3.5.5"
  }
 },
 "nbformat": 4,
 "nbformat_minor": 2
}
