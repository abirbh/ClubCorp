{
 "cells": [
  {
   "cell_type": "markdown",
   "metadata": {},
   "source": [
    "<h3>Analysis of Ids</h3>"
   ]
  },
  {
   "cell_type": "code",
   "execution_count": 1,
   "metadata": {},
   "outputs": [],
   "source": [
    "import pandas as pd"
   ]
  },
  {
   "cell_type": "markdown",
   "metadata": {},
   "source": [
    "<b>Read Files</b>"
   ]
  },
  {
   "cell_type": "code",
   "execution_count": 2,
   "metadata": {},
   "outputs": [],
   "source": [
    "ben_pkg_df =  pd.read_csv(\"datasets/travel_benefit_package_option2.csv\", dtype=str)\n",
    "ben_df =  pd.read_csv(\"datasets/travel_benefit_option2_withAllValues.csv\", dtype=str)\n",
    "acc_df =  pd.read_csv(\"datasets/travel_access_rule_option2.csv\", dtype=str)\n",
    "rel_df =  pd.read_csv(\"datasets/travel_access_rule_and_club_option2.csv\", dtype=str)\n",
    "all_ben_contract = pd.read_csv(\"datasets/travel_benefit_contracts_allValues_unique.csv\", dtype=str)"
   ]
  },
  {
   "cell_type": "markdown",
   "metadata": {},
   "source": [
    "<b>Testing Uniqueness of Benefit Package</b>"
   ]
  },
  {
   "cell_type": "code",
   "execution_count": 3,
   "metadata": {},
   "outputs": [
    {
     "name": "stdout",
     "output_type": "stream",
     "text": [
      "Benefit Package count: 16\n",
      "Benefit Package Id uniqueness: True\n"
     ]
    }
   ],
   "source": [
    "#Checking the uniqueness\n",
    "print(\"Benefit Package count: \" + str(len(ben_pkg_df.index)))\n",
    "\n",
    "ret = ben_pkg_df['benefit_package_id'].is_unique\n",
    "print(\"Benefit Package Id uniqueness: \" + str(ret))"
   ]
  },
  {
   "cell_type": "markdown",
   "metadata": {},
   "source": [
    "<b>Testing Benefits</b>"
   ]
  },
  {
   "cell_type": "code",
   "execution_count": 4,
   "metadata": {},
   "outputs": [
    {
     "name": "stdout",
     "output_type": "stream",
     "text": [
      "Benefit count: 68\n",
      "Benefit Id uniqueness: True\n",
      "benefit_package_id mismatch count: 0\n",
      "set()\n"
     ]
    }
   ],
   "source": [
    "print(\"Benefit count: \" + str(len(ben_df.index)))\n",
    "\n",
    "ret_golf = ben_df['benefit_id'].is_unique\n",
    "print(\"Benefit Id uniqueness: \" + str(ret_golf))\n",
    "\n",
    "orphan_benefit_packages = set(list(ben_df['benefit_package_id'])) - set(list(ben_pkg_df['benefit_package_id']))\n",
    "print(\"benefit_package_id mismatch count: \" + str(len(orphan_benefit_packages)))\n",
    "print(orphan_benefit_packages)"
   ]
  },
  {
   "cell_type": "markdown",
   "metadata": {},
   "source": [
    "<b>Testing Access Rules</b>"
   ]
  },
  {
   "cell_type": "code",
   "execution_count": 5,
   "metadata": {},
   "outputs": [
    {
     "name": "stdout",
     "output_type": "stream",
     "text": [
      "Access Rule count: 68\n",
      "Access Rule Id uniqueness: True\n",
      "benefit_id mismatch count in Access Rule: 0\n",
      "set()\n"
     ]
    }
   ],
   "source": [
    "print(\"Access Rule count: \" + str(len(acc_df.index)))\n",
    "\n",
    "ret_golf_acc = acc_df['access_rule_id'].is_unique\n",
    "print(\"Access Rule Id uniqueness: \" + str(ret_golf_acc))\n",
    "\n",
    "orphan_benefit_golf = set(list(acc_df['benefit_id'])) - set(list(ben_df['benefit_id']))\n",
    "print(\"benefit_id mismatch count in Access Rule: \" + str(len(orphan_benefit_golf)))\n",
    "\n",
    "print(orphan_benefit_golf)"
   ]
  },
  {
   "cell_type": "markdown",
   "metadata": {},
   "source": [
    "<b>Testing Amenity Relationship</b>"
   ]
  },
  {
   "cell_type": "code",
   "execution_count": 6,
   "metadata": {},
   "outputs": [
    {
     "name": "stdout",
     "output_type": "stream",
     "text": [
      "Golf Access Rule to Amenity Relationship count: 3675\n",
      "benefit_id mismatch count in Golf To Club: 0\n",
      "access_rule_id mismatch count in Golf To Club: 0\n"
     ]
    }
   ],
   "source": [
    "ben_id_acc = rel_df['benefit_id']\n",
    "acc_id_acc = rel_df['access_rule_id']\n",
    "orphan_ben_id = set(list(rel_df['benefit_id'])) - set(list(ben_df['benefit_id']))\n",
    "orphan_acc_id = set(list(rel_df['access_rule_id'])) - set(list(acc_df['access_rule_id']))\n",
    "print(\"Golf Access Rule to Amenity Relationship count: \" + str(len(rel_df.index)))\n",
    "print(\"benefit_id mismatch count in Golf To Club: \" + str(len(orphan_ben_id)))\n",
    "print(\"access_rule_id mismatch count in Golf To Club: \" + str(len(orphan_acc_id)))"
   ]
  },
  {
   "cell_type": "markdown",
   "metadata": {},
   "source": [
    "<b>Testing Benefit Contract</b>"
   ]
  },
  {
   "cell_type": "code",
   "execution_count": 7,
   "metadata": {},
   "outputs": [
    {
     "name": "stdout",
     "output_type": "stream",
     "text": [
      "Total Benefit Contract: 390168\n",
      "Benefit Contract Id Uniqueness : True\n",
      "Benefit Package Id missing in Benefit Package file : \n",
      "[]\n"
     ]
    }
   ],
   "source": [
    "print(\"Total Benefit Contract: \" + str(len(all_ben_contract.index)))\n",
    "\n",
    "benefit_contract_id_unique = all_ben_contract['benefit_contract_id'].is_unique\n",
    "print(\"Benefit Contract Id Uniqueness : \" + str(benefit_contract_id_unique))\n",
    "\n",
    "if not benefit_contract_id_unique:\n",
    "    sub_set = all_ben_contract[['benefit_contract_id']]\n",
    "    #print(sub_set[sub_set.duplicated(['benefit_contract_id'], keep=False)].groupby(('benefit_contract_id')).count())\n",
    "    print(sub_set[sub_set.duplicated(['benefit_contract_id'], keep=False)].groupby(('benefit_contract_id')).max().index.values)\n",
    "    #print(sub_set[sub_set.duplicated(['benefit_contract_id'], keep=False)].groupby(('benefit_contract_id')).min())\n",
    "    \n",
    "orphan_ben_pkg_in_contract = set(list(all_ben_contract['benefit_package_id'])) - set(list(ben_pkg_df['benefit_package_id']))\n",
    "print('Benefit Package Id missing in Benefit Package file : ')\n",
    "print(list(orphan_ben_pkg_in_contract))"
   ]
  },
  {
   "cell_type": "code",
   "execution_count": 8,
   "metadata": {},
   "outputs": [
    {
     "name": "stdout",
     "output_type": "stream",
     "text": [
      "Total number of membership impacted: 0\n"
     ]
    }
   ],
   "source": [
    "error_benefit_contract = all_ben_contract[all_ben_contract['benefit_package_id'].isin(orphan_ben_pkg_in_contract)]\n",
    "print(\"Total number of membership impacted: \" + str(len(error_benefit_contract.index)))"
   ]
  }
 ],
 "metadata": {
  "kernelspec": {
   "display_name": "Python 3",
   "language": "python",
   "name": "python3"
  },
  "language_info": {
   "codemirror_mode": {
    "name": "ipython",
    "version": 3
   },
   "file_extension": ".py",
   "mimetype": "text/x-python",
   "name": "python",
   "nbconvert_exporter": "python",
   "pygments_lexer": "ipython3",
   "version": "3.5.5"
  }
 },
 "nbformat": 4,
 "nbformat_minor": 2
}
