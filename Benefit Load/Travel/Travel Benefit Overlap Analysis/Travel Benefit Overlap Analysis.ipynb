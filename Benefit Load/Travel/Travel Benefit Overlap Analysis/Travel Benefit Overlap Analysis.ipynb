{
 "cells": [
  {
   "cell_type": "code",
   "execution_count": null,
   "metadata": {},
   "outputs": [],
   "source": [
    "pip install termcolor"
   ]
  },
  {
   "cell_type": "code",
   "execution_count": 1,
   "metadata": {},
   "outputs": [],
   "source": [
    "import pandas as pd\n",
    "import sqlite3\n",
    "from itertools import combinations\n",
    "from termcolor import colored"
   ]
  },
  {
   "cell_type": "markdown",
   "metadata": {},
   "source": [
    "<b>Benefit Tier Interpretation - required for analysis</b>"
   ]
  },
  {
   "cell_type": "code",
   "execution_count": 2,
   "metadata": {},
   "outputs": [
    {
     "data": {
      "text/html": [
       "<div>\n",
       "<style scoped>\n",
       "    .dataframe tbody tr th:only-of-type {\n",
       "        vertical-align: middle;\n",
       "    }\n",
       "\n",
       "    .dataframe tbody tr th {\n",
       "        vertical-align: top;\n",
       "    }\n",
       "\n",
       "    .dataframe thead th {\n",
       "        text-align: right;\n",
       "    }\n",
       "</style>\n",
       "<table border=\"1\" class=\"dataframe\">\n",
       "  <thead>\n",
       "    <tr style=\"text-align: right;\">\n",
       "      <th></th>\n",
       "      <th>Benefit Tier</th>\n",
       "      <th>Member_Of</th>\n",
       "      <th>Not_Member_Of</th>\n",
       "      <th>Exclude_Benefit_Tiers</th>\n",
       "      <th>Community</th>\n",
       "      <th>Ignore_Community</th>\n",
       "      <th>MP_Ben_Prog_Name</th>\n",
       "      <th>RS_Ben_Prog_Name</th>\n",
       "      <th>RS_Ben_Prog_Name_Not</th>\n",
       "      <th>ONE</th>\n",
       "      <th>Category_Golf</th>\n",
       "      <th>Category_Social</th>\n",
       "      <th>Mbrship_type_desc_contains</th>\n",
       "      <th>Mbrship_type_desc_equals</th>\n",
       "      <th>Mbrship_type_desc_does_not_have</th>\n",
       "    </tr>\n",
       "  </thead>\n",
       "  <tbody>\n",
       "    <tr>\n",
       "      <th>0</th>\n",
       "      <td>CLUBBENEFITS</td>\n",
       "      <td></td>\n",
       "      <td>03015,02727</td>\n",
       "      <td></td>\n",
       "      <td></td>\n",
       "      <td></td>\n",
       "      <td></td>\n",
       "      <td>ClubBenefits</td>\n",
       "      <td></td>\n",
       "      <td></td>\n",
       "      <td></td>\n",
       "      <td></td>\n",
       "      <td></td>\n",
       "      <td></td>\n",
       "      <td></td>\n",
       "    </tr>\n",
       "    <tr>\n",
       "      <th>1</th>\n",
       "      <td>WORLDVANTAGE</td>\n",
       "      <td></td>\n",
       "      <td>03015,02727</td>\n",
       "      <td></td>\n",
       "      <td></td>\n",
       "      <td></td>\n",
       "      <td></td>\n",
       "      <td>WorldVantage</td>\n",
       "      <td></td>\n",
       "      <td></td>\n",
       "      <td></td>\n",
       "      <td></td>\n",
       "      <td></td>\n",
       "      <td></td>\n",
       "      <td></td>\n",
       "    </tr>\n",
       "    <tr>\n",
       "      <th>2</th>\n",
       "      <td>BRONZE TRAVEL</td>\n",
       "      <td></td>\n",
       "      <td>03015,02727</td>\n",
       "      <td></td>\n",
       "      <td></td>\n",
       "      <td></td>\n",
       "      <td>Associate Bronze</td>\n",
       "      <td></td>\n",
       "      <td>ClubBenefits,WorldVantage,Alumni Travel</td>\n",
       "      <td></td>\n",
       "      <td></td>\n",
       "      <td></td>\n",
       "      <td></td>\n",
       "      <td></td>\n",
       "      <td></td>\n",
       "    </tr>\n",
       "    <tr>\n",
       "      <th>3</th>\n",
       "      <td>SILVER TRAVEL</td>\n",
       "      <td></td>\n",
       "      <td>03015,02727</td>\n",
       "      <td></td>\n",
       "      <td></td>\n",
       "      <td></td>\n",
       "      <td>Associate Silver</td>\n",
       "      <td></td>\n",
       "      <td>ClubBenefits,WorldVantage,Alumni Travel</td>\n",
       "      <td></td>\n",
       "      <td></td>\n",
       "      <td></td>\n",
       "      <td></td>\n",
       "      <td></td>\n",
       "      <td></td>\n",
       "    </tr>\n",
       "    <tr>\n",
       "      <th>4</th>\n",
       "      <td>ASSOCIATE ALUMNI</td>\n",
       "      <td></td>\n",
       "      <td>03015,02727</td>\n",
       "      <td></td>\n",
       "      <td></td>\n",
       "      <td></td>\n",
       "      <td>Associate Alumni</td>\n",
       "      <td></td>\n",
       "      <td>ClubBenefits,WorldVantage,Alumni Travel</td>\n",
       "      <td></td>\n",
       "      <td></td>\n",
       "      <td></td>\n",
       "      <td></td>\n",
       "      <td></td>\n",
       "      <td></td>\n",
       "    </tr>\n",
       "  </tbody>\n",
       "</table>\n",
       "</div>"
      ],
      "text/plain": [
       "       Benefit Tier Member_Of Not_Member_Of Exclude_Benefit_Tiers Community  \\\n",
       "0      CLUBBENEFITS             03015,02727                                   \n",
       "1      WORLDVANTAGE             03015,02727                                   \n",
       "2     BRONZE TRAVEL             03015,02727                                   \n",
       "3     SILVER TRAVEL             03015,02727                                   \n",
       "4  ASSOCIATE ALUMNI             03015,02727                                   \n",
       "\n",
       "  Ignore_Community  MP_Ben_Prog_Name RS_Ben_Prog_Name  \\\n",
       "0                                        ClubBenefits   \n",
       "1                                        WorldVantage   \n",
       "2                   Associate Bronze                    \n",
       "3                   Associate Silver                    \n",
       "4                   Associate Alumni                    \n",
       "\n",
       "                      RS_Ben_Prog_Name_Not ONE Category_Golf Category_Social  \\\n",
       "0                                                                              \n",
       "1                                                                              \n",
       "2  ClubBenefits,WorldVantage,Alumni Travel                                     \n",
       "3  ClubBenefits,WorldVantage,Alumni Travel                                     \n",
       "4  ClubBenefits,WorldVantage,Alumni Travel                                     \n",
       "\n",
       "  Mbrship_type_desc_contains Mbrship_type_desc_equals  \\\n",
       "0                                                       \n",
       "1                                                       \n",
       "2                                                       \n",
       "3                                                       \n",
       "4                                                       \n",
       "\n",
       "  Mbrship_type_desc_does_not_have  \n",
       "0                                  \n",
       "1                                  \n",
       "2                                  \n",
       "3                                  \n",
       "4                                  "
      ]
     },
     "execution_count": 2,
     "metadata": {},
     "output_type": "execute_result"
    }
   ],
   "source": [
    "fileName = \"Datasets\\\\Travel_Benefit_Tier_Understanding 11.06.20.xlsx\"\n",
    "#fileName = \"Datasets\\\\Benefit_Tier_Understanding.xlsx\"\n",
    "#fileName = \"Datasets\\\\Benefit_Tier_Understanding_20200929.xlsx\"\n",
    "metadata_df = pd.read_excel(fileName,sheet_name=0, dtype=str, na_filter=False)\n",
    "\n",
    "metadata_df.head()"
   ]
  },
  {
   "cell_type": "code",
   "execution_count": 3,
   "metadata": {},
   "outputs": [],
   "source": [
    "# test = metadata_df[['Benefit Tier']]"
   ]
  },
  {
   "cell_type": "markdown",
   "metadata": {},
   "source": [
    "<b>Benefit Tier Query</b>"
   ]
  },
  {
   "cell_type": "code",
   "execution_count": 4,
   "metadata": {},
   "outputs": [],
   "source": [
    "#Benefit Tier specific query\n",
    "query_df = pd.read_csv(\"output/benefit_tier_query_20201111.csv\", dtype=str)\n",
    "query_df['benefit_tier'] = query_df['benefit_tier'].str.upper()\n",
    "query_df['benefit_tier'] = query_df['benefit_tier'].str.strip()"
   ]
  },
  {
   "cell_type": "markdown",
   "metadata": {},
   "source": [
    "<b>Non Resigned Memberships</b>"
   ]
  },
  {
   "cell_type": "code",
   "execution_count": 5,
   "metadata": {},
   "outputs": [],
   "source": [
    "# Non resigned membership data from Reltio\n",
    "# df_membership = pd.read_csv(\"Datasets/dump_membership_reltio_202010271953.csv\", dtype=str)\n",
    "df_membership = pd.read_csv(\"Datasets/non_resigned_membership_prod_20201111_v2.csv\", dtype=str)\n"
   ]
  },
  {
   "cell_type": "code",
   "execution_count": 6,
   "metadata": {},
   "outputs": [
    {
     "data": {
      "text/plain": [
       "Index(['benefit_tier', 'query'], dtype='object')"
      ]
     },
     "execution_count": 6,
     "metadata": {},
     "output_type": "execute_result"
    }
   ],
   "source": [
    "query_df.columns"
   ]
  },
  {
   "cell_type": "code",
   "execution_count": 7,
   "metadata": {},
   "outputs": [
    {
     "name": "stdout",
     "output_type": "stream",
     "text": [
      "Wall time: 13 ms\n"
     ]
    }
   ],
   "source": [
    "%%time\n",
    "conn = sqlite3.connect(\"communityOverlap.db\")\n",
    "cur = conn.cursor()"
   ]
  },
  {
   "cell_type": "code",
   "execution_count": 8,
   "metadata": {},
   "outputs": [
    {
     "data": {
      "text/plain": [
       "['CLUBBENEFITS',\n",
       " 'WORLDVANTAGE',\n",
       " 'BRONZE TRAVEL',\n",
       " 'SILVER TRAVEL',\n",
       " 'ASSOCIATE ALUMNI',\n",
       " 'ASSOCIATE PLUS',\n",
       " 'ASSOCIATE GOLD',\n",
       " 'SIGNATURE GOLD DINING',\n",
       " 'SIGNATURE GOLD GOLF',\n",
       " 'SIGNATURE GOLD UNLIMITED',\n",
       " 'SIGNATURE GOLD SPOUSE GOLF',\n",
       " 'SIGNATURE GOLD SPOUSE UNLIMITED',\n",
       " 'PLAY AWAY SELECT',\n",
       " 'ALUMNI TRAVEL',\n",
       " 'EWGA']"
      ]
     },
     "execution_count": 8,
     "metadata": {},
     "output_type": "execute_result"
    }
   ],
   "source": [
    "benefit_tiers = list(metadata_df[['Benefit Tier']].values.ravel())\n",
    "benefit_tiers"
   ]
  },
  {
   "cell_type": "code",
   "execution_count": 9,
   "metadata": {},
   "outputs": [
    {
     "name": "stdout",
     "output_type": "stream",
     "text": [
      "No overlaps detected\n",
      "Wall time: 7min 41s\n"
     ]
    }
   ],
   "source": [
    "%%time\n",
    "overlap_found = []\n",
    "overlap_not_computed = []\n",
    "df_membership.to_sql(\"df\", conn, if_exists=\"replace\")        \n",
    "benefit_tier_combinations = [comb for comb in combinations(benefit_tiers, 2)]\n",
    "for combination in benefit_tier_combinations:\n",
    "#         if community == 'ATLANTA':\n",
    "#             print(combination)   \n",
    "\n",
    "    benefit_tier0 = combination[0]\n",
    "    benefit_tier0 = benefit_tier0.replace('  ', ' ')\n",
    "    benefit_tier1 = combination[1]\n",
    "    benefit_tier1 = benefit_tier1.replace('  ', ' ')\n",
    "    query0 = ''\n",
    "    query1 = ''\n",
    "    if len(query_df[query_df['benefit_tier'] == benefit_tier0]['query']) > 0:\n",
    "        query0 = query_df[query_df['benefit_tier'] == benefit_tier0]['query'].iloc[0]\n",
    "    else:\n",
    "        continue\n",
    "    if len(query_df[query_df['benefit_tier'] == benefit_tier1]['query']) > 0:\n",
    "        query1 = query_df[query_df['benefit_tier'] == benefit_tier1]['query'].iloc[0]\n",
    "    else:\n",
    "        continue \n",
    "\n",
    "    rs0 = pd.read_sql_query(query0, conn)\n",
    "    rs1 = pd.read_sql_query(query1, conn)\n",
    "\n",
    "#         if ((benefit_tier0 == 'ONE GOLF - PREMIER - ATLANTA' or benefit_tier0 == 'ONE GOLF - NONPREMIER - ATLANTA') & (benefit_tier1 == 'ONE GOLF - PREMIER - ATLANTA' or benefit_tier1 == 'ONE GOLF - NONPREMIER - ATLANTA')):\n",
    "#             print(query0)\n",
    "\n",
    "\n",
    "    if len(rs0.index) == 0 or len(rs1.index) == 0:\n",
    "        #print(\"Overlap not computed for,\" + community + \",\" + benefit_tier0 + \", \" + benefit_tier1)\n",
    "        overlap_not_computed.append({\n",
    "            'benefit_tier0': benefit_tier0,\n",
    "            'benefit_tier1': benefit_tier1\n",
    "        })\n",
    "    else:\n",
    "        intersection = list(set(rs0['ID']) & set(rs1['ID']))\n",
    "        if len(intersection) > 0:\n",
    "            print(colored(benefit_tier0 + \",\" + benefit_tier1,'red'))\n",
    "            overlap_found.append({\n",
    "                'benefit_tier0': benefit_tier0,\n",
    "                'benefit_tier1': benefit_tier1                    \n",
    "            })\n",
    "\n",
    "if len(overlap_found) == 0:\n",
    "    print(\"No overlaps detected\")\n",
    "else:\n",
    "    print(\"Overlap count: \" + str(len(overlap_found)))"
   ]
  },
  {
   "cell_type": "code",
   "execution_count": null,
   "metadata": {},
   "outputs": [],
   "source": [
    "if len(overlap_found) > 0:\n",
    "    overlap_found_df = pd.DataFrame(overlap_found, columns=overlap_found[0].keys())\n",
    "    overlap_found_df.to_csv(\"output/community_benefits_overlaps.csv\", index=False)\n",
    "else:\n",
    "    print(\"No overlaps found, output file not generated\")"
   ]
  },
  {
   "cell_type": "code",
   "execution_count": null,
   "metadata": {},
   "outputs": [],
   "source": []
  }
 ],
 "metadata": {
  "kernelspec": {
   "display_name": "Python 3",
   "language": "python",
   "name": "python3"
  },
  "language_info": {
   "codemirror_mode": {
    "name": "ipython",
    "version": 3
   },
   "file_extension": ".py",
   "mimetype": "text/x-python",
   "name": "python",
   "nbconvert_exporter": "python",
   "pygments_lexer": "ipython3",
   "version": "3.8.3"
  }
 },
 "nbformat": 4,
 "nbformat_minor": 2
}
