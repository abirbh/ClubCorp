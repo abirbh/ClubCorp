{
 "cells": [
  {
   "cell_type": "code",
   "execution_count": 1,
   "metadata": {},
   "outputs": [],
   "source": [
    "import pandas as pd"
   ]
  },
  {
   "cell_type": "markdown",
   "metadata": {},
   "source": [
    "<h2>Comparing Headers of MCR file with the previous Version</h2>"
   ]
  },
  {
   "cell_type": "code",
   "execution_count": 7,
   "metadata": {},
   "outputs": [
    {
     "name": "stdout",
     "output_type": "stream",
     "text": [
      "column added : 36\n",
      "'Segment (Owned)'\n",
      "'Racquet Ball Courts\\n\\nEnter #'\n",
      "'VPMS (Owned)'\n",
      "'ClubCorp \\nWeekend\\nReimbursement Rate\\n\\n(Rate, N/A, or No Reimbursements)\\n\\n\\nCity Clubs - Dinner'\n",
      "'Marina\\n\\nY/N'\n",
      "'Guest Fee Rate\\n\\nHighest rate, inclusive of cart fee'\n",
      "'Reimburse\\nWorldVantage Rounds to Club for \\nHigh Season'\n",
      "'Reimburse\\nWorldVantage Rounds to Club for  Low Season\\n'\n",
      "'Bill To \\nWorldVantage\\n(High Season Rate))'\n",
      "'Indoor Tennis Courts\\n\\nEnter #'\n",
      "'Amenities Notes\\n\\nN/A if blank'\n",
      "'ClubCorp \\nWeekday\\nReimbursement Rate\\n\\n(Rate, N/A, or No Reimbursements)\\n\\n\\nCity Clubs - Lunch'\n",
      "'Bill To\\nPLI'\n",
      "'Cart Fee Rate'\n",
      "'Additional Amenities\\n\\nN/A or Type'\n",
      "'Spa\\n\\nY/N'\n",
      "'Athletic Facilities\\n\\nY/N'\n",
      "'WorldVantage Season Dates'\n",
      "'Member Rate per Initial ClubBenefits Membership Sold'\n",
      "'Reimburse\\nPLI Rounds'\n",
      "'Total Number of Holes\\n\\nEnter # or 0'\n",
      "'S/RVP (Owned)'\n",
      "'Reimbursement Notes'\n",
      "'PLI Reimbursement Rate for Usage Rounds - Mbrs only\\n\\nAlso includes $20 cart fee billed separately\\n\\n(Rate, N/A, or No Reimbursements)'\n",
      "'Bill To \\nWorldVantage\\n(Low Season Rate)'\n",
      "'Entity Number with Leading Zero'\n",
      "'Bill To \\nWorldVantage\\n(Static - Year Round Rate)'\n",
      "'Closed days - Operations\\n\\nOpen 7 days\\n\\nMonday\\n\\nTuesday\\n\\nHours Vary'\n",
      "'ClubCorp \\nStatic\\nReimbursement Rate\\n\\n(Rate, N/A, or No Reimbursements)\\n\\n\\nCity Clubs - Breakfast'\n",
      "'Tour GCX Club Reimbursement Rate  Mbrs & Gsts\\n\\n(Rate, N/A, or No Reimbursements)'\n",
      "'WORLD Vantage - \\n\\n(Golf Club benefits only)\\n\\nYes - participates\\n\\nNo - does not offer Tour benefits\\n\\nN/A - for a non-golf Provider or Partner'\n",
      "'Region (Owned)'\n",
      "'Reimburse\\nWorldVantage Rounds to Club\\nStatic'\n",
      "'Tour GCX Usage Rate We Bill to Tour'\n",
      "'Outdoor Tennis Courts\\n\\nEnter #'\n",
      "'Overnight Accommodations\\n\\nY/N'\n",
      "######################\n",
      "column removed : 13\n",
      "'Athletic Facilities\\n\\nY/N or N/A for non club properties'\n",
      "'Number of Racquet Ball Courts'\n",
      "'Number of Outdoor Tennis Courts'\n",
      "'Number of Indoor Tennis Courts'\n",
      "'Additional Amenities'\n",
      "'Marina'\n",
      "'Amenities Notes'\n",
      "'Spa'\n",
      "'Palmer Club - \\n\\n(Golf Club benefits only)\\n\\nYes - participates\\n\\nNo - does not offer Tour benefits\\n\\nN/A - for a non-golf Provider or Partner'\n",
      "'Overnight Accommodations'\n",
      "'Closed days - Operations\\n\\nOpen 7 days\\n\\nMonday\\n\\nTuesday'\n",
      "'Reimbursement \\nRate\\n\\n(Rate, N/A, or No Reimbursements)'\n",
      "'Total Number of Holes'\n"
     ]
    }
   ],
   "source": [
    "travel_benefit_mcr_previous = pd.read_excel(\"datasets/Master Club Repository 20181227.xlsx\", dtype=str, sheet_name=0)\n",
    "travel_benefit_mcr_current = pd.read_excel(\"datasets/Master Club Repository - 101719.xlsx\", dtype=str, sheet_name=0)\n",
    "\n",
    "\n",
    "column_added = set(list(travel_benefit_mcr_current)) - set(list(travel_benefit_mcr_previous))\n",
    "column_removed = set(list(travel_benefit_mcr_previous)) - set(list(travel_benefit_mcr_current))\n",
    "\n",
    "print('column added : ' + str(len(column_added)))\n",
    "for s in column_added:\n",
    "    print(repr(s))\n",
    "\n",
    "print('######################')\n",
    "\n",
    "print('column removed : ' + str(len(column_removed)))\n",
    "for s in column_removed:\n",
    "    print(repr(s))\n"
   ]
  },
  {
   "cell_type": "code",
   "execution_count": 2,
   "metadata": {},
   "outputs": [],
   "source": [
    "travel_benefit = pd.read_csv(\"output/travel_benefit_cleansed.csv\", dtype=str)"
   ]
  },
  {
   "cell_type": "code",
   "execution_count": 6,
   "metadata": {},
   "outputs": [],
   "source": [
    "columns = list(travel_benefit.columns)"
   ]
  },
  {
   "cell_type": "code",
   "execution_count": 7,
   "metadata": {},
   "outputs": [
    {
     "data": {
      "text/plain": [
       "['Entity Number',\n",
       " 'Club Name',\n",
       " 'Community',\n",
       " 'ClubBenefits Golf',\n",
       " 'ClubBenefits Dining',\n",
       " 'Palmer Club Golf',\n",
       " 'Pacific Links Golf',\n",
       " 'Bronze Travel Golf',\n",
       " 'Bronze Travel Dining',\n",
       " 'Silver Travel Golf',\n",
       " 'Silver Travel Dining',\n",
       " 'Associate Alumni Golf',\n",
       " 'Associate Alumni Dining',\n",
       " 'Associate Plus Golf',\n",
       " 'Associate Plus Dining',\n",
       " 'Associate Gold Golf',\n",
       " 'Associate Gold Dining',\n",
       " 'Signature Gold Dining Golf',\n",
       " 'Signature Gold Dining Dining',\n",
       " 'Signature Gold Golf Golf',\n",
       " 'Signature Gold Golf Dining',\n",
       " 'Signature Gold Unlimited Golf',\n",
       " 'Signature Gold Unlimited Dining',\n",
       " 'ClubCorp Travel Golf',\n",
       " 'ClubCorp Travel Dining',\n",
       " 'Alumni Travel Golf',\n",
       " 'Alumni Travel Dining',\n",
       " 'NCS & NCS Custom Golf',\n",
       " 'NCS & NCS Custom Dining',\n",
       " 'EWGA Golf']"
      ]
     },
     "execution_count": 7,
     "metadata": {},
     "output_type": "execute_result"
    }
   ],
   "source": []
  },
  {
   "cell_type": "code",
   "execution_count": 25,
   "metadata": {},
   "outputs": [
    {
     "data": {
      "text/plain": [
       "{'50%', 'Access', 'CD', 'CF', 'FA', 'No', 'Yes'}"
      ]
     },
     "execution_count": 25,
     "metadata": {},
     "output_type": "execute_result"
    }
   ],
   "source": [
    "unique_benefits = set()\n",
    "for item in columns[3:]:\n",
    "    unique_benefits.update(travel_benefit[item].dropna().unique())\n",
    "unique_benefits"
   ]
  },
  {
   "cell_type": "code",
   "execution_count": 26,
   "metadata": {},
   "outputs": [
    {
     "name": "stdout",
     "output_type": "stream",
     "text": [
      "ClubBenefits Golf - ['FA', 'Access', 'No']\n",
      "ClubBenefits Dining - ['Access', 'No']\n",
      "Palmer Club Golf - ['No', 'Yes']\n",
      "Pacific Links Golf - ['No', 'Yes', 'Access']\n",
      "Bronze Travel Golf - ['FA', 'No', 'Access']\n",
      "Bronze Travel Dining - ['Access', 'No']\n",
      "Silver Travel Golf - ['FA', 'No', 'CF', 'Access']\n",
      "Silver Travel Dining - ['Access', 'No']\n",
      "Associate Alumni Golf - ['FA', 'No', 'CF']\n",
      "Associate Alumni Dining - ['Access', 'No']\n",
      "Associate Plus Golf - ['FA', 'No', '50%', 'Access']\n",
      "Associate Plus Dining - ['Access', 'No']\n",
      "Associate Gold Golf - ['FA', 'No', 'CF', 'Access']\n",
      "Associate Gold Dining - ['Access', 'No']\n",
      "Signature Gold Dining Golf - ['FA', 'No', 'CD', 'Access']\n",
      "Signature Gold Dining Dining - ['Access', 'CD', 'No']\n",
      "Signature Gold Golf Golf - ['CF', 'No', 'FA', 'Access']\n",
      "Signature Gold Golf Dining - ['Access', 'No']\n",
      "Signature Gold Unlimited Golf - ['FA', 'CF', 'No']\n",
      "Signature Gold Unlimited Dining - ['Access', 'CD', 'No']\n",
      "ClubCorp Travel Golf - ['FA', 'CF', 'No']\n",
      "ClubCorp Travel Dining - ['Access', 'CD', 'No']\n",
      "Alumni Travel Golf - ['FA', 'CF', 'No']\n",
      "Alumni Travel Dining - ['Access', 'CD', 'No']\n",
      "NCS & NCS Custom Golf - ['FA', 'CF', 'No']\n",
      "NCS & NCS Custom Dining - ['Access', 'CD', 'No']\n",
      "EWGA Golf - ['FA', 'CF', 'No']\n"
     ]
    }
   ],
   "source": [
    "for item in columns[3:]:\n",
    "    benefits = list(travel_benefit[item].dropna().unique())\n",
    "    print(item + \" - \" + str(benefits))"
   ]
  },
  {
   "cell_type": "code",
   "execution_count": 15,
   "metadata": {},
   "outputs": [],
   "source": []
  },
  {
   "cell_type": "code",
   "execution_count": null,
   "metadata": {},
   "outputs": [],
   "source": []
  }
 ],
 "metadata": {
  "kernelspec": {
   "display_name": "Python 3",
   "language": "python",
   "name": "python3"
  },
  "language_info": {
   "codemirror_mode": {
    "name": "ipython",
    "version": 3
   },
   "file_extension": ".py",
   "mimetype": "text/x-python",
   "name": "python",
   "nbconvert_exporter": "python",
   "pygments_lexer": "ipython3",
   "version": "3.6.9"
  }
 },
 "nbformat": 4,
 "nbformat_minor": 2
}
