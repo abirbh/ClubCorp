{
 "cells": [
  {
   "cell_type": "code",
   "execution_count": 1,
   "metadata": {},
   "outputs": [],
   "source": [
    "import pandas as pd\n",
    "import re"
   ]
  },
  {
   "cell_type": "code",
   "execution_count": 2,
   "metadata": {},
   "outputs": [],
   "source": [
    "#mcr = pd.read_csv(\"datasets/Master Club Repository 20181227.csv\", dtype=str, encoding = \"ISO-8859-1\")\n",
    "mcr = pd.read_excel(\"datasets/Master Club Repository 20181227.xlsx\", dtype=str, sheet_name=0,na_filter=True)\n",
    "#mcr = pd.read_excel(\"datasets/Master Club Repository - 101719.xlsx\", dtype=str, sheet_name=0)\n"
   ]
  },
  {
   "cell_type": "code",
   "execution_count": 3,
   "metadata": {},
   "outputs": [
    {
     "name": "stdout",
     "output_type": "stream",
     "text": [
      "Total number of records in MCR: 1183\n"
     ]
    }
   ],
   "source": [
    "print(\"Total number of records in MCR: \" + str(len(mcr.index)))"
   ]
  },
  {
   "cell_type": "code",
   "execution_count": 4,
   "metadata": {},
   "outputs": [],
   "source": [
    "#list(mcr.columns)"
   ]
  },
  {
   "cell_type": "markdown",
   "metadata": {},
   "source": [
    "<B>Standardizing World Benefit Column Names</b>"
   ]
  },
  {
   "cell_type": "code",
   "execution_count": 5,
   "metadata": {},
   "outputs": [],
   "source": [
    "mcr = mcr.rename(columns={'Club\\nBenefits Travel - Golf Benefits\\n\\nNo - no access\\n\\nFA - fees apply\\n\\nN/A for non golf clubs/partners\\n\\nFA-U - Fees Apply Unlimited\\n': 'ClubBenefits Golf'})\n",
    "mcr = mcr.rename(columns={'Club\\nBenefits Travel - Social and Athletic Benefits\\n\\nNo - No access\\n\\nAccess\\n\\n': 'ClubBenefits Dining'})\n",
    "mcr = mcr.rename(columns={'Palmer Club - \\n\\n(Golf Club benefits only)\\n\\nYes - participates\\n\\nNo - does not offer Tour benefits\\n\\nN/A - for a non-golf Provider or Partner': 'Palmer Club Golf'})\n",
    "mcr = mcr.rename(columns={'Pacific Links - \\n\\n(Golf Club benefits only)\\n\\nYes - participates\\n\\nNo - does not offer Tour benefits\\n\\nN/A - for a non-golf Provider or Partner': 'Pacific Links Golf'})\n",
    "mcr = mcr.rename(columns={'Bronze Travel - Golf Benefits\\n\\nNo - no access\\n\\nFA - for Fees Apply at Daily Fee and Semi golf clubs)\\n\\nN/A for non golf clubs/partners\\n\\nFA-U - Fees Apply Unlimited': 'Bronze Travel Golf'})\n",
    "mcr = mcr.rename(columns={'Bronze Travel - Social (excludes Athletic & Tennis access) Benefits\\n\\nN/A - for no athletic/tennis benefits available)\\n\\nNo - No access\\n\\nAccess': 'Bronze Travel Dining'})\n",
    "mcr = mcr.rename(columns={'Silver Travel - Golf Benefits\\n\\n\\nNo - no access\\n\\nCF - Cart Fee only access\\n\\nFA - Fees apply\\n\\nN/A for non golf clubs/partners\\n\\nFA-U - Fees Apply Unlimited': 'Silver Travel Golf'})\n",
    "mcr = mcr.rename(columns={'Silver Travel - Social & Athletic Benefits\\n\\n\\nNo - No access\\n\\nAccess\\n': 'Silver Travel Dining'})\n",
    "mcr = mcr.rename(columns={'Asso Alumni - Travel- Golf Benefits\\n\\nNo - No Access\\n\\nFA - Full fees apply\\n\\nN/A for non golf clubs/partners\\n\\nFA-U - Fees Apply Unlimited': 'Associate Alumni Golf'})\n",
    "mcr = mcr.rename(columns={'Asso Alumni - Travel- Social & Athletic Benefits\\n\\n\\n*  No - No access\\n\\n* Access': 'Associate Alumni Dining'})\n",
    "mcr = mcr.rename(columns={'Asso Plus\\nTravel - Golf Benefits\\n\\nNo - No Access\\n\\n50% \\n\\nFA - Full fees apply\\n\\nN/A for non golf clubs/partners\\n\\nFA-U - Fees Apply Unlimited': 'Associate Plus Golf'})\n",
    "mcr = mcr.rename(columns={'Asso Plus\\nTravel - Social & Athletic Benefits\\n\\n*  No - No access\\n\\n* Access': 'Associate Plus Dining'})\n",
    "mcr = mcr.rename(columns={'Asso Gold Travel - Golf Benefits\\n\\n* No - no access\\n\\n* CF - Cart Fee only FA\\n\\n* FA - Fees apply\\n\\nN/A for non golf clubs/partners\\n\\nFA-U - Fees Apply Unlimited': 'Associate Gold Golf'})\n",
    "mcr = mcr.rename(columns={'Asso Gold Travel - Social & Athletic Benefits\\n\\n*  No - no access\\n\\n* Access': 'Associate Gold Dining'})\n",
    "mcr = mcr.rename(columns={'SG Dining Travel - Golf Benefits\\n\\n* No  - no acess\\n\\n*  FA - access available only at daily fees and semi private, fees apply\\n\\n* N/A for non golf clubs/partners\\n\\n* FA-U - Fees Apply Unlimited': 'Signature Gold Dining Golf'})\n",
    "mcr = mcr.rename(columns={'SG Dining Travel - Social & Athletic  Benefits\\n\\n* No  - no access\\n\\n*  Access - access only\\n\\n*  CD - Comp dining': 'Signature Gold Dining Dining'})\n",
    "mcr = mcr.rename(columns={'SG\\nGolf Travel - Golf Benefits\\n\\nNo - no access\\n\\nCF - cart fee only\\n\\nFA - Fees Apply\\n\\nN/A for non golf clubs/partners\\n\\nFA-U - Fees Apply Unlimited': 'Signature Gold Golf Golf'})\n",
    "mcr = mcr.rename(columns={'SG\\nGolf Travel - Social & Athletic  Benefits\\n\\nNo - no access\\n\\nAccess': 'Signature Gold Golf Dining'})\n",
    "mcr = mcr.rename(columns={'SGU/ONE - Golf Benefits\\n\\nNo - no access\\n\\nCF - cart fee only \\n\\nFA - Fees apply\\n\\nN/A for non golf clubs/partners\\n\\nFA-U - Fees Apply Unlimited': 'Signature Gold Unlimited Golf'})\n",
    "mcr = mcr.rename(columns={'SGU - Social & Athletic Benefits\\n\\n\\nNo  - no access\\n\\nAccess - access only\\n\\nCD - Comp dining': 'Signature Gold Unlimited Dining'})\n",
    "mcr = mcr.rename(columns={'ClubCorp Travel - Golf Benefits\\n\\nNo - no access\\n\\nCF - cart fee only \\n\\nFA - Fees apply\\n\\nN/A for non golf clubs/partners\\n\\nFA-U - Fees Apply Unlimited': 'ClubCorp Travel Golf'})\n",
    "mcr = mcr.rename(columns={'ClubCorp Travel - Social & Athletic Benefits\\n\\n\\nNo  - no access\\n\\nAccess - access only\\n\\nCD - Comp dining': 'ClubCorp Travel Dining'})\n",
    "mcr = mcr.rename(columns={'Alumni Travel - Golf Benefits\\n\\nNo - no access\\n\\nCF - cart fee only \\n\\nFA - Fees apply\\n\\nN/A for non golf clubs/partners\\n\\nFA-U - Fees Apply Unlimited': 'Alumni Travel Golf'})\n",
    "mcr = mcr.rename(columns={'Alumni Travel - Social & Athletic Benefits\\n\\n\\nNo  - no access\\n\\nAccess - access only\\n\\nCD - Comp dining': 'Alumni Travel Dining'})\n",
    "mcr = mcr.rename(columns={'NCS & NCS Custom - Golf Benefits\\n\\nNo - no access\\n\\nCF - cart fee only \\n\\nFA - Fees apply\\n\\nN/A for non golf clubs/partners\\n\\nFA-U - Fees Apply Unlimited': 'NCS & NCS Custom Golf'})\n",
    "mcr = mcr.rename(columns={'NCS & NCS Custom - Social & Athletic Benefits\\n\\n\\nNo  - no access\\n\\nAccess - access only\\n\\nCD - Comp dining': 'NCS & NCS Custom Dining'})\n",
    "mcr = mcr.rename(columns={'EWGA - Golf Benefits\\n\\n(Golf club benefits only)\\n\\nNo - no access\\n\\nCF - cart fee only\\n\\nFA - Fees Apply\\n\\nN/A for non golf clubs/partners\\n\\nFA-U - Fees Apply Unlimited': 'EWGA Golf'})\n"
   ]
  },
  {
   "cell_type": "code",
   "execution_count": 6,
   "metadata": {},
   "outputs": [
    {
     "name": "stdout",
     "output_type": "stream",
     "text": [
      "[nan 'FA' 'No' 'FA - U' '0.5' 'Access']\n"
     ]
    }
   ],
   "source": [
    "print(mcr['Associate Plus Golf'].unique())"
   ]
  },
  {
   "cell_type": "markdown",
   "metadata": {},
   "source": [
    "<B>Extracting Useful Columns</B>"
   ]
  },
  {
   "cell_type": "code",
   "execution_count": 7,
   "metadata": {},
   "outputs": [
    {
     "data": {
      "text/plain": [
       "['Deal Maker',\n",
       " 'Contract or Launch\\nDate',\n",
       " 'Contract Term Date',\n",
       " 'Term Clauses',\n",
       " 'Status\\n\\n(Active or Divested)',\n",
       " 'Divested Date\\n(If applicable)',\n",
       " 'Grouping\\n\\n(ClubLink, Pacific Links, MM International, Canongate, Sequioa, etc) or N/A',\n",
       " 'Relationship\\n\\nAlliance, Owned, Managed, Community Only, SAGS, ClubCorp Virtual',\n",
       " 'BP, MP or Both',\n",
       " 'Base Benefits offered to their members:\\n\\nAssociate Bronze\\nAssociate Silver\\nAssociate Plus ClubBenefits\\nClubBenefits+\\nAG, SGG, SGU, SGU+\\nLegacy \\nCuston',\n",
       " 'If CB, does it include local access \\n\\nN/A\\nCB+\\n No\\n',\n",
       " 'ClubBenefits Member Type Used',\n",
       " 'Ability to Upgrade to SGU?\\n\\n\\nYes\\nNo\\nN/A',\n",
       " 'Marketing Communications\\n\\nStandard Emails = Emails\\n\\nMedia Packet = Media\\n\\nNone = None\\n\\nN/A = Benefit partner',\n",
       " \"For Alliance and SAGS \\nPartners:   \\n\\nAdd'l benefits offered to their members   \\n\\n(ie:  SGU plus Community or Society)\",\n",
       " 'For Alliance and SAGS Partners:  \\n\\nMagazines?\\n\\n(Yes, No, SGU Only)',\n",
       " 'For Alliance and SAGS Partners:  \\n\\nBulk Magazines to Club?\\n\\n(No or enter how many)',\n",
       " 'Charge Privileges Allowed for Their members visting Network Clubs?\\n\\n(Yes or No)\\n(N/A if BP partner only)',\n",
       " 'Charge Privileges Allowed for our Mbrs visiting this club \\n\\n(if Mbr has charge privileges)\\n\\n(Yes or No)',\n",
       " 'Payment by MemberCard Only, does not accept CC/C\\n\\n(N/A or Yes)',\n",
       " 'Club Accepts Credit Cards for Payment\\n\\n(Yes or MC/V only)',\n",
       " 'Club Accepts Cash for Payment',\n",
       " 'Reimbursement \\nRate\\n\\n(Rate, N/A, or No Reimbursements)',\n",
       " 'MbrCards\\n\\nNo\\n\\nAll\\n\\nSGU and Requests only',\n",
       " 'Intntl?',\n",
       " 'Benefits Finder Provider Type',\n",
       " 'Category',\n",
       " 'Public, Semi-Private,  or Private',\n",
       " 'Club Name',\n",
       " 'Entity Number',\n",
       " 'Community',\n",
       " 'Street Address',\n",
       " 'City',\n",
       " 'State',\n",
       " 'Zip',\n",
       " 'Market',\n",
       " 'Phone #\\n\\n(for golf clubs, enter the pro shop phone number)',\n",
       " 'Website',\n",
       " 'Offers Complimentary Benefits (Travel)?',\n",
       " 'Club Roster Availability for Traveling Members\\n\\n',\n",
       " 'Club\\nPass \\nPlus - Participates\\n(Comped  cart and green fee)\\n\\nParticipates - Yes or No for golf clubs\\n\\nN/A for non golf clubs/patners',\n",
       " 'Club\\nPass \\nElite -  Participates\\n(Comped cart and green fee)\\n\\nParticipates - Yes or No\\n\\nN/A for non golf clubs/patners',\n",
       " 'Club\\nPass \\nDine - Participates\\n(Comped Meals)\\n\\n\\nParticipates - Yes or No\\n\\nN/A for non business clubs/partners',\n",
       " 'ClubBenefits Golf',\n",
       " 'ClubBenefits Dining',\n",
       " 'Palmer Club Golf',\n",
       " 'Pacific Links Golf',\n",
       " 'Bronze Travel Golf',\n",
       " 'Bronze Travel Dining',\n",
       " 'Silver Travel Golf',\n",
       " 'Silver Travel Dining',\n",
       " 'Associate Alumni Golf',\n",
       " 'Associate Alumni Dining',\n",
       " 'Associate Plus Golf',\n",
       " 'Associate Plus Dining',\n",
       " 'Associate Gold Golf',\n",
       " 'Associate Gold Dining',\n",
       " 'Signature Gold Dining Golf',\n",
       " 'Signature Gold Dining Dining',\n",
       " 'Signature Gold Golf Golf',\n",
       " 'Signature Gold Golf Dining',\n",
       " 'Signature Gold Unlimited Golf',\n",
       " 'Signature Gold Unlimited Dining',\n",
       " 'ClubCorp Travel Golf',\n",
       " 'ClubCorp Travel Dining',\n",
       " 'Alumni Travel Golf',\n",
       " 'Alumni Travel Dining',\n",
       " 'NCS & NCS Custom Golf',\n",
       " 'NCS & NCS Custom Dining',\n",
       " 'EWGA Golf',\n",
       " 'Benefits Available Comments',\n",
       " 'General/\\nTraveling Benefits\\n\\nPreferred pricing\\n\\nPrivate Club Access\\n\\nSGU benefit provider',\n",
       " 'Local \\nBenefits for Society/ONE\\n\\nValue Added benefit provider\\n\\nPreferred pricing\\n\\nPreferred reservations\\n\\nPrivate club access',\n",
       " 'Value Added/My Community Golf Benefits Offered\\n\\nN/A\\n\\nSociety & Community:  Two cart fee only rounds per month\\n\\nSociety & Community:  Two 2-4-1 offers per month\\n\\nSociety & Community:  Access Fees Apply',\n",
       " 'Value Added/My Community Dining Benefits Offered\\n\\nN/A\\n\\nSociety & Community:  50% off two member meals per month\\n\\nSociety & Community:  One 2-4-1 offer per month\\n\\n\\n\\n',\n",
       " 'YEX Programming (Houston/Dallas)',\n",
       " 'NCS\\nLocal  Golf \\n\\nN/A\\n\\nNo access\\n\\nCF\\n\\nFA',\n",
       " 'NCS\\nLocal Dining/Athletic/Tennis/\\nPool Access\\n\\nN/A\\n\\nNo access\\n\\nAccess\\n\\n\\n\\n',\n",
       " 'NCS Custom\\nLocal  Golf \\n\\nN/A\\n\\nNo access\\n\\nCF\\n\\nFA',\n",
       " 'NCS Custom\\nLocal Dining/Athletic/Tennis/\\nPool Access\\n\\nN/A\\n\\nNo access\\n\\nAccess\\n\\n\\n\\n',\n",
       " 'Community Advance Tee Time \\n\\nSociety & Community:  48 hours\\n\\nSociety & Community:  72 hours\\n\\nSociety & Community:  7 day',\n",
       " 'Community Golf Availability Access \\n\\nSociety & Community:  space available\\n\\nCommunity:  Sunday Noon to Friday Noon\\n\\nSociety & Community:  Sunday Noon to Friday Noon',\n",
       " 'Community - Additional benefits\\n\\nSociety & Community: Tennis and Pool\\n\\nSociety & Community:  Athletic, Tennis,  and Pool\\n\\nSociety & Community: Tennis and Athletic',\n",
       " 'Notes - General',\n",
       " 'Number of Pools\\n\\nEnter #\\n',\n",
       " 'Athletic Facilities\\n\\nY/N or N/A for non club properties',\n",
       " 'Racquetsports Facilities?\\n\\nY/N',\n",
       " 'Number of Outdoor Tennis Courts',\n",
       " 'Number of Indoor Tennis Courts',\n",
       " 'Number of Racquet Ball Courts',\n",
       " 'Overnight Accommodations',\n",
       " 'Marina',\n",
       " 'Spa',\n",
       " 'Additional Amenities',\n",
       " 'Amenities Notes',\n",
       " 'Closed days - Operations\\n\\nOpen 7 days\\n\\nMonday\\n\\nTuesday',\n",
       " 'Total Number of Holes',\n",
       " 'Course Name',\n",
       " '# of Course Holes',\n",
       " 'Year Course Was Built',\n",
       " 'Course Designer ',\n",
       " 'Par',\n",
       " 'Yardage',\n",
       " 'Rating',\n",
       " 'Slope',\n",
       " 'Course Name.1',\n",
       " '# of Course Holes.1',\n",
       " 'Year Course Was Built.1',\n",
       " 'Course Designer .1',\n",
       " 'Par.1',\n",
       " 'Yardage.1',\n",
       " 'Rating.1',\n",
       " 'Slope.1',\n",
       " 'Course Name.2',\n",
       " '# of Course Holes.2',\n",
       " 'Year Course Was Built.2',\n",
       " 'Course Designer .2',\n",
       " 'Par.2',\n",
       " 'Yardage.2',\n",
       " 'Rating.2',\n",
       " 'Slope.2',\n",
       " 'Course Name.3',\n",
       " '# of Course Holes.3',\n",
       " 'Year Course Was Built.3',\n",
       " 'Course Designer .3',\n",
       " 'Par.3',\n",
       " 'Yardage.3',\n",
       " 'Rating.3',\n",
       " 'Slope.3',\n",
       " 'Course Name.4',\n",
       " '# of Course Holes.4',\n",
       " 'Year Course Was Built.4',\n",
       " 'Course Designer .4',\n",
       " 'Par.4',\n",
       " 'Yardage.4',\n",
       " 'Rating.4',\n",
       " 'Slope.4',\n",
       " 'Course Name.5',\n",
       " '# of Course Holes.5',\n",
       " 'Year Course Was Built.5',\n",
       " 'Course Designer .5',\n",
       " 'Par.5',\n",
       " 'Yardage.5',\n",
       " 'Rating.5',\n",
       " 'Slope.5']"
      ]
     },
     "execution_count": 7,
     "metadata": {},
     "output_type": "execute_result"
    }
   ],
   "source": [
    "list(mcr.columns)"
   ]
  },
  {
   "cell_type": "markdown",
   "metadata": {},
   "source": [
    "<B>Removing all the lines where entity code is not present</B2>"
   ]
  },
  {
   "cell_type": "code",
   "execution_count": 8,
   "metadata": {},
   "outputs": [],
   "source": [
    "mcr_short = mcr[~mcr['Entity Number'].isin(['nan','']) & ~mcr['Entity Number'].isnull()][['Entity Number','Club Name','Community',\\\n",
    "                                                    'ClubBenefits Golf',\\\n",
    "                                                    'ClubBenefits Dining',\\\n",
    "                                                    'Palmer Club Golf',\\\n",
    "                                                    'Pacific Links Golf',\\\n",
    "                                                    'Bronze Travel Golf',\\\n",
    "                                                    'Bronze Travel Dining',\\\n",
    "                                                    'Silver Travel Golf',\\\n",
    "                                                    'Silver Travel Dining',\\\n",
    "                                                    'Associate Alumni Golf',\\\n",
    "                                                    'Associate Alumni Dining',\\\n",
    "                                                    'Associate Plus Golf',\\\n",
    "                                                    'Associate Plus Dining',\\\n",
    "                                                    'Associate Gold Golf',\\\n",
    "                                                    'Associate Gold Dining',\\\n",
    "                                                    'Signature Gold Dining Golf',\\\n",
    "                                                    'Signature Gold Dining Dining',\\\n",
    "                                                    'Signature Gold Golf Golf',\\\n",
    "                                                    'Signature Gold Golf Dining',\\\n",
    "                                                    'Signature Gold Unlimited Golf',\\\n",
    "                                                    'Signature Gold Unlimited Dining',\\\n",
    "                                                    'ClubCorp Travel Golf',\\\n",
    "                                                    'ClubCorp Travel Dining',\\\n",
    "                                                    'Alumni Travel Golf',\\\n",
    "                                                    'Alumni Travel Dining',\\\n",
    "                                                    'NCS & NCS Custom Golf',\\\n",
    "                                                    'NCS & NCS Custom Dining',\\\n",
    "                                                    'EWGA Golf'\\\n",
    "                                                ]]"
   ]
  },
  {
   "cell_type": "markdown",
   "metadata": {},
   "source": [
    "<B>Replace leading 9 by 0 in Entity Number</B>"
   ]
  },
  {
   "cell_type": "code",
   "execution_count": 9,
   "metadata": {},
   "outputs": [
    {
     "name": "stdout",
     "output_type": "stream",
     "text": [
      "1183\n",
      "628\n"
     ]
    }
   ],
   "source": [
    "print(len(mcr.index))\n",
    "print(len(mcr_short.index))\n",
    "\n",
    "pat = r'^9'\n",
    "mcr_short['Entity Number'] = mcr_short['Entity Number'].str.replace(pat, '0')"
   ]
  },
  {
   "cell_type": "code",
   "execution_count": 10,
   "metadata": {},
   "outputs": [],
   "source": [
    "# Make entity code 5 digits\n",
    "mcr_short['Entity Number'] = mcr_short['Entity Number'].apply(lambda x: str(x).zfill(5))"
   ]
  },
  {
   "cell_type": "code",
   "execution_count": 11,
   "metadata": {},
   "outputs": [],
   "source": [
    "## Spliting column \"NCS and NCS Custom\" into two : \"NCS\" and \"NCS Custom\"\n",
    "## then driping the column \"NCS and NCS Custom\"\n",
    "\n",
    "mcr_short['NCS Golf'] = mcr_short['NCS & NCS Custom Golf']\n",
    "mcr_short['NCS Custom Golf'] = mcr_short['NCS & NCS Custom Golf']\n",
    "mcr_short['NCS Dining'] = mcr_short['NCS & NCS Custom Dining']\n",
    "mcr_short['NCS Custom Dining'] = mcr_short['NCS & NCS Custom Dining']\n",
    "\n",
    "mcr_short = mcr_short.drop(\"NCS & NCS Custom Golf\", axis=1)\n",
    "mcr_short = mcr_short.drop(\"NCS & NCS Custom Dining\", axis=1)"
   ]
  },
  {
   "cell_type": "code",
   "execution_count": 12,
   "metadata": {},
   "outputs": [],
   "source": [
    "## Creating new Benefit Tier \"Signature Gold Spouse Golf\"\n",
    "## copying columns \"Signature Gold Golf Golf\" and \"Signature Gold Golf Dining\"\n",
    "## and renaming column value \"CF\" as \"CF Spouse\"\n",
    "\n",
    "mcr_short['Signature Gold Spouse Golf Golf'] = mcr_short['Signature Gold Golf Golf']\n",
    "mcr_short['Signature Gold Spouse Golf Dining'] = mcr_short['Signature Gold Golf Dining']\n",
    "\n",
    "mcr_short['Signature Gold Spouse Golf Golf'] = mcr_short['Signature Gold Spouse Golf Golf'].replace(\"CF\", \"CF Spouse\") \n",
    "\n",
    "## Creating new Benefit Tier \"Signature Gold Spouse Unlimited\"\n",
    "## copying columns \"Signature Gold Unlimited Golf\" and \"Signature Gold Unlimited Dining\"\n",
    "## and renaming column value \"CF\" as \"CF Spouse\"\n",
    "mcr_short['Signature Gold Spouse Unlimited Golf'] = mcr_short['Signature Gold Unlimited Golf']\n",
    "mcr_short['Signature Gold Spouse Unlimited Dining'] = mcr_short['Signature Gold Unlimited Dining']\n",
    "\n",
    "mcr_short['Signature Gold Spouse Unlimited Golf'] = mcr_short['Signature Gold Spouse Unlimited Golf'].replace(\"CF\", \"CF Spouse\") "
   ]
  },
  {
   "cell_type": "code",
   "execution_count": 13,
   "metadata": {},
   "outputs": [],
   "source": [
    "## Replacing \"0.5\" by \"50% off\" for \"Associate Plus Golf\" Column\n",
    "mcr_short[\"Associate Plus Golf\"]= mcr_short[\"Associate Plus Golf\"].replace(\"0.5\", \"50% off\") "
   ]
  },
  {
   "cell_type": "code",
   "execution_count": 14,
   "metadata": {},
   "outputs": [],
   "source": [
    "mcr_short.to_csv(\"output/travel_benefit_cleansed.csv\", index=False)"
   ]
  },
  {
   "cell_type": "code",
   "execution_count": 15,
   "metadata": {},
   "outputs": [
    {
     "name": "stdout",
     "output_type": "stream",
     "text": [
      "Travel benefit file generated\n"
     ]
    }
   ],
   "source": [
    "print(\"Travel benefit file generated\")"
   ]
  },
  {
   "cell_type": "code",
   "execution_count": null,
   "metadata": {},
   "outputs": [],
   "source": []
  }
 ],
 "metadata": {
  "kernelspec": {
   "display_name": "Python 3",
   "language": "python",
   "name": "python3"
  },
  "language_info": {
   "codemirror_mode": {
    "name": "ipython",
    "version": 3
   },
   "file_extension": ".py",
   "mimetype": "text/x-python",
   "name": "python",
   "nbconvert_exporter": "python",
   "pygments_lexer": "ipython3",
   "version": "3.6.9"
  }
 },
 "nbformat": 4,
 "nbformat_minor": 2
}
