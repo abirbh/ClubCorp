{
 "cells": [
  {
   "cell_type": "markdown",
   "metadata": {},
   "source": [
    "<H2>Benefit Contract Data Generation</b>"
   ]
  },
  {
   "cell_type": "code",
   "execution_count": 35,
   "metadata": {},
   "outputs": [],
   "source": [
    "import pandas as pd\n",
    "import sqlite3\n",
    "import re\n",
    "import hashlib"
   ]
  },
  {
   "cell_type": "markdown",
   "metadata": {},
   "source": [
    "<b>Read membership data from Reltio export</b>"
   ]
  },
  {
   "cell_type": "code",
   "execution_count": 36,
   "metadata": {},
   "outputs": [],
   "source": [
    "community_benefit_contract_old_df = pd.read_csv(\"output/travel_access_rule_and_club_option2_old.csv\", dtype=str)\n",
    "\n",
    "community_benefit_contract_df = pd.read_csv(\"output/travel_access_rule_and_club_option2.csv\", dtype=str)"
   ]
  },
  {
   "cell_type": "code",
   "execution_count": 37,
   "metadata": {},
   "outputs": [],
   "source": [
    "#Saving the files in DataBase\n",
    "conn = sqlite3.connect(\"travelBenefit.db\")\n",
    "cur = conn.cursor()\n",
    "community_benefit_contract_old_df.to_sql(\"AccessRuleClub_old\", conn, if_exists=\"replace\")\n",
    "community_benefit_contract_df.to_sql(\"AccessRuleClub\", conn, if_exists=\"replace\")\n"
   ]
  },
  {
   "cell_type": "code",
   "execution_count": 38,
   "metadata": {},
   "outputs": [],
   "source": [
    "query_requiredDeletion = 'select benefit_id,access_rule_id,entity_code,Type from AccessRuleClub_old Except select benefit_id,access_rule_id,entity_code,Type from AccessRuleClub'\n",
    "\n",
    "query_requiredAddition = 'select benefit_id,access_rule_id,entity_code,Type from AccessRuleClub Except select benefit_id,access_rule_id,entity_code,Type from AccessRuleClub_old'"
   ]
  },
  {
   "cell_type": "code",
   "execution_count": 39,
   "metadata": {},
   "outputs": [],
   "source": [
    "requiredDeletion = pd.read_sql_query(query_requiredDeletion, conn)\n",
    "requiredDeletion.to_csv(\"output/Deleted_AccessRuleClub.csv\",index=False)\n",
    "\n",
    "requiredAddition = pd.read_sql_query(query_requiredAddition, conn)\n",
    "requiredAddition.to_csv(\"output/Added_AccessRuleClub.csv\",index=False)"
   ]
  }
 ],
 "metadata": {
  "kernelspec": {
   "display_name": "Python 3",
   "language": "python",
   "name": "python3"
  },
  "language_info": {
   "codemirror_mode": {
    "name": "ipython",
    "version": 3
   },
   "file_extension": ".py",
   "mimetype": "text/x-python",
   "name": "python",
   "nbconvert_exporter": "python",
   "pygments_lexer": "ipython3",
   "version": "3.5.5"
  }
 },
 "nbformat": 4,
 "nbformat_minor": 2
}
