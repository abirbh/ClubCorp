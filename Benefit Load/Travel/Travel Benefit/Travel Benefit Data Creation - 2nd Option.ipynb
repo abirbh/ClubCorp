{
 "cells": [
  {
   "cell_type": "code",
   "execution_count": 72,
   "metadata": {},
   "outputs": [],
   "source": [
    "import pandas as pd\n",
    "import re\n",
    "import hashlib\n",
    "import sqlite3"
   ]
  },
  {
   "cell_type": "code",
   "execution_count": 73,
   "metadata": {},
   "outputs": [],
   "source": [
    "travel_benefit = pd.read_csv(\"output/travel_benefit_cleansed.csv\", dtype=str)"
   ]
  },
  {
   "cell_type": "code",
   "execution_count": 74,
   "metadata": {},
   "outputs": [],
   "source": [
    "# Following operations are performed\n",
    "# (1) Trim (2) Convert to lower (c) Replace consequitive white space characters with underscore (_)\n",
    "\n",
    "pattern = re.compile(r'\\s+')\n",
    "def generateIdBasedOnHash(text):\n",
    "    normalized_text = text.strip().lower()\n",
    "    normalized_text = re.sub(pattern, '_', normalized_text)\n",
    "    return str(hashlib.md5(normalized_text.encode('utf-8')).hexdigest())"
   ]
  },
  {
   "cell_type": "code",
   "execution_count": 75,
   "metadata": {},
   "outputs": [
    {
     "data": {
      "text/plain": [
       "'1e601c901923aca854386c45ba831a32'"
      ]
     },
     "execution_count": 75,
     "metadata": {},
     "output_type": "execute_result"
    }
   ],
   "source": [
    "generateIdBasedOnHash('BIKASH' + \"|\" + \"Anindya\")"
   ]
  },
  {
   "cell_type": "code",
   "execution_count": 76,
   "metadata": {},
   "outputs": [],
   "source": [
    "benefit_package_set = set()\n",
    "benefit_set = set()\n",
    "access_rule_set = set()\n",
    "access_rule_club_set = set()\n",
    "columns = list(travel_benefit.columns)\n",
    "for item in columns[3:]:\n",
    "    \n",
    "    benefit_package_name = item.rsplit(' ', 1)[0]\n",
    "    benefit_package_name = benefit_package_name.strip().upper()\n",
    "    benefit_package_id = generateIdBasedOnHash(benefit_package_name)\n",
    "    benefit_package_set.update([(benefit_package_id,benefit_package_name)])\n",
    "    \n",
    "    benefit_name = item.strip()\n",
    "    access_rules = list(travel_benefit[benefit_name].dropna().unique())\n",
    "    benefit_name = item.strip().upper()\n",
    "    access_rules.remove('No')\n",
    "    for access_rule_unmodified in access_rules:\n",
    "        access_rule = access_rule_unmodified.strip().upper()\n",
    "        benefit_id = generateIdBasedOnHash(benefit_package_name + \"|\" + benefit_name + \"|\" + access_rule + \"hash\")\n",
    "        benefit_type = benefit_name.split()[-1]\n",
    "        #benefit_set.update([(benefit_package_id, benefit_id, benefit_name, benefit_name + \" - \"+ access_rule, benefit_type, access_rule,max_usage_type[access_rule])])\n",
    "        benefit_set.update([(benefit_package_id, benefit_id, benefit_name, benefit_name + \" - \"+ access_rule, benefit_type, access_rule)])\n",
    "        access_rule_id = generateIdBasedOnHash(benefit_package_name + \"|\" + benefit_name + \"|\" + access_rule)\n",
    "        access_rule_set.update([(benefit_id, benefit_name, access_rule_id, access_rule)])\n",
    "        clubs = travel_benefit['Entity Number'][travel_benefit[item] == access_rule_unmodified]\n",
    "            \n",
    "        for club in clubs:\n",
    "            access_rule_club_set.update([(benefit_id, access_rule_id, club, benefit_type )])"
   ]
  },
  {
   "cell_type": "code",
   "execution_count": 77,
   "metadata": {},
   "outputs": [],
   "source": [
    "benefit_package_df = pd.DataFrame(list(benefit_package_set), columns = ['benefit_package_id', 'BenefitPackageName'])\n",
    "#benefit_df = pd.DataFrame(list(benefit_set), columns = ['benefit_package_id', 'benefit_id','TravelBenefitName','BenefitName','Type','BenefitParameter', 'MaxUsageType'])\n",
    "benefit_df = pd.DataFrame(list(benefit_set), columns = ['benefit_package_id', 'benefit_id','TravelBenefitName','BenefitName','Type','BenefitParameter'])\n",
    "access_rule_df = pd.DataFrame(list(access_rule_set), columns = ['benefit_id','BenefitName','access_rule_id','AccessRuleName'])\n",
    "access_rule_club_df = pd.DataFrame(list(access_rule_club_set), columns = ['benefit_id', 'access_rule_id', 'entity_code', 'Type'])"
   ]
  },
  {
   "cell_type": "markdown",
   "metadata": {},
   "source": [
    "<B>Sort the Data Frames</B>"
   ]
  },
  {
   "cell_type": "code",
   "execution_count": 78,
   "metadata": {},
   "outputs": [],
   "source": [
    "benefit_package_df = benefit_package_df.sort_values('BenefitPackageName')\n",
    "benefit_df = benefit_df.sort_values('BenefitName')\n",
    "#benefit_df['Type'] = benefit_df['BenefitName'].str.split().str[-1]\n",
    "access_rule_df = access_rule_df.sort_values(['BenefitName','AccessRuleName'])\n",
    "access_rule_club_df = access_rule_club_df.sort_values('access_rule_id')"
   ]
  },
  {
   "cell_type": "markdown",
   "metadata": {},
   "source": [
    "<B>Save Files</B>"
   ]
  },
  {
   "cell_type": "code",
   "execution_count": 79,
   "metadata": {},
   "outputs": [],
   "source": [
    "benefit_package_df.to_csv(\"output\\\\travel_benefit_package_option2.csv\", index=False)\n",
    "benefit_df.to_csv(\"output\\\\travel_benefit_option2.csv\", index=False)\n",
    "access_rule_df.to_csv(\"output\\\\travel_access_rule_option2.csv\", index=False)\n",
    "access_rule_club_df.to_csv(\"output\\\\travel_access_rule_and_club_option2.csv\", index=False)"
   ]
  },
  {
   "cell_type": "code",
   "execution_count": 80,
   "metadata": {},
   "outputs": [],
   "source": [
    "max_usage_metadata_df = pd.read_csv(\"datasets/metadata/travel_benefit_max_usage_meta_data.csv\")\n",
    "advance_metadata_df = pd.read_csv(\"datasets/metadata/travel_benefit_advance_meta_data.csv\")\n",
    "\n",
    "conn = sqlite3.connect(\"travelBenefit.db\")\n",
    "cur = conn.cursor()\n",
    "benefit_df.to_sql(\"travelBenefit\", conn, if_exists=\"replace\")\n",
    "max_usage_metadata_df.to_sql(\"maxUsageMetadata\", conn, if_exists=\"replace\")\n",
    "advance_metadata_df.to_sql(\"advanceMetadata\", conn, if_exists=\"replace\")"
   ]
  },
  {
   "cell_type": "code",
   "execution_count": 81,
   "metadata": {},
   "outputs": [],
   "source": [
    "query = \"\"\"select travelBenefit.benefit_package_id,\n",
    "         travelBenefit.benefit_id,\n",
    "         travelBenefit.TravelBenefitName,\n",
    "         travelBenefit.BenefitName,\n",
    "         travelBenefit.Type,\n",
    "         travelBenefit.BenefitParameter,\n",
    "         maxUsageMetadata.UsageType,\n",
    "         maxUsageMetadata.IsQuantityUnlimited,\n",
    "         maxUsageMetadata.Quantity,\n",
    "         maxUsageMetadata.Period,\n",
    "         maxUsageMetadata.Scope,\n",
    "         maxUsageMetadata.MaxPerClub,\n",
    "         advanceMetadata.Prompt,\n",
    "         advanceMetadata.PromptScope,\n",
    "         advanceMetadata.DefaultValue\n",
    "         from travelBenefit\n",
    "         left join advanceMetadata on trim(upper(advanceMetadata.benefit)) = trim(upper(travelBenefit.TravelBenefitName))\n",
    "         left join maxUsageMetadata on trim(upper(maxUsageMetadata.KeyColumn)) = trim(upper(travelBenefit.BenefitParameter))\"\"\"\n",
    "\n",
    "rs_benefit = pd.read_sql_query(query, conn)\n",
    "\n",
    "#mask = (rs_benefit.TravelBenefitName.str =='Signature Gold Spouse Unlimited Golf' & rs_benefit.UsageType.str =='CFO') | (rs_benefit.TravelBenefitName.str =='Signature Gold Spouse Golf' & rs_benefit.UsageType.str =='CFO')\n",
    "mask = (rs_benefit.UsageType =='CFO') & ((rs_benefit.TravelBenefitName =='Signature Gold Spouse Unlimited Golf')|(rs_benefit.TravelBenefitName =='Signature Gold Spouse Golf'))\n",
    "rs_benefit.loc[mask, 'Quantity'] = 4\n"
   ]
  },
  {
   "cell_type": "code",
   "execution_count": 82,
   "metadata": {},
   "outputs": [],
   "source": [
    "rs_benefit.to_csv(\"output/travel_benefit_option2_withAllValues.csv\",index=False)\n",
    "conn.execute(\"DROP TABLE travelBenefit\")\n",
    "conn.execute(\"DROP TABLE maxUsageMetadata\")\n",
    "conn.execute(\"DROP TABLE advanceMetadata\")\n",
    "cur.close()\n",
    "conn.close()"
   ]
  }
 ],
 "metadata": {
  "kernelspec": {
   "display_name": "Python 3",
   "language": "python",
   "name": "python3"
  },
  "language_info": {
   "codemirror_mode": {
    "name": "ipython",
    "version": 3
   },
   "file_extension": ".py",
   "mimetype": "text/x-python",
   "name": "python",
   "nbconvert_exporter": "python",
   "pygments_lexer": "ipython3",
   "version": "3.5.5"
  }
 },
 "nbformat": 4,
 "nbformat_minor": 2
}
