{
 "cells": [
  {
   "cell_type": "code",
   "execution_count": 13,
   "metadata": {},
   "outputs": [],
   "source": [
    "import pandas as pd\n",
    "import os\n",
    "import json\n",
    "import numpy as np\n",
    "import re"
   ]
  },
  {
   "cell_type": "code",
   "execution_count": 14,
   "metadata": {},
   "outputs": [],
   "source": [
    "## reading the Survey File\n",
    "#surveyData = pd.read_csv(\"C:\\Projects\\MSS\\Loading _AmenityData_from_Survey\\Test.csv\",sep=\",\" , skiprows=1)\n",
    "surveyData = pd.read_csv(\"C:\\Projects\\MSS\\Loading _AmenityData_from_Survey\\AmenityClubSurvey FINAL v2 Season Cleaned_deletedFirstTwoColumn.csv\",sep=\",\" , skiprows=1, keep_default_na=False)\n",
    "surveyData.head()\n",
    "\n",
    "## Reading the Config File and Extracting the Information from there\n",
    "config_file = open(\"C:\\Projects\\MSS\\Loading _AmenityData_from_Survey\\Python_Codes\\ClubCorp\\GolfSimulator\\GolfSimulatorColMapping.json\")\n",
    "GolfSimulator_config = json.load(config_file)\n",
    "\n",
    "columnName = \"\""
   ]
  },
  {
   "cell_type": "code",
   "execution_count": 15,
   "metadata": {},
   "outputs": [],
   "source": [
    "def determineBooleanValues (dataFrame):\n",
    "    val = False\n",
    "    if pd.notnull(dataFrame[columnName]) :\n",
    "        if dataFrame[columnName] == columnName:\n",
    "            val = True\n",
    "    return val"
   ]
  },
  {
   "cell_type": "code",
   "execution_count": 16,
   "metadata": {
    "scrolled": true
   },
   "outputs": [],
   "source": [
    "## Getting the output File name\n",
    "output_fileName = GolfSimulator_config['outputFileName']\n",
    "\n",
    "\n",
    "all_column_names = []\n",
    "GolfSimulator_related_column_names = []\n",
    "\n",
    "columnIndexForGolfSimulator = []\n",
    "\n",
    "common_column_count = len(GolfSimulator_config['CommonColumn'])\n",
    "\n",
    "for i in range(0, common_column_count):\n",
    "    columnIndexForGolfSimulator.append(GolfSimulator_config['CommonColumn'][i]['columnIndex'])\n",
    "    all_column_names.append(GolfSimulator_config['CommonColumn'][i]['outputColumnName'])\n",
    "\n",
    "GolfSimulator_column_count = len(GolfSimulator_config['GolfSimulatorRelatedColumn'])\n",
    "\n",
    "for j in range(0, GolfSimulator_column_count):\n",
    "    columnIndexForGolfSimulator.append(GolfSimulator_config['GolfSimulatorRelatedColumn'][j]['columnIndex'])\n",
    "    all_column_names.append(GolfSimulator_config['GolfSimulatorRelatedColumn'][j]['outputColumnName'])\n",
    "    GolfSimulator_related_column_names.append(GolfSimulator_config['GolfSimulatorRelatedColumn'][j]['outputColumnName'])\n",
    "\n",
    "## Data for GolfSimulator\n",
    "GolfSimulator = surveyData.iloc[:, columnIndexForGolfSimulator]\n",
    "GolfSimulator.columns = all_column_names\n",
    "\n",
    "\n",
    "filterCondition  = GolfSimulator['GolfSimulatorConditionColumn'] != 'N/A'\n",
    "\n",
    "clubsNotHavingGolfSimulator = GolfSimulator[~filterCondition]\n",
    "\n",
    "clubsNotHavingGolfSimulator.to_csv(\"C:/Projects/MSS/Loading _AmenityData_from_Survey/Python_Codes/ClubCorp/GolfSimulator/GolfSimulator_ClubsNotHaving.csv\")\n",
    "\n",
    "\n",
    "\n",
    "GolfSimulator = GolfSimulator[filterCondition]\n",
    "\n",
    "GolfSimulator['Index']=1\n",
    "GolfSimulator['Status'] = 'Active'\n",
    "GolfSimulator['Type'] = 'Virtual Golf'\n",
    "GolfSimulator['Name'] = 'Golf Lounge'\n",
    "\n",
    "for x  in GolfSimulator_related_column_names:\n",
    "    columnName = x\n",
    "    GolfSimulator[columnName + '_Boolean'] = GolfSimulator.apply(determineBooleanValues, axis=1)\n",
    "\n",
    "\n",
    "GolfSimulator.to_csv(\"C:/Projects/MSS/Loading _AmenityData_from_Survey/Python_Codes/ClubCorp/GolfSimulator/\" + output_fileName)"
   ]
  }
 ],
 "metadata": {
  "kernelspec": {
   "display_name": "Python 3",
   "language": "python",
   "name": "python3"
  },
  "language_info": {
   "codemirror_mode": {
    "name": "ipython",
    "version": 3
   },
   "file_extension": ".py",
   "mimetype": "text/x-python",
   "name": "python",
   "nbconvert_exporter": "python",
   "pygments_lexer": "ipython3",
   "version": "3.5.5"
  }
 },
 "nbformat": 4,
 "nbformat_minor": 2
}
