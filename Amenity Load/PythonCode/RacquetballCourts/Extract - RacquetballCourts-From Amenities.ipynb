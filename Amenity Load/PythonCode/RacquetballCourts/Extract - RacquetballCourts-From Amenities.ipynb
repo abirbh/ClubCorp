{
 "cells": [
  {
   "cell_type": "code",
   "execution_count": 9,
   "metadata": {},
   "outputs": [],
   "source": [
    "import pandas as pd\n",
    "import os\n",
    "import json\n",
    "import numpy as np\n",
    "import re"
   ]
  },
  {
   "cell_type": "code",
   "execution_count": 10,
   "metadata": {},
   "outputs": [],
   "source": [
    "## reading the Survey File\n",
    "#surveyData = pd.read_csv(\"C:\\Projects\\MSS\\Loading _AmenityData_from_Survey\\Test.csv\",sep=\",\" , skiprows=1)\n",
    "surveyData = pd.read_csv(\"C:\\project\\snaplogic\\MSS\\Amenities\\AmenityClubSurvey FINAL v2 Season Cleaned_deletedFirstTwoColumn.csv\",sep=\",\" , skiprows=1)\n",
    "surveyData.head()\n",
    "\n",
    "## Reading the Config File and Extracting the Information from there\n",
    "config_file = open(\"C:\\project\\snaplogic\\MSS\\Amenities\\ClubCorp\\RacquetballCourts\\RacquetballCourtsColMapping.json\")\n",
    "RacquettballCourts_config = json.load(config_file)\n",
    "\n",
    "columnName = \"\""
   ]
  },
  {
   "cell_type": "code",
   "execution_count": 11,
   "metadata": {},
   "outputs": [],
   "source": [
    "def addToDayTimeMap (phonebook, key, value):\n",
    "    if key in phonebook:\n",
    "        x =  phonebook[key]\n",
    "        phonebook[key] = x + \",\" + value\n",
    "        \n",
    "    else :\n",
    "        phonebook[key] = value"
   ]
  },
  {
   "cell_type": "code",
   "execution_count": 12,
   "metadata": {
    "scrolled": true
   },
   "outputs": [],
   "source": [
    "## Getting the output File name\n",
    "output_fileName = RacquettballCourts_config['outputFileName']\n",
    "\n",
    "\n",
    "all_column_names = []\n",
    "RacquettballCourts_related_column_names = []\n",
    "\n",
    "columnIndexForRacquettballCourts = []\n",
    "\n",
    "common_column_count = len(RacquettballCourts_config['CommonColumn'])\n",
    "\n",
    "for i in range(0, common_column_count):\n",
    "    columnIndexForRacquettballCourts.append(RacquettballCourts_config['CommonColumn'][i]['columnIndex'])\n",
    "    all_column_names.append(RacquettballCourts_config['CommonColumn'][i]['outputColumnName'])\n",
    "\n",
    "RacquettballCourts_column_count = len(RacquettballCourts_config['RacquetballCourtsRelatedColumn'])\n",
    "\n",
    "for j in range(0, RacquettballCourts_column_count):\n",
    "    columnIndexForRacquettballCourts.append(RacquettballCourts_config['RacquetballCourtsRelatedColumn'][j]['columnIndex'])\n",
    "    all_column_names.append(RacquettballCourts_config['RacquetballCourtsRelatedColumn'][j]['outputColumnName'])\n",
    "    RacquettballCourts_related_column_names.append(RacquettballCourts_config['RacquetballCourtsRelatedColumn'][j]['outputColumnName'])\n",
    "   \n",
    "\n",
    "## Data for RacquettballCourts\n",
    "RacquettballCourts = surveyData.iloc[:, columnIndexForRacquettballCourts]\n",
    "RacquettballCourts.columns = all_column_names\n",
    "\n",
    "filterCondition = RacquettballCourts[\"Number of Racquetball courts\"]>0\n",
    "\n",
    "clubsNotHavingRacquettballCourts = RacquettballCourts[~filterCondition]\n",
    "\n",
    "clubsNotHavingRacquettballCourts.to_csv(\"C:/project/snaplogic/MSS/Amenities/ClubCorp/RacquetballCourts/RacquetballCourts_ClubsNotHaving.csv\")\n",
    "\n",
    "RacquettballCourts = RacquettballCourts[filterCondition]\n",
    "  \n",
    "RacquettballCourts['Index']=1\n",
    "\n",
    "RacquettballCourts['Status'] = 'Active'\n",
    "RacquettballCourts['Type'] = 'Tennis & Racquet Sports'\n",
    "RacquettballCourts['Name'] = 'Racquetball Courts'\n",
    "\n",
    "\n",
    "RacquettballCourts.to_csv(\"C:/project/snaplogic/MSS/Amenities/\" + output_fileName)"
   ]
  }
 ],
 "metadata": {
  "kernelspec": {
   "display_name": "Python 3",
   "language": "python",
   "name": "python3"
  },
  "language_info": {
   "codemirror_mode": {
    "name": "ipython",
    "version": 3
   },
   "file_extension": ".py",
   "mimetype": "text/x-python",
   "name": "python",
   "nbconvert_exporter": "python",
   "pygments_lexer": "ipython3",
   "version": "3.5.5"
  }
 },
 "nbformat": 4,
 "nbformat_minor": 2
}
