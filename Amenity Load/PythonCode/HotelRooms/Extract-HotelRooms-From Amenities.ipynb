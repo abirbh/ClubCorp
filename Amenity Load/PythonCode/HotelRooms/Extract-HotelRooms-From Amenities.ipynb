{
 "cells": [
  {
   "cell_type": "code",
   "execution_count": 1,
   "metadata": {},
   "outputs": [],
   "source": [
    "import pandas as pd\n",
    "import os\n",
    "import json\n",
    "import numpy as np\n",
    "import re"
   ]
  },
  {
   "cell_type": "code",
   "execution_count": 2,
   "metadata": {},
   "outputs": [],
   "source": [
    "## reading the Survey File\n",
    "#surveyData = pd.read_csv(\"C:\\Projects\\MSS\\Loading _AmenityData_from_Survey\\Test.csv\",sep=\",\" , skiprows=1)\n",
    "surveyData = pd.read_csv(\"C:\\Projects\\MSS\\Loading _AmenityData_from_Survey\\AmenityClubSurvey FINAL v2 Season Cleaned_deletedFirstTwoColumn.csv\",sep=\",\" , skiprows=1, keep_default_na=False)\n",
    "surveyData.head()\n",
    "\n",
    "## Reading the Config File and Extracting the Information from there\n",
    "config_file = open(\"C:\\Projects\\MSS\\Loading _AmenityData_from_Survey\\Python_Codes\\ClubCorp\\HotelRooms\\HotelRoomsColMapping.json\")\n",
    "Sauna_config = json.load(config_file)\n",
    "\n",
    "columnName = \"\""
   ]
  },
  {
   "cell_type": "code",
   "execution_count": 3,
   "metadata": {},
   "outputs": [],
   "source": [
    "def determineBooleanValues (dataFrame):\n",
    "    val = False\n",
    "    if pd.notnull(dataFrame[columnName]) :\n",
    "        if dataFrame[columnName] == columnName:\n",
    "            val = True\n",
    "    return val"
   ]
  },
  {
   "cell_type": "code",
   "execution_count": 4,
   "metadata": {
    "scrolled": true
   },
   "outputs": [
    {
     "name": "stderr",
     "output_type": "stream",
     "text": [
      "C:\\Users\\akk\\Anaconda3\\envs\\tensorflow\\lib\\site-packages\\ipykernel_launcher.py:28: SettingWithCopyWarning: \n",
      "A value is trying to be set on a copy of a slice from a DataFrame.\n",
      "Try using .loc[row_indexer,col_indexer] = value instead\n",
      "\n",
      "See the caveats in the documentation: http://pandas.pydata.org/pandas-docs/stable/indexing.html#indexing-view-versus-copy\n",
      "C:\\Users\\akk\\Anaconda3\\envs\\tensorflow\\lib\\site-packages\\ipykernel_launcher.py:29: SettingWithCopyWarning: \n",
      "A value is trying to be set on a copy of a slice from a DataFrame.\n",
      "Try using .loc[row_indexer,col_indexer] = value instead\n",
      "\n",
      "See the caveats in the documentation: http://pandas.pydata.org/pandas-docs/stable/indexing.html#indexing-view-versus-copy\n",
      "C:\\Users\\akk\\Anaconda3\\envs\\tensorflow\\lib\\site-packages\\ipykernel_launcher.py:30: SettingWithCopyWarning: \n",
      "A value is trying to be set on a copy of a slice from a DataFrame.\n",
      "Try using .loc[row_indexer,col_indexer] = value instead\n",
      "\n",
      "See the caveats in the documentation: http://pandas.pydata.org/pandas-docs/stable/indexing.html#indexing-view-versus-copy\n",
      "C:\\Users\\akk\\Anaconda3\\envs\\tensorflow\\lib\\site-packages\\ipykernel_launcher.py:31: SettingWithCopyWarning: \n",
      "A value is trying to be set on a copy of a slice from a DataFrame.\n",
      "Try using .loc[row_indexer,col_indexer] = value instead\n",
      "\n",
      "See the caveats in the documentation: http://pandas.pydata.org/pandas-docs/stable/indexing.html#indexing-view-versus-copy\n",
      "C:\\Users\\akk\\Anaconda3\\envs\\tensorflow\\lib\\site-packages\\ipykernel_launcher.py:35: SettingWithCopyWarning: \n",
      "A value is trying to be set on a copy of a slice from a DataFrame.\n",
      "Try using .loc[row_indexer,col_indexer] = value instead\n",
      "\n",
      "See the caveats in the documentation: http://pandas.pydata.org/pandas-docs/stable/indexing.html#indexing-view-versus-copy\n"
     ]
    }
   ],
   "source": [
    "## Getting the output File name\n",
    "output_fileName = Sauna_config['outputFileName']\n",
    "\n",
    "\n",
    "all_column_names = []\n",
    "Sauna_related_column_names = []\n",
    "\n",
    "columnIndexForSauna = []\n",
    "\n",
    "common_column_count = len(Sauna_config['CommonColumn'])\n",
    "\n",
    "for i in range(0, common_column_count):\n",
    "    columnIndexForSauna.append(Sauna_config['CommonColumn'][i]['columnIndex'])\n",
    "    all_column_names.append(Sauna_config['CommonColumn'][i]['outputColumnName'])\n",
    "\n",
    "Sauna_column_count = len(Sauna_config['HotelRoomsRelatedColumn'])\n",
    "\n",
    "for j in range(0, Sauna_column_count):\n",
    "    columnIndexForSauna.append(Sauna_config['HotelRoomsRelatedColumn'][j]['columnIndex'])\n",
    "    all_column_names.append(Sauna_config['HotelRoomsRelatedColumn'][j]['outputColumnName'])\n",
    "    Sauna_related_column_names.append(Sauna_config['HotelRoomsRelatedColumn'][j]['outputColumnName'])\n",
    "\n",
    "\n",
    "## Data for Sauna\n",
    "Sauna = surveyData.iloc[:, columnIndexForSauna]\n",
    "Sauna.columns = all_column_names\n",
    "\n",
    "Sauna['Index']=1\n",
    "Sauna['Status'] = 'Active'\n",
    "Sauna['Type'] = 'Overnight Stays'\n",
    "Sauna['Name'] = 'Hotel Rooms'\n",
    "\n",
    "for x  in Sauna_related_column_names:\n",
    "    columnName = x\n",
    "    Sauna[columnName + '_Boolean'] = Sauna.apply(determineBooleanValues, axis=1)\n",
    "    \n",
    "filterCondition  = Sauna['Hotel Rooms_Boolean']\n",
    "\n",
    "clubsNotHavingFitnessCenter = Sauna[filterCondition]\n",
    "\n",
    "clubsNotHavingFitnessCenter.to_csv(\"C:/Projects/MSS/Loading _AmenityData_from_Survey/Python_Codes/ClubCorp/HotelRooms/HotelRooms_ClubsNotHaving.csv\")\n",
    "\n",
    "Sauna = Sauna[filterCondition]\n",
    "\n",
    "\n",
    "\n",
    "Sauna.to_csv(\"C:\\\\Projects\\\\MSS\\\\Loading _AmenityData_from_Survey\\\\Python_Codes\\\\ClubCorp\\\\HotelRooms\\\\\" + output_fileName)"
   ]
  }
 ],
 "metadata": {
  "kernelspec": {
   "display_name": "Python 3",
   "language": "python",
   "name": "python3"
  },
  "language_info": {
   "codemirror_mode": {
    "name": "ipython",
    "version": 3
   },
   "file_extension": ".py",
   "mimetype": "text/x-python",
   "name": "python",
   "nbconvert_exporter": "python",
   "pygments_lexer": "ipython3",
   "version": "3.5.5"
  }
 },
 "nbformat": 4,
 "nbformat_minor": 2
}
