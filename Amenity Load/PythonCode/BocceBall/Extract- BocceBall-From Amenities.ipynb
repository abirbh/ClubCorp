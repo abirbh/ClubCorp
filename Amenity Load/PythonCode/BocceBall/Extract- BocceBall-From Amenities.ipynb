{
 "cells": [
  {
   "cell_type": "code",
   "execution_count": 31,
   "metadata": {},
   "outputs": [],
   "source": [
    "import pandas as pd\n",
    "import os\n",
    "import json\n",
    "import numpy as np\n",
    "import re"
   ]
  },
  {
   "cell_type": "code",
   "execution_count": 32,
   "metadata": {},
   "outputs": [],
   "source": [
    "## reading the Survey File\n",
    "#surveyData = pd.read_csv(\"C:\\Projects\\MSS\\Loading _AmenityData_from_Survey\\Test.csv\",sep=\",\" , skiprows=1)\n",
    "surveyData = pd.read_csv(\"C:\\project\\snaplogic\\MSS\\Amenities\\AmenityClubSurvey FINAL v2 Season Cleaned_deletedFirstTwoColumn.csv\",sep=\",\" , skiprows=1, keep_default_na=False)\n",
    "surveyData.head()\n",
    "\n",
    "## Reading the Config File and Extracting the Information from there\n",
    "config_file = open(\"C:\\project\\snaplogic\\MSS\\Amenities\\ClubCorp\\BocceBall\\BocceBallColMapping.json\")\n",
    "BocceBall_config = json.load(config_file)\n",
    "\n",
    "columnName = \"\""
   ]
  },
  {
   "cell_type": "code",
   "execution_count": 33,
   "metadata": {},
   "outputs": [],
   "source": [
    "def addToDayTimeMap (phonebook, key, value):\n",
    "    if key in phonebook:\n",
    "        x =  phonebook[key]\n",
    "        phonebook[key] = x + \",\" + value\n",
    "        \n",
    "    else :\n",
    "        phonebook[key] = value"
   ]
  },
  {
   "cell_type": "code",
   "execution_count": 34,
   "metadata": {},
   "outputs": [],
   "source": [
    "def determineBooleanValues (dataFrame):\n",
    "    val = False\n",
    "    if pd.notnull(dataFrame[columnName]) :\n",
    "        if dataFrame[columnName] == columnName:\n",
    "            val = True\n",
    "    return val"
   ]
  },
  {
   "cell_type": "code",
   "execution_count": 35,
   "metadata": {
    "scrolled": true
   },
   "outputs": [
    {
     "name": "stderr",
     "output_type": "stream",
     "text": [
      "C:\\Users\\eshita\\Anaconda3\\envs\\tensorflow\\lib\\site-packages\\ipykernel_launcher.py:27: SettingWithCopyWarning: \n",
      "A value is trying to be set on a copy of a slice from a DataFrame.\n",
      "Try using .loc[row_indexer,col_indexer] = value instead\n",
      "\n",
      "See the caveats in the documentation: http://pandas.pydata.org/pandas-docs/stable/indexing.html#indexing-view-versus-copy\n",
      "C:\\Users\\eshita\\Anaconda3\\envs\\tensorflow\\lib\\site-packages\\ipykernel_launcher.py:28: SettingWithCopyWarning: \n",
      "A value is trying to be set on a copy of a slice from a DataFrame.\n",
      "Try using .loc[row_indexer,col_indexer] = value instead\n",
      "\n",
      "See the caveats in the documentation: http://pandas.pydata.org/pandas-docs/stable/indexing.html#indexing-view-versus-copy\n",
      "C:\\Users\\eshita\\Anaconda3\\envs\\tensorflow\\lib\\site-packages\\ipykernel_launcher.py:29: SettingWithCopyWarning: \n",
      "A value is trying to be set on a copy of a slice from a DataFrame.\n",
      "Try using .loc[row_indexer,col_indexer] = value instead\n",
      "\n",
      "See the caveats in the documentation: http://pandas.pydata.org/pandas-docs/stable/indexing.html#indexing-view-versus-copy\n",
      "C:\\Users\\eshita\\Anaconda3\\envs\\tensorflow\\lib\\site-packages\\ipykernel_launcher.py:30: SettingWithCopyWarning: \n",
      "A value is trying to be set on a copy of a slice from a DataFrame.\n",
      "Try using .loc[row_indexer,col_indexer] = value instead\n",
      "\n",
      "See the caveats in the documentation: http://pandas.pydata.org/pandas-docs/stable/indexing.html#indexing-view-versus-copy\n",
      "C:\\Users\\eshita\\Anaconda3\\envs\\tensorflow\\lib\\site-packages\\ipykernel_launcher.py:34: SettingWithCopyWarning: \n",
      "A value is trying to be set on a copy of a slice from a DataFrame.\n",
      "Try using .loc[row_indexer,col_indexer] = value instead\n",
      "\n",
      "See the caveats in the documentation: http://pandas.pydata.org/pandas-docs/stable/indexing.html#indexing-view-versus-copy\n"
     ]
    }
   ],
   "source": [
    "## Getting the output File name\n",
    "output_fileName = BocceBall_config['outputFileName']\n",
    "\n",
    "\n",
    "all_column_names = []\n",
    "BocceBall_related_column_names = []\n",
    "\n",
    "columnIndexForBocceBall = []\n",
    "\n",
    "common_column_count = len(BocceBall_config['CommonColumn'])\n",
    "\n",
    "for i in range(0, common_column_count):\n",
    "    columnIndexForBocceBall.append(BocceBall_config['CommonColumn'][i]['columnIndex'])\n",
    "    all_column_names.append(BocceBall_config['CommonColumn'][i]['outputColumnName'])\n",
    "\n",
    "BocceBall_column_count = len(BocceBall_config['BocceBallRelatedColumn'])\n",
    "\n",
    "for j in range(0, BocceBall_column_count):\n",
    "    columnIndexForBocceBall.append(BocceBall_config['BocceBallRelatedColumn'][j]['columnIndex'])\n",
    "    all_column_names.append(BocceBall_config['BocceBallRelatedColumn'][j]['outputColumnName'])\n",
    "    BocceBall_related_column_names.append(BocceBall_config['BocceBallRelatedColumn'][j]['outputColumnName'])\n",
    "   \n",
    "## Data for Bocce Ball\n",
    "BocceBall = surveyData.iloc[:, columnIndexForBocceBall]\n",
    "BocceBall.columns = all_column_names\n",
    "\n",
    "BocceBall['Index']=1\n",
    "BocceBall['Status'] = 'Active'\n",
    "BocceBall['Type'] = 'Additional Sports'\n",
    "BocceBall['Name'] = 'Bocce Ball'\n",
    "\n",
    "for x  in BocceBall_related_column_names:\n",
    "    columnName = x\n",
    "    BocceBall[columnName + '_Boolean'] = BocceBall.apply(determineBooleanValues, axis=1)\n",
    "\n",
    "filterCondition  = BocceBall['Bocce Ball_Boolean']\n",
    "\n",
    "clubsNotHavingBocceBall = BocceBall[~filterCondition]\n",
    "\n",
    "clubsNotHavingBocceBall.to_csv(\"C:/project/snaplogic/MSS/Amenities/ClubCorp/BocceBall/BocceBall_ClubsNotHaving.csv\")\n",
    "BocceBall = BocceBall[filterCondition]\n",
    "\n",
    "BocceBall.to_csv(\"C:/project/snaplogic/MSS/Amenities/\" + output_fileName)"
   ]
  }
 ],
 "metadata": {
  "kernelspec": {
   "display_name": "Python 3",
   "language": "python",
   "name": "python3"
  },
  "language_info": {
   "codemirror_mode": {
    "name": "ipython",
    "version": 3
   },
   "file_extension": ".py",
   "mimetype": "text/x-python",
   "name": "python",
   "nbconvert_exporter": "python",
   "pygments_lexer": "ipython3",
   "version": "3.5.5"
  }
 },
 "nbformat": 4,
 "nbformat_minor": 2
}
