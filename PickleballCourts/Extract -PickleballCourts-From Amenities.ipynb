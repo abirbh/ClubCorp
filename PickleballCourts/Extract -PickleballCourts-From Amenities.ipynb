{
 "cells": [
  {
   "cell_type": "code",
   "execution_count": 5,
   "metadata": {},
   "outputs": [],
   "source": [
    "import pandas as pd\n",
    "import os\n",
    "import json\n",
    "import numpy as np\n",
    "import re"
   ]
  },
  {
   "cell_type": "code",
   "execution_count": 6,
   "metadata": {},
   "outputs": [],
   "source": [
    "## reading the Survey File\n",
    "#surveyData = pd.read_csv(\"C:\\Projects\\MSS\\Loading _AmenityData_from_Survey\\Test.csv\",sep=\",\" , skiprows=1)\n",
    "surveyData = pd.read_csv(\"C:\\Projects\\MSS\\Loading _AmenityData_from_Survey\\AmenityClubSurvey FINAL v2 Season Cleaned_deletedFirstTwoColumn.csv\",sep=\",\" , skiprows=1, keep_default_na=False)\n",
    "surveyData.head()\n",
    "\n",
    "## Reading the Config File and Extracting the Information from there\n",
    "config_file = open(\"C:\\Projects\\MSS\\Loading _AmenityData_from_Survey\\Python_Codes\\ClubCorp\\PickleballCourts\\PickleballCourtsColMapping.json\")\n",
    "PickleballCourts_config = json.load(config_file)\n",
    "\n",
    "columnName = \"\""
   ]
  },
  {
   "cell_type": "code",
   "execution_count": 7,
   "metadata": {},
   "outputs": [],
   "source": [
    "def determineBooleanValues (dataFrame):\n",
    "    val = False\n",
    "    if pd.notnull(dataFrame[columnName]) :\n",
    "        if dataFrame[columnName] == columnName:\n",
    "            val = True\n",
    "    return val"
   ]
  },
  {
   "cell_type": "code",
   "execution_count": 8,
   "metadata": {
    "scrolled": true
   },
   "outputs": [],
   "source": [
    "## Getting the output File name\n",
    "output_fileName = PickleballCourts_config['outputFileName']\n",
    "\n",
    "\n",
    "all_column_names = []\n",
    "PickleballCourts_related_column_names = []\n",
    "\n",
    "columnIndexForPickleballCourts = []\n",
    "\n",
    "common_column_count = len(PickleballCourts_config['CommonColumn'])\n",
    "\n",
    "for i in range(0, common_column_count):\n",
    "    columnIndexForPickleballCourts.append(PickleballCourts_config['CommonColumn'][i]['columnIndex'])\n",
    "    all_column_names.append(PickleballCourts_config['CommonColumn'][i]['outputColumnName'])\n",
    "\n",
    "PickleballCourts_column_count = len(PickleballCourts_config['PickleballCourtsRelatedColumn'])\n",
    "\n",
    "for j in range(0, PickleballCourts_column_count):\n",
    "    columnIndexForPickleballCourts.append(PickleballCourts_config['PickleballCourtsRelatedColumn'][j]['columnIndex'])\n",
    "    all_column_names.append(PickleballCourts_config['PickleballCourtsRelatedColumn'][j]['outputColumnName'])\n",
    "    PickleballCourts_related_column_names.append(PickleballCourts_config['PickleballCourtsRelatedColumn'][j]['outputColumnName'])\n",
    "\n",
    "## Data for Tennis Services\n",
    "PickleballCourts = surveyData.iloc[:, columnIndexForPickleballCourts]\n",
    "PickleballCourts.columns = all_column_names\n",
    "\n",
    "filterCondition  = PickleballCourts['PickleBallConditionColumn'] != 'N/A'\n",
    "\n",
    "clubsNotHavingPickleballCourts = PickleballCourts[~filterCondition]\n",
    "\n",
    "clubsNotHavingPickleballCourts.to_csv(\"C:/Projects/MSS/Loading _AmenityData_from_Survey/Python_Codes/ClubCorp/PickleballCourts/PickleballCourts_ClubsNotHaving.csv\")\n",
    "\n",
    "\n",
    "\n",
    "PickleballCourts = PickleballCourts[filterCondition]\n",
    "PickleballCourts['Index']=1\n",
    "PickleballCourts['Status'] = 'Active'\n",
    "PickleballCourts['Type'] = 'Tennis & Racquet Sports'\n",
    "PickleballCourts['Name'] = 'Pickleball Courts'\n",
    "\n",
    "for x  in PickleballCourts_related_column_names:\n",
    "    columnName = x\n",
    "    PickleballCourts[columnName + '_Boolean'] = PickleballCourts.apply(determineBooleanValues, axis=1)\n",
    "\n",
    "\n",
    "PickleballCourts.to_csv(\"C:/Projects/MSS/Loading _AmenityData_from_Survey/Python_Codes/ClubCorp/PickleballCourts/\" + output_fileName)"
   ]
  },
  {
   "cell_type": "code",
   "execution_count": null,
   "metadata": {},
   "outputs": [],
   "source": []
  },
  {
   "cell_type": "code",
   "execution_count": null,
   "metadata": {},
   "outputs": [],
   "source": []
  }
 ],
 "metadata": {
  "kernelspec": {
   "display_name": "Python 3",
   "language": "python",
   "name": "python3"
  },
  "language_info": {
   "codemirror_mode": {
    "name": "ipython",
    "version": 3
   },
   "file_extension": ".py",
   "mimetype": "text/x-python",
   "name": "python",
   "nbconvert_exporter": "python",
   "pygments_lexer": "ipython3",
   "version": "3.5.5"
  }
 },
 "nbformat": 4,
 "nbformat_minor": 2
}
