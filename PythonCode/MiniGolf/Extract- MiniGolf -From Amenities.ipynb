{
 "cells": [
  {
   "cell_type": "code",
   "execution_count": 25,
   "metadata": {},
   "outputs": [],
   "source": [
    "import pandas as pd\n",
    "import os\n",
    "import json\n",
    "import numpy as np\n",
    "import re"
   ]
  },
  {
   "cell_type": "code",
   "execution_count": 26,
   "metadata": {},
   "outputs": [],
   "source": [
    "## reading the Survey File\n",
    "#surveyData = pd.read_csv(\"C:\\Projects\\MSS\\Loading _AmenityData_from_Survey\\Test.csv\",sep=\",\" , skiprows=1)\n",
    "surveyData = pd.read_csv(\"C:\\Projects\\MSS\\Loading _AmenityData_from_Survey\\AmenityClubSurvey FINAL v2 Season Cleaned_deletedFirstTwoColumn.csv\",sep=\",\" , skiprows=1, keep_default_na=False)\n",
    "surveyData.head()\n",
    "\n",
    "## Reading the Config File and Extracting the Information from there\n",
    "config_file = open(\"C:\\Projects\\MSS\\Loading _AmenityData_from_Survey\\Python_Codes\\ClubCorp\\MiniGolf\\MiniGolfColMapping.json\")\n",
    "MiniGolf_config = json.load(config_file)\n",
    "\n",
    "columnName = \"\""
   ]
  },
  {
   "cell_type": "code",
   "execution_count": 27,
   "metadata": {},
   "outputs": [],
   "source": [
    "def determineBooleanValues (dataFrame):\n",
    "    val = False\n",
    "    if pd.notnull(dataFrame[columnName]) :\n",
    "        if dataFrame[columnName] == columnName:\n",
    "            val = True\n",
    "    return val"
   ]
  },
  {
   "cell_type": "code",
   "execution_count": 28,
   "metadata": {
    "scrolled": true
   },
   "outputs": [
    {
     "name": "stderr",
     "output_type": "stream",
     "text": [
      "C:\\Users\\akk\\Anaconda3\\envs\\tensorflow\\lib\\site-packages\\ipykernel_launcher.py:28: SettingWithCopyWarning: \n",
      "A value is trying to be set on a copy of a slice from a DataFrame.\n",
      "Try using .loc[row_indexer,col_indexer] = value instead\n",
      "\n",
      "See the caveats in the documentation: http://pandas.pydata.org/pandas-docs/stable/indexing.html#indexing-view-versus-copy\n",
      "C:\\Users\\akk\\Anaconda3\\envs\\tensorflow\\lib\\site-packages\\ipykernel_launcher.py:29: SettingWithCopyWarning: \n",
      "A value is trying to be set on a copy of a slice from a DataFrame.\n",
      "Try using .loc[row_indexer,col_indexer] = value instead\n",
      "\n",
      "See the caveats in the documentation: http://pandas.pydata.org/pandas-docs/stable/indexing.html#indexing-view-versus-copy\n",
      "C:\\Users\\akk\\Anaconda3\\envs\\tensorflow\\lib\\site-packages\\ipykernel_launcher.py:30: SettingWithCopyWarning: \n",
      "A value is trying to be set on a copy of a slice from a DataFrame.\n",
      "Try using .loc[row_indexer,col_indexer] = value instead\n",
      "\n",
      "See the caveats in the documentation: http://pandas.pydata.org/pandas-docs/stable/indexing.html#indexing-view-versus-copy\n",
      "C:\\Users\\akk\\Anaconda3\\envs\\tensorflow\\lib\\site-packages\\ipykernel_launcher.py:31: SettingWithCopyWarning: \n",
      "A value is trying to be set on a copy of a slice from a DataFrame.\n",
      "Try using .loc[row_indexer,col_indexer] = value instead\n",
      "\n",
      "See the caveats in the documentation: http://pandas.pydata.org/pandas-docs/stable/indexing.html#indexing-view-versus-copy\n",
      "C:\\Users\\akk\\Anaconda3\\envs\\tensorflow\\lib\\site-packages\\ipykernel_launcher.py:35: SettingWithCopyWarning: \n",
      "A value is trying to be set on a copy of a slice from a DataFrame.\n",
      "Try using .loc[row_indexer,col_indexer] = value instead\n",
      "\n",
      "See the caveats in the documentation: http://pandas.pydata.org/pandas-docs/stable/indexing.html#indexing-view-versus-copy\n"
     ]
    }
   ],
   "source": [
    "## Getting the output File name\n",
    "output_fileName = MiniGolf_config['outputFileName']\n",
    "\n",
    "\n",
    "all_column_names = []\n",
    "MiniGolf_related_column_names = []\n",
    "\n",
    "columnIndexForMiniGolf = []\n",
    "\n",
    "common_column_count = len(MiniGolf_config['CommonColumn'])\n",
    "\n",
    "for i in range(0, common_column_count):\n",
    "    columnIndexForMiniGolf.append(MiniGolf_config['CommonColumn'][i]['columnIndex'])\n",
    "    all_column_names.append(MiniGolf_config['CommonColumn'][i]['outputColumnName'])\n",
    "\n",
    "MiniGolf_column_count = len(MiniGolf_config['MiniGolfRelatedColumn'])\n",
    "\n",
    "for j in range(0, MiniGolf_column_count):\n",
    "    columnIndexForMiniGolf.append(MiniGolf_config['MiniGolfRelatedColumn'][j]['columnIndex'])\n",
    "    all_column_names.append(MiniGolf_config['MiniGolfRelatedColumn'][j]['outputColumnName'])\n",
    "    MiniGolf_related_column_names.append(MiniGolf_config['MiniGolfRelatedColumn'][j]['outputColumnName'])\n",
    "\n",
    "\n",
    "## Data for MiniGolf\n",
    "MiniGolf = surveyData.iloc[:, columnIndexForMiniGolf]\n",
    "MiniGolf.columns = all_column_names\n",
    "\n",
    "MiniGolf['Index']=1\n",
    "MiniGolf['Status'] = 'Active'\n",
    "MiniGolf['Type'] = 'Additional Sports'\n",
    "MiniGolf['Name'] = 'Mini Golf'\n",
    "\n",
    "for x  in MiniGolf_related_column_names:\n",
    "    columnName = x\n",
    "    MiniGolf[columnName + '_Boolean'] = MiniGolf.apply(determineBooleanValues, axis=1)\n",
    "    \n",
    "filterCondition  = MiniGolf['Mini Golf_Boolean']\n",
    "\n",
    "clubsNotHavingFitnessCenter = MiniGolf[~filterCondition]\n",
    "\n",
    "clubsNotHavingFitnessCenter.to_csv(\"C:/Projects/MSS/Loading _AmenityData_from_Survey/Python_Codes/ClubCorp/MiniGolf/Mini Golf_ClubsNotHaving.csv\")\n",
    "\n",
    "MiniGolf = MiniGolf[filterCondition]\n",
    "MiniGolf.to_csv(\"C:\\\\Projects\\\\MSS\\\\Loading _AmenityData_from_Survey\\\\Python_Codes\\\\ClubCorp\\MiniGolf\\\\\" + output_fileName)\n"
   ]
  }
 ],
 "metadata": {
  "kernelspec": {
   "display_name": "Python 3",
   "language": "python",
   "name": "python3"
  },
  "language_info": {
   "codemirror_mode": {
    "name": "ipython",
    "version": 3
   },
   "file_extension": ".py",
   "mimetype": "text/x-python",
   "name": "python",
   "nbconvert_exporter": "python",
   "pygments_lexer": "ipython3",
   "version": "3.5.5"
  }
 },
 "nbformat": 4,
 "nbformat_minor": 2
}
