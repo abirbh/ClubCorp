{
 "cells": [
  {
   "cell_type": "code",
   "execution_count": 1,
   "metadata": {},
   "outputs": [],
   "source": [
    "import pandas as pd\n",
    "import os\n",
    "import json\n",
    "import numpy as np\n",
    "import re"
   ]
  },
  {
   "cell_type": "code",
   "execution_count": 2,
   "metadata": {},
   "outputs": [],
   "source": [
    "## reading the Survey File\n",
    "#surveyData = pd.read_csv(\"C:\\Projects\\MSS\\Loading _AmenityData_from_Survey\\Test.csv\",sep=\",\" , skiprows=1)\n",
    "surveyData = pd.read_csv(\"C:\\Projects\\MSS\\Loading _AmenityData_from_Survey\\AmenityClubSurvey FINAL v2 Season Cleaned_deletedFirstTwoColumn.csv\",sep=\",\" , skiprows=1, keep_default_na=False)\n",
    "surveyData.head()\n",
    "\n",
    "## Reading the Config File and Extracting the Information from there\n",
    "config_file = open(\"C:\\Projects\\MSS\\Loading _AmenityData_from_Survey\\Python_Codes\\ClubCorp\\GolfEvents\\GolfEventsColMapping.json\")\n",
    "FitnessCenter_config = json.load(config_file)\n",
    "\n",
    "columnName = \"\""
   ]
  },
  {
   "cell_type": "code",
   "execution_count": 3,
   "metadata": {},
   "outputs": [],
   "source": [
    "def determineBooleanValues (dataFrame):\n",
    "    val = False\n",
    "    if pd.notnull(dataFrame[columnName]) :\n",
    "        if dataFrame[columnName] == columnName:\n",
    "            val = True\n",
    "    return val"
   ]
  },
  {
   "cell_type": "code",
   "execution_count": 4,
   "metadata": {
    "scrolled": true
   },
   "outputs": [],
   "source": [
    "## Getting the output File name\n",
    "output_fileName = FitnessCenter_config['outputFileName']\n",
    "\n",
    "\n",
    "all_column_names = []\n",
    "FitnessCenter_related_column_names = []\n",
    "\n",
    "columnIndexForFitnessCenter = []\n",
    "\n",
    "common_column_count = len(FitnessCenter_config['CommonColumn'])\n",
    "\n",
    "for i in range(0, common_column_count):\n",
    "    columnIndexForFitnessCenter.append(FitnessCenter_config['CommonColumn'][i]['columnIndex'])\n",
    "    all_column_names.append(FitnessCenter_config['CommonColumn'][i]['outputColumnName'])\n",
    "\n",
    "FitnessCenter_column_count = len(FitnessCenter_config['golfEventsRelatedColumn'])\n",
    "\n",
    "for j in range(0, FitnessCenter_column_count):\n",
    "    columnIndexForFitnessCenter.append(FitnessCenter_config['golfEventsRelatedColumn'][j]['columnIndex'])\n",
    "    all_column_names.append(FitnessCenter_config['golfEventsRelatedColumn'][j]['outputColumnName'])\n",
    "    FitnessCenter_related_column_names.append(FitnessCenter_config['golfEventsRelatedColumn'][j]['outputColumnName'])\n",
    "\n",
    "## Data for Fitness Center\n",
    "FitnessCenter = surveyData.iloc[:, columnIndexForFitnessCenter]\n",
    "FitnessCenter.columns = all_column_names\n",
    "\n",
    "\n",
    "filterCondition  = FitnessCenter['ConditionColumnForGolfEvents'] != 'N/A'\n",
    "\n",
    "clubsNotHavingFitnessCenter = FitnessCenter[~filterCondition]\n",
    "\n",
    "clubsNotHavingFitnessCenter.to_csv(\"C:/Projects/MSS/Loading _AmenityData_from_Survey/Python_Codes/ClubCorp/GolfEvents/GolfEvents_ClubsNotHaving.csv\")\n",
    "\n",
    "FitnessCenter = FitnessCenter[filterCondition]\n",
    "FitnessCenter['Index']=1\n",
    "FitnessCenter['Status'] = 'Active'\n",
    "FitnessCenter['Type'] = 'Tournaments & Outings'\n",
    "FitnessCenter['Name'] = 'Golf Outings'\n",
    "\n",
    "for x  in FitnessCenter_related_column_names:\n",
    "    columnName = x\n",
    "    FitnessCenter[columnName + '_Boolean'] = FitnessCenter.apply(determineBooleanValues, axis=1)\n",
    "\n",
    "\n",
    "FitnessCenter.to_csv(\"C:\\\\Projects\\\\MSS\\\\Loading _AmenityData_from_Survey\\\\Python_Codes\\\\ClubCorp\\\\GolfEvents\\\\\" + output_fileName)"
   ]
  },
  {
   "cell_type": "code",
   "execution_count": null,
   "metadata": {},
   "outputs": [],
   "source": []
  },
  {
   "cell_type": "code",
   "execution_count": null,
   "metadata": {},
   "outputs": [],
   "source": []
  }
 ],
 "metadata": {
  "kernelspec": {
   "display_name": "Python 3",
   "language": "python",
   "name": "python3"
  },
  "language_info": {
   "codemirror_mode": {
    "name": "ipython",
    "version": 3
   },
   "file_extension": ".py",
   "mimetype": "text/x-python",
   "name": "python",
   "nbconvert_exporter": "python",
   "pygments_lexer": "ipython3",
   "version": "3.5.5"
  }
 },
 "nbformat": 4,
 "nbformat_minor": 2
}
