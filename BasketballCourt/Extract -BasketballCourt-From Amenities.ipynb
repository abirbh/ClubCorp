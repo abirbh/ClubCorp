{
 "cells": [
  {
   "cell_type": "code",
   "execution_count": 41,
   "metadata": {},
   "outputs": [],
   "source": [
    "import pandas as pd\n",
    "import os\n",
    "import json\n",
    "import numpy as np\n",
    "import re"
   ]
  },
  {
   "cell_type": "code",
   "execution_count": 42,
   "metadata": {},
   "outputs": [],
   "source": [
    "## reading the Survey File\n",
    "#surveyData = pd.read_csv(\"C:\\Projects\\MSS\\Loading _AmenityData_from_Survey\\Test.csv\",sep=\",\" , skiprows=1)\n",
    "surveyData = pd.read_csv(\"C:\\project\\snaplogic\\MSS\\Amenities\\AmenityClubSurvey FINAL v2 Season Cleaned_deletedFirstTwoColumn.csv\",sep=\",\" , skiprows=1, keep_default_na=False)\n",
    "surveyData.head()\n",
    "\n",
    "## Reading the Config File and Extracting the Information from there\n",
    "config_file = open(\"C:\\project\\snaplogic\\MSS\\Amenities\\ClubCorp\\BasketballCourt\\BasketballCourtColMapping.json\")\n",
    "BasketballCourt_config = json.load(config_file)\n",
    "\n",
    "columnName = \"\""
   ]
  },
  {
   "cell_type": "code",
   "execution_count": 43,
   "metadata": {},
   "outputs": [],
   "source": [
    "def determineBooleanValues (dataFrame):\n",
    "    val = False\n",
    "    if pd.notnull(dataFrame[columnName]) :\n",
    "        if dataFrame[columnName] == columnName:\n",
    "            val = True\n",
    "    return val"
   ]
  },
  {
   "cell_type": "code",
   "execution_count": 44,
   "metadata": {
    "scrolled": true
   },
   "outputs": [],
   "source": [
    "## Getting the output File name\n",
    "output_fileName = BasketballCourt_config['outputFileName']\n",
    "\n",
    "\n",
    "all_column_names = []\n",
    "BasketballCourt_related_column_names = []\n",
    "\n",
    "columnIndexForBasketballCourt = []\n",
    "\n",
    "common_column_count = len(BasketballCourt_config['CommonColumn'])\n",
    "\n",
    "for i in range(0, common_column_count):\n",
    "    columnIndexForBasketballCourt.append(BasketballCourt_config['CommonColumn'][i]['columnIndex'])\n",
    "    all_column_names.append(BasketballCourt_config['CommonColumn'][i]['outputColumnName'])\n",
    "\n",
    "BasketballCourt_column_count = len(BasketballCourt_config['BasketballCourtRelatedColumn'])\n",
    "\n",
    "for j in range(0, BasketballCourt_column_count):\n",
    "    columnIndexForBasketballCourt.append(BasketballCourt_config['BasketballCourtRelatedColumn'][j]['columnIndex'])\n",
    "    all_column_names.append(BasketballCourt_config['BasketballCourtRelatedColumn'][j]['outputColumnName'])\n",
    "    BasketballCourt_related_column_names.append(BasketballCourt_config['BasketballCourtRelatedColumn'][j]['outputColumnName'])\n",
    "\n",
    "## Data for Basketball Court\n",
    "BasketballCourt = surveyData.iloc[:, columnIndexForBasketballCourt]\n",
    "BasketballCourt.columns = all_column_names\n",
    "\n",
    "filterCondition  = BasketballCourt['BasketballCourtConditionColumn'] != 'N/A'\n",
    "\n",
    "clubsNotHavingBasketballCourt = BasketballCourt[~filterCondition]\n",
    "\n",
    "clubsNotHavingBasketballCourt.to_csv(\"C:/project/snaplogic/MSS/Amenities/ClubCorp/BasketballCourt/BasketballCourt_ClubsNotHaving.csv\")\n",
    "\n",
    "BasketballCourt = BasketballCourt[filterCondition]\n",
    "BasketballCourt['Index']=1\n",
    "BasketballCourt['Status'] = 'Active'\n",
    "BasketballCourt['Type'] = 'Additional Sports'\n",
    "BasketballCourt['Name'] = 'BasketBall Courts'\n",
    "\n",
    "for x  in BasketballCourt_related_column_names:\n",
    "    columnName = x\n",
    "    BasketballCourt[columnName + '_Boolean'] = BasketballCourt.apply(determineBooleanValues, axis=1)\n",
    "\n",
    "\n",
    "BasketballCourt.to_csv(\"C:/project/snaplogic/MSS/Amenities/\" + output_fileName)"
   ]
  }
 ],
 "metadata": {
  "kernelspec": {
   "display_name": "Python 3",
   "language": "python",
   "name": "python3"
  },
  "language_info": {
   "codemirror_mode": {
    "name": "ipython",
    "version": 3
   },
   "file_extension": ".py",
   "mimetype": "text/x-python",
   "name": "python",
   "nbconvert_exporter": "python",
   "pygments_lexer": "ipython3",
   "version": "3.5.5"
  }
 },
 "nbformat": 4,
 "nbformat_minor": 2
}
